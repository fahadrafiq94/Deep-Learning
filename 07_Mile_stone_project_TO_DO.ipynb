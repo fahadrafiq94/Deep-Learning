{
  "nbformat": 4,
  "nbformat_minor": 0,
  "metadata": {
    "accelerator": "GPU",
    "colab": {
      "name": "07_Mile_stone_project_TO_DO.ipynb",
      "provenance": [],
      "collapsed_sections": [],
      "mount_file_id": "1rxJOHd7ldCW4OTi-_4LiUkG0Lx2RytE7",
      "authorship_tag": "ABX9TyO3m6wrh8Q8pOgHYe7q+2Fi",
      "include_colab_link": true
    },
    "kernelspec": {
      "display_name": "Python 3",
      "name": "python3"
    },
    "language_info": {
      "name": "python"
    },
    "widgets": {
      "application/vnd.jupyter.widget-state+json": {
        "d51083db584a45fd9699f0c9677d97c5": {
          "model_module": "@jupyter-widgets/controls",
          "model_name": "HBoxModel",
          "model_module_version": "1.5.0",
          "state": {
            "_view_name": "HBoxView",
            "_dom_classes": [],
            "_model_name": "HBoxModel",
            "_view_module": "@jupyter-widgets/controls",
            "_model_module_version": "1.5.0",
            "_view_count": null,
            "_view_module_version": "1.5.0",
            "box_style": "",
            "layout": "IPY_MODEL_13d3cc7ba4514f99a5ae95b709d7dc8c",
            "_model_module": "@jupyter-widgets/controls",
            "children": [
              "IPY_MODEL_a5ccfae62a474cafa588ea711e2f101a",
              "IPY_MODEL_119eaf0c6ac548beba5096a743d0c09a",
              "IPY_MODEL_d0e85600cbce496b9a31fdc6d9c5db29"
            ]
          }
        },
        "13d3cc7ba4514f99a5ae95b709d7dc8c": {
          "model_module": "@jupyter-widgets/base",
          "model_name": "LayoutModel",
          "model_module_version": "1.2.0",
          "state": {
            "_view_name": "LayoutView",
            "grid_template_rows": null,
            "right": null,
            "justify_content": null,
            "_view_module": "@jupyter-widgets/base",
            "overflow": null,
            "_model_module_version": "1.2.0",
            "_view_count": null,
            "flex_flow": null,
            "width": null,
            "min_width": null,
            "border": null,
            "align_items": null,
            "bottom": null,
            "_model_module": "@jupyter-widgets/base",
            "top": null,
            "grid_column": null,
            "overflow_y": null,
            "overflow_x": null,
            "grid_auto_flow": null,
            "grid_area": null,
            "grid_template_columns": null,
            "flex": null,
            "_model_name": "LayoutModel",
            "justify_items": null,
            "grid_row": null,
            "max_height": null,
            "align_content": null,
            "visibility": null,
            "align_self": null,
            "height": null,
            "min_height": null,
            "padding": null,
            "grid_auto_rows": null,
            "grid_gap": null,
            "max_width": null,
            "order": null,
            "_view_module_version": "1.2.0",
            "grid_template_areas": null,
            "object_position": null,
            "object_fit": null,
            "grid_auto_columns": null,
            "margin": null,
            "display": null,
            "left": null
          }
        },
        "a5ccfae62a474cafa588ea711e2f101a": {
          "model_module": "@jupyter-widgets/controls",
          "model_name": "HTMLModel",
          "model_module_version": "1.5.0",
          "state": {
            "_view_name": "HTMLView",
            "style": "IPY_MODEL_a4494e78035449d2a9a4a0af072bfa38",
            "_dom_classes": [],
            "description": "",
            "_model_name": "HTMLModel",
            "placeholder": "​",
            "_view_module": "@jupyter-widgets/controls",
            "_model_module_version": "1.5.0",
            "value": "Dl Completed...: 100%",
            "_view_count": null,
            "_view_module_version": "1.5.0",
            "description_tooltip": null,
            "_model_module": "@jupyter-widgets/controls",
            "layout": "IPY_MODEL_c901fc08c54242c39be06637ecdad0ea"
          }
        },
        "119eaf0c6ac548beba5096a743d0c09a": {
          "model_module": "@jupyter-widgets/controls",
          "model_name": "FloatProgressModel",
          "model_module_version": "1.5.0",
          "state": {
            "_view_name": "ProgressView",
            "style": "IPY_MODEL_62b33b9315ab4ff7b7327f02fb412510",
            "_dom_classes": [],
            "description": "",
            "_model_name": "FloatProgressModel",
            "bar_style": "success",
            "max": 1,
            "_view_module": "@jupyter-widgets/controls",
            "_model_module_version": "1.5.0",
            "value": 1,
            "_view_count": null,
            "_view_module_version": "1.5.0",
            "orientation": "horizontal",
            "min": 0,
            "description_tooltip": null,
            "_model_module": "@jupyter-widgets/controls",
            "layout": "IPY_MODEL_c91c5167ba6a4d2ab932e3bc73ad2066"
          }
        },
        "d0e85600cbce496b9a31fdc6d9c5db29": {
          "model_module": "@jupyter-widgets/controls",
          "model_name": "HTMLModel",
          "model_module_version": "1.5.0",
          "state": {
            "_view_name": "HTMLView",
            "style": "IPY_MODEL_b15dc6c3efeb4f01937c83840450f651",
            "_dom_classes": [],
            "description": "",
            "_model_name": "HTMLModel",
            "placeholder": "​",
            "_view_module": "@jupyter-widgets/controls",
            "_model_module_version": "1.5.0",
            "value": " 1/1 [05:40&lt;00:00, 206.14s/ url]",
            "_view_count": null,
            "_view_module_version": "1.5.0",
            "description_tooltip": null,
            "_model_module": "@jupyter-widgets/controls",
            "layout": "IPY_MODEL_77ae99d5a9d7419e9e45f6b8cf0d657b"
          }
        },
        "a4494e78035449d2a9a4a0af072bfa38": {
          "model_module": "@jupyter-widgets/controls",
          "model_name": "DescriptionStyleModel",
          "model_module_version": "1.5.0",
          "state": {
            "_view_name": "StyleView",
            "_model_name": "DescriptionStyleModel",
            "description_width": "",
            "_view_module": "@jupyter-widgets/base",
            "_model_module_version": "1.5.0",
            "_view_count": null,
            "_view_module_version": "1.2.0",
            "_model_module": "@jupyter-widgets/controls"
          }
        },
        "c901fc08c54242c39be06637ecdad0ea": {
          "model_module": "@jupyter-widgets/base",
          "model_name": "LayoutModel",
          "model_module_version": "1.2.0",
          "state": {
            "_view_name": "LayoutView",
            "grid_template_rows": null,
            "right": null,
            "justify_content": null,
            "_view_module": "@jupyter-widgets/base",
            "overflow": null,
            "_model_module_version": "1.2.0",
            "_view_count": null,
            "flex_flow": null,
            "width": null,
            "min_width": null,
            "border": null,
            "align_items": null,
            "bottom": null,
            "_model_module": "@jupyter-widgets/base",
            "top": null,
            "grid_column": null,
            "overflow_y": null,
            "overflow_x": null,
            "grid_auto_flow": null,
            "grid_area": null,
            "grid_template_columns": null,
            "flex": null,
            "_model_name": "LayoutModel",
            "justify_items": null,
            "grid_row": null,
            "max_height": null,
            "align_content": null,
            "visibility": null,
            "align_self": null,
            "height": null,
            "min_height": null,
            "padding": null,
            "grid_auto_rows": null,
            "grid_gap": null,
            "max_width": null,
            "order": null,
            "_view_module_version": "1.2.0",
            "grid_template_areas": null,
            "object_position": null,
            "object_fit": null,
            "grid_auto_columns": null,
            "margin": null,
            "display": null,
            "left": null
          }
        },
        "62b33b9315ab4ff7b7327f02fb412510": {
          "model_module": "@jupyter-widgets/controls",
          "model_name": "ProgressStyleModel",
          "model_module_version": "1.5.0",
          "state": {
            "_view_name": "StyleView",
            "_model_name": "ProgressStyleModel",
            "description_width": "",
            "_view_module": "@jupyter-widgets/base",
            "_model_module_version": "1.5.0",
            "_view_count": null,
            "_view_module_version": "1.2.0",
            "bar_color": null,
            "_model_module": "@jupyter-widgets/controls"
          }
        },
        "c91c5167ba6a4d2ab932e3bc73ad2066": {
          "model_module": "@jupyter-widgets/base",
          "model_name": "LayoutModel",
          "model_module_version": "1.2.0",
          "state": {
            "_view_name": "LayoutView",
            "grid_template_rows": null,
            "right": null,
            "justify_content": null,
            "_view_module": "@jupyter-widgets/base",
            "overflow": null,
            "_model_module_version": "1.2.0",
            "_view_count": null,
            "flex_flow": null,
            "width": "20px",
            "min_width": null,
            "border": null,
            "align_items": null,
            "bottom": null,
            "_model_module": "@jupyter-widgets/base",
            "top": null,
            "grid_column": null,
            "overflow_y": null,
            "overflow_x": null,
            "grid_auto_flow": null,
            "grid_area": null,
            "grid_template_columns": null,
            "flex": null,
            "_model_name": "LayoutModel",
            "justify_items": null,
            "grid_row": null,
            "max_height": null,
            "align_content": null,
            "visibility": null,
            "align_self": null,
            "height": null,
            "min_height": null,
            "padding": null,
            "grid_auto_rows": null,
            "grid_gap": null,
            "max_width": null,
            "order": null,
            "_view_module_version": "1.2.0",
            "grid_template_areas": null,
            "object_position": null,
            "object_fit": null,
            "grid_auto_columns": null,
            "margin": null,
            "display": null,
            "left": null
          }
        },
        "b15dc6c3efeb4f01937c83840450f651": {
          "model_module": "@jupyter-widgets/controls",
          "model_name": "DescriptionStyleModel",
          "model_module_version": "1.5.0",
          "state": {
            "_view_name": "StyleView",
            "_model_name": "DescriptionStyleModel",
            "description_width": "",
            "_view_module": "@jupyter-widgets/base",
            "_model_module_version": "1.5.0",
            "_view_count": null,
            "_view_module_version": "1.2.0",
            "_model_module": "@jupyter-widgets/controls"
          }
        },
        "77ae99d5a9d7419e9e45f6b8cf0d657b": {
          "model_module": "@jupyter-widgets/base",
          "model_name": "LayoutModel",
          "model_module_version": "1.2.0",
          "state": {
            "_view_name": "LayoutView",
            "grid_template_rows": null,
            "right": null,
            "justify_content": null,
            "_view_module": "@jupyter-widgets/base",
            "overflow": null,
            "_model_module_version": "1.2.0",
            "_view_count": null,
            "flex_flow": null,
            "width": null,
            "min_width": null,
            "border": null,
            "align_items": null,
            "bottom": null,
            "_model_module": "@jupyter-widgets/base",
            "top": null,
            "grid_column": null,
            "overflow_y": null,
            "overflow_x": null,
            "grid_auto_flow": null,
            "grid_area": null,
            "grid_template_columns": null,
            "flex": null,
            "_model_name": "LayoutModel",
            "justify_items": null,
            "grid_row": null,
            "max_height": null,
            "align_content": null,
            "visibility": null,
            "align_self": null,
            "height": null,
            "min_height": null,
            "padding": null,
            "grid_auto_rows": null,
            "grid_gap": null,
            "max_width": null,
            "order": null,
            "_view_module_version": "1.2.0",
            "grid_template_areas": null,
            "object_position": null,
            "object_fit": null,
            "grid_auto_columns": null,
            "margin": null,
            "display": null,
            "left": null
          }
        },
        "994e0de23e3446188d616b2a89019e18": {
          "model_module": "@jupyter-widgets/controls",
          "model_name": "HBoxModel",
          "model_module_version": "1.5.0",
          "state": {
            "_view_name": "HBoxView",
            "_dom_classes": [],
            "_model_name": "HBoxModel",
            "_view_module": "@jupyter-widgets/controls",
            "_model_module_version": "1.5.0",
            "_view_count": null,
            "_view_module_version": "1.5.0",
            "box_style": "",
            "layout": "IPY_MODEL_fd8d55d05f5044d59bad7c298313ad00",
            "_model_module": "@jupyter-widgets/controls",
            "children": [
              "IPY_MODEL_c665ef48ab6b4182bbf41280f86b2ece",
              "IPY_MODEL_556c2828a5474da59b314c635803feac",
              "IPY_MODEL_56393f32855246109cd565ad8feb16a8"
            ]
          }
        },
        "fd8d55d05f5044d59bad7c298313ad00": {
          "model_module": "@jupyter-widgets/base",
          "model_name": "LayoutModel",
          "model_module_version": "1.2.0",
          "state": {
            "_view_name": "LayoutView",
            "grid_template_rows": null,
            "right": null,
            "justify_content": null,
            "_view_module": "@jupyter-widgets/base",
            "overflow": null,
            "_model_module_version": "1.2.0",
            "_view_count": null,
            "flex_flow": null,
            "width": null,
            "min_width": null,
            "border": null,
            "align_items": null,
            "bottom": null,
            "_model_module": "@jupyter-widgets/base",
            "top": null,
            "grid_column": null,
            "overflow_y": null,
            "overflow_x": null,
            "grid_auto_flow": null,
            "grid_area": null,
            "grid_template_columns": null,
            "flex": null,
            "_model_name": "LayoutModel",
            "justify_items": null,
            "grid_row": null,
            "max_height": null,
            "align_content": null,
            "visibility": null,
            "align_self": null,
            "height": null,
            "min_height": null,
            "padding": null,
            "grid_auto_rows": null,
            "grid_gap": null,
            "max_width": null,
            "order": null,
            "_view_module_version": "1.2.0",
            "grid_template_areas": null,
            "object_position": null,
            "object_fit": null,
            "grid_auto_columns": null,
            "margin": null,
            "display": null,
            "left": null
          }
        },
        "c665ef48ab6b4182bbf41280f86b2ece": {
          "model_module": "@jupyter-widgets/controls",
          "model_name": "HTMLModel",
          "model_module_version": "1.5.0",
          "state": {
            "_view_name": "HTMLView",
            "style": "IPY_MODEL_a6b4ebbbfa44461fb6c1442a4604c4a9",
            "_dom_classes": [],
            "description": "",
            "_model_name": "HTMLModel",
            "placeholder": "​",
            "_view_module": "@jupyter-widgets/controls",
            "_model_module_version": "1.5.0",
            "value": "Dl Size...: 100%",
            "_view_count": null,
            "_view_module_version": "1.5.0",
            "description_tooltip": null,
            "_model_module": "@jupyter-widgets/controls",
            "layout": "IPY_MODEL_0cf43e6ede194f37a8f475764b0742d2"
          }
        },
        "556c2828a5474da59b314c635803feac": {
          "model_module": "@jupyter-widgets/controls",
          "model_name": "FloatProgressModel",
          "model_module_version": "1.5.0",
          "state": {
            "_view_name": "ProgressView",
            "style": "IPY_MODEL_f6d3e63fdfb544f29a0583b0a5c83586",
            "_dom_classes": [],
            "description": "",
            "_model_name": "FloatProgressModel",
            "bar_style": "success",
            "max": 1,
            "_view_module": "@jupyter-widgets/controls",
            "_model_module_version": "1.5.0",
            "value": 1,
            "_view_count": null,
            "_view_module_version": "1.5.0",
            "orientation": "horizontal",
            "min": 0,
            "description_tooltip": null,
            "_model_module": "@jupyter-widgets/controls",
            "layout": "IPY_MODEL_c0cbc23ae04c482092034ce84af190e8"
          }
        },
        "56393f32855246109cd565ad8feb16a8": {
          "model_module": "@jupyter-widgets/controls",
          "model_name": "HTMLModel",
          "model_module_version": "1.5.0",
          "state": {
            "_view_name": "HTMLView",
            "style": "IPY_MODEL_d2c95fd2a0af49ac827d9e9a2df6d7bd",
            "_dom_classes": [],
            "description": "",
            "_model_name": "HTMLModel",
            "placeholder": "​",
            "_view_module": "@jupyter-widgets/controls",
            "_model_module_version": "1.5.0",
            "value": " 4764/4764 [05:40&lt;00:00, 24.16 MiB/s]",
            "_view_count": null,
            "_view_module_version": "1.5.0",
            "description_tooltip": null,
            "_model_module": "@jupyter-widgets/controls",
            "layout": "IPY_MODEL_d3a587298f4d44b0afd6ab1a584beaa2"
          }
        },
        "a6b4ebbbfa44461fb6c1442a4604c4a9": {
          "model_module": "@jupyter-widgets/controls",
          "model_name": "DescriptionStyleModel",
          "model_module_version": "1.5.0",
          "state": {
            "_view_name": "StyleView",
            "_model_name": "DescriptionStyleModel",
            "description_width": "",
            "_view_module": "@jupyter-widgets/base",
            "_model_module_version": "1.5.0",
            "_view_count": null,
            "_view_module_version": "1.2.0",
            "_model_module": "@jupyter-widgets/controls"
          }
        },
        "0cf43e6ede194f37a8f475764b0742d2": {
          "model_module": "@jupyter-widgets/base",
          "model_name": "LayoutModel",
          "model_module_version": "1.2.0",
          "state": {
            "_view_name": "LayoutView",
            "grid_template_rows": null,
            "right": null,
            "justify_content": null,
            "_view_module": "@jupyter-widgets/base",
            "overflow": null,
            "_model_module_version": "1.2.0",
            "_view_count": null,
            "flex_flow": null,
            "width": null,
            "min_width": null,
            "border": null,
            "align_items": null,
            "bottom": null,
            "_model_module": "@jupyter-widgets/base",
            "top": null,
            "grid_column": null,
            "overflow_y": null,
            "overflow_x": null,
            "grid_auto_flow": null,
            "grid_area": null,
            "grid_template_columns": null,
            "flex": null,
            "_model_name": "LayoutModel",
            "justify_items": null,
            "grid_row": null,
            "max_height": null,
            "align_content": null,
            "visibility": null,
            "align_self": null,
            "height": null,
            "min_height": null,
            "padding": null,
            "grid_auto_rows": null,
            "grid_gap": null,
            "max_width": null,
            "order": null,
            "_view_module_version": "1.2.0",
            "grid_template_areas": null,
            "object_position": null,
            "object_fit": null,
            "grid_auto_columns": null,
            "margin": null,
            "display": null,
            "left": null
          }
        },
        "f6d3e63fdfb544f29a0583b0a5c83586": {
          "model_module": "@jupyter-widgets/controls",
          "model_name": "ProgressStyleModel",
          "model_module_version": "1.5.0",
          "state": {
            "_view_name": "StyleView",
            "_model_name": "ProgressStyleModel",
            "description_width": "",
            "_view_module": "@jupyter-widgets/base",
            "_model_module_version": "1.5.0",
            "_view_count": null,
            "_view_module_version": "1.2.0",
            "bar_color": null,
            "_model_module": "@jupyter-widgets/controls"
          }
        },
        "c0cbc23ae04c482092034ce84af190e8": {
          "model_module": "@jupyter-widgets/base",
          "model_name": "LayoutModel",
          "model_module_version": "1.2.0",
          "state": {
            "_view_name": "LayoutView",
            "grid_template_rows": null,
            "right": null,
            "justify_content": null,
            "_view_module": "@jupyter-widgets/base",
            "overflow": null,
            "_model_module_version": "1.2.0",
            "_view_count": null,
            "flex_flow": null,
            "width": "20px",
            "min_width": null,
            "border": null,
            "align_items": null,
            "bottom": null,
            "_model_module": "@jupyter-widgets/base",
            "top": null,
            "grid_column": null,
            "overflow_y": null,
            "overflow_x": null,
            "grid_auto_flow": null,
            "grid_area": null,
            "grid_template_columns": null,
            "flex": null,
            "_model_name": "LayoutModel",
            "justify_items": null,
            "grid_row": null,
            "max_height": null,
            "align_content": null,
            "visibility": null,
            "align_self": null,
            "height": null,
            "min_height": null,
            "padding": null,
            "grid_auto_rows": null,
            "grid_gap": null,
            "max_width": null,
            "order": null,
            "_view_module_version": "1.2.0",
            "grid_template_areas": null,
            "object_position": null,
            "object_fit": null,
            "grid_auto_columns": null,
            "margin": null,
            "display": null,
            "left": null
          }
        },
        "d2c95fd2a0af49ac827d9e9a2df6d7bd": {
          "model_module": "@jupyter-widgets/controls",
          "model_name": "DescriptionStyleModel",
          "model_module_version": "1.5.0",
          "state": {
            "_view_name": "StyleView",
            "_model_name": "DescriptionStyleModel",
            "description_width": "",
            "_view_module": "@jupyter-widgets/base",
            "_model_module_version": "1.5.0",
            "_view_count": null,
            "_view_module_version": "1.2.0",
            "_model_module": "@jupyter-widgets/controls"
          }
        },
        "d3a587298f4d44b0afd6ab1a584beaa2": {
          "model_module": "@jupyter-widgets/base",
          "model_name": "LayoutModel",
          "model_module_version": "1.2.0",
          "state": {
            "_view_name": "LayoutView",
            "grid_template_rows": null,
            "right": null,
            "justify_content": null,
            "_view_module": "@jupyter-widgets/base",
            "overflow": null,
            "_model_module_version": "1.2.0",
            "_view_count": null,
            "flex_flow": null,
            "width": null,
            "min_width": null,
            "border": null,
            "align_items": null,
            "bottom": null,
            "_model_module": "@jupyter-widgets/base",
            "top": null,
            "grid_column": null,
            "overflow_y": null,
            "overflow_x": null,
            "grid_auto_flow": null,
            "grid_area": null,
            "grid_template_columns": null,
            "flex": null,
            "_model_name": "LayoutModel",
            "justify_items": null,
            "grid_row": null,
            "max_height": null,
            "align_content": null,
            "visibility": null,
            "align_self": null,
            "height": null,
            "min_height": null,
            "padding": null,
            "grid_auto_rows": null,
            "grid_gap": null,
            "max_width": null,
            "order": null,
            "_view_module_version": "1.2.0",
            "grid_template_areas": null,
            "object_position": null,
            "object_fit": null,
            "grid_auto_columns": null,
            "margin": null,
            "display": null,
            "left": null
          }
        },
        "a9c4198b4e8648e08e49b43b98af942e": {
          "model_module": "@jupyter-widgets/controls",
          "model_name": "HBoxModel",
          "model_module_version": "1.5.0",
          "state": {
            "_view_name": "HBoxView",
            "_dom_classes": [],
            "_model_name": "HBoxModel",
            "_view_module": "@jupyter-widgets/controls",
            "_model_module_version": "1.5.0",
            "_view_count": null,
            "_view_module_version": "1.5.0",
            "box_style": "",
            "layout": "IPY_MODEL_84783a74105e4b28867e85e66f3f639e",
            "_model_module": "@jupyter-widgets/controls",
            "children": [
              "IPY_MODEL_70191598fe394493855f02ec2fb1c63b",
              "IPY_MODEL_d4f1e89aa43140f6aa6b504220ff15bd",
              "IPY_MODEL_096ca4fd8c2c4de8bf44ea85fedebca5"
            ]
          }
        },
        "84783a74105e4b28867e85e66f3f639e": {
          "model_module": "@jupyter-widgets/base",
          "model_name": "LayoutModel",
          "model_module_version": "1.2.0",
          "state": {
            "_view_name": "LayoutView",
            "grid_template_rows": null,
            "right": null,
            "justify_content": null,
            "_view_module": "@jupyter-widgets/base",
            "overflow": null,
            "_model_module_version": "1.2.0",
            "_view_count": null,
            "flex_flow": null,
            "width": null,
            "min_width": null,
            "border": null,
            "align_items": null,
            "bottom": null,
            "_model_module": "@jupyter-widgets/base",
            "top": null,
            "grid_column": null,
            "overflow_y": null,
            "overflow_x": null,
            "grid_auto_flow": null,
            "grid_area": null,
            "grid_template_columns": null,
            "flex": null,
            "_model_name": "LayoutModel",
            "justify_items": null,
            "grid_row": null,
            "max_height": null,
            "align_content": null,
            "visibility": null,
            "align_self": null,
            "height": null,
            "min_height": null,
            "padding": null,
            "grid_auto_rows": null,
            "grid_gap": null,
            "max_width": null,
            "order": null,
            "_view_module_version": "1.2.0",
            "grid_template_areas": null,
            "object_position": null,
            "object_fit": null,
            "grid_auto_columns": null,
            "margin": null,
            "display": null,
            "left": null
          }
        },
        "70191598fe394493855f02ec2fb1c63b": {
          "model_module": "@jupyter-widgets/controls",
          "model_name": "HTMLModel",
          "model_module_version": "1.5.0",
          "state": {
            "_view_name": "HTMLView",
            "style": "IPY_MODEL_d00cd9b56aa240b4a4ca45c52cbb4081",
            "_dom_classes": [],
            "description": "",
            "_model_name": "HTMLModel",
            "placeholder": "​",
            "_view_module": "@jupyter-widgets/controls",
            "_model_module_version": "1.5.0",
            "value": "Extraction completed...: 100%",
            "_view_count": null,
            "_view_module_version": "1.5.0",
            "description_tooltip": null,
            "_model_module": "@jupyter-widgets/controls",
            "layout": "IPY_MODEL_c4ef81c063bd42d58a93ad94a42fa92c"
          }
        },
        "d4f1e89aa43140f6aa6b504220ff15bd": {
          "model_module": "@jupyter-widgets/controls",
          "model_name": "FloatProgressModel",
          "model_module_version": "1.5.0",
          "state": {
            "_view_name": "ProgressView",
            "style": "IPY_MODEL_8b75a7103d2d4a5081d3c1a21a5c79f4",
            "_dom_classes": [],
            "description": "",
            "_model_name": "FloatProgressModel",
            "bar_style": "success",
            "max": 1,
            "_view_module": "@jupyter-widgets/controls",
            "_model_module_version": "1.5.0",
            "value": 1,
            "_view_count": null,
            "_view_module_version": "1.5.0",
            "orientation": "horizontal",
            "min": 0,
            "description_tooltip": null,
            "_model_module": "@jupyter-widgets/controls",
            "layout": "IPY_MODEL_9c160cb7633b42e0973a47f68f81e25c"
          }
        },
        "096ca4fd8c2c4de8bf44ea85fedebca5": {
          "model_module": "@jupyter-widgets/controls",
          "model_name": "HTMLModel",
          "model_module_version": "1.5.0",
          "state": {
            "_view_name": "HTMLView",
            "style": "IPY_MODEL_cde80dddc62749f48e0c63bb934690db",
            "_dom_classes": [],
            "description": "",
            "_model_name": "HTMLModel",
            "placeholder": "​",
            "_view_module": "@jupyter-widgets/controls",
            "_model_module_version": "1.5.0",
            "value": " 1/1 [05:40&lt;00:00, 340.67s/ file]",
            "_view_count": null,
            "_view_module_version": "1.5.0",
            "description_tooltip": null,
            "_model_module": "@jupyter-widgets/controls",
            "layout": "IPY_MODEL_381538db2e4c4705a3442a5bc8a251e9"
          }
        },
        "d00cd9b56aa240b4a4ca45c52cbb4081": {
          "model_module": "@jupyter-widgets/controls",
          "model_name": "DescriptionStyleModel",
          "model_module_version": "1.5.0",
          "state": {
            "_view_name": "StyleView",
            "_model_name": "DescriptionStyleModel",
            "description_width": "",
            "_view_module": "@jupyter-widgets/base",
            "_model_module_version": "1.5.0",
            "_view_count": null,
            "_view_module_version": "1.2.0",
            "_model_module": "@jupyter-widgets/controls"
          }
        },
        "c4ef81c063bd42d58a93ad94a42fa92c": {
          "model_module": "@jupyter-widgets/base",
          "model_name": "LayoutModel",
          "model_module_version": "1.2.0",
          "state": {
            "_view_name": "LayoutView",
            "grid_template_rows": null,
            "right": null,
            "justify_content": null,
            "_view_module": "@jupyter-widgets/base",
            "overflow": null,
            "_model_module_version": "1.2.0",
            "_view_count": null,
            "flex_flow": null,
            "width": null,
            "min_width": null,
            "border": null,
            "align_items": null,
            "bottom": null,
            "_model_module": "@jupyter-widgets/base",
            "top": null,
            "grid_column": null,
            "overflow_y": null,
            "overflow_x": null,
            "grid_auto_flow": null,
            "grid_area": null,
            "grid_template_columns": null,
            "flex": null,
            "_model_name": "LayoutModel",
            "justify_items": null,
            "grid_row": null,
            "max_height": null,
            "align_content": null,
            "visibility": null,
            "align_self": null,
            "height": null,
            "min_height": null,
            "padding": null,
            "grid_auto_rows": null,
            "grid_gap": null,
            "max_width": null,
            "order": null,
            "_view_module_version": "1.2.0",
            "grid_template_areas": null,
            "object_position": null,
            "object_fit": null,
            "grid_auto_columns": null,
            "margin": null,
            "display": null,
            "left": null
          }
        },
        "8b75a7103d2d4a5081d3c1a21a5c79f4": {
          "model_module": "@jupyter-widgets/controls",
          "model_name": "ProgressStyleModel",
          "model_module_version": "1.5.0",
          "state": {
            "_view_name": "StyleView",
            "_model_name": "ProgressStyleModel",
            "description_width": "",
            "_view_module": "@jupyter-widgets/base",
            "_model_module_version": "1.5.0",
            "_view_count": null,
            "_view_module_version": "1.2.0",
            "bar_color": null,
            "_model_module": "@jupyter-widgets/controls"
          }
        },
        "9c160cb7633b42e0973a47f68f81e25c": {
          "model_module": "@jupyter-widgets/base",
          "model_name": "LayoutModel",
          "model_module_version": "1.2.0",
          "state": {
            "_view_name": "LayoutView",
            "grid_template_rows": null,
            "right": null,
            "justify_content": null,
            "_view_module": "@jupyter-widgets/base",
            "overflow": null,
            "_model_module_version": "1.2.0",
            "_view_count": null,
            "flex_flow": null,
            "width": "20px",
            "min_width": null,
            "border": null,
            "align_items": null,
            "bottom": null,
            "_model_module": "@jupyter-widgets/base",
            "top": null,
            "grid_column": null,
            "overflow_y": null,
            "overflow_x": null,
            "grid_auto_flow": null,
            "grid_area": null,
            "grid_template_columns": null,
            "flex": null,
            "_model_name": "LayoutModel",
            "justify_items": null,
            "grid_row": null,
            "max_height": null,
            "align_content": null,
            "visibility": null,
            "align_self": null,
            "height": null,
            "min_height": null,
            "padding": null,
            "grid_auto_rows": null,
            "grid_gap": null,
            "max_width": null,
            "order": null,
            "_view_module_version": "1.2.0",
            "grid_template_areas": null,
            "object_position": null,
            "object_fit": null,
            "grid_auto_columns": null,
            "margin": null,
            "display": null,
            "left": null
          }
        },
        "cde80dddc62749f48e0c63bb934690db": {
          "model_module": "@jupyter-widgets/controls",
          "model_name": "DescriptionStyleModel",
          "model_module_version": "1.5.0",
          "state": {
            "_view_name": "StyleView",
            "_model_name": "DescriptionStyleModel",
            "description_width": "",
            "_view_module": "@jupyter-widgets/base",
            "_model_module_version": "1.5.0",
            "_view_count": null,
            "_view_module_version": "1.2.0",
            "_model_module": "@jupyter-widgets/controls"
          }
        },
        "381538db2e4c4705a3442a5bc8a251e9": {
          "model_module": "@jupyter-widgets/base",
          "model_name": "LayoutModel",
          "model_module_version": "1.2.0",
          "state": {
            "_view_name": "LayoutView",
            "grid_template_rows": null,
            "right": null,
            "justify_content": null,
            "_view_module": "@jupyter-widgets/base",
            "overflow": null,
            "_model_module_version": "1.2.0",
            "_view_count": null,
            "flex_flow": null,
            "width": null,
            "min_width": null,
            "border": null,
            "align_items": null,
            "bottom": null,
            "_model_module": "@jupyter-widgets/base",
            "top": null,
            "grid_column": null,
            "overflow_y": null,
            "overflow_x": null,
            "grid_auto_flow": null,
            "grid_area": null,
            "grid_template_columns": null,
            "flex": null,
            "_model_name": "LayoutModel",
            "justify_items": null,
            "grid_row": null,
            "max_height": null,
            "align_content": null,
            "visibility": null,
            "align_self": null,
            "height": null,
            "min_height": null,
            "padding": null,
            "grid_auto_rows": null,
            "grid_gap": null,
            "max_width": null,
            "order": null,
            "_view_module_version": "1.2.0",
            "grid_template_areas": null,
            "object_position": null,
            "object_fit": null,
            "grid_auto_columns": null,
            "margin": null,
            "display": null,
            "left": null
          }
        },
        "b9e1facbcd7e418c9803fde9b7080372": {
          "model_module": "@jupyter-widgets/controls",
          "model_name": "HBoxModel",
          "model_module_version": "1.5.0",
          "state": {
            "_view_name": "HBoxView",
            "_dom_classes": [],
            "_model_name": "HBoxModel",
            "_view_module": "@jupyter-widgets/controls",
            "_model_module_version": "1.5.0",
            "_view_count": null,
            "_view_module_version": "1.5.0",
            "box_style": "",
            "layout": "IPY_MODEL_7557e5bbb471450697c83ecd477b51be",
            "_model_module": "@jupyter-widgets/controls",
            "children": [
              "IPY_MODEL_356bde72c4744fa9ba533fc973869fb2",
              "IPY_MODEL_7ab021d08d5749f0948853ed888fc98f",
              "IPY_MODEL_80bddedccd0149a59e640920bead302f"
            ]
          }
        },
        "7557e5bbb471450697c83ecd477b51be": {
          "model_module": "@jupyter-widgets/base",
          "model_name": "LayoutModel",
          "model_module_version": "1.2.0",
          "state": {
            "_view_name": "LayoutView",
            "grid_template_rows": null,
            "right": null,
            "justify_content": null,
            "_view_module": "@jupyter-widgets/base",
            "overflow": null,
            "_model_module_version": "1.2.0",
            "_view_count": null,
            "flex_flow": null,
            "width": null,
            "min_width": null,
            "border": null,
            "align_items": null,
            "bottom": null,
            "_model_module": "@jupyter-widgets/base",
            "top": null,
            "grid_column": null,
            "overflow_y": null,
            "overflow_x": null,
            "grid_auto_flow": null,
            "grid_area": null,
            "grid_template_columns": null,
            "flex": null,
            "_model_name": "LayoutModel",
            "justify_items": null,
            "grid_row": null,
            "max_height": null,
            "align_content": null,
            "visibility": null,
            "align_self": null,
            "height": null,
            "min_height": null,
            "padding": null,
            "grid_auto_rows": null,
            "grid_gap": null,
            "max_width": null,
            "order": null,
            "_view_module_version": "1.2.0",
            "grid_template_areas": null,
            "object_position": null,
            "object_fit": null,
            "grid_auto_columns": null,
            "margin": null,
            "display": null,
            "left": null
          }
        },
        "356bde72c4744fa9ba533fc973869fb2": {
          "model_module": "@jupyter-widgets/controls",
          "model_name": "HTMLModel",
          "model_module_version": "1.5.0",
          "state": {
            "_view_name": "HTMLView",
            "style": "IPY_MODEL_bb9ec0fd277040b9b4b04c6aa02939a2",
            "_dom_classes": [],
            "description": "",
            "_model_name": "HTMLModel",
            "placeholder": "​",
            "_view_module": "@jupyter-widgets/controls",
            "_model_module_version": "1.5.0",
            "value": "",
            "_view_count": null,
            "_view_module_version": "1.5.0",
            "description_tooltip": null,
            "_model_module": "@jupyter-widgets/controls",
            "layout": "IPY_MODEL_38a97f11d06b44f7bdbf43cf37df50cb"
          }
        },
        "7ab021d08d5749f0948853ed888fc98f": {
          "model_module": "@jupyter-widgets/controls",
          "model_name": "FloatProgressModel",
          "model_module_version": "1.5.0",
          "state": {
            "_view_name": "ProgressView",
            "style": "IPY_MODEL_810e3315f02f42c3a697aa8dbcb02f06",
            "_dom_classes": [],
            "description": "",
            "_model_name": "FloatProgressModel",
            "bar_style": "info",
            "max": 1,
            "_view_module": "@jupyter-widgets/controls",
            "_model_module_version": "1.5.0",
            "value": 1,
            "_view_count": null,
            "_view_module_version": "1.5.0",
            "orientation": "horizontal",
            "min": 0,
            "description_tooltip": null,
            "_model_module": "@jupyter-widgets/controls",
            "layout": "IPY_MODEL_f46b2820680d4506ba2c018f98a2d0cb"
          }
        },
        "80bddedccd0149a59e640920bead302f": {
          "model_module": "@jupyter-widgets/controls",
          "model_name": "HTMLModel",
          "model_module_version": "1.5.0",
          "state": {
            "_view_name": "HTMLView",
            "style": "IPY_MODEL_cedf97cbaad14d4db3c74b6e7d13bf86",
            "_dom_classes": [],
            "description": "",
            "_model_name": "HTMLModel",
            "placeholder": "​",
            "_view_module": "@jupyter-widgets/controls",
            "_model_module_version": "1.5.0",
            "value": " 75719/0 [02:10&lt;00:00, 652.49 examples/s]",
            "_view_count": null,
            "_view_module_version": "1.5.0",
            "description_tooltip": null,
            "_model_module": "@jupyter-widgets/controls",
            "layout": "IPY_MODEL_716dd20312d94e87a674c26658ff3e79"
          }
        },
        "bb9ec0fd277040b9b4b04c6aa02939a2": {
          "model_module": "@jupyter-widgets/controls",
          "model_name": "DescriptionStyleModel",
          "model_module_version": "1.5.0",
          "state": {
            "_view_name": "StyleView",
            "_model_name": "DescriptionStyleModel",
            "description_width": "",
            "_view_module": "@jupyter-widgets/base",
            "_model_module_version": "1.5.0",
            "_view_count": null,
            "_view_module_version": "1.2.0",
            "_model_module": "@jupyter-widgets/controls"
          }
        },
        "38a97f11d06b44f7bdbf43cf37df50cb": {
          "model_module": "@jupyter-widgets/base",
          "model_name": "LayoutModel",
          "model_module_version": "1.2.0",
          "state": {
            "_view_name": "LayoutView",
            "grid_template_rows": null,
            "right": null,
            "justify_content": null,
            "_view_module": "@jupyter-widgets/base",
            "overflow": null,
            "_model_module_version": "1.2.0",
            "_view_count": null,
            "flex_flow": null,
            "width": null,
            "min_width": null,
            "border": null,
            "align_items": null,
            "bottom": null,
            "_model_module": "@jupyter-widgets/base",
            "top": null,
            "grid_column": null,
            "overflow_y": null,
            "overflow_x": null,
            "grid_auto_flow": null,
            "grid_area": null,
            "grid_template_columns": null,
            "flex": null,
            "_model_name": "LayoutModel",
            "justify_items": null,
            "grid_row": null,
            "max_height": null,
            "align_content": null,
            "visibility": null,
            "align_self": null,
            "height": null,
            "min_height": null,
            "padding": null,
            "grid_auto_rows": null,
            "grid_gap": null,
            "max_width": null,
            "order": null,
            "_view_module_version": "1.2.0",
            "grid_template_areas": null,
            "object_position": null,
            "object_fit": null,
            "grid_auto_columns": null,
            "margin": null,
            "display": null,
            "left": null
          }
        },
        "810e3315f02f42c3a697aa8dbcb02f06": {
          "model_module": "@jupyter-widgets/controls",
          "model_name": "ProgressStyleModel",
          "model_module_version": "1.5.0",
          "state": {
            "_view_name": "StyleView",
            "_model_name": "ProgressStyleModel",
            "description_width": "",
            "_view_module": "@jupyter-widgets/base",
            "_model_module_version": "1.5.0",
            "_view_count": null,
            "_view_module_version": "1.2.0",
            "bar_color": null,
            "_model_module": "@jupyter-widgets/controls"
          }
        },
        "f46b2820680d4506ba2c018f98a2d0cb": {
          "model_module": "@jupyter-widgets/base",
          "model_name": "LayoutModel",
          "model_module_version": "1.2.0",
          "state": {
            "_view_name": "LayoutView",
            "grid_template_rows": null,
            "right": null,
            "justify_content": null,
            "_view_module": "@jupyter-widgets/base",
            "overflow": null,
            "_model_module_version": "1.2.0",
            "_view_count": null,
            "flex_flow": null,
            "width": "20px",
            "min_width": null,
            "border": null,
            "align_items": null,
            "bottom": null,
            "_model_module": "@jupyter-widgets/base",
            "top": null,
            "grid_column": null,
            "overflow_y": null,
            "overflow_x": null,
            "grid_auto_flow": null,
            "grid_area": null,
            "grid_template_columns": null,
            "flex": null,
            "_model_name": "LayoutModel",
            "justify_items": null,
            "grid_row": null,
            "max_height": null,
            "align_content": null,
            "visibility": null,
            "align_self": null,
            "height": null,
            "min_height": null,
            "padding": null,
            "grid_auto_rows": null,
            "grid_gap": null,
            "max_width": null,
            "order": null,
            "_view_module_version": "1.2.0",
            "grid_template_areas": null,
            "object_position": null,
            "object_fit": null,
            "grid_auto_columns": null,
            "margin": null,
            "display": null,
            "left": null
          }
        },
        "cedf97cbaad14d4db3c74b6e7d13bf86": {
          "model_module": "@jupyter-widgets/controls",
          "model_name": "DescriptionStyleModel",
          "model_module_version": "1.5.0",
          "state": {
            "_view_name": "StyleView",
            "_model_name": "DescriptionStyleModel",
            "description_width": "",
            "_view_module": "@jupyter-widgets/base",
            "_model_module_version": "1.5.0",
            "_view_count": null,
            "_view_module_version": "1.2.0",
            "_model_module": "@jupyter-widgets/controls"
          }
        },
        "716dd20312d94e87a674c26658ff3e79": {
          "model_module": "@jupyter-widgets/base",
          "model_name": "LayoutModel",
          "model_module_version": "1.2.0",
          "state": {
            "_view_name": "LayoutView",
            "grid_template_rows": null,
            "right": null,
            "justify_content": null,
            "_view_module": "@jupyter-widgets/base",
            "overflow": null,
            "_model_module_version": "1.2.0",
            "_view_count": null,
            "flex_flow": null,
            "width": null,
            "min_width": null,
            "border": null,
            "align_items": null,
            "bottom": null,
            "_model_module": "@jupyter-widgets/base",
            "top": null,
            "grid_column": null,
            "overflow_y": null,
            "overflow_x": null,
            "grid_auto_flow": null,
            "grid_area": null,
            "grid_template_columns": null,
            "flex": null,
            "_model_name": "LayoutModel",
            "justify_items": null,
            "grid_row": null,
            "max_height": null,
            "align_content": null,
            "visibility": null,
            "align_self": null,
            "height": null,
            "min_height": null,
            "padding": null,
            "grid_auto_rows": null,
            "grid_gap": null,
            "max_width": null,
            "order": null,
            "_view_module_version": "1.2.0",
            "grid_template_areas": null,
            "object_position": null,
            "object_fit": null,
            "grid_auto_columns": null,
            "margin": null,
            "display": null,
            "left": null
          }
        },
        "76c1a70d5a064e7a9c75087f00148362": {
          "model_module": "@jupyter-widgets/controls",
          "model_name": "HBoxModel",
          "model_module_version": "1.5.0",
          "state": {
            "_view_name": "HBoxView",
            "_dom_classes": [],
            "_model_name": "HBoxModel",
            "_view_module": "@jupyter-widgets/controls",
            "_model_module_version": "1.5.0",
            "_view_count": null,
            "_view_module_version": "1.5.0",
            "box_style": "",
            "layout": "IPY_MODEL_e7182a68972c4641b6f1913fa2d8301c",
            "_model_module": "@jupyter-widgets/controls",
            "children": [
              "IPY_MODEL_8736d00dba254e9980550f18a31d9aa0",
              "IPY_MODEL_dc46f4eb9cda43d7929b53014fbcea17",
              "IPY_MODEL_981545227f854954912dee0fc435f888"
            ]
          }
        },
        "e7182a68972c4641b6f1913fa2d8301c": {
          "model_module": "@jupyter-widgets/base",
          "model_name": "LayoutModel",
          "model_module_version": "1.2.0",
          "state": {
            "_view_name": "LayoutView",
            "grid_template_rows": null,
            "right": null,
            "justify_content": null,
            "_view_module": "@jupyter-widgets/base",
            "overflow": null,
            "_model_module_version": "1.2.0",
            "_view_count": null,
            "flex_flow": null,
            "width": null,
            "min_width": null,
            "border": null,
            "align_items": null,
            "bottom": null,
            "_model_module": "@jupyter-widgets/base",
            "top": null,
            "grid_column": null,
            "overflow_y": null,
            "overflow_x": null,
            "grid_auto_flow": null,
            "grid_area": null,
            "grid_template_columns": null,
            "flex": null,
            "_model_name": "LayoutModel",
            "justify_items": null,
            "grid_row": null,
            "max_height": null,
            "align_content": null,
            "visibility": null,
            "align_self": null,
            "height": null,
            "min_height": null,
            "padding": null,
            "grid_auto_rows": null,
            "grid_gap": null,
            "max_width": null,
            "order": null,
            "_view_module_version": "1.2.0",
            "grid_template_areas": null,
            "object_position": null,
            "object_fit": null,
            "grid_auto_columns": null,
            "margin": null,
            "display": null,
            "left": null
          }
        },
        "8736d00dba254e9980550f18a31d9aa0": {
          "model_module": "@jupyter-widgets/controls",
          "model_name": "HTMLModel",
          "model_module_version": "1.5.0",
          "state": {
            "_view_name": "HTMLView",
            "style": "IPY_MODEL_dd4d85badc674a1d94ba521124d9440a",
            "_dom_classes": [],
            "description": "",
            "_model_name": "HTMLModel",
            "placeholder": "​",
            "_view_module": "@jupyter-widgets/controls",
            "_model_module_version": "1.5.0",
            "value": "100%",
            "_view_count": null,
            "_view_module_version": "1.5.0",
            "description_tooltip": null,
            "_model_module": "@jupyter-widgets/controls",
            "layout": "IPY_MODEL_6e099c603131477e900c9b126af48b30"
          }
        },
        "dc46f4eb9cda43d7929b53014fbcea17": {
          "model_module": "@jupyter-widgets/controls",
          "model_name": "FloatProgressModel",
          "model_module_version": "1.5.0",
          "state": {
            "_view_name": "ProgressView",
            "style": "IPY_MODEL_876be4aa76db4e1eb3288e009f61c7a1",
            "_dom_classes": [],
            "description": "",
            "_model_name": "FloatProgressModel",
            "bar_style": "danger",
            "max": 75750,
            "_view_module": "@jupyter-widgets/controls",
            "_model_module_version": "1.5.0",
            "value": 75749,
            "_view_count": null,
            "_view_module_version": "1.5.0",
            "orientation": "horizontal",
            "min": 0,
            "description_tooltip": null,
            "_model_module": "@jupyter-widgets/controls",
            "layout": "IPY_MODEL_b676e93e23834543a5b6d851896ce0f5"
          }
        },
        "981545227f854954912dee0fc435f888": {
          "model_module": "@jupyter-widgets/controls",
          "model_name": "HTMLModel",
          "model_module_version": "1.5.0",
          "state": {
            "_view_name": "HTMLView",
            "style": "IPY_MODEL_459fb0ef4994491680fc32d0ddd2fa15",
            "_dom_classes": [],
            "description": "",
            "_model_name": "HTMLModel",
            "placeholder": "​",
            "_view_module": "@jupyter-widgets/controls",
            "_model_module_version": "1.5.0",
            "value": " 75749/75750 [01:07&lt;00:00, 832.92 examples/s]",
            "_view_count": null,
            "_view_module_version": "1.5.0",
            "description_tooltip": null,
            "_model_module": "@jupyter-widgets/controls",
            "layout": "IPY_MODEL_c9b6a84bf09a4deab4a3a5135edfbae4"
          }
        },
        "dd4d85badc674a1d94ba521124d9440a": {
          "model_module": "@jupyter-widgets/controls",
          "model_name": "DescriptionStyleModel",
          "model_module_version": "1.5.0",
          "state": {
            "_view_name": "StyleView",
            "_model_name": "DescriptionStyleModel",
            "description_width": "",
            "_view_module": "@jupyter-widgets/base",
            "_model_module_version": "1.5.0",
            "_view_count": null,
            "_view_module_version": "1.2.0",
            "_model_module": "@jupyter-widgets/controls"
          }
        },
        "6e099c603131477e900c9b126af48b30": {
          "model_module": "@jupyter-widgets/base",
          "model_name": "LayoutModel",
          "model_module_version": "1.2.0",
          "state": {
            "_view_name": "LayoutView",
            "grid_template_rows": null,
            "right": null,
            "justify_content": null,
            "_view_module": "@jupyter-widgets/base",
            "overflow": null,
            "_model_module_version": "1.2.0",
            "_view_count": null,
            "flex_flow": null,
            "width": null,
            "min_width": null,
            "border": null,
            "align_items": null,
            "bottom": null,
            "_model_module": "@jupyter-widgets/base",
            "top": null,
            "grid_column": null,
            "overflow_y": null,
            "overflow_x": null,
            "grid_auto_flow": null,
            "grid_area": null,
            "grid_template_columns": null,
            "flex": null,
            "_model_name": "LayoutModel",
            "justify_items": null,
            "grid_row": null,
            "max_height": null,
            "align_content": null,
            "visibility": null,
            "align_self": null,
            "height": null,
            "min_height": null,
            "padding": null,
            "grid_auto_rows": null,
            "grid_gap": null,
            "max_width": null,
            "order": null,
            "_view_module_version": "1.2.0",
            "grid_template_areas": null,
            "object_position": null,
            "object_fit": null,
            "grid_auto_columns": null,
            "margin": null,
            "display": null,
            "left": null
          }
        },
        "876be4aa76db4e1eb3288e009f61c7a1": {
          "model_module": "@jupyter-widgets/controls",
          "model_name": "ProgressStyleModel",
          "model_module_version": "1.5.0",
          "state": {
            "_view_name": "StyleView",
            "_model_name": "ProgressStyleModel",
            "description_width": "",
            "_view_module": "@jupyter-widgets/base",
            "_model_module_version": "1.5.0",
            "_view_count": null,
            "_view_module_version": "1.2.0",
            "bar_color": null,
            "_model_module": "@jupyter-widgets/controls"
          }
        },
        "b676e93e23834543a5b6d851896ce0f5": {
          "model_module": "@jupyter-widgets/base",
          "model_name": "LayoutModel",
          "model_module_version": "1.2.0",
          "state": {
            "_view_name": "LayoutView",
            "grid_template_rows": null,
            "right": null,
            "justify_content": null,
            "_view_module": "@jupyter-widgets/base",
            "overflow": null,
            "_model_module_version": "1.2.0",
            "_view_count": null,
            "flex_flow": null,
            "width": null,
            "min_width": null,
            "border": null,
            "align_items": null,
            "bottom": null,
            "_model_module": "@jupyter-widgets/base",
            "top": null,
            "grid_column": null,
            "overflow_y": null,
            "overflow_x": null,
            "grid_auto_flow": null,
            "grid_area": null,
            "grid_template_columns": null,
            "flex": null,
            "_model_name": "LayoutModel",
            "justify_items": null,
            "grid_row": null,
            "max_height": null,
            "align_content": null,
            "visibility": null,
            "align_self": null,
            "height": null,
            "min_height": null,
            "padding": null,
            "grid_auto_rows": null,
            "grid_gap": null,
            "max_width": null,
            "order": null,
            "_view_module_version": "1.2.0",
            "grid_template_areas": null,
            "object_position": null,
            "object_fit": null,
            "grid_auto_columns": null,
            "margin": null,
            "display": null,
            "left": null
          }
        },
        "459fb0ef4994491680fc32d0ddd2fa15": {
          "model_module": "@jupyter-widgets/controls",
          "model_name": "DescriptionStyleModel",
          "model_module_version": "1.5.0",
          "state": {
            "_view_name": "StyleView",
            "_model_name": "DescriptionStyleModel",
            "description_width": "",
            "_view_module": "@jupyter-widgets/base",
            "_model_module_version": "1.5.0",
            "_view_count": null,
            "_view_module_version": "1.2.0",
            "_model_module": "@jupyter-widgets/controls"
          }
        },
        "c9b6a84bf09a4deab4a3a5135edfbae4": {
          "model_module": "@jupyter-widgets/base",
          "model_name": "LayoutModel",
          "model_module_version": "1.2.0",
          "state": {
            "_view_name": "LayoutView",
            "grid_template_rows": null,
            "right": null,
            "justify_content": null,
            "_view_module": "@jupyter-widgets/base",
            "overflow": null,
            "_model_module_version": "1.2.0",
            "_view_count": null,
            "flex_flow": null,
            "width": null,
            "min_width": null,
            "border": null,
            "align_items": null,
            "bottom": null,
            "_model_module": "@jupyter-widgets/base",
            "top": null,
            "grid_column": null,
            "overflow_y": null,
            "overflow_x": null,
            "grid_auto_flow": null,
            "grid_area": null,
            "grid_template_columns": null,
            "flex": null,
            "_model_name": "LayoutModel",
            "justify_items": null,
            "grid_row": null,
            "max_height": null,
            "align_content": null,
            "visibility": null,
            "align_self": null,
            "height": null,
            "min_height": null,
            "padding": null,
            "grid_auto_rows": null,
            "grid_gap": null,
            "max_width": null,
            "order": null,
            "_view_module_version": "1.2.0",
            "grid_template_areas": null,
            "object_position": null,
            "object_fit": null,
            "grid_auto_columns": null,
            "margin": null,
            "display": null,
            "left": null
          }
        },
        "bb6b4b492af74bd4925f87792e10488a": {
          "model_module": "@jupyter-widgets/controls",
          "model_name": "HBoxModel",
          "model_module_version": "1.5.0",
          "state": {
            "_view_name": "HBoxView",
            "_dom_classes": [],
            "_model_name": "HBoxModel",
            "_view_module": "@jupyter-widgets/controls",
            "_model_module_version": "1.5.0",
            "_view_count": null,
            "_view_module_version": "1.5.0",
            "box_style": "",
            "layout": "IPY_MODEL_a6831abd457c4dd6b34d7caf50e4030a",
            "_model_module": "@jupyter-widgets/controls",
            "children": [
              "IPY_MODEL_4d50e22aa7624b0f852c109622946a5b",
              "IPY_MODEL_04eea293a3a24854a6ff6dcb78a1a541",
              "IPY_MODEL_698bb81de2c8435ea6916967a058aaff"
            ]
          }
        },
        "a6831abd457c4dd6b34d7caf50e4030a": {
          "model_module": "@jupyter-widgets/base",
          "model_name": "LayoutModel",
          "model_module_version": "1.2.0",
          "state": {
            "_view_name": "LayoutView",
            "grid_template_rows": null,
            "right": null,
            "justify_content": null,
            "_view_module": "@jupyter-widgets/base",
            "overflow": null,
            "_model_module_version": "1.2.0",
            "_view_count": null,
            "flex_flow": null,
            "width": null,
            "min_width": null,
            "border": null,
            "align_items": null,
            "bottom": null,
            "_model_module": "@jupyter-widgets/base",
            "top": null,
            "grid_column": null,
            "overflow_y": null,
            "overflow_x": null,
            "grid_auto_flow": null,
            "grid_area": null,
            "grid_template_columns": null,
            "flex": null,
            "_model_name": "LayoutModel",
            "justify_items": null,
            "grid_row": null,
            "max_height": null,
            "align_content": null,
            "visibility": null,
            "align_self": null,
            "height": null,
            "min_height": null,
            "padding": null,
            "grid_auto_rows": null,
            "grid_gap": null,
            "max_width": null,
            "order": null,
            "_view_module_version": "1.2.0",
            "grid_template_areas": null,
            "object_position": null,
            "object_fit": null,
            "grid_auto_columns": null,
            "margin": null,
            "display": null,
            "left": null
          }
        },
        "4d50e22aa7624b0f852c109622946a5b": {
          "model_module": "@jupyter-widgets/controls",
          "model_name": "HTMLModel",
          "model_module_version": "1.5.0",
          "state": {
            "_view_name": "HTMLView",
            "style": "IPY_MODEL_f0cb87f5501d477f8ea7be98606c28f1",
            "_dom_classes": [],
            "description": "",
            "_model_name": "HTMLModel",
            "placeholder": "​",
            "_view_module": "@jupyter-widgets/controls",
            "_model_module_version": "1.5.0",
            "value": "",
            "_view_count": null,
            "_view_module_version": "1.5.0",
            "description_tooltip": null,
            "_model_module": "@jupyter-widgets/controls",
            "layout": "IPY_MODEL_78b4d100595146dcba43fd22b3eeeab0"
          }
        },
        "04eea293a3a24854a6ff6dcb78a1a541": {
          "model_module": "@jupyter-widgets/controls",
          "model_name": "FloatProgressModel",
          "model_module_version": "1.5.0",
          "state": {
            "_view_name": "ProgressView",
            "style": "IPY_MODEL_5ee455d83d874f818a58ba000799f6b7",
            "_dom_classes": [],
            "description": "",
            "_model_name": "FloatProgressModel",
            "bar_style": "info",
            "max": 1,
            "_view_module": "@jupyter-widgets/controls",
            "_model_module_version": "1.5.0",
            "value": 1,
            "_view_count": null,
            "_view_module_version": "1.5.0",
            "orientation": "horizontal",
            "min": 0,
            "description_tooltip": null,
            "_model_module": "@jupyter-widgets/controls",
            "layout": "IPY_MODEL_25a80983439648f2ad2084c9063a43f0"
          }
        },
        "698bb81de2c8435ea6916967a058aaff": {
          "model_module": "@jupyter-widgets/controls",
          "model_name": "HTMLModel",
          "model_module_version": "1.5.0",
          "state": {
            "_view_name": "HTMLView",
            "style": "IPY_MODEL_8976d52822bb40fbafaa8064f0eeecbc",
            "_dom_classes": [],
            "description": "",
            "_model_name": "HTMLModel",
            "placeholder": "​",
            "_view_module": "@jupyter-widgets/controls",
            "_model_module_version": "1.5.0",
            "value": " 25232/0 [01:03&lt;00:00, 446.14 examples/s]",
            "_view_count": null,
            "_view_module_version": "1.5.0",
            "description_tooltip": null,
            "_model_module": "@jupyter-widgets/controls",
            "layout": "IPY_MODEL_832f7b0926e84d5aa242d916ca99d972"
          }
        },
        "f0cb87f5501d477f8ea7be98606c28f1": {
          "model_module": "@jupyter-widgets/controls",
          "model_name": "DescriptionStyleModel",
          "model_module_version": "1.5.0",
          "state": {
            "_view_name": "StyleView",
            "_model_name": "DescriptionStyleModel",
            "description_width": "",
            "_view_module": "@jupyter-widgets/base",
            "_model_module_version": "1.5.0",
            "_view_count": null,
            "_view_module_version": "1.2.0",
            "_model_module": "@jupyter-widgets/controls"
          }
        },
        "78b4d100595146dcba43fd22b3eeeab0": {
          "model_module": "@jupyter-widgets/base",
          "model_name": "LayoutModel",
          "model_module_version": "1.2.0",
          "state": {
            "_view_name": "LayoutView",
            "grid_template_rows": null,
            "right": null,
            "justify_content": null,
            "_view_module": "@jupyter-widgets/base",
            "overflow": null,
            "_model_module_version": "1.2.0",
            "_view_count": null,
            "flex_flow": null,
            "width": null,
            "min_width": null,
            "border": null,
            "align_items": null,
            "bottom": null,
            "_model_module": "@jupyter-widgets/base",
            "top": null,
            "grid_column": null,
            "overflow_y": null,
            "overflow_x": null,
            "grid_auto_flow": null,
            "grid_area": null,
            "grid_template_columns": null,
            "flex": null,
            "_model_name": "LayoutModel",
            "justify_items": null,
            "grid_row": null,
            "max_height": null,
            "align_content": null,
            "visibility": null,
            "align_self": null,
            "height": null,
            "min_height": null,
            "padding": null,
            "grid_auto_rows": null,
            "grid_gap": null,
            "max_width": null,
            "order": null,
            "_view_module_version": "1.2.0",
            "grid_template_areas": null,
            "object_position": null,
            "object_fit": null,
            "grid_auto_columns": null,
            "margin": null,
            "display": null,
            "left": null
          }
        },
        "5ee455d83d874f818a58ba000799f6b7": {
          "model_module": "@jupyter-widgets/controls",
          "model_name": "ProgressStyleModel",
          "model_module_version": "1.5.0",
          "state": {
            "_view_name": "StyleView",
            "_model_name": "ProgressStyleModel",
            "description_width": "",
            "_view_module": "@jupyter-widgets/base",
            "_model_module_version": "1.5.0",
            "_view_count": null,
            "_view_module_version": "1.2.0",
            "bar_color": null,
            "_model_module": "@jupyter-widgets/controls"
          }
        },
        "25a80983439648f2ad2084c9063a43f0": {
          "model_module": "@jupyter-widgets/base",
          "model_name": "LayoutModel",
          "model_module_version": "1.2.0",
          "state": {
            "_view_name": "LayoutView",
            "grid_template_rows": null,
            "right": null,
            "justify_content": null,
            "_view_module": "@jupyter-widgets/base",
            "overflow": null,
            "_model_module_version": "1.2.0",
            "_view_count": null,
            "flex_flow": null,
            "width": "20px",
            "min_width": null,
            "border": null,
            "align_items": null,
            "bottom": null,
            "_model_module": "@jupyter-widgets/base",
            "top": null,
            "grid_column": null,
            "overflow_y": null,
            "overflow_x": null,
            "grid_auto_flow": null,
            "grid_area": null,
            "grid_template_columns": null,
            "flex": null,
            "_model_name": "LayoutModel",
            "justify_items": null,
            "grid_row": null,
            "max_height": null,
            "align_content": null,
            "visibility": null,
            "align_self": null,
            "height": null,
            "min_height": null,
            "padding": null,
            "grid_auto_rows": null,
            "grid_gap": null,
            "max_width": null,
            "order": null,
            "_view_module_version": "1.2.0",
            "grid_template_areas": null,
            "object_position": null,
            "object_fit": null,
            "grid_auto_columns": null,
            "margin": null,
            "display": null,
            "left": null
          }
        },
        "8976d52822bb40fbafaa8064f0eeecbc": {
          "model_module": "@jupyter-widgets/controls",
          "model_name": "DescriptionStyleModel",
          "model_module_version": "1.5.0",
          "state": {
            "_view_name": "StyleView",
            "_model_name": "DescriptionStyleModel",
            "description_width": "",
            "_view_module": "@jupyter-widgets/base",
            "_model_module_version": "1.5.0",
            "_view_count": null,
            "_view_module_version": "1.2.0",
            "_model_module": "@jupyter-widgets/controls"
          }
        },
        "832f7b0926e84d5aa242d916ca99d972": {
          "model_module": "@jupyter-widgets/base",
          "model_name": "LayoutModel",
          "model_module_version": "1.2.0",
          "state": {
            "_view_name": "LayoutView",
            "grid_template_rows": null,
            "right": null,
            "justify_content": null,
            "_view_module": "@jupyter-widgets/base",
            "overflow": null,
            "_model_module_version": "1.2.0",
            "_view_count": null,
            "flex_flow": null,
            "width": null,
            "min_width": null,
            "border": null,
            "align_items": null,
            "bottom": null,
            "_model_module": "@jupyter-widgets/base",
            "top": null,
            "grid_column": null,
            "overflow_y": null,
            "overflow_x": null,
            "grid_auto_flow": null,
            "grid_area": null,
            "grid_template_columns": null,
            "flex": null,
            "_model_name": "LayoutModel",
            "justify_items": null,
            "grid_row": null,
            "max_height": null,
            "align_content": null,
            "visibility": null,
            "align_self": null,
            "height": null,
            "min_height": null,
            "padding": null,
            "grid_auto_rows": null,
            "grid_gap": null,
            "max_width": null,
            "order": null,
            "_view_module_version": "1.2.0",
            "grid_template_areas": null,
            "object_position": null,
            "object_fit": null,
            "grid_auto_columns": null,
            "margin": null,
            "display": null,
            "left": null
          }
        },
        "d261677b1cba4713892769a89b206ff5": {
          "model_module": "@jupyter-widgets/controls",
          "model_name": "HBoxModel",
          "model_module_version": "1.5.0",
          "state": {
            "_view_name": "HBoxView",
            "_dom_classes": [],
            "_model_name": "HBoxModel",
            "_view_module": "@jupyter-widgets/controls",
            "_model_module_version": "1.5.0",
            "_view_count": null,
            "_view_module_version": "1.5.0",
            "box_style": "",
            "layout": "IPY_MODEL_55cba5e214554a8c89ea40a91cafb41a",
            "_model_module": "@jupyter-widgets/controls",
            "children": [
              "IPY_MODEL_b01c7a185c824a84a95fe59fdedac7f8",
              "IPY_MODEL_5410d040bad54261a040648f6c10113a",
              "IPY_MODEL_1e31c74c12b14a3d94d5a4dbed7ab5c0"
            ]
          }
        },
        "55cba5e214554a8c89ea40a91cafb41a": {
          "model_module": "@jupyter-widgets/base",
          "model_name": "LayoutModel",
          "model_module_version": "1.2.0",
          "state": {
            "_view_name": "LayoutView",
            "grid_template_rows": null,
            "right": null,
            "justify_content": null,
            "_view_module": "@jupyter-widgets/base",
            "overflow": null,
            "_model_module_version": "1.2.0",
            "_view_count": null,
            "flex_flow": null,
            "width": null,
            "min_width": null,
            "border": null,
            "align_items": null,
            "bottom": null,
            "_model_module": "@jupyter-widgets/base",
            "top": null,
            "grid_column": null,
            "overflow_y": null,
            "overflow_x": null,
            "grid_auto_flow": null,
            "grid_area": null,
            "grid_template_columns": null,
            "flex": null,
            "_model_name": "LayoutModel",
            "justify_items": null,
            "grid_row": null,
            "max_height": null,
            "align_content": null,
            "visibility": null,
            "align_self": null,
            "height": null,
            "min_height": null,
            "padding": null,
            "grid_auto_rows": null,
            "grid_gap": null,
            "max_width": null,
            "order": null,
            "_view_module_version": "1.2.0",
            "grid_template_areas": null,
            "object_position": null,
            "object_fit": null,
            "grid_auto_columns": null,
            "margin": null,
            "display": null,
            "left": null
          }
        },
        "b01c7a185c824a84a95fe59fdedac7f8": {
          "model_module": "@jupyter-widgets/controls",
          "model_name": "HTMLModel",
          "model_module_version": "1.5.0",
          "state": {
            "_view_name": "HTMLView",
            "style": "IPY_MODEL_eaaab842ef764c58abe5505e5cbd0de1",
            "_dom_classes": [],
            "description": "",
            "_model_name": "HTMLModel",
            "placeholder": "​",
            "_view_module": "@jupyter-widgets/controls",
            "_model_module_version": "1.5.0",
            "value": "100%",
            "_view_count": null,
            "_view_module_version": "1.5.0",
            "description_tooltip": null,
            "_model_module": "@jupyter-widgets/controls",
            "layout": "IPY_MODEL_da8a83559835446a85221bfcd49b4c34"
          }
        },
        "5410d040bad54261a040648f6c10113a": {
          "model_module": "@jupyter-widgets/controls",
          "model_name": "FloatProgressModel",
          "model_module_version": "1.5.0",
          "state": {
            "_view_name": "ProgressView",
            "style": "IPY_MODEL_c1b0afcdc4d34e2b939287d03b132cbf",
            "_dom_classes": [],
            "description": "",
            "_model_name": "FloatProgressModel",
            "bar_style": "danger",
            "max": 25250,
            "_view_module": "@jupyter-widgets/controls",
            "_model_module_version": "1.5.0",
            "value": 25249,
            "_view_count": null,
            "_view_module_version": "1.5.0",
            "orientation": "horizontal",
            "min": 0,
            "description_tooltip": null,
            "_model_module": "@jupyter-widgets/controls",
            "layout": "IPY_MODEL_2cc7f7f198f64ed3874f675dc212e0d0"
          }
        },
        "1e31c74c12b14a3d94d5a4dbed7ab5c0": {
          "model_module": "@jupyter-widgets/controls",
          "model_name": "HTMLModel",
          "model_module_version": "1.5.0",
          "state": {
            "_view_name": "HTMLView",
            "style": "IPY_MODEL_6c01a16616ce42f4be26a01b4281bdc5",
            "_dom_classes": [],
            "description": "",
            "_model_name": "HTMLModel",
            "placeholder": "​",
            "_view_module": "@jupyter-widgets/controls",
            "_model_module_version": "1.5.0",
            "value": " 25249/25250 [00:15&lt;00:00, 1445.18 examples/s]",
            "_view_count": null,
            "_view_module_version": "1.5.0",
            "description_tooltip": null,
            "_model_module": "@jupyter-widgets/controls",
            "layout": "IPY_MODEL_d995dc0bc2f74f59805543e33b48365d"
          }
        },
        "eaaab842ef764c58abe5505e5cbd0de1": {
          "model_module": "@jupyter-widgets/controls",
          "model_name": "DescriptionStyleModel",
          "model_module_version": "1.5.0",
          "state": {
            "_view_name": "StyleView",
            "_model_name": "DescriptionStyleModel",
            "description_width": "",
            "_view_module": "@jupyter-widgets/base",
            "_model_module_version": "1.5.0",
            "_view_count": null,
            "_view_module_version": "1.2.0",
            "_model_module": "@jupyter-widgets/controls"
          }
        },
        "da8a83559835446a85221bfcd49b4c34": {
          "model_module": "@jupyter-widgets/base",
          "model_name": "LayoutModel",
          "model_module_version": "1.2.0",
          "state": {
            "_view_name": "LayoutView",
            "grid_template_rows": null,
            "right": null,
            "justify_content": null,
            "_view_module": "@jupyter-widgets/base",
            "overflow": null,
            "_model_module_version": "1.2.0",
            "_view_count": null,
            "flex_flow": null,
            "width": null,
            "min_width": null,
            "border": null,
            "align_items": null,
            "bottom": null,
            "_model_module": "@jupyter-widgets/base",
            "top": null,
            "grid_column": null,
            "overflow_y": null,
            "overflow_x": null,
            "grid_auto_flow": null,
            "grid_area": null,
            "grid_template_columns": null,
            "flex": null,
            "_model_name": "LayoutModel",
            "justify_items": null,
            "grid_row": null,
            "max_height": null,
            "align_content": null,
            "visibility": null,
            "align_self": null,
            "height": null,
            "min_height": null,
            "padding": null,
            "grid_auto_rows": null,
            "grid_gap": null,
            "max_width": null,
            "order": null,
            "_view_module_version": "1.2.0",
            "grid_template_areas": null,
            "object_position": null,
            "object_fit": null,
            "grid_auto_columns": null,
            "margin": null,
            "display": null,
            "left": null
          }
        },
        "c1b0afcdc4d34e2b939287d03b132cbf": {
          "model_module": "@jupyter-widgets/controls",
          "model_name": "ProgressStyleModel",
          "model_module_version": "1.5.0",
          "state": {
            "_view_name": "StyleView",
            "_model_name": "ProgressStyleModel",
            "description_width": "",
            "_view_module": "@jupyter-widgets/base",
            "_model_module_version": "1.5.0",
            "_view_count": null,
            "_view_module_version": "1.2.0",
            "bar_color": null,
            "_model_module": "@jupyter-widgets/controls"
          }
        },
        "2cc7f7f198f64ed3874f675dc212e0d0": {
          "model_module": "@jupyter-widgets/base",
          "model_name": "LayoutModel",
          "model_module_version": "1.2.0",
          "state": {
            "_view_name": "LayoutView",
            "grid_template_rows": null,
            "right": null,
            "justify_content": null,
            "_view_module": "@jupyter-widgets/base",
            "overflow": null,
            "_model_module_version": "1.2.0",
            "_view_count": null,
            "flex_flow": null,
            "width": null,
            "min_width": null,
            "border": null,
            "align_items": null,
            "bottom": null,
            "_model_module": "@jupyter-widgets/base",
            "top": null,
            "grid_column": null,
            "overflow_y": null,
            "overflow_x": null,
            "grid_auto_flow": null,
            "grid_area": null,
            "grid_template_columns": null,
            "flex": null,
            "_model_name": "LayoutModel",
            "justify_items": null,
            "grid_row": null,
            "max_height": null,
            "align_content": null,
            "visibility": null,
            "align_self": null,
            "height": null,
            "min_height": null,
            "padding": null,
            "grid_auto_rows": null,
            "grid_gap": null,
            "max_width": null,
            "order": null,
            "_view_module_version": "1.2.0",
            "grid_template_areas": null,
            "object_position": null,
            "object_fit": null,
            "grid_auto_columns": null,
            "margin": null,
            "display": null,
            "left": null
          }
        },
        "6c01a16616ce42f4be26a01b4281bdc5": {
          "model_module": "@jupyter-widgets/controls",
          "model_name": "DescriptionStyleModel",
          "model_module_version": "1.5.0",
          "state": {
            "_view_name": "StyleView",
            "_model_name": "DescriptionStyleModel",
            "description_width": "",
            "_view_module": "@jupyter-widgets/base",
            "_model_module_version": "1.5.0",
            "_view_count": null,
            "_view_module_version": "1.2.0",
            "_model_module": "@jupyter-widgets/controls"
          }
        },
        "d995dc0bc2f74f59805543e33b48365d": {
          "model_module": "@jupyter-widgets/base",
          "model_name": "LayoutModel",
          "model_module_version": "1.2.0",
          "state": {
            "_view_name": "LayoutView",
            "grid_template_rows": null,
            "right": null,
            "justify_content": null,
            "_view_module": "@jupyter-widgets/base",
            "overflow": null,
            "_model_module_version": "1.2.0",
            "_view_count": null,
            "flex_flow": null,
            "width": null,
            "min_width": null,
            "border": null,
            "align_items": null,
            "bottom": null,
            "_model_module": "@jupyter-widgets/base",
            "top": null,
            "grid_column": null,
            "overflow_y": null,
            "overflow_x": null,
            "grid_auto_flow": null,
            "grid_area": null,
            "grid_template_columns": null,
            "flex": null,
            "_model_name": "LayoutModel",
            "justify_items": null,
            "grid_row": null,
            "max_height": null,
            "align_content": null,
            "visibility": null,
            "align_self": null,
            "height": null,
            "min_height": null,
            "padding": null,
            "grid_auto_rows": null,
            "grid_gap": null,
            "max_width": null,
            "order": null,
            "_view_module_version": "1.2.0",
            "grid_template_areas": null,
            "object_position": null,
            "object_fit": null,
            "grid_auto_columns": null,
            "margin": null,
            "display": null,
            "left": null
          }
        }
      }
    }
  },
  "cells": [
    {
      "cell_type": "markdown",
      "metadata": {
        "id": "view-in-github",
        "colab_type": "text"
      },
      "source": [
        "<a href=\"https://colab.research.google.com/github/fahadrafiq94/Machine-Learning/blob/main/07_Mile_stone_project_TO_DO.ipynb\" target=\"_parent\"><img src=\"https://colab.research.google.com/assets/colab-badge.svg\" alt=\"Open In Colab\"/></a>"
      ]
    },
    {
      "cell_type": "code",
      "metadata": {
        "colab": {
          "base_uri": "https://localhost:8080/"
        },
        "id": "qhVN1hNl1CV6",
        "outputId": "37528a7e-0d14-49fd-b055-975c328479ff"
      },
      "source": [
        "!nvidia-smi -L"
      ],
      "execution_count": null,
      "outputs": [
        {
          "output_type": "stream",
          "name": "stdout",
          "text": [
            "GPU 0: Tesla K80 (UUID: GPU-b2557fe0-4530-569c-5b7f-b9718f56872a)\n"
          ]
        }
      ]
    },
    {
      "cell_type": "code",
      "metadata": {
        "colab": {
          "base_uri": "https://localhost:8080/"
        },
        "id": "ekA17MzN1R3B",
        "outputId": "38bda339-d7ba-4e9c-dafc-1990313cb838"
      },
      "source": [
        "!wget https://raw.githubusercontent.com/mrdbourke/tensorflow-deep-learning/main/extras/helper_functions.py"
      ],
      "execution_count": null,
      "outputs": [
        {
          "output_type": "stream",
          "name": "stdout",
          "text": [
            "--2021-09-20 09:02:28--  https://raw.githubusercontent.com/mrdbourke/tensorflow-deep-learning/main/extras/helper_functions.py\n",
            "Resolving raw.githubusercontent.com (raw.githubusercontent.com)... 185.199.108.133, 185.199.109.133, 185.199.110.133, ...\n",
            "Connecting to raw.githubusercontent.com (raw.githubusercontent.com)|185.199.108.133|:443... connected.\n",
            "HTTP request sent, awaiting response... 200 OK\n",
            "Length: 10246 (10K) [text/plain]\n",
            "Saving to: ‘helper_functions.py’\n",
            "\n",
            "\rhelper_functions.py   0%[                    ]       0  --.-KB/s               \rhelper_functions.py 100%[===================>]  10.01K  --.-KB/s    in 0s      \n",
            "\n",
            "2021-09-20 09:02:28 (65.1 MB/s) - ‘helper_functions.py’ saved [10246/10246]\n",
            "\n"
          ]
        }
      ]
    },
    {
      "cell_type": "code",
      "metadata": {
        "id": "I-52qLcl13cS"
      },
      "source": [
        "from helper_functions import create_tensorboard_callback , compare_historys , plot_loss_curves"
      ],
      "execution_count": null,
      "outputs": []
    },
    {
      "cell_type": "code",
      "metadata": {
        "id": "EtHDqCHn2C1v"
      },
      "source": [
        "import tensorflow_datasets as tfds"
      ],
      "execution_count": null,
      "outputs": []
    },
    {
      "cell_type": "code",
      "metadata": {
        "colab": {
          "base_uri": "https://localhost:8080/"
        },
        "id": "crZS4zKD2fTU",
        "outputId": "4114dc90-cb2b-46cc-b2d2-5d2ebe32ccca"
      },
      "source": [
        "datasets_list = tfds.list_builders()\n",
        "print(\"food101\" in datasets_list)"
      ],
      "execution_count": null,
      "outputs": [
        {
          "output_type": "stream",
          "name": "stdout",
          "text": [
            "True\n"
          ]
        }
      ]
    },
    {
      "cell_type": "code",
      "metadata": {
        "colab": {
          "base_uri": "https://localhost:8080/",
          "height": 296,
          "referenced_widgets": [
            "d51083db584a45fd9699f0c9677d97c5",
            "13d3cc7ba4514f99a5ae95b709d7dc8c",
            "a5ccfae62a474cafa588ea711e2f101a",
            "119eaf0c6ac548beba5096a743d0c09a",
            "d0e85600cbce496b9a31fdc6d9c5db29",
            "a4494e78035449d2a9a4a0af072bfa38",
            "c901fc08c54242c39be06637ecdad0ea",
            "62b33b9315ab4ff7b7327f02fb412510",
            "c91c5167ba6a4d2ab932e3bc73ad2066",
            "b15dc6c3efeb4f01937c83840450f651",
            "77ae99d5a9d7419e9e45f6b8cf0d657b",
            "994e0de23e3446188d616b2a89019e18",
            "fd8d55d05f5044d59bad7c298313ad00",
            "c665ef48ab6b4182bbf41280f86b2ece",
            "556c2828a5474da59b314c635803feac",
            "56393f32855246109cd565ad8feb16a8",
            "a6b4ebbbfa44461fb6c1442a4604c4a9",
            "0cf43e6ede194f37a8f475764b0742d2",
            "f6d3e63fdfb544f29a0583b0a5c83586",
            "c0cbc23ae04c482092034ce84af190e8",
            "d2c95fd2a0af49ac827d9e9a2df6d7bd",
            "d3a587298f4d44b0afd6ab1a584beaa2",
            "a9c4198b4e8648e08e49b43b98af942e",
            "84783a74105e4b28867e85e66f3f639e",
            "70191598fe394493855f02ec2fb1c63b",
            "d4f1e89aa43140f6aa6b504220ff15bd",
            "096ca4fd8c2c4de8bf44ea85fedebca5",
            "d00cd9b56aa240b4a4ca45c52cbb4081",
            "c4ef81c063bd42d58a93ad94a42fa92c",
            "8b75a7103d2d4a5081d3c1a21a5c79f4",
            "9c160cb7633b42e0973a47f68f81e25c",
            "cde80dddc62749f48e0c63bb934690db",
            "381538db2e4c4705a3442a5bc8a251e9",
            "b9e1facbcd7e418c9803fde9b7080372",
            "7557e5bbb471450697c83ecd477b51be",
            "356bde72c4744fa9ba533fc973869fb2",
            "7ab021d08d5749f0948853ed888fc98f",
            "80bddedccd0149a59e640920bead302f",
            "bb9ec0fd277040b9b4b04c6aa02939a2",
            "38a97f11d06b44f7bdbf43cf37df50cb",
            "810e3315f02f42c3a697aa8dbcb02f06",
            "f46b2820680d4506ba2c018f98a2d0cb",
            "cedf97cbaad14d4db3c74b6e7d13bf86",
            "716dd20312d94e87a674c26658ff3e79",
            "76c1a70d5a064e7a9c75087f00148362",
            "e7182a68972c4641b6f1913fa2d8301c",
            "8736d00dba254e9980550f18a31d9aa0",
            "dc46f4eb9cda43d7929b53014fbcea17",
            "981545227f854954912dee0fc435f888",
            "dd4d85badc674a1d94ba521124d9440a",
            "6e099c603131477e900c9b126af48b30",
            "876be4aa76db4e1eb3288e009f61c7a1",
            "b676e93e23834543a5b6d851896ce0f5",
            "459fb0ef4994491680fc32d0ddd2fa15",
            "c9b6a84bf09a4deab4a3a5135edfbae4",
            "bb6b4b492af74bd4925f87792e10488a",
            "a6831abd457c4dd6b34d7caf50e4030a",
            "4d50e22aa7624b0f852c109622946a5b",
            "04eea293a3a24854a6ff6dcb78a1a541",
            "698bb81de2c8435ea6916967a058aaff",
            "f0cb87f5501d477f8ea7be98606c28f1",
            "78b4d100595146dcba43fd22b3eeeab0",
            "5ee455d83d874f818a58ba000799f6b7",
            "25a80983439648f2ad2084c9063a43f0",
            "8976d52822bb40fbafaa8064f0eeecbc",
            "832f7b0926e84d5aa242d916ca99d972",
            "d261677b1cba4713892769a89b206ff5",
            "55cba5e214554a8c89ea40a91cafb41a",
            "b01c7a185c824a84a95fe59fdedac7f8",
            "5410d040bad54261a040648f6c10113a",
            "1e31c74c12b14a3d94d5a4dbed7ab5c0",
            "eaaab842ef764c58abe5505e5cbd0de1",
            "da8a83559835446a85221bfcd49b4c34",
            "c1b0afcdc4d34e2b939287d03b132cbf",
            "2cc7f7f198f64ed3874f675dc212e0d0",
            "6c01a16616ce42f4be26a01b4281bdc5",
            "d995dc0bc2f74f59805543e33b48365d"
          ]
        },
        "id": "l2HQO-N03uOV",
        "outputId": "273c7c71-992b-4d99-e939-7ae4d6cc30ba"
      },
      "source": [
        "(train_data , test_data)  ,ds_info = tfds.load(\"food101\",\n",
        "                                               split =[\"train\" , \"validation\"],\n",
        "                                               shuffle_files =True,\n",
        "                                               as_supervised =True,\n",
        "                                               with_info =True)"
      ],
      "execution_count": null,
      "outputs": [
        {
          "output_type": "stream",
          "name": "stdout",
          "text": [
            "\u001b[1mDownloading and preparing dataset food101/2.0.0 (download: 4.65 GiB, generated: Unknown size, total: 4.65 GiB) to /root/tensorflow_datasets/food101/2.0.0...\u001b[0m\n"
          ]
        },
        {
          "output_type": "display_data",
          "data": {
            "application/vnd.jupyter.widget-view+json": {
              "model_id": "d51083db584a45fd9699f0c9677d97c5",
              "version_minor": 0,
              "version_major": 2
            },
            "text/plain": [
              "Dl Completed...: 0 url [00:00, ? url/s]"
            ]
          },
          "metadata": {}
        },
        {
          "output_type": "display_data",
          "data": {
            "application/vnd.jupyter.widget-view+json": {
              "model_id": "994e0de23e3446188d616b2a89019e18",
              "version_minor": 0,
              "version_major": 2
            },
            "text/plain": [
              "Dl Size...: 0 MiB [00:00, ? MiB/s]"
            ]
          },
          "metadata": {}
        },
        {
          "output_type": "display_data",
          "data": {
            "application/vnd.jupyter.widget-view+json": {
              "model_id": "a9c4198b4e8648e08e49b43b98af942e",
              "version_minor": 0,
              "version_major": 2
            },
            "text/plain": [
              "Extraction completed...: 0 file [00:00, ? file/s]"
            ]
          },
          "metadata": {}
        },
        {
          "output_type": "stream",
          "name": "stdout",
          "text": [
            "\n",
            "\n",
            "\n"
          ]
        },
        {
          "output_type": "display_data",
          "data": {
            "application/vnd.jupyter.widget-view+json": {
              "model_id": "b9e1facbcd7e418c9803fde9b7080372",
              "version_minor": 0,
              "version_major": 2
            },
            "text/plain": [
              "0 examples [00:00, ? examples/s]"
            ]
          },
          "metadata": {}
        },
        {
          "output_type": "stream",
          "name": "stdout",
          "text": [
            "Shuffling and writing examples to /root/tensorflow_datasets/food101/2.0.0.incompleteFXHWED/food101-train.tfrecord\n"
          ]
        },
        {
          "output_type": "display_data",
          "data": {
            "application/vnd.jupyter.widget-view+json": {
              "model_id": "76c1a70d5a064e7a9c75087f00148362",
              "version_minor": 0,
              "version_major": 2
            },
            "text/plain": [
              "  0%|          | 0/75750 [00:00<?, ? examples/s]"
            ]
          },
          "metadata": {}
        },
        {
          "output_type": "display_data",
          "data": {
            "application/vnd.jupyter.widget-view+json": {
              "model_id": "bb6b4b492af74bd4925f87792e10488a",
              "version_minor": 0,
              "version_major": 2
            },
            "text/plain": [
              "0 examples [00:00, ? examples/s]"
            ]
          },
          "metadata": {}
        },
        {
          "output_type": "stream",
          "name": "stdout",
          "text": [
            "Shuffling and writing examples to /root/tensorflow_datasets/food101/2.0.0.incompleteFXHWED/food101-validation.tfrecord\n"
          ]
        },
        {
          "output_type": "display_data",
          "data": {
            "application/vnd.jupyter.widget-view+json": {
              "model_id": "d261677b1cba4713892769a89b206ff5",
              "version_minor": 0,
              "version_major": 2
            },
            "text/plain": [
              "  0%|          | 0/25250 [00:00<?, ? examples/s]"
            ]
          },
          "metadata": {}
        },
        {
          "output_type": "stream",
          "name": "stdout",
          "text": [
            "\u001b[1mDataset food101 downloaded and prepared to /root/tensorflow_datasets/food101/2.0.0. Subsequent calls will reuse this data.\u001b[0m\n"
          ]
        }
      ]
    },
    {
      "cell_type": "code",
      "metadata": {
        "colab": {
          "base_uri": "https://localhost:8080/"
        },
        "id": "plRJq5VN4RRk",
        "outputId": "88713233-32ba-42ee-8433-1e1e5afde948"
      },
      "source": [
        "ds_info.features"
      ],
      "execution_count": null,
      "outputs": [
        {
          "output_type": "execute_result",
          "data": {
            "text/plain": [
              "FeaturesDict({\n",
              "    'image': Image(shape=(None, None, 3), dtype=tf.uint8),\n",
              "    'label': ClassLabel(shape=(), dtype=tf.int64, num_classes=101),\n",
              "})"
            ]
          },
          "metadata": {},
          "execution_count": 7
        }
      ]
    },
    {
      "cell_type": "code",
      "metadata": {
        "colab": {
          "base_uri": "https://localhost:8080/"
        },
        "id": "I_iCXCWZ6vI2",
        "outputId": "864a5188-f147-4dcb-85dd-4cd952c1bc67"
      },
      "source": [
        "class_names = ds_info.features[\"label\"].names\n",
        "class_names[:10]"
      ],
      "execution_count": null,
      "outputs": [
        {
          "output_type": "execute_result",
          "data": {
            "text/plain": [
              "['apple_pie',\n",
              " 'baby_back_ribs',\n",
              " 'baklava',\n",
              " 'beef_carpaccio',\n",
              " 'beef_tartare',\n",
              " 'beet_salad',\n",
              " 'beignets',\n",
              " 'bibimbap',\n",
              " 'bread_pudding',\n",
              " 'breakfast_burrito']"
            ]
          },
          "metadata": {},
          "execution_count": 8
        }
      ]
    },
    {
      "cell_type": "code",
      "metadata": {
        "id": "vzuCASGr61xQ"
      },
      "source": [
        "one_train_data = train_data.take(1)"
      ],
      "execution_count": null,
      "outputs": []
    },
    {
      "cell_type": "code",
      "metadata": {
        "colab": {
          "base_uri": "https://localhost:8080/"
        },
        "id": "ohOwATFj7JeZ",
        "outputId": "f2b3ef62-caa8-4e22-c9b6-858f6b9e9906"
      },
      "source": [
        "one_train_data"
      ],
      "execution_count": null,
      "outputs": [
        {
          "output_type": "execute_result",
          "data": {
            "text/plain": [
              "<TakeDataset shapes: ((None, None, 3), ()), types: (tf.uint8, tf.int64)>"
            ]
          },
          "metadata": {},
          "execution_count": 15
        }
      ]
    },
    {
      "cell_type": "code",
      "metadata": {
        "colab": {
          "base_uri": "https://localhost:8080/"
        },
        "id": "WyLqCx9I7KxL",
        "outputId": "170cca47-0204-49dc-a536-13e2b90bf4d1"
      },
      "source": [
        "for image , label in one_train_data:\n",
        "  print(f\"\"\"\n",
        "  image_shape : {image.shape}\n",
        "  image_dtype : {image.dtype}\n",
        "  target_class :{label}\n",
        "  class_name : {class_names[label.numpy()]}\n",
        "  \"\"\")"
      ],
      "execution_count": null,
      "outputs": [
        {
          "output_type": "stream",
          "name": "stdout",
          "text": [
            "\n",
            "  image_shape : (512, 512, 3)\n",
            "  image_dtype : <dtype: 'uint8'>\n",
            "  target_class :23\n",
            "  class_name : churros\n",
            "  \n"
          ]
        }
      ]
    },
    {
      "cell_type": "code",
      "metadata": {
        "id": "LLHfVxfC8H-Y"
      },
      "source": [
        "import tensorflow as tf"
      ],
      "execution_count": null,
      "outputs": []
    },
    {
      "cell_type": "code",
      "metadata": {
        "id": "_2Bcv1mu7hwQ"
      },
      "source": [
        "def preprocess_img(image , label  ,  img_shape=224):\n",
        "  image  = tf.image.resize(image , [img_shape , img_shape])\n",
        "  return tf.cast(image ,dtype=tf.float32) , label"
      ],
      "execution_count": null,
      "outputs": []
    },
    {
      "cell_type": "code",
      "metadata": {
        "colab": {
          "base_uri": "https://localhost:8080/"
        },
        "id": "I9OW6OO08U-T",
        "outputId": "4afae02a-bb03-4ec2-eb7c-f308d8c1d5c2"
      },
      "source": [
        "preprocessed_img = preprocess_img(image , label )[0]\n",
        "preprocessed_img"
      ],
      "execution_count": null,
      "outputs": [
        {
          "output_type": "execute_result",
          "data": {
            "text/plain": [
              "<tf.Tensor: shape=(224, 224, 3), dtype=float32, numpy=\n",
              "array([[[ 93.      ,  34.      ,  40.      ],\n",
              "        [ 94.      ,  35.      ,  41.      ],\n",
              "        [ 95.      ,  36.      ,  42.      ],\n",
              "        ...,\n",
              "        [ 55.      ,  15.      ,  24.      ],\n",
              "        [ 52.      ,  15.      ,  23.      ],\n",
              "        [ 52.      ,  15.      ,  23.      ]],\n",
              "\n",
              "       [[ 93.92857 ,  34.928574,  40.928574],\n",
              "        [ 93.07143 ,  34.071426,  40.071426],\n",
              "        [ 94.      ,  35.      ,  41.      ],\n",
              "        ...,\n",
              "        [ 55.      ,  15.      ,  24.      ],\n",
              "        [ 54.      ,  14.      ,  23.      ],\n",
              "        [ 52.      ,  15.      ,  23.      ]],\n",
              "\n",
              "       [[ 93.928566,  35.357143,  41.57143 ],\n",
              "        [ 91.64285 ,  33.071426,  39.285713],\n",
              "        [ 91.78571 ,  33.214287,  39.428574],\n",
              "        ...,\n",
              "        [ 54.      ,  14.      ,  23.      ],\n",
              "        [ 55.      ,  15.      ,  24.      ],\n",
              "        [ 55.      ,  15.      ,  24.      ]],\n",
              "\n",
              "       ...,\n",
              "\n",
              "       [[108.01023 ,  31.010233,  49.01023 ],\n",
              "        [108.627594,  31.627594,  49.627594],\n",
              "        [104.85708 ,  27.857079,  45.85708 ],\n",
              "        ...,\n",
              "        [123.02541 ,  39.64279 ,  57.71933 ],\n",
              "        [118.52543 ,  35.52543 ,  53.52543 ],\n",
              "        [117.06638 ,  34.066383,  52.066383]],\n",
              "\n",
              "       [[107.31121 ,  30.311216,  48.31122 ],\n",
              "        [107.85203 ,  30.852028,  48.852028],\n",
              "        [108.71431 ,  31.714312,  49.71431 ],\n",
              "        ...,\n",
              "        [124.07132 ,  40.64279 ,  58.857056],\n",
              "        [120.07144 ,  37.07144 ,  55.07144 ],\n",
              "        [122.35718 ,  39.357178,  59.357178]],\n",
              "\n",
              "       [[107.10205 ,  30.10205 ,  48.10205 ],\n",
              "        [107.38269 ,  30.38269 ,  48.38269 ],\n",
              "        [109.65301 ,  32.653008,  50.653008],\n",
              "        ...,\n",
              "        [122.20905 ,  38.780525,  56.99479 ],\n",
              "        [120.122475,  37.122475,  57.122475],\n",
              "        [123.35718 ,  40.357178,  60.357178]]], dtype=float32)>"
            ]
          },
          "metadata": {},
          "execution_count": 19
        }
      ]
    },
    {
      "cell_type": "code",
      "metadata": {
        "id": "gl8L-3vz8eEF"
      },
      "source": [
        "train_data = train_data.map(map_func=preprocess_img , num_parallel_calls=tf.data.AUTOTUNE)\n",
        "train_data = train_data.shuffle(buffer_size=1000).batch(batch_size=32).prefetch(buffer_size=tf.data.AUTOTUNE)\n",
        "\n",
        "test_data = test_data.map(map_func=preprocess_img , num_parallel_calls=tf.data.AUTOTUNE)\n",
        "test_data = test_data.batch(batch_size=32).prefetch(buffer_size=tf.data.AUTOTUNE)"
      ],
      "execution_count": null,
      "outputs": []
    },
    {
      "cell_type": "code",
      "metadata": {
        "colab": {
          "base_uri": "https://localhost:8080/"
        },
        "id": "Q31LZ4839mcR",
        "outputId": "1405a147-fecb-4eb7-e373-cc626f9660b1"
      },
      "source": [
        "train_data , test_data"
      ],
      "execution_count": null,
      "outputs": [
        {
          "output_type": "execute_result",
          "data": {
            "text/plain": [
              "(<PrefetchDataset shapes: ((None, 224, 224, 3), (None,)), types: (tf.float32, tf.int64)>,\n",
              " <PrefetchDataset shapes: ((None, 224, 224, 3), (None,)), types: (tf.float32, tf.int64)>)"
            ]
          },
          "metadata": {},
          "execution_count": 21
        }
      ]
    },
    {
      "cell_type": "code",
      "metadata": {
        "id": "BxgtGzI69tjX"
      },
      "source": [
        "checkpoint_path = \"checkpoint_path/ck.ckpt\"\n",
        "model_checkpoint = tf.keras.callbacks.ModelCheckpoint(checkpoint_path,\n",
        "                                                      monitor=\"val_accuracy\",\n",
        "                                                      save_best_only=True,\n",
        "                                                      save_weights_only=True,\n",
        "                                                      verbose=0)"
      ],
      "execution_count": null,
      "outputs": []
    },
    {
      "cell_type": "code",
      "metadata": {
        "colab": {
          "base_uri": "https://localhost:8080/"
        },
        "id": "bDpObT6D_b3S",
        "outputId": "165aed3f-aaeb-4061-cce3-6dbb91de9856"
      },
      "source": [
        "from tensorflow.keras import mixed_precision\n",
        "mixed_precision.set_global_policy(policy=\"mixed_float16\")"
      ],
      "execution_count": null,
      "outputs": [
        {
          "name": "stdout",
          "output_type": "stream",
          "text": [
            "WARNING:tensorflow:Mixed precision compatibility check (mixed_float16): WARNING\n",
            "Your GPU may run slowly with dtype policy mixed_float16 because it does not have compute capability of at least 7.0. Your GPU:\n",
            "  Tesla K80, compute capability 3.7\n",
            "See https://developer.nvidia.com/cuda-gpus for a list of GPUs and their compute capabilities.\n",
            "If you will use compatible GPU(s) not attached to this host, e.g. by running a multi-worker model, you can ignore this warning. This message will only be logged once\n"
          ]
        },
        {
          "name": "stderr",
          "output_type": "stream",
          "text": [
            "WARNING:tensorflow:Mixed precision compatibility check (mixed_float16): WARNING\n",
            "Your GPU may run slowly with dtype policy mixed_float16 because it does not have compute capability of at least 7.0. Your GPU:\n",
            "  Tesla K80, compute capability 3.7\n",
            "See https://developer.nvidia.com/cuda-gpus for a list of GPUs and their compute capabilities.\n",
            "If you will use compatible GPU(s) not attached to this host, e.g. by running a multi-worker model, you can ignore this warning. This message will only be logged once\n"
          ]
        }
      ]
    },
    {
      "cell_type": "code",
      "metadata": {
        "colab": {
          "base_uri": "https://localhost:8080/"
        },
        "id": "LVh12FFS_rzg",
        "outputId": "7eec7d9d-4046-4168-d254-7a1be6bac8d4"
      },
      "source": [
        "mixed_precision.global_policy()"
      ],
      "execution_count": null,
      "outputs": [
        {
          "data": {
            "text/plain": [
              "<Policy \"mixed_float16\">"
            ]
          },
          "execution_count": 19,
          "metadata": {},
          "output_type": "execute_result"
        }
      ]
    },
    {
      "cell_type": "code",
      "metadata": {
        "colab": {
          "base_uri": "https://localhost:8080/"
        },
        "id": "JzUuxUmg_umq",
        "outputId": "f5b33a7f-1ab1-4850-b872-88831165d2c6"
      },
      "source": [
        "from tensorflow.keras import layers\n",
        "from tensorflow.keras.layers.experimental import preprocessing\n",
        "\n",
        "image_shape =(224,224,3)\n",
        "base_model = tf.keras.applications.EfficientNetB0(include_top=False)\n",
        "base_model.trainable =False\n",
        "\n",
        "inputs = layers.Input(shape=image_shape , name =\"input_layer\")\n",
        "x = base_model(inputs , training= False)\n",
        "x = layers.GlobalAveragePooling2D(name=\"globalaverage_pooling2D\")(x)\n",
        "x = layers.Dense(len(class_names))(x)\n",
        "outputs = layers.Activation(\"softmax\" , dtype=tf.float32, name=\"output_layer\")(x)\n",
        "\n",
        "model = tf.keras.Model(inputs , outputs)"
      ],
      "execution_count": null,
      "outputs": [
        {
          "name": "stdout",
          "output_type": "stream",
          "text": [
            "Downloading data from https://storage.googleapis.com/keras-applications/efficientnetb0_notop.h5\n",
            "16711680/16705208 [==============================] - 0s 0us/step\n",
            "16719872/16705208 [==============================] - 0s 0us/step\n"
          ]
        }
      ]
    },
    {
      "cell_type": "code",
      "metadata": {
        "id": "vtYiClz-BWMF"
      },
      "source": [
        "model.compile(loss=\"sparse_categorical_crossentropy\",\n",
        "              optimizer =tf.keras.optimizers.Adam(),\n",
        "              metrics=[\"accuracy\"])"
      ],
      "execution_count": null,
      "outputs": []
    },
    {
      "cell_type": "code",
      "metadata": {
        "colab": {
          "base_uri": "https://localhost:8080/"
        },
        "id": "c1VjgigPBrmg",
        "outputId": "8789f745-0f34-4243-d115-143295382054"
      },
      "source": [
        "model.summary()"
      ],
      "execution_count": null,
      "outputs": [
        {
          "name": "stdout",
          "output_type": "stream",
          "text": [
            "Model: \"model\"\n",
            "_________________________________________________________________\n",
            "Layer (type)                 Output Shape              Param #   \n",
            "=================================================================\n",
            "input_layer (InputLayer)     [(None, 224, 224, 3)]     0         \n",
            "_________________________________________________________________\n",
            "efficientnetb0 (Functional)  (None, None, None, 1280)  4049571   \n",
            "_________________________________________________________________\n",
            "globalaverage_pooling2D (Glo (None, 1280)              0         \n",
            "_________________________________________________________________\n",
            "dense (Dense)                (None, 101)               129381    \n",
            "_________________________________________________________________\n",
            "output_layer (Activation)    (None, 101)               0         \n",
            "=================================================================\n",
            "Total params: 4,178,952\n",
            "Trainable params: 129,381\n",
            "Non-trainable params: 4,049,571\n",
            "_________________________________________________________________\n"
          ]
        }
      ]
    },
    {
      "cell_type": "code",
      "metadata": {
        "colab": {
          "base_uri": "https://localhost:8080/"
        },
        "id": "cEA6ZmlCBtWf",
        "outputId": "92290916-d293-4b9b-d6cf-d5ad24ae05da"
      },
      "source": [
        "for layer in model.layers:\n",
        "  print(layer.name ,  layer.dtype , layer.trainable)"
      ],
      "execution_count": null,
      "outputs": [
        {
          "name": "stdout",
          "output_type": "stream",
          "text": [
            "input_layer float32 True\n",
            "efficientnetb0 float32 False\n",
            "globalaverage_pooling2D float32 True\n",
            "dense float32 True\n",
            "output_layer float32 True\n"
          ]
        }
      ]
    },
    {
      "cell_type": "code",
      "metadata": {
        "colab": {
          "base_uri": "https://localhost:8080/"
        },
        "id": "yD3VJxaRB87f",
        "outputId": "3e3d7f29-72e5-4a30-bdd4-1273d36eb323"
      },
      "source": [
        "for layer in model.layers[1].layers[:10]:\n",
        "  print(layer.name ,  layer.dtype , layer.trainable , layer.dtype_policy)"
      ],
      "execution_count": null,
      "outputs": [
        {
          "name": "stdout",
          "output_type": "stream",
          "text": [
            "input_1 float32 False <Policy \"float32\">\n",
            "rescaling float32 False <Policy \"mixed_float16\">\n",
            "normalization float32 False <Policy \"mixed_float16\">\n",
            "stem_conv_pad float32 False <Policy \"mixed_float16\">\n",
            "stem_conv float32 False <Policy \"mixed_float16\">\n",
            "stem_bn float32 False <Policy \"mixed_float16\">\n",
            "stem_activation float32 False <Policy \"mixed_float16\">\n",
            "block1a_dwconv float32 False <Policy \"mixed_float16\">\n",
            "block1a_bn float32 False <Policy \"mixed_float16\">\n",
            "block1a_activation float32 False <Policy \"mixed_float16\">\n"
          ]
        }
      ]
    },
    {
      "cell_type": "markdown",
      "metadata": {
        "id": "4_3miIp3C0Px"
      },
      "source": [
        "### TO DO from here.\n"
      ]
    },
    {
      "cell_type": "markdown",
      "metadata": {
        "id": "tEOnr1vMC6or"
      },
      "source": [
        "#fit the feature extraction model for 3 epochs on 15% of validation data"
      ]
    },
    {
      "cell_type": "code",
      "metadata": {
        "colab": {
          "base_uri": "https://localhost:8080/"
        },
        "id": "rfjqO-HYCHSY",
        "outputId": "9a77aa04-e8db-4c2e-ad64-6fa606bd0460"
      },
      "source": [
        "history_model_feature_extraction = model.fit(train_data,\n",
        "                                             epochs=3,\n",
        "                                             steps_per_epoch=len(train_data),\n",
        "                                             validation_data=test_data,\n",
        "                                             validation_steps=int(0.15*len(test_data)),\n",
        "                                             callbacks=[create_tensorboard_callback(\"tensorboard\" ,\n",
        "                                                                                    \"EfficientNetb0_fetaure_extraction\"),\n",
        "                                                        model_checkpoint])"
      ],
      "execution_count": null,
      "outputs": [
        {
          "name": "stdout",
          "output_type": "stream",
          "text": [
            "Saving TensorBoard log files to: tensorboard/EfficientNetb0_fetaure_extraction/20210905-025941\n",
            "Epoch 1/3\n"
          ]
        },
        {
          "name": "stderr",
          "output_type": "stream",
          "text": [
            "/usr/local/lib/python3.7/dist-packages/keras/utils/generic_utils.py:497: CustomMaskWarning: Custom mask layers require a config and must override get_config. When loading, the custom mask layer must be passed to the custom_objects argument.\n",
            "  category=CustomMaskWarning)\n"
          ]
        },
        {
          "name": "stdout",
          "output_type": "stream",
          "text": [
            "2368/2368 [==============================] - 317s 115ms/step - loss: 1.8198 - accuracy: 0.5573 - val_loss: 1.2225 - val_accuracy: 0.6790\n",
            "Epoch 2/3\n",
            "2368/2368 [==============================] - 254s 106ms/step - loss: 1.2934 - accuracy: 0.6659 - val_loss: 1.1219 - val_accuracy: 0.6978\n",
            "Epoch 3/3\n",
            "2368/2368 [==============================] - 253s 106ms/step - loss: 1.1436 - accuracy: 0.7012 - val_loss: 1.0870 - val_accuracy: 0.7013\n"
          ]
        }
      ]
    },
    {
      "cell_type": "code",
      "metadata": {
        "colab": {
          "base_uri": "https://localhost:8080/"
        },
        "id": "ZurANvH8IM4M",
        "outputId": "b29ec4de-b47e-493c-975f-8a4a2616e93e"
      },
      "source": [
        "results_model_feature_extraction = model.evaluate(test_data)"
      ],
      "execution_count": null,
      "outputs": [
        {
          "name": "stdout",
          "output_type": "stream",
          "text": [
            "790/790 [==============================] - 84s 107ms/step - loss: 1.0865 - accuracy: 0.7055\n"
          ]
        }
      ]
    },
    {
      "cell_type": "code",
      "metadata": {
        "colab": {
          "base_uri": "https://localhost:8080/"
        },
        "id": "MxpKp92JDxqB",
        "outputId": "8615205d-cd23-4aee-f0f1-ae7e6dbd4832"
      },
      "source": [
        "model.save(\"/content/drive/MyDrive/model_feature_extraction\")"
      ],
      "execution_count": null,
      "outputs": [
        {
          "name": "stdout",
          "output_type": "stream",
          "text": [
            "INFO:tensorflow:Assets written to: /content/drive/MyDrive/model_feature_extraction/assets\n"
          ]
        },
        {
          "name": "stderr",
          "output_type": "stream",
          "text": [
            "INFO:tensorflow:Assets written to: /content/drive/MyDrive/model_feature_extraction/assets\n",
            "/usr/local/lib/python3.7/dist-packages/keras/utils/generic_utils.py:497: CustomMaskWarning: Custom mask layers require a config and must override get_config. When loading, the custom mask layer must be passed to the custom_objects argument.\n",
            "  category=CustomMaskWarning)\n"
          ]
        }
      ]
    },
    {
      "cell_type": "code",
      "metadata": {
        "colab": {
          "base_uri": "https://localhost:8080/"
        },
        "id": "BycAdoO5H3xS",
        "outputId": "358a8c28-52fc-4409-8c82-aa5857488714"
      },
      "source": [
        "loaded_model = tf.keras.models.load_model(\"/content/drive/MyDrive/model_feature_extraction\")"
      ],
      "execution_count": null,
      "outputs": [
        {
          "name": "stderr",
          "output_type": "stream",
          "text": [
            "WARNING:absl:Importing a function (__inference_block4c_se_reduce_layer_call_and_return_conditional_losses_47720) with ops with unsaved custom gradients. Will likely fail if a gradient is requested.\n",
            "WARNING:absl:Importing a function (__inference_block6d_activation_layer_call_and_return_conditional_losses_86637) with ops with unsaved custom gradients. Will likely fail if a gradient is requested.\n",
            "WARNING:absl:Importing a function (__inference_block4b_se_reduce_layer_call_and_return_conditional_losses_47553) with ops with unsaved custom gradients. Will likely fail if a gradient is requested.\n",
            "WARNING:absl:Importing a function (__inference_block2a_activation_layer_call_and_return_conditional_losses_46706) with ops with unsaved custom gradients. Will likely fail if a gradient is requested.\n",
            "WARNING:absl:Importing a function (__inference_block2b_expand_activation_layer_call_and_return_conditional_losses_46834) with ops with unsaved custom gradients. Will likely fail if a gradient is requested.\n",
            "WARNING:absl:Importing a function (__inference_block2a_activation_layer_call_and_return_conditional_losses_81450) with ops with unsaved custom gradients. Will likely fail if a gradient is requested.\n",
            "WARNING:absl:Importing a function (__inference_block2b_expand_activation_layer_call_and_return_conditional_losses_81721) with ops with unsaved custom gradients. Will likely fail if a gradient is requested.\n",
            "WARNING:absl:Importing a function (__inference_block6b_activation_layer_call_and_return_conditional_losses_85813) with ops with unsaved custom gradients. Will likely fail if a gradient is requested.\n",
            "WARNING:absl:Importing a function (__inference_stem_activation_layer_call_and_return_conditional_losses_46523) with ops with unsaved custom gradients. Will likely fail if a gradient is requested.\n",
            "WARNING:absl:Importing a function (__inference_block3b_activation_layer_call_and_return_conditional_losses_47184) with ops with unsaved custom gradients. Will likely fail if a gradient is requested.\n",
            "WARNING:absl:Importing a function (__inference_block1a_se_reduce_layer_call_and_return_conditional_losses_46590) with ops with unsaved custom gradients. Will likely fail if a gradient is requested.\n",
            "WARNING:absl:Importing a function (__inference_block5a_activation_layer_call_and_return_conditional_losses_84237) with ops with unsaved custom gradients. Will likely fail if a gradient is requested.\n",
            "WARNING:absl:Importing a function (__inference_block4c_expand_activation_layer_call_and_return_conditional_losses_47653) with ops with unsaved custom gradients. Will likely fail if a gradient is requested.\n",
            "WARNING:absl:Importing a function (__inference_block2a_expand_activation_layer_call_and_return_conditional_losses_46675) with ops with unsaved custom gradients. Will likely fail if a gradient is requested.\n",
            "WARNING:absl:Importing a function (__inference__wrapped_model_39202) with ops with unsaved custom gradients. Will likely fail if a gradient is requested.\n",
            "WARNING:absl:Importing a function (__inference_block6d_se_reduce_layer_call_and_return_conditional_losses_86705) with ops with unsaved custom gradients. Will likely fail if a gradient is requested.\n",
            "WARNING:absl:Importing a function (__inference_block5b_activation_layer_call_and_return_conditional_losses_47996) with ops with unsaved custom gradients. Will likely fail if a gradient is requested.\n",
            "WARNING:absl:Importing a function (__inference_block6d_expand_activation_layer_call_and_return_conditional_losses_48799) with ops with unsaved custom gradients. Will likely fail if a gradient is requested.\n",
            "WARNING:absl:Importing a function (__inference_block3a_activation_layer_call_and_return_conditional_losses_47032) with ops with unsaved custom gradients. Will likely fail if a gradient is requested.\n",
            "WARNING:absl:Importing a function (__inference_block5c_activation_layer_call_and_return_conditional_losses_85014) with ops with unsaved custom gradients. Will likely fail if a gradient is requested.\n",
            "WARNING:absl:Importing a function (__inference_block7a_se_reduce_layer_call_and_return_conditional_losses_87117) with ops with unsaved custom gradients. Will likely fail if a gradient is requested.\n",
            "WARNING:absl:Importing a function (__inference_block4b_expand_activation_layer_call_and_return_conditional_losses_83319) with ops with unsaved custom gradients. Will likely fail if a gradient is requested.\n",
            "WARNING:absl:Importing a function (__inference_block5a_activation_layer_call_and_return_conditional_losses_47844) with ops with unsaved custom gradients. Will likely fail if a gradient is requested.\n",
            "WARNING:absl:Importing a function (__inference_block2a_se_reduce_layer_call_and_return_conditional_losses_46749) with ops with unsaved custom gradients. Will likely fail if a gradient is requested.\n",
            "WARNING:absl:Importing a function (__inference_block5c_se_reduce_layer_call_and_return_conditional_losses_85082) with ops with unsaved custom gradients. Will likely fail if a gradient is requested.\n",
            "WARNING:absl:Importing a function (__inference_block6a_activation_layer_call_and_return_conditional_losses_48337) with ops with unsaved custom gradients. Will likely fail if a gradient is requested.\n",
            "WARNING:absl:Importing a function (__inference_block7a_activation_layer_call_and_return_conditional_losses_48990) with ops with unsaved custom gradients. Will likely fail if a gradient is requested.\n",
            "WARNING:absl:Importing a function (__inference_block6a_se_reduce_layer_call_and_return_conditional_losses_48380) with ops with unsaved custom gradients. Will likely fail if a gradient is requested.\n",
            "WARNING:absl:Importing a function (__inference_block6c_se_reduce_layer_call_and_return_conditional_losses_48699) with ops with unsaved custom gradients. Will likely fail if a gradient is requested.\n",
            "WARNING:absl:Importing a function (__inference_block2a_se_reduce_layer_call_and_return_conditional_losses_81518) with ops with unsaved custom gradients. Will likely fail if a gradient is requested.\n",
            "WARNING:absl:Importing a function (__inference_block5b_expand_activation_layer_call_and_return_conditional_losses_47972) with ops with unsaved custom gradients. Will likely fail if a gradient is requested.\n",
            "WARNING:absl:Importing a function (__inference_block7a_activation_layer_call_and_return_conditional_losses_87049) with ops with unsaved custom gradients. Will likely fail if a gradient is requested.\n",
            "WARNING:absl:Importing a function (__inference_block4a_activation_layer_call_and_return_conditional_losses_83048) with ops with unsaved custom gradients. Will likely fail if a gradient is requested.\n",
            "WARNING:absl:Importing a function (__inference_block4b_expand_activation_layer_call_and_return_conditional_losses_47486) with ops with unsaved custom gradients. Will likely fail if a gradient is requested.\n",
            "WARNING:absl:Importing a function (__inference_block5a_se_reduce_layer_call_and_return_conditional_losses_84305) with ops with unsaved custom gradients. Will likely fail if a gradient is requested.\n",
            "WARNING:absl:Importing a function (__inference_block4c_activation_layer_call_and_return_conditional_losses_47677) with ops with unsaved custom gradients. Will likely fail if a gradient is requested.\n",
            "WARNING:absl:Importing a function (__inference_block7a_se_reduce_layer_call_and_return_conditional_losses_49033) with ops with unsaved custom gradients. Will likely fail if a gradient is requested.\n",
            "WARNING:absl:Importing a function (__inference_block3a_activation_layer_call_and_return_conditional_losses_82249) with ops with unsaved custom gradients. Will likely fail if a gradient is requested.\n",
            "WARNING:absl:Importing a function (__inference_block5b_se_reduce_layer_call_and_return_conditional_losses_84670) with ops with unsaved custom gradients. Will likely fail if a gradient is requested.\n",
            "WARNING:absl:Importing a function (__inference_block5c_expand_activation_layer_call_and_return_conditional_losses_84920) with ops with unsaved custom gradients. Will likely fail if a gradient is requested.\n",
            "WARNING:absl:Importing a function (__inference_efficientnetb0_layer_call_and_return_conditional_losses_57437) with ops with unsaved custom gradients. Will likely fail if a gradient is requested.\n",
            "WARNING:absl:Importing a function (__inference_block6c_activation_layer_call_and_return_conditional_losses_48656) with ops with unsaved custom gradients. Will likely fail if a gradient is requested.\n",
            "WARNING:absl:Importing a function (__inference_block3b_expand_activation_layer_call_and_return_conditional_losses_47160) with ops with unsaved custom gradients. Will likely fail if a gradient is requested.\n",
            "WARNING:absl:Importing a function (__inference_block4a_expand_activation_layer_call_and_return_conditional_losses_82932) with ops with unsaved custom gradients. Will likely fail if a gradient is requested.\n",
            "WARNING:absl:Importing a function (__inference_efficientnetb0_layer_call_and_return_conditional_losses_78916) with ops with unsaved custom gradients. Will likely fail if a gradient is requested.\n",
            "WARNING:absl:Importing a function (__inference_block7a_expand_activation_layer_call_and_return_conditional_losses_86955) with ops with unsaved custom gradients. Will likely fail if a gradient is requested.\n",
            "WARNING:absl:Importing a function (__inference_block4a_se_reduce_layer_call_and_return_conditional_losses_47401) with ops with unsaved custom gradients. Will likely fail if a gradient is requested.\n",
            "WARNING:absl:Importing a function (__inference_block4c_se_reduce_layer_call_and_return_conditional_losses_83893) with ops with unsaved custom gradients. Will likely fail if a gradient is requested.\n",
            "WARNING:absl:Importing a function (__inference_block4a_se_reduce_layer_call_and_return_conditional_losses_83116) with ops with unsaved custom gradients. Will likely fail if a gradient is requested.\n",
            "WARNING:absl:Importing a function (__inference_block3b_se_reduce_layer_call_and_return_conditional_losses_82682) with ops with unsaved custom gradients. Will likely fail if a gradient is requested.\n",
            "WARNING:absl:Importing a function (__inference_block5b_expand_activation_layer_call_and_return_conditional_losses_84508) with ops with unsaved custom gradients. Will likely fail if a gradient is requested.\n",
            "WARNING:absl:Importing a function (__inference_block6d_se_reduce_layer_call_and_return_conditional_losses_48866) with ops with unsaved custom gradients. Will likely fail if a gradient is requested.\n",
            "WARNING:absl:Importing a function (__inference_block1a_activation_layer_call_and_return_conditional_losses_81063) with ops with unsaved custom gradients. Will likely fail if a gradient is requested.\n",
            "WARNING:absl:Importing a function (__inference_block6c_expand_activation_layer_call_and_return_conditional_losses_48632) with ops with unsaved custom gradients. Will likely fail if a gradient is requested.\n",
            "WARNING:absl:Importing a function (__inference_block6a_expand_activation_layer_call_and_return_conditional_losses_85332) with ops with unsaved custom gradients. Will likely fail if a gradient is requested.\n",
            "WARNING:absl:Importing a function (__inference_block3a_expand_activation_layer_call_and_return_conditional_losses_47001) with ops with unsaved custom gradients. Will likely fail if a gradient is requested.\n",
            "WARNING:absl:Importing a function (__inference_block4a_expand_activation_layer_call_and_return_conditional_losses_47327) with ops with unsaved custom gradients. Will likely fail if a gradient is requested.\n",
            "WARNING:absl:Importing a function (__inference_block6b_se_reduce_layer_call_and_return_conditional_losses_85881) with ops with unsaved custom gradients. Will likely fail if a gradient is requested.\n",
            "WARNING:absl:Importing a function (__inference_efficientnetb0_layer_call_and_return_conditional_losses_77180) with ops with unsaved custom gradients. Will likely fail if a gradient is requested.\n",
            "WARNING:absl:Importing a function (__inference_block2a_expand_activation_layer_call_and_return_conditional_losses_81334) with ops with unsaved custom gradients. Will likely fail if a gradient is requested.\n",
            "WARNING:absl:Importing a function (__inference_block6c_activation_layer_call_and_return_conditional_losses_86225) with ops with unsaved custom gradients. Will likely fail if a gradient is requested.\n",
            "WARNING:absl:Importing a function (__inference_top_activation_layer_call_and_return_conditional_losses_49118) with ops with unsaved custom gradients. Will likely fail if a gradient is requested.\n",
            "WARNING:absl:Importing a function (__inference_block3b_activation_layer_call_and_return_conditional_losses_82614) with ops with unsaved custom gradients. Will likely fail if a gradient is requested.\n",
            "WARNING:absl:Importing a function (__inference_top_activation_layer_call_and_return_conditional_losses_87320) with ops with unsaved custom gradients. Will likely fail if a gradient is requested.\n",
            "WARNING:absl:Importing a function (__inference_block1a_se_reduce_layer_call_and_return_conditional_losses_81131) with ops with unsaved custom gradients. Will likely fail if a gradient is requested.\n",
            "WARNING:absl:Importing a function (__inference_block2b_activation_layer_call_and_return_conditional_losses_46858) with ops with unsaved custom gradients. Will likely fail if a gradient is requested.\n",
            "WARNING:absl:Importing a function (__inference_efficientnetb0_layer_call_and_return_conditional_losses_75309) with ops with unsaved custom gradients. Will likely fail if a gradient is requested.\n",
            "WARNING:absl:Importing a function (__inference_block3b_se_reduce_layer_call_and_return_conditional_losses_47227) with ops with unsaved custom gradients. Will likely fail if a gradient is requested.\n",
            "WARNING:absl:Importing a function (__inference_block5c_activation_layer_call_and_return_conditional_losses_48163) with ops with unsaved custom gradients. Will likely fail if a gradient is requested.\n",
            "WARNING:absl:Importing a function (__inference_block3a_se_reduce_layer_call_and_return_conditional_losses_47075) with ops with unsaved custom gradients. Will likely fail if a gradient is requested.\n",
            "WARNING:absl:Importing a function (__inference_block2b_activation_layer_call_and_return_conditional_losses_81815) with ops with unsaved custom gradients. Will likely fail if a gradient is requested.\n",
            "WARNING:absl:Importing a function (__inference_block6a_activation_layer_call_and_return_conditional_losses_85448) with ops with unsaved custom gradients. Will likely fail if a gradient is requested.\n",
            "WARNING:absl:Importing a function (__inference_block4b_activation_layer_call_and_return_conditional_losses_47510) with ops with unsaved custom gradients. Will likely fail if a gradient is requested.\n",
            "WARNING:absl:Importing a function (__inference_block3b_expand_activation_layer_call_and_return_conditional_losses_82520) with ops with unsaved custom gradients. Will likely fail if a gradient is requested.\n",
            "WARNING:absl:Importing a function (__inference_block1a_activation_layer_call_and_return_conditional_losses_46547) with ops with unsaved custom gradients. Will likely fail if a gradient is requested.\n",
            "WARNING:absl:Importing a function (__inference_block6b_expand_activation_layer_call_and_return_conditional_losses_85719) with ops with unsaved custom gradients. Will likely fail if a gradient is requested.\n",
            "WARNING:absl:Importing a function (__inference_stem_activation_layer_call_and_return_conditional_losses_80969) with ops with unsaved custom gradients. Will likely fail if a gradient is requested.\n",
            "WARNING:absl:Importing a function (__inference_block5a_expand_activation_layer_call_and_return_conditional_losses_47820) with ops with unsaved custom gradients. Will likely fail if a gradient is requested.\n",
            "WARNING:absl:Importing a function (__inference_block6a_se_reduce_layer_call_and_return_conditional_losses_85516) with ops with unsaved custom gradients. Will likely fail if a gradient is requested.\n",
            "WARNING:absl:Importing a function (__inference_block6c_se_reduce_layer_call_and_return_conditional_losses_86293) with ops with unsaved custom gradients. Will likely fail if a gradient is requested.\n",
            "WARNING:absl:Importing a function (__inference_block6d_expand_activation_layer_call_and_return_conditional_losses_86543) with ops with unsaved custom gradients. Will likely fail if a gradient is requested.\n",
            "WARNING:absl:Importing a function (__inference_block4a_activation_layer_call_and_return_conditional_losses_47358) with ops with unsaved custom gradients. Will likely fail if a gradient is requested.\n",
            "WARNING:absl:Importing a function (__inference_block4c_expand_activation_layer_call_and_return_conditional_losses_83731) with ops with unsaved custom gradients. Will likely fail if a gradient is requested.\n",
            "WARNING:absl:Importing a function (__inference_block4c_activation_layer_call_and_return_conditional_losses_83825) with ops with unsaved custom gradients. Will likely fail if a gradient is requested.\n",
            "WARNING:absl:Importing a function (__inference_block4b_activation_layer_call_and_return_conditional_losses_83413) with ops with unsaved custom gradients. Will likely fail if a gradient is requested.\n",
            "WARNING:absl:Importing a function (__inference_block5c_expand_activation_layer_call_and_return_conditional_losses_48139) with ops with unsaved custom gradients. Will likely fail if a gradient is requested.\n",
            "WARNING:absl:Importing a function (__inference_block6c_expand_activation_layer_call_and_return_conditional_losses_86131) with ops with unsaved custom gradients. Will likely fail if a gradient is requested.\n",
            "WARNING:absl:Importing a function (__inference_block6b_se_reduce_layer_call_and_return_conditional_losses_48532) with ops with unsaved custom gradients. Will likely fail if a gradient is requested.\n",
            "WARNING:absl:Importing a function (__inference_model_layer_call_and_return_conditional_losses_69317) with ops with unsaved custom gradients. Will likely fail if a gradient is requested.\n",
            "WARNING:absl:Importing a function (__inference_block3a_expand_activation_layer_call_and_return_conditional_losses_82133) with ops with unsaved custom gradients. Will likely fail if a gradient is requested.\n",
            "WARNING:absl:Importing a function (__inference_block6b_expand_activation_layer_call_and_return_conditional_losses_48465) with ops with unsaved custom gradients. Will likely fail if a gradient is requested.\n",
            "WARNING:absl:Importing a function (__inference_block5c_se_reduce_layer_call_and_return_conditional_losses_48206) with ops with unsaved custom gradients. Will likely fail if a gradient is requested.\n",
            "WARNING:absl:Importing a function (__inference_block6a_expand_activation_layer_call_and_return_conditional_losses_48306) with ops with unsaved custom gradients. Will likely fail if a gradient is requested.\n",
            "WARNING:absl:Importing a function (__inference_block2b_se_reduce_layer_call_and_return_conditional_losses_46901) with ops with unsaved custom gradients. Will likely fail if a gradient is requested.\n",
            "WARNING:absl:Importing a function (__inference_block5b_se_reduce_layer_call_and_return_conditional_losses_48039) with ops with unsaved custom gradients. Will likely fail if a gradient is requested.\n",
            "WARNING:absl:Importing a function (__inference_block6b_activation_layer_call_and_return_conditional_losses_48489) with ops with unsaved custom gradients. Will likely fail if a gradient is requested.\n",
            "WARNING:absl:Importing a function (__inference_efficientnetb0_layer_call_and_return_conditional_losses_61245) with ops with unsaved custom gradients. Will likely fail if a gradient is requested.\n",
            "WARNING:absl:Importing a function (__inference_block5b_activation_layer_call_and_return_conditional_losses_84602) with ops with unsaved custom gradients. Will likely fail if a gradient is requested.\n",
            "WARNING:absl:Importing a function (__inference_block2b_se_reduce_layer_call_and_return_conditional_losses_81883) with ops with unsaved custom gradients. Will likely fail if a gradient is requested.\n",
            "WARNING:absl:Importing a function (__inference_block5a_expand_activation_layer_call_and_return_conditional_losses_84143) with ops with unsaved custom gradients. Will likely fail if a gradient is requested.\n",
            "WARNING:absl:Importing a function (__inference_block6d_activation_layer_call_and_return_conditional_losses_48823) with ops with unsaved custom gradients. Will likely fail if a gradient is requested.\n",
            "WARNING:absl:Importing a function (__inference_efficientnetb0_layer_call_and_return_conditional_losses_80787) with ops with unsaved custom gradients. Will likely fail if a gradient is requested.\n",
            "WARNING:absl:Importing a function (__inference_block4b_se_reduce_layer_call_and_return_conditional_losses_83481) with ops with unsaved custom gradients. Will likely fail if a gradient is requested.\n",
            "WARNING:absl:Importing a function (__inference_block3a_se_reduce_layer_call_and_return_conditional_losses_82317) with ops with unsaved custom gradients. Will likely fail if a gradient is requested.\n",
            "WARNING:absl:Importing a function (__inference_block7a_expand_activation_layer_call_and_return_conditional_losses_48966) with ops with unsaved custom gradients. Will likely fail if a gradient is requested.\n",
            "WARNING:absl:Importing a function (__inference_block5a_se_reduce_layer_call_and_return_conditional_losses_47887) with ops with unsaved custom gradients. Will likely fail if a gradient is requested.\n",
            "WARNING:absl:Importing a function (__inference_model_layer_call_and_return_conditional_losses_71065) with ops with unsaved custom gradients. Will likely fail if a gradient is requested.\n"
          ]
        }
      ]
    },
    {
      "cell_type": "code",
      "metadata": {
        "colab": {
          "base_uri": "https://localhost:8080/"
        },
        "id": "t2sqrcK8JMBp",
        "outputId": "d26d04a0-3760-47d8-9088-4db97d2c2ca4"
      },
      "source": [
        "results_loaded_model_feature_extraction =loaded_model.evaluate(test_data)"
      ],
      "execution_count": null,
      "outputs": [
        {
          "name": "stdout",
          "output_type": "stream",
          "text": [
            "790/790 [==============================] - 82s 101ms/step - loss: 1.0865 - accuracy: 0.7055\n"
          ]
        }
      ]
    },
    {
      "cell_type": "code",
      "metadata": {
        "colab": {
          "base_uri": "https://localhost:8080/"
        },
        "id": "ZD5J4WB5JqpQ",
        "outputId": "36aa71e2-384f-4087-ec7a-0f4cdd8a9962"
      },
      "source": [
        "for layer in base_model.layers:\n",
        "  print(layer.name , layer.dtype_policy)"
      ],
      "execution_count": null,
      "outputs": [
        {
          "name": "stdout",
          "output_type": "stream",
          "text": [
            "input_1 <Policy \"float32\">\n",
            "rescaling <Policy \"mixed_float16\">\n",
            "normalization <Policy \"mixed_float16\">\n",
            "stem_conv_pad <Policy \"mixed_float16\">\n",
            "stem_conv <Policy \"mixed_float16\">\n",
            "stem_bn <Policy \"mixed_float16\">\n",
            "stem_activation <Policy \"mixed_float16\">\n",
            "block1a_dwconv <Policy \"mixed_float16\">\n",
            "block1a_bn <Policy \"mixed_float16\">\n",
            "block1a_activation <Policy \"mixed_float16\">\n",
            "block1a_se_squeeze <Policy \"mixed_float16\">\n",
            "block1a_se_reshape <Policy \"mixed_float16\">\n",
            "block1a_se_reduce <Policy \"mixed_float16\">\n",
            "block1a_se_expand <Policy \"mixed_float16\">\n",
            "block1a_se_excite <Policy \"mixed_float16\">\n",
            "block1a_project_conv <Policy \"mixed_float16\">\n",
            "block1a_project_bn <Policy \"mixed_float16\">\n",
            "block2a_expand_conv <Policy \"mixed_float16\">\n",
            "block2a_expand_bn <Policy \"mixed_float16\">\n",
            "block2a_expand_activation <Policy \"mixed_float16\">\n",
            "block2a_dwconv_pad <Policy \"mixed_float16\">\n",
            "block2a_dwconv <Policy \"mixed_float16\">\n",
            "block2a_bn <Policy \"mixed_float16\">\n",
            "block2a_activation <Policy \"mixed_float16\">\n",
            "block2a_se_squeeze <Policy \"mixed_float16\">\n",
            "block2a_se_reshape <Policy \"mixed_float16\">\n",
            "block2a_se_reduce <Policy \"mixed_float16\">\n",
            "block2a_se_expand <Policy \"mixed_float16\">\n",
            "block2a_se_excite <Policy \"mixed_float16\">\n",
            "block2a_project_conv <Policy \"mixed_float16\">\n",
            "block2a_project_bn <Policy \"mixed_float16\">\n",
            "block2b_expand_conv <Policy \"mixed_float16\">\n",
            "block2b_expand_bn <Policy \"mixed_float16\">\n",
            "block2b_expand_activation <Policy \"mixed_float16\">\n",
            "block2b_dwconv <Policy \"mixed_float16\">\n",
            "block2b_bn <Policy \"mixed_float16\">\n",
            "block2b_activation <Policy \"mixed_float16\">\n",
            "block2b_se_squeeze <Policy \"mixed_float16\">\n",
            "block2b_se_reshape <Policy \"mixed_float16\">\n",
            "block2b_se_reduce <Policy \"mixed_float16\">\n",
            "block2b_se_expand <Policy \"mixed_float16\">\n",
            "block2b_se_excite <Policy \"mixed_float16\">\n",
            "block2b_project_conv <Policy \"mixed_float16\">\n",
            "block2b_project_bn <Policy \"mixed_float16\">\n",
            "block2b_drop <Policy \"mixed_float16\">\n",
            "block2b_add <Policy \"mixed_float16\">\n",
            "block3a_expand_conv <Policy \"mixed_float16\">\n",
            "block3a_expand_bn <Policy \"mixed_float16\">\n",
            "block3a_expand_activation <Policy \"mixed_float16\">\n",
            "block3a_dwconv_pad <Policy \"mixed_float16\">\n",
            "block3a_dwconv <Policy \"mixed_float16\">\n",
            "block3a_bn <Policy \"mixed_float16\">\n",
            "block3a_activation <Policy \"mixed_float16\">\n",
            "block3a_se_squeeze <Policy \"mixed_float16\">\n",
            "block3a_se_reshape <Policy \"mixed_float16\">\n",
            "block3a_se_reduce <Policy \"mixed_float16\">\n",
            "block3a_se_expand <Policy \"mixed_float16\">\n",
            "block3a_se_excite <Policy \"mixed_float16\">\n",
            "block3a_project_conv <Policy \"mixed_float16\">\n",
            "block3a_project_bn <Policy \"mixed_float16\">\n",
            "block3b_expand_conv <Policy \"mixed_float16\">\n",
            "block3b_expand_bn <Policy \"mixed_float16\">\n",
            "block3b_expand_activation <Policy \"mixed_float16\">\n",
            "block3b_dwconv <Policy \"mixed_float16\">\n",
            "block3b_bn <Policy \"mixed_float16\">\n",
            "block3b_activation <Policy \"mixed_float16\">\n",
            "block3b_se_squeeze <Policy \"mixed_float16\">\n",
            "block3b_se_reshape <Policy \"mixed_float16\">\n",
            "block3b_se_reduce <Policy \"mixed_float16\">\n",
            "block3b_se_expand <Policy \"mixed_float16\">\n",
            "block3b_se_excite <Policy \"mixed_float16\">\n",
            "block3b_project_conv <Policy \"mixed_float16\">\n",
            "block3b_project_bn <Policy \"mixed_float16\">\n",
            "block3b_drop <Policy \"mixed_float16\">\n",
            "block3b_add <Policy \"mixed_float16\">\n",
            "block4a_expand_conv <Policy \"mixed_float16\">\n",
            "block4a_expand_bn <Policy \"mixed_float16\">\n",
            "block4a_expand_activation <Policy \"mixed_float16\">\n",
            "block4a_dwconv_pad <Policy \"mixed_float16\">\n",
            "block4a_dwconv <Policy \"mixed_float16\">\n",
            "block4a_bn <Policy \"mixed_float16\">\n",
            "block4a_activation <Policy \"mixed_float16\">\n",
            "block4a_se_squeeze <Policy \"mixed_float16\">\n",
            "block4a_se_reshape <Policy \"mixed_float16\">\n",
            "block4a_se_reduce <Policy \"mixed_float16\">\n",
            "block4a_se_expand <Policy \"mixed_float16\">\n",
            "block4a_se_excite <Policy \"mixed_float16\">\n",
            "block4a_project_conv <Policy \"mixed_float16\">\n",
            "block4a_project_bn <Policy \"mixed_float16\">\n",
            "block4b_expand_conv <Policy \"mixed_float16\">\n",
            "block4b_expand_bn <Policy \"mixed_float16\">\n",
            "block4b_expand_activation <Policy \"mixed_float16\">\n",
            "block4b_dwconv <Policy \"mixed_float16\">\n",
            "block4b_bn <Policy \"mixed_float16\">\n",
            "block4b_activation <Policy \"mixed_float16\">\n",
            "block4b_se_squeeze <Policy \"mixed_float16\">\n",
            "block4b_se_reshape <Policy \"mixed_float16\">\n",
            "block4b_se_reduce <Policy \"mixed_float16\">\n",
            "block4b_se_expand <Policy \"mixed_float16\">\n",
            "block4b_se_excite <Policy \"mixed_float16\">\n",
            "block4b_project_conv <Policy \"mixed_float16\">\n",
            "block4b_project_bn <Policy \"mixed_float16\">\n",
            "block4b_drop <Policy \"mixed_float16\">\n",
            "block4b_add <Policy \"mixed_float16\">\n",
            "block4c_expand_conv <Policy \"mixed_float16\">\n",
            "block4c_expand_bn <Policy \"mixed_float16\">\n",
            "block4c_expand_activation <Policy \"mixed_float16\">\n",
            "block4c_dwconv <Policy \"mixed_float16\">\n",
            "block4c_bn <Policy \"mixed_float16\">\n",
            "block4c_activation <Policy \"mixed_float16\">\n",
            "block4c_se_squeeze <Policy \"mixed_float16\">\n",
            "block4c_se_reshape <Policy \"mixed_float16\">\n",
            "block4c_se_reduce <Policy \"mixed_float16\">\n",
            "block4c_se_expand <Policy \"mixed_float16\">\n",
            "block4c_se_excite <Policy \"mixed_float16\">\n",
            "block4c_project_conv <Policy \"mixed_float16\">\n",
            "block4c_project_bn <Policy \"mixed_float16\">\n",
            "block4c_drop <Policy \"mixed_float16\">\n",
            "block4c_add <Policy \"mixed_float16\">\n",
            "block5a_expand_conv <Policy \"mixed_float16\">\n",
            "block5a_expand_bn <Policy \"mixed_float16\">\n",
            "block5a_expand_activation <Policy \"mixed_float16\">\n",
            "block5a_dwconv <Policy \"mixed_float16\">\n",
            "block5a_bn <Policy \"mixed_float16\">\n",
            "block5a_activation <Policy \"mixed_float16\">\n",
            "block5a_se_squeeze <Policy \"mixed_float16\">\n",
            "block5a_se_reshape <Policy \"mixed_float16\">\n",
            "block5a_se_reduce <Policy \"mixed_float16\">\n",
            "block5a_se_expand <Policy \"mixed_float16\">\n",
            "block5a_se_excite <Policy \"mixed_float16\">\n",
            "block5a_project_conv <Policy \"mixed_float16\">\n",
            "block5a_project_bn <Policy \"mixed_float16\">\n",
            "block5b_expand_conv <Policy \"mixed_float16\">\n",
            "block5b_expand_bn <Policy \"mixed_float16\">\n",
            "block5b_expand_activation <Policy \"mixed_float16\">\n",
            "block5b_dwconv <Policy \"mixed_float16\">\n",
            "block5b_bn <Policy \"mixed_float16\">\n",
            "block5b_activation <Policy \"mixed_float16\">\n",
            "block5b_se_squeeze <Policy \"mixed_float16\">\n",
            "block5b_se_reshape <Policy \"mixed_float16\">\n",
            "block5b_se_reduce <Policy \"mixed_float16\">\n",
            "block5b_se_expand <Policy \"mixed_float16\">\n",
            "block5b_se_excite <Policy \"mixed_float16\">\n",
            "block5b_project_conv <Policy \"mixed_float16\">\n",
            "block5b_project_bn <Policy \"mixed_float16\">\n",
            "block5b_drop <Policy \"mixed_float16\">\n",
            "block5b_add <Policy \"mixed_float16\">\n",
            "block5c_expand_conv <Policy \"mixed_float16\">\n",
            "block5c_expand_bn <Policy \"mixed_float16\">\n",
            "block5c_expand_activation <Policy \"mixed_float16\">\n",
            "block5c_dwconv <Policy \"mixed_float16\">\n",
            "block5c_bn <Policy \"mixed_float16\">\n",
            "block5c_activation <Policy \"mixed_float16\">\n",
            "block5c_se_squeeze <Policy \"mixed_float16\">\n",
            "block5c_se_reshape <Policy \"mixed_float16\">\n",
            "block5c_se_reduce <Policy \"mixed_float16\">\n",
            "block5c_se_expand <Policy \"mixed_float16\">\n",
            "block5c_se_excite <Policy \"mixed_float16\">\n",
            "block5c_project_conv <Policy \"mixed_float16\">\n",
            "block5c_project_bn <Policy \"mixed_float16\">\n",
            "block5c_drop <Policy \"mixed_float16\">\n",
            "block5c_add <Policy \"mixed_float16\">\n",
            "block6a_expand_conv <Policy \"mixed_float16\">\n",
            "block6a_expand_bn <Policy \"mixed_float16\">\n",
            "block6a_expand_activation <Policy \"mixed_float16\">\n",
            "block6a_dwconv_pad <Policy \"mixed_float16\">\n",
            "block6a_dwconv <Policy \"mixed_float16\">\n",
            "block6a_bn <Policy \"mixed_float16\">\n",
            "block6a_activation <Policy \"mixed_float16\">\n",
            "block6a_se_squeeze <Policy \"mixed_float16\">\n",
            "block6a_se_reshape <Policy \"mixed_float16\">\n",
            "block6a_se_reduce <Policy \"mixed_float16\">\n",
            "block6a_se_expand <Policy \"mixed_float16\">\n",
            "block6a_se_excite <Policy \"mixed_float16\">\n",
            "block6a_project_conv <Policy \"mixed_float16\">\n",
            "block6a_project_bn <Policy \"mixed_float16\">\n",
            "block6b_expand_conv <Policy \"mixed_float16\">\n",
            "block6b_expand_bn <Policy \"mixed_float16\">\n",
            "block6b_expand_activation <Policy \"mixed_float16\">\n",
            "block6b_dwconv <Policy \"mixed_float16\">\n",
            "block6b_bn <Policy \"mixed_float16\">\n",
            "block6b_activation <Policy \"mixed_float16\">\n",
            "block6b_se_squeeze <Policy \"mixed_float16\">\n",
            "block6b_se_reshape <Policy \"mixed_float16\">\n",
            "block6b_se_reduce <Policy \"mixed_float16\">\n",
            "block6b_se_expand <Policy \"mixed_float16\">\n",
            "block6b_se_excite <Policy \"mixed_float16\">\n",
            "block6b_project_conv <Policy \"mixed_float16\">\n",
            "block6b_project_bn <Policy \"mixed_float16\">\n",
            "block6b_drop <Policy \"mixed_float16\">\n",
            "block6b_add <Policy \"mixed_float16\">\n",
            "block6c_expand_conv <Policy \"mixed_float16\">\n",
            "block6c_expand_bn <Policy \"mixed_float16\">\n",
            "block6c_expand_activation <Policy \"mixed_float16\">\n",
            "block6c_dwconv <Policy \"mixed_float16\">\n",
            "block6c_bn <Policy \"mixed_float16\">\n",
            "block6c_activation <Policy \"mixed_float16\">\n",
            "block6c_se_squeeze <Policy \"mixed_float16\">\n",
            "block6c_se_reshape <Policy \"mixed_float16\">\n",
            "block6c_se_reduce <Policy \"mixed_float16\">\n",
            "block6c_se_expand <Policy \"mixed_float16\">\n",
            "block6c_se_excite <Policy \"mixed_float16\">\n",
            "block6c_project_conv <Policy \"mixed_float16\">\n",
            "block6c_project_bn <Policy \"mixed_float16\">\n",
            "block6c_drop <Policy \"mixed_float16\">\n",
            "block6c_add <Policy \"mixed_float16\">\n",
            "block6d_expand_conv <Policy \"mixed_float16\">\n",
            "block6d_expand_bn <Policy \"mixed_float16\">\n",
            "block6d_expand_activation <Policy \"mixed_float16\">\n",
            "block6d_dwconv <Policy \"mixed_float16\">\n",
            "block6d_bn <Policy \"mixed_float16\">\n",
            "block6d_activation <Policy \"mixed_float16\">\n",
            "block6d_se_squeeze <Policy \"mixed_float16\">\n",
            "block6d_se_reshape <Policy \"mixed_float16\">\n",
            "block6d_se_reduce <Policy \"mixed_float16\">\n",
            "block6d_se_expand <Policy \"mixed_float16\">\n",
            "block6d_se_excite <Policy \"mixed_float16\">\n",
            "block6d_project_conv <Policy \"mixed_float16\">\n",
            "block6d_project_bn <Policy \"mixed_float16\">\n",
            "block6d_drop <Policy \"mixed_float16\">\n",
            "block6d_add <Policy \"mixed_float16\">\n",
            "block7a_expand_conv <Policy \"mixed_float16\">\n",
            "block7a_expand_bn <Policy \"mixed_float16\">\n",
            "block7a_expand_activation <Policy \"mixed_float16\">\n",
            "block7a_dwconv <Policy \"mixed_float16\">\n",
            "block7a_bn <Policy \"mixed_float16\">\n",
            "block7a_activation <Policy \"mixed_float16\">\n",
            "block7a_se_squeeze <Policy \"mixed_float16\">\n",
            "block7a_se_reshape <Policy \"mixed_float16\">\n",
            "block7a_se_reduce <Policy \"mixed_float16\">\n",
            "block7a_se_expand <Policy \"mixed_float16\">\n",
            "block7a_se_excite <Policy \"mixed_float16\">\n",
            "block7a_project_conv <Policy \"mixed_float16\">\n",
            "block7a_project_bn <Policy \"mixed_float16\">\n",
            "top_conv <Policy \"mixed_float16\">\n",
            "top_bn <Policy \"mixed_float16\">\n",
            "top_activation <Policy \"mixed_float16\">\n"
          ]
        }
      ]
    },
    {
      "cell_type": "code",
      "metadata": {
        "colab": {
          "base_uri": "https://localhost:8080/"
        },
        "id": "1V6ZpLfDKCwU",
        "outputId": "2f9f9c4e-168a-4700-95df-24241a93b0a1"
      },
      "source": [
        "results_model_feature_extraction[1] ==results_loaded_model_feature_extraction[1]"
      ],
      "execution_count": null,
      "outputs": [
        {
          "data": {
            "text/plain": [
              "True"
            ]
          },
          "execution_count": 32,
          "metadata": {},
          "output_type": "execute_result"
        }
      ]
    },
    {
      "cell_type": "code",
      "metadata": {
        "colab": {
          "base_uri": "https://localhost:8080/"
        },
        "id": "JBNcmR1hKQs3",
        "outputId": "5a58475c-c30e-44da-b2e3-4144c965b0a3"
      },
      "source": [
        "# Download the saved model from Google Storage\n",
        "!wget https://storage.googleapis.com/ztm_tf_course/food_vision/07_efficientnetb0_feature_extract_model_mixed_precision.zip "
      ],
      "execution_count": null,
      "outputs": [
        {
          "name": "stdout",
          "output_type": "stream",
          "text": [
            "--2021-09-05 03:17:40--  https://storage.googleapis.com/ztm_tf_course/food_vision/07_efficientnetb0_feature_extract_model_mixed_precision.zip\n",
            "Resolving storage.googleapis.com (storage.googleapis.com)... 172.217.219.128, 209.85.147.128, 142.250.125.128, ...\n",
            "Connecting to storage.googleapis.com (storage.googleapis.com)|172.217.219.128|:443... connected.\n",
            "HTTP request sent, awaiting response... 200 OK\n",
            "Length: 16976857 (16M) [application/zip]\n",
            "Saving to: ‘07_efficientnetb0_feature_extract_model_mixed_precision.zip’\n",
            "\n",
            "07_efficientnetb0_f 100%[===================>]  16.19M  52.5MB/s    in 0.3s    \n",
            "\n",
            "2021-09-05 03:17:41 (52.5 MB/s) - ‘07_efficientnetb0_feature_extract_model_mixed_precision.zip’ saved [16976857/16976857]\n",
            "\n"
          ]
        }
      ]
    },
    {
      "cell_type": "code",
      "metadata": {
        "colab": {
          "base_uri": "https://localhost:8080/"
        },
        "id": "KTYkuL9iT4Ob",
        "outputId": "8a00b757-6221-4d9d-da78-cbfea7a23d43"
      },
      "source": [
        "# Unzip the SavedModel downloaded from Google Stroage\n",
        "!mkdir downloaded_gs_model # create new dir to store downloaded feature extraction model\n",
        "!unzip 07_efficientnetb0_feature_extract_model_mixed_precision.zip -d downloaded_gs_model"
      ],
      "execution_count": null,
      "outputs": [
        {
          "name": "stdout",
          "output_type": "stream",
          "text": [
            "Archive:  07_efficientnetb0_feature_extract_model_mixed_precision.zip\n",
            "   creating: downloaded_gs_model/07_efficientnetb0_feature_extract_model_mixed_precision/\n",
            "   creating: downloaded_gs_model/07_efficientnetb0_feature_extract_model_mixed_precision/variables/\n",
            "  inflating: downloaded_gs_model/07_efficientnetb0_feature_extract_model_mixed_precision/variables/variables.data-00000-of-00001  \n",
            "  inflating: downloaded_gs_model/07_efficientnetb0_feature_extract_model_mixed_precision/variables/variables.index  \n",
            "  inflating: downloaded_gs_model/07_efficientnetb0_feature_extract_model_mixed_precision/saved_model.pb  \n",
            "   creating: downloaded_gs_model/07_efficientnetb0_feature_extract_model_mixed_precision/assets/\n"
          ]
        }
      ]
    },
    {
      "cell_type": "code",
      "metadata": {
        "colab": {
          "base_uri": "https://localhost:8080/"
        },
        "id": "uH2Vl-w0UCT7",
        "outputId": "a1985444-7cc7-4f27-98ee-165864e8a2ff"
      },
      "source": [
        "downloaded_gs_model = tf.keras.models.load_model(\"/content/downloaded_gs_model/07_efficientnetb0_feature_extract_model_mixed_precision\")"
      ],
      "execution_count": null,
      "outputs": [
        {
          "name": "stdout",
          "output_type": "stream",
          "text": [
            "WARNING:tensorflow:SavedModel saved prior to TF 2.5 detected when loading Keras model. Please ensure that you are saving the model with model.save() or tf.keras.models.save_model(), *NOT* tf.saved_model.save(). To confirm, there should be a file named \"keras_metadata.pb\" in the SavedModel directory.\n"
          ]
        },
        {
          "name": "stderr",
          "output_type": "stream",
          "text": [
            "WARNING:tensorflow:SavedModel saved prior to TF 2.5 detected when loading Keras model. Please ensure that you are saving the model with model.save() or tf.keras.models.save_model(), *NOT* tf.saved_model.save(). To confirm, there should be a file named \"keras_metadata.pb\" in the SavedModel directory.\n",
            "WARNING:absl:Importing a function (__inference_block1a_activation_layer_call_and_return_conditional_losses_158253) with ops with unsaved custom gradients. Will likely fail if a gradient is requested.\n",
            "WARNING:absl:Importing a function (__inference_block2a_activation_layer_call_and_return_conditional_losses_191539) with ops with unsaved custom gradients. Will likely fail if a gradient is requested.\n",
            "WARNING:absl:Importing a function (__inference_block6d_expand_activation_layer_call_and_return_conditional_losses_196076) with ops with unsaved custom gradients. Will likely fail if a gradient is requested.\n",
            "WARNING:absl:Importing a function (__inference_block6c_activation_layer_call_and_return_conditional_losses_195780) with ops with unsaved custom gradients. Will likely fail if a gradient is requested.\n",
            "WARNING:absl:Importing a function (__inference_block6d_activation_layer_call_and_return_conditional_losses_196153) with ops with unsaved custom gradients. Will likely fail if a gradient is requested.\n",
            "WARNING:absl:Importing a function (__inference_model_layer_call_and_return_conditional_losses_180010) with ops with unsaved custom gradients. Will likely fail if a gradient is requested.\n",
            "WARNING:absl:Importing a function (__inference_stem_activation_layer_call_and_return_conditional_losses_191136) with ops with unsaved custom gradients. Will likely fail if a gradient is requested.\n",
            "WARNING:absl:Importing a function (__inference_block4c_expand_activation_layer_call_and_return_conditional_losses_160354) with ops with unsaved custom gradients. Will likely fail if a gradient is requested.\n",
            "WARNING:absl:Importing a function (__inference_block6c_expand_activation_layer_call_and_return_conditional_losses_195703) with ops with unsaved custom gradients. Will likely fail if a gradient is requested.\n",
            "WARNING:absl:Importing a function (__inference_block3b_expand_activation_layer_call_and_return_conditional_losses_159392) with ops with unsaved custom gradients. Will likely fail if a gradient is requested.\n",
            "WARNING:absl:Importing a function (__inference_block1a_activation_layer_call_and_return_conditional_losses_191213) with ops with unsaved custom gradients. Will likely fail if a gradient is requested.\n",
            "WARNING:absl:Importing a function (__inference_block4c_se_reduce_layer_call_and_return_conditional_losses_193678) with ops with unsaved custom gradients. Will likely fail if a gradient is requested.\n",
            "WARNING:absl:Importing a function (__inference_block5a_se_reduce_layer_call_and_return_conditional_losses_194051) with ops with unsaved custom gradients. Will likely fail if a gradient is requested.\n",
            "WARNING:absl:Importing a function (__inference_block2b_expand_activation_layer_call_and_return_conditional_losses_158768) with ops with unsaved custom gradients. Will likely fail if a gradient is requested.\n",
            "WARNING:absl:Importing a function (__inference_block2b_se_reduce_layer_call_and_return_conditional_losses_191907) with ops with unsaved custom gradients. Will likely fail if a gradient is requested.\n",
            "WARNING:absl:Importing a function (__inference_block6d_se_reduce_layer_call_and_return_conditional_losses_162720) with ops with unsaved custom gradients. Will likely fail if a gradient is requested.\n",
            "WARNING:absl:Importing a function (__inference_block5c_activation_layer_call_and_return_conditional_losses_194708) with ops with unsaved custom gradients. Will likely fail if a gradient is requested.\n",
            "WARNING:absl:Importing a function (__inference_block6d_se_reduce_layer_call_and_return_conditional_losses_196195) with ops with unsaved custom gradients. Will likely fail if a gradient is requested.\n",
            "WARNING:absl:Importing a function (__inference_block5b_expand_activation_layer_call_and_return_conditional_losses_194258) with ops with unsaved custom gradients. Will likely fail if a gradient is requested.\n",
            "WARNING:absl:Importing a function (__inference_efficientnetb0_layer_call_and_return_conditional_losses_188022) with ops with unsaved custom gradients. Will likely fail if a gradient is requested.\n",
            "WARNING:absl:Importing a function (__inference_block6b_activation_layer_call_and_return_conditional_losses_161995) with ops with unsaved custom gradients. Will likely fail if a gradient is requested.\n",
            "WARNING:absl:Importing a function (__inference_efficientnetb0_layer_call_and_return_conditional_losses_183149) with ops with unsaved custom gradients. Will likely fail if a gradient is requested.\n",
            "WARNING:absl:Importing a function (__inference_block2b_activation_layer_call_and_return_conditional_losses_158824) with ops with unsaved custom gradients. Will likely fail if a gradient is requested.\n",
            "WARNING:absl:Importing a function (__inference_block4a_activation_layer_call_and_return_conditional_losses_159787) with ops with unsaved custom gradients. Will likely fail if a gradient is requested.\n",
            "WARNING:absl:Importing a function (__inference_block2a_expand_activation_layer_call_and_return_conditional_losses_158482) with ops with unsaved custom gradients. Will likely fail if a gradient is requested.\n",
            "WARNING:absl:Importing a function (__inference_block2a_se_reduce_layer_call_and_return_conditional_losses_158588) with ops with unsaved custom gradients. Will likely fail if a gradient is requested.\n",
            "WARNING:absl:Importing a function (__inference_block6b_se_reduce_layer_call_and_return_conditional_losses_195449) with ops with unsaved custom gradients. Will likely fail if a gradient is requested.\n",
            "WARNING:absl:Importing a function (__inference_block5b_se_reduce_layer_call_and_return_conditional_losses_194377) with ops with unsaved custom gradients. Will likely fail if a gradient is requested.\n",
            "WARNING:absl:Importing a function (__inference_block6d_expand_activation_layer_call_and_return_conditional_losses_162615) with ops with unsaved custom gradients. Will likely fail if a gradient is requested.\n",
            "WARNING:absl:Importing a function (__inference_block3a_activation_layer_call_and_return_conditional_losses_192238) with ops with unsaved custom gradients. Will likely fail if a gradient is requested.\n",
            "WARNING:absl:Importing a function (__inference_block4b_se_reduce_layer_call_and_return_conditional_losses_160121) with ops with unsaved custom gradients. Will likely fail if a gradient is requested.\n",
            "WARNING:absl:Importing a function (__inference_block4a_expand_activation_layer_call_and_return_conditional_losses_192860) with ops with unsaved custom gradients. Will likely fail if a gradient is requested.\n",
            "WARNING:absl:Importing a function (__inference_block2b_activation_layer_call_and_return_conditional_losses_191865) with ops with unsaved custom gradients. Will likely fail if a gradient is requested.\n",
            "WARNING:absl:Importing a function (__inference_block4b_expand_activation_layer_call_and_return_conditional_losses_160016) with ops with unsaved custom gradients. Will likely fail if a gradient is requested.\n",
            "WARNING:absl:Importing a function (__inference_block5c_se_reduce_layer_call_and_return_conditional_losses_194750) with ops with unsaved custom gradients. Will likely fail if a gradient is requested.\n",
            "WARNING:absl:Importing a function (__inference_efficientnetb0_layer_call_and_return_conditional_losses_169029) with ops with unsaved custom gradients. Will likely fail if a gradient is requested.\n",
            "WARNING:absl:Importing a function (__inference_efficientnetb0_layer_call_and_return_conditional_losses_170771) with ops with unsaved custom gradients. Will likely fail if a gradient is requested.\n",
            "WARNING:absl:Importing a function (__inference_block3b_activation_layer_call_and_return_conditional_losses_159448) with ops with unsaved custom gradients. Will likely fail if a gradient is requested.\n",
            "WARNING:absl:Importing a function (__inference_block5c_expand_activation_layer_call_and_return_conditional_losses_194631) with ops with unsaved custom gradients. Will likely fail if a gradient is requested.\n",
            "WARNING:absl:Importing a function (__inference_block4a_se_reduce_layer_call_and_return_conditional_losses_192979) with ops with unsaved custom gradients. Will likely fail if a gradient is requested.\n",
            "WARNING:absl:Importing a function (__inference_block4b_activation_layer_call_and_return_conditional_losses_193263) with ops with unsaved custom gradients. Will likely fail if a gradient is requested.\n",
            "WARNING:absl:Importing a function (__inference_block5b_expand_activation_layer_call_and_return_conditional_losses_160977) with ops with unsaved custom gradients. Will likely fail if a gradient is requested.\n",
            "WARNING:absl:Importing a function (__inference_block7a_expand_activation_layer_call_and_return_conditional_losses_162953) with ops with unsaved custom gradients. Will likely fail if a gradient is requested.\n",
            "WARNING:absl:Importing a function (__inference_block4a_se_reduce_layer_call_and_return_conditional_losses_159836) with ops with unsaved custom gradients. Will likely fail if a gradient is requested.\n",
            "WARNING:absl:Importing a function (__inference_block2a_se_reduce_layer_call_and_return_conditional_losses_191581) with ops with unsaved custom gradients. Will likely fail if a gradient is requested.\n",
            "WARNING:absl:Importing a function (__inference_block2a_activation_layer_call_and_return_conditional_losses_158539) with ops with unsaved custom gradients. Will likely fail if a gradient is requested.\n",
            "WARNING:absl:Importing a function (__inference_block6c_se_reduce_layer_call_and_return_conditional_losses_162382) with ops with unsaved custom gradients. Will likely fail if a gradient is requested.\n",
            "WARNING:absl:Importing a function (__inference_block7a_expand_activation_layer_call_and_return_conditional_losses_196449) with ops with unsaved custom gradients. Will likely fail if a gradient is requested.\n",
            "WARNING:absl:Importing a function (__inference_top_activation_layer_call_and_return_conditional_losses_163238) with ops with unsaved custom gradients. Will likely fail if a gradient is requested.\n",
            "WARNING:absl:Importing a function (__inference_block6c_expand_activation_layer_call_and_return_conditional_losses_162277) with ops with unsaved custom gradients. Will likely fail if a gradient is requested.\n",
            "WARNING:absl:Importing a function (__inference_block3b_expand_activation_layer_call_and_return_conditional_losses_192487) with ops with unsaved custom gradients. Will likely fail if a gradient is requested.\n",
            "WARNING:absl:Importing a function (__inference_block1a_se_reduce_layer_call_and_return_conditional_losses_191255) with ops with unsaved custom gradients. Will likely fail if a gradient is requested.\n",
            "WARNING:absl:Importing a function (__inference_block7a_activation_layer_call_and_return_conditional_losses_163009) with ops with unsaved custom gradients. Will likely fail if a gradient is requested.\n",
            "WARNING:absl:Importing a function (__inference_block5b_activation_layer_call_and_return_conditional_losses_194335) with ops with unsaved custom gradients. Will likely fail if a gradient is requested.\n",
            "WARNING:absl:Importing a function (__inference_block4c_expand_activation_layer_call_and_return_conditional_losses_193559) with ops with unsaved custom gradients. Will likely fail if a gradient is requested.\n",
            "WARNING:absl:Importing a function (__inference_block4a_expand_activation_layer_call_and_return_conditional_losses_159730) with ops with unsaved custom gradients. Will likely fail if a gradient is requested.\n",
            "WARNING:absl:Importing a function (__inference_block6a_se_reduce_layer_call_and_return_conditional_losses_161759) with ops with unsaved custom gradients. Will likely fail if a gradient is requested.\n",
            "WARNING:absl:Importing a function (__inference_block3a_expand_activation_layer_call_and_return_conditional_losses_192161) with ops with unsaved custom gradients. Will likely fail if a gradient is requested.\n",
            "WARNING:absl:Importing a function (__inference_block4b_se_reduce_layer_call_and_return_conditional_losses_193305) with ops with unsaved custom gradients. Will likely fail if a gradient is requested.\n",
            "WARNING:absl:Importing a function (__inference_block5a_activation_layer_call_and_return_conditional_losses_160748) with ops with unsaved custom gradients. Will likely fail if a gradient is requested.\n",
            "WARNING:absl:Importing a function (__inference_block5c_activation_layer_call_and_return_conditional_losses_161371) with ops with unsaved custom gradients. Will likely fail if a gradient is requested.\n",
            "WARNING:absl:Importing a function (__inference_block4a_activation_layer_call_and_return_conditional_losses_192937) with ops with unsaved custom gradients. Will likely fail if a gradient is requested.\n",
            "WARNING:absl:Importing a function (__inference_block7a_se_reduce_layer_call_and_return_conditional_losses_196568) with ops with unsaved custom gradients. Will likely fail if a gradient is requested.\n",
            "WARNING:absl:Importing a function (__inference_block2b_expand_activation_layer_call_and_return_conditional_losses_191788) with ops with unsaved custom gradients. Will likely fail if a gradient is requested.\n",
            "WARNING:absl:Importing a function (__inference_block3a_expand_activation_layer_call_and_return_conditional_losses_159106) with ops with unsaved custom gradients. Will likely fail if a gradient is requested.\n",
            "WARNING:absl:Importing a function (__inference_block3b_se_reduce_layer_call_and_return_conditional_losses_159497) with ops with unsaved custom gradients. Will likely fail if a gradient is requested.\n",
            "WARNING:absl:Importing a function (__inference_block5c_expand_activation_layer_call_and_return_conditional_losses_161315) with ops with unsaved custom gradients. Will likely fail if a gradient is requested.\n",
            "WARNING:absl:Importing a function (__inference_efficientnetb0_layer_call_and_return_conditional_losses_184891) with ops with unsaved custom gradients. Will likely fail if a gradient is requested.\n",
            "WARNING:absl:Importing a function (__inference_model_layer_call_and_return_conditional_losses_178256) with ops with unsaved custom gradients. Will likely fail if a gradient is requested.\n",
            "WARNING:absl:Importing a function (__inference_block6a_activation_layer_call_and_return_conditional_losses_161710) with ops with unsaved custom gradients. Will likely fail if a gradient is requested.\n",
            "WARNING:absl:Importing a function (__inference_block6a_expand_activation_layer_call_and_return_conditional_losses_161653) with ops with unsaved custom gradients. Will likely fail if a gradient is requested.\n",
            "WARNING:absl:Importing a function (__inference_block3a_se_reduce_layer_call_and_return_conditional_losses_159212) with ops with unsaved custom gradients. Will likely fail if a gradient is requested.\n",
            "WARNING:absl:Importing a function (__inference_stem_activation_layer_call_and_return_conditional_losses_158197) with ops with unsaved custom gradients. Will likely fail if a gradient is requested.\n",
            "WARNING:absl:Importing a function (__inference_efficientnetb0_layer_call_and_return_conditional_losses_189764) with ops with unsaved custom gradients. Will likely fail if a gradient is requested.\n",
            "WARNING:absl:Importing a function (__inference_block3b_se_reduce_layer_call_and_return_conditional_losses_192606) with ops with unsaved custom gradients. Will likely fail if a gradient is requested.\n",
            "WARNING:absl:Importing a function (__inference_block6a_activation_layer_call_and_return_conditional_losses_195081) with ops with unsaved custom gradients. Will likely fail if a gradient is requested.\n",
            "WARNING:absl:Importing a function (__inference_block6c_activation_layer_call_and_return_conditional_losses_162333) with ops with unsaved custom gradients. Will likely fail if a gradient is requested.\n",
            "WARNING:absl:Importing a function (__inference_block5a_se_reduce_layer_call_and_return_conditional_losses_160797) with ops with unsaved custom gradients. Will likely fail if a gradient is requested.\n",
            "WARNING:absl:Importing a function (__inference_block5a_activation_layer_call_and_return_conditional_losses_194009) with ops with unsaved custom gradients. Will likely fail if a gradient is requested.\n",
            "WARNING:absl:Importing a function (__inference_block6c_se_reduce_layer_call_and_return_conditional_losses_195822) with ops with unsaved custom gradients. Will likely fail if a gradient is requested.\n",
            "WARNING:absl:Importing a function (__inference_block5b_activation_layer_call_and_return_conditional_losses_161033) with ops with unsaved custom gradients. Will likely fail if a gradient is requested.\n",
            "WARNING:absl:Importing a function (__inference_block6b_expand_activation_layer_call_and_return_conditional_losses_195330) with ops with unsaved custom gradients. Will likely fail if a gradient is requested.\n",
            "WARNING:absl:Importing a function (__inference_block3a_activation_layer_call_and_return_conditional_losses_159163) with ops with unsaved custom gradients. Will likely fail if a gradient is requested.\n",
            "WARNING:absl:Importing a function (__inference_block4c_se_reduce_layer_call_and_return_conditional_losses_160459) with ops with unsaved custom gradients. Will likely fail if a gradient is requested.\n",
            "WARNING:absl:Importing a function (__inference_block6b_activation_layer_call_and_return_conditional_losses_195407) with ops with unsaved custom gradients. Will likely fail if a gradient is requested.\n",
            "WARNING:absl:Importing a function (__inference_block7a_se_reduce_layer_call_and_return_conditional_losses_163058) with ops with unsaved custom gradients. Will likely fail if a gradient is requested.\n",
            "WARNING:absl:Importing a function (__inference_block3a_se_reduce_layer_call_and_return_conditional_losses_192280) with ops with unsaved custom gradients. Will likely fail if a gradient is requested.\n",
            "WARNING:absl:Importing a function (__inference_block6d_activation_layer_call_and_return_conditional_losses_162671) with ops with unsaved custom gradients. Will likely fail if a gradient is requested.\n",
            "WARNING:absl:Importing a function (__inference__wrapped_model_152628) with ops with unsaved custom gradients. Will likely fail if a gradient is requested.\n",
            "WARNING:absl:Importing a function (__inference_block6b_se_reduce_layer_call_and_return_conditional_losses_162044) with ops with unsaved custom gradients. Will likely fail if a gradient is requested.\n",
            "WARNING:absl:Importing a function (__inference_block2b_se_reduce_layer_call_and_return_conditional_losses_158873) with ops with unsaved custom gradients. Will likely fail if a gradient is requested.\n",
            "WARNING:absl:Importing a function (__inference_block4c_activation_layer_call_and_return_conditional_losses_160410) with ops with unsaved custom gradients. Will likely fail if a gradient is requested.\n",
            "WARNING:absl:Importing a function (__inference_block6a_expand_activation_layer_call_and_return_conditional_losses_195004) with ops with unsaved custom gradients. Will likely fail if a gradient is requested.\n",
            "WARNING:absl:Importing a function (__inference_block3b_activation_layer_call_and_return_conditional_losses_192564) with ops with unsaved custom gradients. Will likely fail if a gradient is requested.\n",
            "WARNING:absl:Importing a function (__inference_block5b_se_reduce_layer_call_and_return_conditional_losses_161082) with ops with unsaved custom gradients. Will likely fail if a gradient is requested.\n",
            "WARNING:absl:Importing a function (__inference_block5c_se_reduce_layer_call_and_return_conditional_losses_161420) with ops with unsaved custom gradients. Will likely fail if a gradient is requested.\n",
            "WARNING:absl:Importing a function (__inference_block4c_activation_layer_call_and_return_conditional_losses_193636) with ops with unsaved custom gradients. Will likely fail if a gradient is requested.\n",
            "WARNING:absl:Importing a function (__inference_top_activation_layer_call_and_return_conditional_losses_196775) with ops with unsaved custom gradients. Will likely fail if a gradient is requested.\n",
            "WARNING:absl:Importing a function (__inference_block4b_activation_layer_call_and_return_conditional_losses_160072) with ops with unsaved custom gradients. Will likely fail if a gradient is requested.\n",
            "WARNING:absl:Importing a function (__inference_block6b_expand_activation_layer_call_and_return_conditional_losses_161939) with ops with unsaved custom gradients. Will likely fail if a gradient is requested.\n",
            "WARNING:absl:Importing a function (__inference_block5a_expand_activation_layer_call_and_return_conditional_losses_193932) with ops with unsaved custom gradients. Will likely fail if a gradient is requested.\n",
            "WARNING:absl:Importing a function (__inference_block4b_expand_activation_layer_call_and_return_conditional_losses_193186) with ops with unsaved custom gradients. Will likely fail if a gradient is requested.\n",
            "WARNING:absl:Importing a function (__inference_block1a_se_reduce_layer_call_and_return_conditional_losses_158302) with ops with unsaved custom gradients. Will likely fail if a gradient is requested.\n",
            "WARNING:absl:Importing a function (__inference_block6a_se_reduce_layer_call_and_return_conditional_losses_195123) with ops with unsaved custom gradients. Will likely fail if a gradient is requested.\n",
            "WARNING:absl:Importing a function (__inference_block2a_expand_activation_layer_call_and_return_conditional_losses_191462) with ops with unsaved custom gradients. Will likely fail if a gradient is requested.\n",
            "WARNING:absl:Importing a function (__inference_block7a_activation_layer_call_and_return_conditional_losses_196526) with ops with unsaved custom gradients. Will likely fail if a gradient is requested.\n",
            "WARNING:absl:Importing a function (__inference_block5a_expand_activation_layer_call_and_return_conditional_losses_160692) with ops with unsaved custom gradients. Will likely fail if a gradient is requested.\n"
          ]
        }
      ]
    },
    {
      "cell_type": "code",
      "metadata": {
        "colab": {
          "base_uri": "https://localhost:8080/"
        },
        "id": "Ae0q3u1MUpPy",
        "outputId": "aab0570a-4adb-4c87-b787-319eb436cbda"
      },
      "source": [
        "results_downloaded_gs_model =downloaded_gs_model.evaluate(test_data)"
      ],
      "execution_count": null,
      "outputs": [
        {
          "name": "stdout",
          "output_type": "stream",
          "text": [
            "790/790 [==============================] - 81s 99ms/step - loss: 1.0881 - accuracy: 0.7067\n"
          ]
        }
      ]
    },
    {
      "cell_type": "code",
      "metadata": {
        "colab": {
          "base_uri": "https://localhost:8080/"
        },
        "id": "R1OKhhQrVAIZ",
        "outputId": "b94bcabe-91f2-40dd-ffb9-93f34a176f54"
      },
      "source": [
        "downloaded_gs_model.summary()"
      ],
      "execution_count": null,
      "outputs": [
        {
          "name": "stdout",
          "output_type": "stream",
          "text": [
            "Model: \"model\"\n",
            "_________________________________________________________________\n",
            "Layer (type)                 Output Shape              Param #   \n",
            "=================================================================\n",
            "input_layer (InputLayer)     [(None, 224, 224, 3)]     0         \n",
            "_________________________________________________________________\n",
            "efficientnetb0 (Functional)  (None, None, None, 1280)  4049571   \n",
            "_________________________________________________________________\n",
            "pooling_layer (GlobalAverage (None, 1280)              0         \n",
            "_________________________________________________________________\n",
            "dense (Dense)                (None, 101)               129381    \n",
            "_________________________________________________________________\n",
            "softmax_float32 (Activation) (None, 101)               0         \n",
            "=================================================================\n",
            "Total params: 4,178,952\n",
            "Trainable params: 129,381\n",
            "Non-trainable params: 4,049,571\n",
            "_________________________________________________________________\n"
          ]
        }
      ]
    },
    {
      "cell_type": "code",
      "metadata": {
        "id": "iN93hJ6vVhhn"
      },
      "source": [
        "for layer in downloaded_gs_model.layers[1].layers:\n",
        "  layer.trainable=True"
      ],
      "execution_count": null,
      "outputs": []
    },
    {
      "cell_type": "code",
      "metadata": {
        "colab": {
          "base_uri": "https://localhost:8080/"
        },
        "id": "W8CXms2mVxWN",
        "outputId": "4e8328cf-04db-4dca-c911-3c7bca458687"
      },
      "source": [
        "for layer in downloaded_gs_model.layers[1].layers:\n",
        "  print(layer.name , layer.trainable )"
      ],
      "execution_count": null,
      "outputs": [
        {
          "name": "stdout",
          "output_type": "stream",
          "text": [
            "input_1 True\n",
            "rescaling True\n",
            "normalization True\n",
            "stem_conv_pad True\n",
            "stem_conv True\n",
            "stem_bn True\n",
            "stem_activation True\n",
            "block1a_dwconv True\n",
            "block1a_bn True\n",
            "block1a_activation True\n",
            "block1a_se_squeeze True\n",
            "block1a_se_reshape True\n",
            "block1a_se_reduce True\n",
            "block1a_se_expand True\n",
            "block1a_se_excite True\n",
            "block1a_project_conv True\n",
            "block1a_project_bn True\n",
            "block2a_expand_conv True\n",
            "block2a_expand_bn True\n",
            "block2a_expand_activation True\n",
            "block2a_dwconv_pad True\n",
            "block2a_dwconv True\n",
            "block2a_bn True\n",
            "block2a_activation True\n",
            "block2a_se_squeeze True\n",
            "block2a_se_reshape True\n",
            "block2a_se_reduce True\n",
            "block2a_se_expand True\n",
            "block2a_se_excite True\n",
            "block2a_project_conv True\n",
            "block2a_project_bn True\n",
            "block2b_expand_conv True\n",
            "block2b_expand_bn True\n",
            "block2b_expand_activation True\n",
            "block2b_dwconv True\n",
            "block2b_bn True\n",
            "block2b_activation True\n",
            "block2b_se_squeeze True\n",
            "block2b_se_reshape True\n",
            "block2b_se_reduce True\n",
            "block2b_se_expand True\n",
            "block2b_se_excite True\n",
            "block2b_project_conv True\n",
            "block2b_project_bn True\n",
            "block2b_drop True\n",
            "block2b_add True\n",
            "block3a_expand_conv True\n",
            "block3a_expand_bn True\n",
            "block3a_expand_activation True\n",
            "block3a_dwconv_pad True\n",
            "block3a_dwconv True\n",
            "block3a_bn True\n",
            "block3a_activation True\n",
            "block3a_se_squeeze True\n",
            "block3a_se_reshape True\n",
            "block3a_se_reduce True\n",
            "block3a_se_expand True\n",
            "block3a_se_excite True\n",
            "block3a_project_conv True\n",
            "block3a_project_bn True\n",
            "block3b_expand_conv True\n",
            "block3b_expand_bn True\n",
            "block3b_expand_activation True\n",
            "block3b_dwconv True\n",
            "block3b_bn True\n",
            "block3b_activation True\n",
            "block3b_se_squeeze True\n",
            "block3b_se_reshape True\n",
            "block3b_se_reduce True\n",
            "block3b_se_expand True\n",
            "block3b_se_excite True\n",
            "block3b_project_conv True\n",
            "block3b_project_bn True\n",
            "block3b_drop True\n",
            "block3b_add True\n",
            "block4a_expand_conv True\n",
            "block4a_expand_bn True\n",
            "block4a_expand_activation True\n",
            "block4a_dwconv_pad True\n",
            "block4a_dwconv True\n",
            "block4a_bn True\n",
            "block4a_activation True\n",
            "block4a_se_squeeze True\n",
            "block4a_se_reshape True\n",
            "block4a_se_reduce True\n",
            "block4a_se_expand True\n",
            "block4a_se_excite True\n",
            "block4a_project_conv True\n",
            "block4a_project_bn True\n",
            "block4b_expand_conv True\n",
            "block4b_expand_bn True\n",
            "block4b_expand_activation True\n",
            "block4b_dwconv True\n",
            "block4b_bn True\n",
            "block4b_activation True\n",
            "block4b_se_squeeze True\n",
            "block4b_se_reshape True\n",
            "block4b_se_reduce True\n",
            "block4b_se_expand True\n",
            "block4b_se_excite True\n",
            "block4b_project_conv True\n",
            "block4b_project_bn True\n",
            "block4b_drop True\n",
            "block4b_add True\n",
            "block4c_expand_conv True\n",
            "block4c_expand_bn True\n",
            "block4c_expand_activation True\n",
            "block4c_dwconv True\n",
            "block4c_bn True\n",
            "block4c_activation True\n",
            "block4c_se_squeeze True\n",
            "block4c_se_reshape True\n",
            "block4c_se_reduce True\n",
            "block4c_se_expand True\n",
            "block4c_se_excite True\n",
            "block4c_project_conv True\n",
            "block4c_project_bn True\n",
            "block4c_drop True\n",
            "block4c_add True\n",
            "block5a_expand_conv True\n",
            "block5a_expand_bn True\n",
            "block5a_expand_activation True\n",
            "block5a_dwconv True\n",
            "block5a_bn True\n",
            "block5a_activation True\n",
            "block5a_se_squeeze True\n",
            "block5a_se_reshape True\n",
            "block5a_se_reduce True\n",
            "block5a_se_expand True\n",
            "block5a_se_excite True\n",
            "block5a_project_conv True\n",
            "block5a_project_bn True\n",
            "block5b_expand_conv True\n",
            "block5b_expand_bn True\n",
            "block5b_expand_activation True\n",
            "block5b_dwconv True\n",
            "block5b_bn True\n",
            "block5b_activation True\n",
            "block5b_se_squeeze True\n",
            "block5b_se_reshape True\n",
            "block5b_se_reduce True\n",
            "block5b_se_expand True\n",
            "block5b_se_excite True\n",
            "block5b_project_conv True\n",
            "block5b_project_bn True\n",
            "block5b_drop True\n",
            "block5b_add True\n",
            "block5c_expand_conv True\n",
            "block5c_expand_bn True\n",
            "block5c_expand_activation True\n",
            "block5c_dwconv True\n",
            "block5c_bn True\n",
            "block5c_activation True\n",
            "block5c_se_squeeze True\n",
            "block5c_se_reshape True\n",
            "block5c_se_reduce True\n",
            "block5c_se_expand True\n",
            "block5c_se_excite True\n",
            "block5c_project_conv True\n",
            "block5c_project_bn True\n",
            "block5c_drop True\n",
            "block5c_add True\n",
            "block6a_expand_conv True\n",
            "block6a_expand_bn True\n",
            "block6a_expand_activation True\n",
            "block6a_dwconv_pad True\n",
            "block6a_dwconv True\n",
            "block6a_bn True\n",
            "block6a_activation True\n",
            "block6a_se_squeeze True\n",
            "block6a_se_reshape True\n",
            "block6a_se_reduce True\n",
            "block6a_se_expand True\n",
            "block6a_se_excite True\n",
            "block6a_project_conv True\n",
            "block6a_project_bn True\n",
            "block6b_expand_conv True\n",
            "block6b_expand_bn True\n",
            "block6b_expand_activation True\n",
            "block6b_dwconv True\n",
            "block6b_bn True\n",
            "block6b_activation True\n",
            "block6b_se_squeeze True\n",
            "block6b_se_reshape True\n",
            "block6b_se_reduce True\n",
            "block6b_se_expand True\n",
            "block6b_se_excite True\n",
            "block6b_project_conv True\n",
            "block6b_project_bn True\n",
            "block6b_drop True\n",
            "block6b_add True\n",
            "block6c_expand_conv True\n",
            "block6c_expand_bn True\n",
            "block6c_expand_activation True\n",
            "block6c_dwconv True\n",
            "block6c_bn True\n",
            "block6c_activation True\n",
            "block6c_se_squeeze True\n",
            "block6c_se_reshape True\n",
            "block6c_se_reduce True\n",
            "block6c_se_expand True\n",
            "block6c_se_excite True\n",
            "block6c_project_conv True\n",
            "block6c_project_bn True\n",
            "block6c_drop True\n",
            "block6c_add True\n",
            "block6d_expand_conv True\n",
            "block6d_expand_bn True\n",
            "block6d_expand_activation True\n",
            "block6d_dwconv True\n",
            "block6d_bn True\n",
            "block6d_activation True\n",
            "block6d_se_squeeze True\n",
            "block6d_se_reshape True\n",
            "block6d_se_reduce True\n",
            "block6d_se_expand True\n",
            "block6d_se_excite True\n",
            "block6d_project_conv True\n",
            "block6d_project_bn True\n",
            "block6d_drop True\n",
            "block6d_add True\n",
            "block7a_expand_conv True\n",
            "block7a_expand_bn True\n",
            "block7a_expand_activation True\n",
            "block7a_dwconv True\n",
            "block7a_bn True\n",
            "block7a_activation True\n",
            "block7a_se_squeeze True\n",
            "block7a_se_reshape True\n",
            "block7a_se_reduce True\n",
            "block7a_se_expand True\n",
            "block7a_se_excite True\n",
            "block7a_project_conv True\n",
            "block7a_project_bn True\n",
            "top_conv True\n",
            "top_bn True\n",
            "top_activation True\n"
          ]
        }
      ]
    },
    {
      "cell_type": "code",
      "metadata": {
        "colab": {
          "base_uri": "https://localhost:8080/"
        },
        "id": "7upvm7t5Woev",
        "outputId": "d8c2b921-8052-4432-ed38-fb511f799337"
      },
      "source": [
        "for layer in downloaded_gs_model.layers[1].layers:\n",
        "  print(layer.name , layer.trainable  ,layer.dtype_policy)"
      ],
      "execution_count": null,
      "outputs": [
        {
          "name": "stdout",
          "output_type": "stream",
          "text": [
            "input_1 True <Policy \"float32\">\n",
            "rescaling True <Policy \"mixed_float16\">\n",
            "normalization True <Policy \"float32\">\n",
            "stem_conv_pad True <Policy \"mixed_float16\">\n",
            "stem_conv True <Policy \"mixed_float16\">\n",
            "stem_bn True <Policy \"mixed_float16\">\n",
            "stem_activation True <Policy \"mixed_float16\">\n",
            "block1a_dwconv True <Policy \"mixed_float16\">\n",
            "block1a_bn True <Policy \"mixed_float16\">\n",
            "block1a_activation True <Policy \"mixed_float16\">\n",
            "block1a_se_squeeze True <Policy \"mixed_float16\">\n",
            "block1a_se_reshape True <Policy \"mixed_float16\">\n",
            "block1a_se_reduce True <Policy \"mixed_float16\">\n",
            "block1a_se_expand True <Policy \"mixed_float16\">\n",
            "block1a_se_excite True <Policy \"mixed_float16\">\n",
            "block1a_project_conv True <Policy \"mixed_float16\">\n",
            "block1a_project_bn True <Policy \"mixed_float16\">\n",
            "block2a_expand_conv True <Policy \"mixed_float16\">\n",
            "block2a_expand_bn True <Policy \"mixed_float16\">\n",
            "block2a_expand_activation True <Policy \"mixed_float16\">\n",
            "block2a_dwconv_pad True <Policy \"mixed_float16\">\n",
            "block2a_dwconv True <Policy \"mixed_float16\">\n",
            "block2a_bn True <Policy \"mixed_float16\">\n",
            "block2a_activation True <Policy \"mixed_float16\">\n",
            "block2a_se_squeeze True <Policy \"mixed_float16\">\n",
            "block2a_se_reshape True <Policy \"mixed_float16\">\n",
            "block2a_se_reduce True <Policy \"mixed_float16\">\n",
            "block2a_se_expand True <Policy \"mixed_float16\">\n",
            "block2a_se_excite True <Policy \"mixed_float16\">\n",
            "block2a_project_conv True <Policy \"mixed_float16\">\n",
            "block2a_project_bn True <Policy \"mixed_float16\">\n",
            "block2b_expand_conv True <Policy \"mixed_float16\">\n",
            "block2b_expand_bn True <Policy \"mixed_float16\">\n",
            "block2b_expand_activation True <Policy \"mixed_float16\">\n",
            "block2b_dwconv True <Policy \"mixed_float16\">\n",
            "block2b_bn True <Policy \"mixed_float16\">\n",
            "block2b_activation True <Policy \"mixed_float16\">\n",
            "block2b_se_squeeze True <Policy \"mixed_float16\">\n",
            "block2b_se_reshape True <Policy \"mixed_float16\">\n",
            "block2b_se_reduce True <Policy \"mixed_float16\">\n",
            "block2b_se_expand True <Policy \"mixed_float16\">\n",
            "block2b_se_excite True <Policy \"mixed_float16\">\n",
            "block2b_project_conv True <Policy \"mixed_float16\">\n",
            "block2b_project_bn True <Policy \"mixed_float16\">\n",
            "block2b_drop True <Policy \"mixed_float16\">\n",
            "block2b_add True <Policy \"mixed_float16\">\n",
            "block3a_expand_conv True <Policy \"mixed_float16\">\n",
            "block3a_expand_bn True <Policy \"mixed_float16\">\n",
            "block3a_expand_activation True <Policy \"mixed_float16\">\n",
            "block3a_dwconv_pad True <Policy \"mixed_float16\">\n",
            "block3a_dwconv True <Policy \"mixed_float16\">\n",
            "block3a_bn True <Policy \"mixed_float16\">\n",
            "block3a_activation True <Policy \"mixed_float16\">\n",
            "block3a_se_squeeze True <Policy \"mixed_float16\">\n",
            "block3a_se_reshape True <Policy \"mixed_float16\">\n",
            "block3a_se_reduce True <Policy \"mixed_float16\">\n",
            "block3a_se_expand True <Policy \"mixed_float16\">\n",
            "block3a_se_excite True <Policy \"mixed_float16\">\n",
            "block3a_project_conv True <Policy \"mixed_float16\">\n",
            "block3a_project_bn True <Policy \"mixed_float16\">\n",
            "block3b_expand_conv True <Policy \"mixed_float16\">\n",
            "block3b_expand_bn True <Policy \"mixed_float16\">\n",
            "block3b_expand_activation True <Policy \"mixed_float16\">\n",
            "block3b_dwconv True <Policy \"mixed_float16\">\n",
            "block3b_bn True <Policy \"mixed_float16\">\n",
            "block3b_activation True <Policy \"mixed_float16\">\n",
            "block3b_se_squeeze True <Policy \"mixed_float16\">\n",
            "block3b_se_reshape True <Policy \"mixed_float16\">\n",
            "block3b_se_reduce True <Policy \"mixed_float16\">\n",
            "block3b_se_expand True <Policy \"mixed_float16\">\n",
            "block3b_se_excite True <Policy \"mixed_float16\">\n",
            "block3b_project_conv True <Policy \"mixed_float16\">\n",
            "block3b_project_bn True <Policy \"mixed_float16\">\n",
            "block3b_drop True <Policy \"mixed_float16\">\n",
            "block3b_add True <Policy \"mixed_float16\">\n",
            "block4a_expand_conv True <Policy \"mixed_float16\">\n",
            "block4a_expand_bn True <Policy \"mixed_float16\">\n",
            "block4a_expand_activation True <Policy \"mixed_float16\">\n",
            "block4a_dwconv_pad True <Policy \"mixed_float16\">\n",
            "block4a_dwconv True <Policy \"mixed_float16\">\n",
            "block4a_bn True <Policy \"mixed_float16\">\n",
            "block4a_activation True <Policy \"mixed_float16\">\n",
            "block4a_se_squeeze True <Policy \"mixed_float16\">\n",
            "block4a_se_reshape True <Policy \"mixed_float16\">\n",
            "block4a_se_reduce True <Policy \"mixed_float16\">\n",
            "block4a_se_expand True <Policy \"mixed_float16\">\n",
            "block4a_se_excite True <Policy \"mixed_float16\">\n",
            "block4a_project_conv True <Policy \"mixed_float16\">\n",
            "block4a_project_bn True <Policy \"mixed_float16\">\n",
            "block4b_expand_conv True <Policy \"mixed_float16\">\n",
            "block4b_expand_bn True <Policy \"mixed_float16\">\n",
            "block4b_expand_activation True <Policy \"mixed_float16\">\n",
            "block4b_dwconv True <Policy \"mixed_float16\">\n",
            "block4b_bn True <Policy \"mixed_float16\">\n",
            "block4b_activation True <Policy \"mixed_float16\">\n",
            "block4b_se_squeeze True <Policy \"mixed_float16\">\n",
            "block4b_se_reshape True <Policy \"mixed_float16\">\n",
            "block4b_se_reduce True <Policy \"mixed_float16\">\n",
            "block4b_se_expand True <Policy \"mixed_float16\">\n",
            "block4b_se_excite True <Policy \"mixed_float16\">\n",
            "block4b_project_conv True <Policy \"mixed_float16\">\n",
            "block4b_project_bn True <Policy \"mixed_float16\">\n",
            "block4b_drop True <Policy \"mixed_float16\">\n",
            "block4b_add True <Policy \"mixed_float16\">\n",
            "block4c_expand_conv True <Policy \"mixed_float16\">\n",
            "block4c_expand_bn True <Policy \"mixed_float16\">\n",
            "block4c_expand_activation True <Policy \"mixed_float16\">\n",
            "block4c_dwconv True <Policy \"mixed_float16\">\n",
            "block4c_bn True <Policy \"mixed_float16\">\n",
            "block4c_activation True <Policy \"mixed_float16\">\n",
            "block4c_se_squeeze True <Policy \"mixed_float16\">\n",
            "block4c_se_reshape True <Policy \"mixed_float16\">\n",
            "block4c_se_reduce True <Policy \"mixed_float16\">\n",
            "block4c_se_expand True <Policy \"mixed_float16\">\n",
            "block4c_se_excite True <Policy \"mixed_float16\">\n",
            "block4c_project_conv True <Policy \"mixed_float16\">\n",
            "block4c_project_bn True <Policy \"mixed_float16\">\n",
            "block4c_drop True <Policy \"mixed_float16\">\n",
            "block4c_add True <Policy \"mixed_float16\">\n",
            "block5a_expand_conv True <Policy \"mixed_float16\">\n",
            "block5a_expand_bn True <Policy \"mixed_float16\">\n",
            "block5a_expand_activation True <Policy \"mixed_float16\">\n",
            "block5a_dwconv True <Policy \"mixed_float16\">\n",
            "block5a_bn True <Policy \"mixed_float16\">\n",
            "block5a_activation True <Policy \"mixed_float16\">\n",
            "block5a_se_squeeze True <Policy \"mixed_float16\">\n",
            "block5a_se_reshape True <Policy \"mixed_float16\">\n",
            "block5a_se_reduce True <Policy \"mixed_float16\">\n",
            "block5a_se_expand True <Policy \"mixed_float16\">\n",
            "block5a_se_excite True <Policy \"mixed_float16\">\n",
            "block5a_project_conv True <Policy \"mixed_float16\">\n",
            "block5a_project_bn True <Policy \"mixed_float16\">\n",
            "block5b_expand_conv True <Policy \"mixed_float16\">\n",
            "block5b_expand_bn True <Policy \"mixed_float16\">\n",
            "block5b_expand_activation True <Policy \"mixed_float16\">\n",
            "block5b_dwconv True <Policy \"mixed_float16\">\n",
            "block5b_bn True <Policy \"mixed_float16\">\n",
            "block5b_activation True <Policy \"mixed_float16\">\n",
            "block5b_se_squeeze True <Policy \"mixed_float16\">\n",
            "block5b_se_reshape True <Policy \"mixed_float16\">\n",
            "block5b_se_reduce True <Policy \"mixed_float16\">\n",
            "block5b_se_expand True <Policy \"mixed_float16\">\n",
            "block5b_se_excite True <Policy \"mixed_float16\">\n",
            "block5b_project_conv True <Policy \"mixed_float16\">\n",
            "block5b_project_bn True <Policy \"mixed_float16\">\n",
            "block5b_drop True <Policy \"mixed_float16\">\n",
            "block5b_add True <Policy \"mixed_float16\">\n",
            "block5c_expand_conv True <Policy \"mixed_float16\">\n",
            "block5c_expand_bn True <Policy \"mixed_float16\">\n",
            "block5c_expand_activation True <Policy \"mixed_float16\">\n",
            "block5c_dwconv True <Policy \"mixed_float16\">\n",
            "block5c_bn True <Policy \"mixed_float16\">\n",
            "block5c_activation True <Policy \"mixed_float16\">\n",
            "block5c_se_squeeze True <Policy \"mixed_float16\">\n",
            "block5c_se_reshape True <Policy \"mixed_float16\">\n",
            "block5c_se_reduce True <Policy \"mixed_float16\">\n",
            "block5c_se_expand True <Policy \"mixed_float16\">\n",
            "block5c_se_excite True <Policy \"mixed_float16\">\n",
            "block5c_project_conv True <Policy \"mixed_float16\">\n",
            "block5c_project_bn True <Policy \"mixed_float16\">\n",
            "block5c_drop True <Policy \"mixed_float16\">\n",
            "block5c_add True <Policy \"mixed_float16\">\n",
            "block6a_expand_conv True <Policy \"mixed_float16\">\n",
            "block6a_expand_bn True <Policy \"mixed_float16\">\n",
            "block6a_expand_activation True <Policy \"mixed_float16\">\n",
            "block6a_dwconv_pad True <Policy \"mixed_float16\">\n",
            "block6a_dwconv True <Policy \"mixed_float16\">\n",
            "block6a_bn True <Policy \"mixed_float16\">\n",
            "block6a_activation True <Policy \"mixed_float16\">\n",
            "block6a_se_squeeze True <Policy \"mixed_float16\">\n",
            "block6a_se_reshape True <Policy \"mixed_float16\">\n",
            "block6a_se_reduce True <Policy \"mixed_float16\">\n",
            "block6a_se_expand True <Policy \"mixed_float16\">\n",
            "block6a_se_excite True <Policy \"mixed_float16\">\n",
            "block6a_project_conv True <Policy \"mixed_float16\">\n",
            "block6a_project_bn True <Policy \"mixed_float16\">\n",
            "block6b_expand_conv True <Policy \"mixed_float16\">\n",
            "block6b_expand_bn True <Policy \"mixed_float16\">\n",
            "block6b_expand_activation True <Policy \"mixed_float16\">\n",
            "block6b_dwconv True <Policy \"mixed_float16\">\n",
            "block6b_bn True <Policy \"mixed_float16\">\n",
            "block6b_activation True <Policy \"mixed_float16\">\n",
            "block6b_se_squeeze True <Policy \"mixed_float16\">\n",
            "block6b_se_reshape True <Policy \"mixed_float16\">\n",
            "block6b_se_reduce True <Policy \"mixed_float16\">\n",
            "block6b_se_expand True <Policy \"mixed_float16\">\n",
            "block6b_se_excite True <Policy \"mixed_float16\">\n",
            "block6b_project_conv True <Policy \"mixed_float16\">\n",
            "block6b_project_bn True <Policy \"mixed_float16\">\n",
            "block6b_drop True <Policy \"mixed_float16\">\n",
            "block6b_add True <Policy \"mixed_float16\">\n",
            "block6c_expand_conv True <Policy \"mixed_float16\">\n",
            "block6c_expand_bn True <Policy \"mixed_float16\">\n",
            "block6c_expand_activation True <Policy \"mixed_float16\">\n",
            "block6c_dwconv True <Policy \"mixed_float16\">\n",
            "block6c_bn True <Policy \"mixed_float16\">\n",
            "block6c_activation True <Policy \"mixed_float16\">\n",
            "block6c_se_squeeze True <Policy \"mixed_float16\">\n",
            "block6c_se_reshape True <Policy \"mixed_float16\">\n",
            "block6c_se_reduce True <Policy \"mixed_float16\">\n",
            "block6c_se_expand True <Policy \"mixed_float16\">\n",
            "block6c_se_excite True <Policy \"mixed_float16\">\n",
            "block6c_project_conv True <Policy \"mixed_float16\">\n",
            "block6c_project_bn True <Policy \"mixed_float16\">\n",
            "block6c_drop True <Policy \"mixed_float16\">\n",
            "block6c_add True <Policy \"mixed_float16\">\n",
            "block6d_expand_conv True <Policy \"mixed_float16\">\n",
            "block6d_expand_bn True <Policy \"mixed_float16\">\n",
            "block6d_expand_activation True <Policy \"mixed_float16\">\n",
            "block6d_dwconv True <Policy \"mixed_float16\">\n",
            "block6d_bn True <Policy \"mixed_float16\">\n",
            "block6d_activation True <Policy \"mixed_float16\">\n",
            "block6d_se_squeeze True <Policy \"mixed_float16\">\n",
            "block6d_se_reshape True <Policy \"mixed_float16\">\n",
            "block6d_se_reduce True <Policy \"mixed_float16\">\n",
            "block6d_se_expand True <Policy \"mixed_float16\">\n",
            "block6d_se_excite True <Policy \"mixed_float16\">\n",
            "block6d_project_conv True <Policy \"mixed_float16\">\n",
            "block6d_project_bn True <Policy \"mixed_float16\">\n",
            "block6d_drop True <Policy \"mixed_float16\">\n",
            "block6d_add True <Policy \"mixed_float16\">\n",
            "block7a_expand_conv True <Policy \"mixed_float16\">\n",
            "block7a_expand_bn True <Policy \"mixed_float16\">\n",
            "block7a_expand_activation True <Policy \"mixed_float16\">\n",
            "block7a_dwconv True <Policy \"mixed_float16\">\n",
            "block7a_bn True <Policy \"mixed_float16\">\n",
            "block7a_activation True <Policy \"mixed_float16\">\n",
            "block7a_se_squeeze True <Policy \"mixed_float16\">\n",
            "block7a_se_reshape True <Policy \"mixed_float16\">\n",
            "block7a_se_reduce True <Policy \"mixed_float16\">\n",
            "block7a_se_expand True <Policy \"mixed_float16\">\n",
            "block7a_se_excite True <Policy \"mixed_float16\">\n",
            "block7a_project_conv True <Policy \"mixed_float16\">\n",
            "block7a_project_bn True <Policy \"mixed_float16\">\n",
            "top_conv True <Policy \"mixed_float16\">\n",
            "top_bn True <Policy \"mixed_float16\">\n",
            "top_activation True <Policy \"mixed_float16\">\n"
          ]
        }
      ]
    },
    {
      "cell_type": "code",
      "metadata": {
        "id": "XpghOafnXXmx"
      },
      "source": [
        "early_stopping_callback = tf.keras.callbacks.EarlyStopping(monitor=\"val_loss\",\n",
        "                                                           patience=3)\n",
        "checkpoint_path = \"checkpoint_path/fine_tune/ck.ckpt\"\n",
        "model_modelpoint = tf.keras.callbacks.ModelCheckpoint(checkpoint_path,\n",
        "                                                      monitor=\"val_loss\",\n",
        "                                                      save_best_model=True)"
      ],
      "execution_count": null,
      "outputs": []
    },
    {
      "cell_type": "code",
      "metadata": {
        "id": "S1fb3gfUYKgX"
      },
      "source": [
        "downloaded_gs_model.compile(loss=\"sparse_categorical_crossentropy\",\n",
        "                            optimizer=tf.keras.optimizers.Adam(1e-4),\n",
        "                            metrics=[\"accuracy\"])"
      ],
      "execution_count": null,
      "outputs": []
    },
    {
      "cell_type": "code",
      "metadata": {
        "colab": {
          "base_uri": "https://localhost:8080/"
        },
        "id": "ExT1EjmmZXhs",
        "outputId": "1f72a5d4-5d3b-4396-adf6-e221b25e9607"
      },
      "source": [
        "history_model_fine_tune = downloaded_gs_model.fit(train_data,\n",
        "                                                  epochs=100,\n",
        "                                                  steps_per_epoch=len(train_data),\n",
        "                                                  validation_data=test_data,\n",
        "                                                  validation_steps=int(0.15*len(test_data)),\n",
        "                                                  callbacks = [create_tensorboard_callback(\"tensorboard\" ,\n",
        "                                                                                           \"Efficientb0_fine_tune\"),\n",
        "                                                               model_checkpoint,\n",
        "                                                               early_stopping_callback])"
      ],
      "execution_count": null,
      "outputs": [
        {
          "name": "stdout",
          "output_type": "stream",
          "text": [
            "Saving TensorBoard log files to: tensorboard/Efficientb0_fine_tune/20210905-031943\n",
            "Epoch 1/100\n"
          ]
        },
        {
          "name": "stderr",
          "output_type": "stream",
          "text": [
            "/usr/local/lib/python3.7/dist-packages/keras/utils/generic_utils.py:497: CustomMaskWarning: Custom mask layers require a config and must override get_config. When loading, the custom mask layer must be passed to the custom_objects argument.\n",
            "  category=CustomMaskWarning)\n"
          ]
        },
        {
          "name": "stdout",
          "output_type": "stream",
          "text": [
            "2368/2368 [==============================] - 270s 110ms/step - loss: 0.9718 - accuracy: 0.7521 - val_loss: 1.0449 - val_accuracy: 0.7217\n",
            "Epoch 2/100\n",
            "2368/2368 [==============================] - 259s 108ms/step - loss: 0.9549 - accuracy: 0.7568 - val_loss: 1.0440 - val_accuracy: 0.7206\n",
            "Epoch 3/100\n",
            "2368/2368 [==============================] - 258s 108ms/step - loss: 0.9440 - accuracy: 0.7597 - val_loss: 1.0468 - val_accuracy: 0.7201\n",
            "Epoch 4/100\n",
            "2368/2368 [==============================] - 262s 110ms/step - loss: 0.9345 - accuracy: 0.7619 - val_loss: 1.0451 - val_accuracy: 0.7235\n",
            "Epoch 5/100\n",
            "2368/2368 [==============================] - 272s 114ms/step - loss: 0.9257 - accuracy: 0.7652 - val_loss: 1.0441 - val_accuracy: 0.7233\n"
          ]
        }
      ]
    },
    {
      "cell_type": "code",
      "metadata": {
        "colab": {
          "base_uri": "https://localhost:8080/"
        },
        "id": "sCvEc6B2GRAT",
        "outputId": "f3f5b235-8878-457f-fca7-1833a4a9ec37"
      },
      "source": [
        "results_downloaded_gs_model = downloaded_gs_model.evaluate(test_data)"
      ],
      "execution_count": null,
      "outputs": [
        {
          "name": "stdout",
          "output_type": "stream",
          "text": [
            "790/790 [==============================] - 80s 101ms/step - loss: 1.0412 - accuracy: 0.7202\n"
          ]
        }
      ]
    },
    {
      "cell_type": "code",
      "metadata": {
        "colab": {
          "base_uri": "https://localhost:8080/"
        },
        "id": "fxNMo_62aRd_",
        "outputId": "b5fdfdf8-bafb-4fd1-a459-3ee9226b16d7"
      },
      "source": [
        "downloaded_gs_model.save(\"/content/drive/MyDrive/downloaded_GS_Fine_Tuned_Model\")"
      ],
      "execution_count": null,
      "outputs": [
        {
          "name": "stdout",
          "output_type": "stream",
          "text": [
            "INFO:tensorflow:Assets written to: /content/drive/MyDrive/downloaded_GS_Fine_Tuned_Model/assets\n"
          ]
        },
        {
          "name": "stderr",
          "output_type": "stream",
          "text": [
            "INFO:tensorflow:Assets written to: /content/drive/MyDrive/downloaded_GS_Fine_Tuned_Model/assets\n",
            "/usr/local/lib/python3.7/dist-packages/keras/utils/generic_utils.py:497: CustomMaskWarning: Custom mask layers require a config and must override get_config. When loading, the custom mask layer must be passed to the custom_objects argument.\n",
            "  category=CustomMaskWarning)\n"
          ]
        }
      ]
    },
    {
      "cell_type": "code",
      "metadata": {
        "colab": {
          "base_uri": "https://localhost:8080/"
        },
        "id": "A28WZliaDmh5",
        "outputId": "e9938110-6b84-4852-ddd8-eb8b3b1823c6"
      },
      "source": [
        "loaded_download_gs_model = tf.keras.models.load_model(\"/content/drive/MyDrive/downloaded_GS_Fine_Tuned_Model\")"
      ],
      "execution_count": null,
      "outputs": [
        {
          "name": "stderr",
          "output_type": "stream",
          "text": [
            "WARNING:absl:Importing a function (__inference_block1a_activation_layer_call_and_return_conditional_losses_275384) with ops with unsaved custom gradients. Will likely fail if a gradient is requested.\n",
            "WARNING:absl:Importing a function (__inference_block3b_expand_activation_layer_call_and_return_conditional_losses_241481) with ops with unsaved custom gradients. Will likely fail if a gradient is requested.\n",
            "WARNING:absl:Importing a function (__inference_block6c_se_reduce_layer_call_and_return_conditional_losses_243020) with ops with unsaved custom gradients. Will likely fail if a gradient is requested.\n",
            "WARNING:absl:Importing a function (__inference_block4a_activation_layer_call_and_return_conditional_losses_277369) with ops with unsaved custom gradients. Will likely fail if a gradient is requested.\n",
            "WARNING:absl:Importing a function (__inference_block1a_se_reduce_layer_call_and_return_conditional_losses_240911) with ops with unsaved custom gradients. Will likely fail if a gradient is requested.\n",
            "WARNING:absl:Importing a function (__inference_block6c_expand_activation_layer_call_and_return_conditional_losses_280452) with ops with unsaved custom gradients. Will likely fail if a gradient is requested.\n",
            "WARNING:absl:Importing a function (__inference_block5b_se_reduce_layer_call_and_return_conditional_losses_242360) with ops with unsaved custom gradients. Will likely fail if a gradient is requested.\n",
            "WARNING:absl:Importing a function (__inference_block6b_se_reduce_layer_call_and_return_conditional_losses_280202) with ops with unsaved custom gradients. Will likely fail if a gradient is requested.\n",
            "WARNING:absl:Importing a function (__inference_block4a_expand_activation_layer_call_and_return_conditional_losses_241648) with ops with unsaved custom gradients. Will likely fail if a gradient is requested.\n",
            "WARNING:absl:Importing a function (__inference_block3b_se_reduce_layer_call_and_return_conditional_losses_241548) with ops with unsaved custom gradients. Will likely fail if a gradient is requested.\n",
            "WARNING:absl:Importing a function (__inference_block6c_activation_layer_call_and_return_conditional_losses_280546) with ops with unsaved custom gradients. Will likely fail if a gradient is requested.\n",
            "WARNING:absl:Importing a function (__inference_block2b_activation_layer_call_and_return_conditional_losses_276136) with ops with unsaved custom gradients. Will likely fail if a gradient is requested.\n",
            "WARNING:absl:Importing a function (__inference_block4b_expand_activation_layer_call_and_return_conditional_losses_277640) with ops with unsaved custom gradients. Will likely fail if a gradient is requested.\n",
            "WARNING:absl:Importing a function (__inference_efficientnetb0_layer_call_and_return_conditional_losses_275108) with ops with unsaved custom gradients. Will likely fail if a gradient is requested.\n",
            "WARNING:absl:Importing a function (__inference_block6c_se_reduce_layer_call_and_return_conditional_losses_280614) with ops with unsaved custom gradients. Will likely fail if a gradient is requested.\n",
            "WARNING:absl:Importing a function (__inference_block4a_activation_layer_call_and_return_conditional_losses_241679) with ops with unsaved custom gradients. Will likely fail if a gradient is requested.\n",
            "WARNING:absl:Importing a function (__inference_block5a_activation_layer_call_and_return_conditional_losses_278558) with ops with unsaved custom gradients. Will likely fail if a gradient is requested.\n",
            "WARNING:absl:Importing a function (__inference_block5b_expand_activation_layer_call_and_return_conditional_losses_242293) with ops with unsaved custom gradients. Will likely fail if a gradient is requested.\n",
            "WARNING:absl:Importing a function (__inference__wrapped_model_233523) with ops with unsaved custom gradients. Will likely fail if a gradient is requested.\n",
            "WARNING:absl:Importing a function (__inference_model_layer_call_and_return_conditional_losses_263638) with ops with unsaved custom gradients. Will likely fail if a gradient is requested.\n",
            "WARNING:absl:Importing a function (__inference_block4a_se_reduce_layer_call_and_return_conditional_losses_277437) with ops with unsaved custom gradients. Will likely fail if a gradient is requested.\n",
            "WARNING:absl:Importing a function (__inference_block1a_se_reduce_layer_call_and_return_conditional_losses_275452) with ops with unsaved custom gradients. Will likely fail if a gradient is requested.\n",
            "WARNING:absl:Importing a function (__inference_block4a_expand_activation_layer_call_and_return_conditional_losses_277253) with ops with unsaved custom gradients. Will likely fail if a gradient is requested.\n",
            "WARNING:absl:Importing a function (__inference_block5c_se_reduce_layer_call_and_return_conditional_losses_279403) with ops with unsaved custom gradients. Will likely fail if a gradient is requested.\n",
            "WARNING:absl:Importing a function (__inference_block3a_activation_layer_call_and_return_conditional_losses_276570) with ops with unsaved custom gradients. Will likely fail if a gradient is requested.\n",
            "WARNING:absl:Importing a function (__inference_block5a_activation_layer_call_and_return_conditional_losses_242165) with ops with unsaved custom gradients. Will likely fail if a gradient is requested.\n",
            "WARNING:absl:Importing a function (__inference_block4b_expand_activation_layer_call_and_return_conditional_losses_241807) with ops with unsaved custom gradients. Will likely fail if a gradient is requested.\n",
            "WARNING:absl:Importing a function (__inference_block6b_activation_layer_call_and_return_conditional_losses_280134) with ops with unsaved custom gradients. Will likely fail if a gradient is requested.\n",
            "WARNING:absl:Importing a function (__inference_block5a_expand_activation_layer_call_and_return_conditional_losses_242141) with ops with unsaved custom gradients. Will likely fail if a gradient is requested.\n",
            "WARNING:absl:Importing a function (__inference_block4b_activation_layer_call_and_return_conditional_losses_241831) with ops with unsaved custom gradients. Will likely fail if a gradient is requested.\n",
            "WARNING:absl:Importing a function (__inference_block3a_se_reduce_layer_call_and_return_conditional_losses_241396) with ops with unsaved custom gradients. Will likely fail if a gradient is requested.\n",
            "WARNING:absl:Importing a function (__inference_block2a_activation_layer_call_and_return_conditional_losses_275771) with ops with unsaved custom gradients. Will likely fail if a gradient is requested.\n",
            "WARNING:absl:Importing a function (__inference_block7a_expand_activation_layer_call_and_return_conditional_losses_243287) with ops with unsaved custom gradients. Will likely fail if a gradient is requested.\n",
            "WARNING:absl:Importing a function (__inference_block2a_se_reduce_layer_call_and_return_conditional_losses_275839) with ops with unsaved custom gradients. Will likely fail if a gradient is requested.\n",
            "WARNING:absl:Importing a function (__inference_block3b_activation_layer_call_and_return_conditional_losses_241505) with ops with unsaved custom gradients. Will likely fail if a gradient is requested.\n",
            "WARNING:absl:Importing a function (__inference_model_layer_call_and_return_conditional_losses_265386) with ops with unsaved custom gradients. Will likely fail if a gradient is requested.\n",
            "WARNING:absl:Importing a function (__inference_block5c_expand_activation_layer_call_and_return_conditional_losses_242460) with ops with unsaved custom gradients. Will likely fail if a gradient is requested.\n",
            "WARNING:absl:Importing a function (__inference_block5c_activation_layer_call_and_return_conditional_losses_279335) with ops with unsaved custom gradients. Will likely fail if a gradient is requested.\n",
            "WARNING:absl:Importing a function (__inference_block4a_se_reduce_layer_call_and_return_conditional_losses_241722) with ops with unsaved custom gradients. Will likely fail if a gradient is requested.\n",
            "WARNING:absl:Importing a function (__inference_block5b_activation_layer_call_and_return_conditional_losses_278923) with ops with unsaved custom gradients. Will likely fail if a gradient is requested.\n",
            "WARNING:absl:Importing a function (__inference_block4b_se_reduce_layer_call_and_return_conditional_losses_277802) with ops with unsaved custom gradients. Will likely fail if a gradient is requested.\n",
            "WARNING:absl:Importing a function (__inference_top_activation_layer_call_and_return_conditional_losses_243439) with ops with unsaved custom gradients. Will likely fail if a gradient is requested.\n",
            "WARNING:absl:Importing a function (__inference_block7a_se_reduce_layer_call_and_return_conditional_losses_243354) with ops with unsaved custom gradients. Will likely fail if a gradient is requested.\n",
            "WARNING:absl:Importing a function (__inference_block6a_se_reduce_layer_call_and_return_conditional_losses_242701) with ops with unsaved custom gradients. Will likely fail if a gradient is requested.\n",
            "WARNING:absl:Importing a function (__inference_block6d_expand_activation_layer_call_and_return_conditional_losses_243120) with ops with unsaved custom gradients. Will likely fail if a gradient is requested.\n",
            "WARNING:absl:Importing a function (__inference_block4c_se_reduce_layer_call_and_return_conditional_losses_278214) with ops with unsaved custom gradients. Will likely fail if a gradient is requested.\n",
            "WARNING:absl:Importing a function (__inference_efficientnetb0_layer_call_and_return_conditional_losses_271501) with ops with unsaved custom gradients. Will likely fail if a gradient is requested.\n",
            "WARNING:absl:Importing a function (__inference_block6d_se_reduce_layer_call_and_return_conditional_losses_281026) with ops with unsaved custom gradients. Will likely fail if a gradient is requested.\n",
            "WARNING:absl:Importing a function (__inference_block7a_se_reduce_layer_call_and_return_conditional_losses_281438) with ops with unsaved custom gradients. Will likely fail if a gradient is requested.\n",
            "WARNING:absl:Importing a function (__inference_block2b_expand_activation_layer_call_and_return_conditional_losses_276042) with ops with unsaved custom gradients. Will likely fail if a gradient is requested.\n",
            "WARNING:absl:Importing a function (__inference_block5b_activation_layer_call_and_return_conditional_losses_242317) with ops with unsaved custom gradients. Will likely fail if a gradient is requested.\n",
            "WARNING:absl:Importing a function (__inference_block3a_expand_activation_layer_call_and_return_conditional_losses_276454) with ops with unsaved custom gradients. Will likely fail if a gradient is requested.\n",
            "WARNING:absl:Importing a function (__inference_block2a_expand_activation_layer_call_and_return_conditional_losses_275655) with ops with unsaved custom gradients. Will likely fail if a gradient is requested.\n",
            "WARNING:absl:Importing a function (__inference_block3b_expand_activation_layer_call_and_return_conditional_losses_276841) with ops with unsaved custom gradients. Will likely fail if a gradient is requested.\n",
            "WARNING:absl:Importing a function (__inference_block2b_se_reduce_layer_call_and_return_conditional_losses_276204) with ops with unsaved custom gradients. Will likely fail if a gradient is requested.\n",
            "WARNING:absl:Importing a function (__inference_stem_activation_layer_call_and_return_conditional_losses_240844) with ops with unsaved custom gradients. Will likely fail if a gradient is requested.\n",
            "WARNING:absl:Importing a function (__inference_block4b_se_reduce_layer_call_and_return_conditional_losses_241874) with ops with unsaved custom gradients. Will likely fail if a gradient is requested.\n",
            "WARNING:absl:Importing a function (__inference_block3b_se_reduce_layer_call_and_return_conditional_losses_277003) with ops with unsaved custom gradients. Will likely fail if a gradient is requested.\n",
            "WARNING:absl:Importing a function (__inference_block6c_expand_activation_layer_call_and_return_conditional_losses_242953) with ops with unsaved custom gradients. Will likely fail if a gradient is requested.\n",
            "WARNING:absl:Importing a function (__inference_block7a_activation_layer_call_and_return_conditional_losses_281370) with ops with unsaved custom gradients. Will likely fail if a gradient is requested.\n",
            "WARNING:absl:Importing a function (__inference_block6c_activation_layer_call_and_return_conditional_losses_242977) with ops with unsaved custom gradients. Will likely fail if a gradient is requested.\n",
            "WARNING:absl:Importing a function (__inference_block2b_se_reduce_layer_call_and_return_conditional_losses_241222) with ops with unsaved custom gradients. Will likely fail if a gradient is requested.\n",
            "WARNING:absl:Importing a function (__inference_block7a_activation_layer_call_and_return_conditional_losses_243311) with ops with unsaved custom gradients. Will likely fail if a gradient is requested.\n",
            "WARNING:absl:Importing a function (__inference_block6d_activation_layer_call_and_return_conditional_losses_280958) with ops with unsaved custom gradients. Will likely fail if a gradient is requested.\n",
            "WARNING:absl:Importing a function (__inference_block6b_expand_activation_layer_call_and_return_conditional_losses_242786) with ops with unsaved custom gradients. Will likely fail if a gradient is requested.\n",
            "WARNING:absl:Importing a function (__inference_block7a_expand_activation_layer_call_and_return_conditional_losses_281276) with ops with unsaved custom gradients. Will likely fail if a gradient is requested.\n",
            "WARNING:absl:Importing a function (__inference_block5a_expand_activation_layer_call_and_return_conditional_losses_278464) with ops with unsaved custom gradients. Will likely fail if a gradient is requested.\n",
            "WARNING:absl:Importing a function (__inference_block6d_activation_layer_call_and_return_conditional_losses_243144) with ops with unsaved custom gradients. Will likely fail if a gradient is requested.\n",
            "WARNING:absl:Importing a function (__inference_block4c_se_reduce_layer_call_and_return_conditional_losses_242041) with ops with unsaved custom gradients. Will likely fail if a gradient is requested.\n",
            "WARNING:absl:Importing a function (__inference_block2a_se_reduce_layer_call_and_return_conditional_losses_241070) with ops with unsaved custom gradients. Will likely fail if a gradient is requested.\n",
            "WARNING:absl:Importing a function (__inference_efficientnetb0_layer_call_and_return_conditional_losses_255566) with ops with unsaved custom gradients. Will likely fail if a gradient is requested.\n",
            "WARNING:absl:Importing a function (__inference_block5a_se_reduce_layer_call_and_return_conditional_losses_278626) with ops with unsaved custom gradients. Will likely fail if a gradient is requested.\n",
            "WARNING:absl:Importing a function (__inference_block3a_expand_activation_layer_call_and_return_conditional_losses_241322) with ops with unsaved custom gradients. Will likely fail if a gradient is requested.\n",
            "WARNING:absl:Importing a function (__inference_block6b_activation_layer_call_and_return_conditional_losses_242810) with ops with unsaved custom gradients. Will likely fail if a gradient is requested.\n",
            "WARNING:absl:Importing a function (__inference_block6a_se_reduce_layer_call_and_return_conditional_losses_279837) with ops with unsaved custom gradients. Will likely fail if a gradient is requested.\n",
            "WARNING:absl:Importing a function (__inference_block4c_expand_activation_layer_call_and_return_conditional_losses_278052) with ops with unsaved custom gradients. Will likely fail if a gradient is requested.\n",
            "WARNING:absl:Importing a function (__inference_efficientnetb0_layer_call_and_return_conditional_losses_269630) with ops with unsaved custom gradients. Will likely fail if a gradient is requested.\n",
            "WARNING:absl:Importing a function (__inference_block6b_expand_activation_layer_call_and_return_conditional_losses_280040) with ops with unsaved custom gradients. Will likely fail if a gradient is requested.\n",
            "WARNING:absl:Importing a function (__inference_block4c_activation_layer_call_and_return_conditional_losses_278146) with ops with unsaved custom gradients. Will likely fail if a gradient is requested.\n",
            "WARNING:absl:Importing a function (__inference_block6d_se_reduce_layer_call_and_return_conditional_losses_243187) with ops with unsaved custom gradients. Will likely fail if a gradient is requested.\n",
            "WARNING:absl:Importing a function (__inference_block2a_activation_layer_call_and_return_conditional_losses_241027) with ops with unsaved custom gradients. Will likely fail if a gradient is requested.\n",
            "WARNING:absl:Importing a function (__inference_block6b_se_reduce_layer_call_and_return_conditional_losses_242853) with ops with unsaved custom gradients. Will likely fail if a gradient is requested.\n",
            "WARNING:absl:Importing a function (__inference_block2b_expand_activation_layer_call_and_return_conditional_losses_241155) with ops with unsaved custom gradients. Will likely fail if a gradient is requested.\n",
            "WARNING:absl:Importing a function (__inference_block5c_expand_activation_layer_call_and_return_conditional_losses_279241) with ops with unsaved custom gradients. Will likely fail if a gradient is requested.\n",
            "WARNING:absl:Importing a function (__inference_block2b_activation_layer_call_and_return_conditional_losses_241179) with ops with unsaved custom gradients. Will likely fail if a gradient is requested.\n",
            "WARNING:absl:Importing a function (__inference_block5a_se_reduce_layer_call_and_return_conditional_losses_242208) with ops with unsaved custom gradients. Will likely fail if a gradient is requested.\n",
            "WARNING:absl:Importing a function (__inference_block3a_activation_layer_call_and_return_conditional_losses_241353) with ops with unsaved custom gradients. Will likely fail if a gradient is requested.\n",
            "WARNING:absl:Importing a function (__inference_efficientnetb0_layer_call_and_return_conditional_losses_273237) with ops with unsaved custom gradients. Will likely fail if a gradient is requested.\n",
            "WARNING:absl:Importing a function (__inference_block5b_se_reduce_layer_call_and_return_conditional_losses_278991) with ops with unsaved custom gradients. Will likely fail if a gradient is requested.\n",
            "WARNING:absl:Importing a function (__inference_block6d_expand_activation_layer_call_and_return_conditional_losses_280864) with ops with unsaved custom gradients. Will likely fail if a gradient is requested.\n",
            "WARNING:absl:Importing a function (__inference_block6a_expand_activation_layer_call_and_return_conditional_losses_242627) with ops with unsaved custom gradients. Will likely fail if a gradient is requested.\n",
            "WARNING:absl:Importing a function (__inference_top_activation_layer_call_and_return_conditional_losses_281641) with ops with unsaved custom gradients. Will likely fail if a gradient is requested.\n",
            "WARNING:absl:Importing a function (__inference_block2a_expand_activation_layer_call_and_return_conditional_losses_240996) with ops with unsaved custom gradients. Will likely fail if a gradient is requested.\n",
            "WARNING:absl:Importing a function (__inference_block4c_activation_layer_call_and_return_conditional_losses_241998) with ops with unsaved custom gradients. Will likely fail if a gradient is requested.\n",
            "WARNING:absl:Importing a function (__inference_block5c_se_reduce_layer_call_and_return_conditional_losses_242527) with ops with unsaved custom gradients. Will likely fail if a gradient is requested.\n",
            "WARNING:absl:Importing a function (__inference_block5b_expand_activation_layer_call_and_return_conditional_losses_278829) with ops with unsaved custom gradients. Will likely fail if a gradient is requested.\n",
            "WARNING:absl:Importing a function (__inference_block6a_expand_activation_layer_call_and_return_conditional_losses_279653) with ops with unsaved custom gradients. Will likely fail if a gradient is requested.\n",
            "WARNING:absl:Importing a function (__inference_block3a_se_reduce_layer_call_and_return_conditional_losses_276638) with ops with unsaved custom gradients. Will likely fail if a gradient is requested.\n",
            "WARNING:absl:Importing a function (__inference_block6a_activation_layer_call_and_return_conditional_losses_242658) with ops with unsaved custom gradients. Will likely fail if a gradient is requested.\n",
            "WARNING:absl:Importing a function (__inference_block1a_activation_layer_call_and_return_conditional_losses_240868) with ops with unsaved custom gradients. Will likely fail if a gradient is requested.\n",
            "WARNING:absl:Importing a function (__inference_block6a_activation_layer_call_and_return_conditional_losses_279769) with ops with unsaved custom gradients. Will likely fail if a gradient is requested.\n",
            "WARNING:absl:Importing a function (__inference_block3b_activation_layer_call_and_return_conditional_losses_276935) with ops with unsaved custom gradients. Will likely fail if a gradient is requested.\n",
            "WARNING:absl:Importing a function (__inference_block5c_activation_layer_call_and_return_conditional_losses_242484) with ops with unsaved custom gradients. Will likely fail if a gradient is requested.\n",
            "WARNING:absl:Importing a function (__inference_block4c_expand_activation_layer_call_and_return_conditional_losses_241974) with ops with unsaved custom gradients. Will likely fail if a gradient is requested.\n",
            "WARNING:absl:Importing a function (__inference_stem_activation_layer_call_and_return_conditional_losses_275290) with ops with unsaved custom gradients. Will likely fail if a gradient is requested.\n",
            "WARNING:absl:Importing a function (__inference_block4b_activation_layer_call_and_return_conditional_losses_277734) with ops with unsaved custom gradients. Will likely fail if a gradient is requested.\n",
            "WARNING:absl:Importing a function (__inference_efficientnetb0_layer_call_and_return_conditional_losses_251758) with ops with unsaved custom gradients. Will likely fail if a gradient is requested.\n"
          ]
        }
      ]
    },
    {
      "cell_type": "code",
      "metadata": {
        "colab": {
          "base_uri": "https://localhost:8080/"
        },
        "id": "qiVJgz4pGjPy",
        "outputId": "9eba7bf2-25f3-45bd-b425-a6c7f5241817"
      },
      "source": [
        "results_loaded_downloaded_gs_model = loaded_download_gs_model.evaluate(test_data)"
      ],
      "execution_count": null,
      "outputs": [
        {
          "name": "stdout",
          "output_type": "stream",
          "text": [
            "790/790 [==============================] - 81s 100ms/step - loss: 1.0412 - accuracy: 0.7202\n"
          ]
        }
      ]
    },
    {
      "cell_type": "code",
      "metadata": {
        "colab": {
          "base_uri": "https://localhost:8080/"
        },
        "id": "nTGbaDS0GrDL",
        "outputId": "355b4909-81c3-4ad6-f23b-58a15c21141f"
      },
      "source": [
        "base_model.trainable = True \n",
        "for layer in base_model.layers:\n",
        "  print(layer.name , layer.trainable)"
      ],
      "execution_count": null,
      "outputs": [
        {
          "name": "stdout",
          "output_type": "stream",
          "text": [
            "input_1 True\n",
            "rescaling True\n",
            "normalization True\n",
            "stem_conv_pad True\n",
            "stem_conv True\n",
            "stem_bn True\n",
            "stem_activation True\n",
            "block1a_dwconv True\n",
            "block1a_bn True\n",
            "block1a_activation True\n",
            "block1a_se_squeeze True\n",
            "block1a_se_reshape True\n",
            "block1a_se_reduce True\n",
            "block1a_se_expand True\n",
            "block1a_se_excite True\n",
            "block1a_project_conv True\n",
            "block1a_project_bn True\n",
            "block2a_expand_conv True\n",
            "block2a_expand_bn True\n",
            "block2a_expand_activation True\n",
            "block2a_dwconv_pad True\n",
            "block2a_dwconv True\n",
            "block2a_bn True\n",
            "block2a_activation True\n",
            "block2a_se_squeeze True\n",
            "block2a_se_reshape True\n",
            "block2a_se_reduce True\n",
            "block2a_se_expand True\n",
            "block2a_se_excite True\n",
            "block2a_project_conv True\n",
            "block2a_project_bn True\n",
            "block2b_expand_conv True\n",
            "block2b_expand_bn True\n",
            "block2b_expand_activation True\n",
            "block2b_dwconv True\n",
            "block2b_bn True\n",
            "block2b_activation True\n",
            "block2b_se_squeeze True\n",
            "block2b_se_reshape True\n",
            "block2b_se_reduce True\n",
            "block2b_se_expand True\n",
            "block2b_se_excite True\n",
            "block2b_project_conv True\n",
            "block2b_project_bn True\n",
            "block2b_drop True\n",
            "block2b_add True\n",
            "block3a_expand_conv True\n",
            "block3a_expand_bn True\n",
            "block3a_expand_activation True\n",
            "block3a_dwconv_pad True\n",
            "block3a_dwconv True\n",
            "block3a_bn True\n",
            "block3a_activation True\n",
            "block3a_se_squeeze True\n",
            "block3a_se_reshape True\n",
            "block3a_se_reduce True\n",
            "block3a_se_expand True\n",
            "block3a_se_excite True\n",
            "block3a_project_conv True\n",
            "block3a_project_bn True\n",
            "block3b_expand_conv True\n",
            "block3b_expand_bn True\n",
            "block3b_expand_activation True\n",
            "block3b_dwconv True\n",
            "block3b_bn True\n",
            "block3b_activation True\n",
            "block3b_se_squeeze True\n",
            "block3b_se_reshape True\n",
            "block3b_se_reduce True\n",
            "block3b_se_expand True\n",
            "block3b_se_excite True\n",
            "block3b_project_conv True\n",
            "block3b_project_bn True\n",
            "block3b_drop True\n",
            "block3b_add True\n",
            "block4a_expand_conv True\n",
            "block4a_expand_bn True\n",
            "block4a_expand_activation True\n",
            "block4a_dwconv_pad True\n",
            "block4a_dwconv True\n",
            "block4a_bn True\n",
            "block4a_activation True\n",
            "block4a_se_squeeze True\n",
            "block4a_se_reshape True\n",
            "block4a_se_reduce True\n",
            "block4a_se_expand True\n",
            "block4a_se_excite True\n",
            "block4a_project_conv True\n",
            "block4a_project_bn True\n",
            "block4b_expand_conv True\n",
            "block4b_expand_bn True\n",
            "block4b_expand_activation True\n",
            "block4b_dwconv True\n",
            "block4b_bn True\n",
            "block4b_activation True\n",
            "block4b_se_squeeze True\n",
            "block4b_se_reshape True\n",
            "block4b_se_reduce True\n",
            "block4b_se_expand True\n",
            "block4b_se_excite True\n",
            "block4b_project_conv True\n",
            "block4b_project_bn True\n",
            "block4b_drop True\n",
            "block4b_add True\n",
            "block4c_expand_conv True\n",
            "block4c_expand_bn True\n",
            "block4c_expand_activation True\n",
            "block4c_dwconv True\n",
            "block4c_bn True\n",
            "block4c_activation True\n",
            "block4c_se_squeeze True\n",
            "block4c_se_reshape True\n",
            "block4c_se_reduce True\n",
            "block4c_se_expand True\n",
            "block4c_se_excite True\n",
            "block4c_project_conv True\n",
            "block4c_project_bn True\n",
            "block4c_drop True\n",
            "block4c_add True\n",
            "block5a_expand_conv True\n",
            "block5a_expand_bn True\n",
            "block5a_expand_activation True\n",
            "block5a_dwconv True\n",
            "block5a_bn True\n",
            "block5a_activation True\n",
            "block5a_se_squeeze True\n",
            "block5a_se_reshape True\n",
            "block5a_se_reduce True\n",
            "block5a_se_expand True\n",
            "block5a_se_excite True\n",
            "block5a_project_conv True\n",
            "block5a_project_bn True\n",
            "block5b_expand_conv True\n",
            "block5b_expand_bn True\n",
            "block5b_expand_activation True\n",
            "block5b_dwconv True\n",
            "block5b_bn True\n",
            "block5b_activation True\n",
            "block5b_se_squeeze True\n",
            "block5b_se_reshape True\n",
            "block5b_se_reduce True\n",
            "block5b_se_expand True\n",
            "block5b_se_excite True\n",
            "block5b_project_conv True\n",
            "block5b_project_bn True\n",
            "block5b_drop True\n",
            "block5b_add True\n",
            "block5c_expand_conv True\n",
            "block5c_expand_bn True\n",
            "block5c_expand_activation True\n",
            "block5c_dwconv True\n",
            "block5c_bn True\n",
            "block5c_activation True\n",
            "block5c_se_squeeze True\n",
            "block5c_se_reshape True\n",
            "block5c_se_reduce True\n",
            "block5c_se_expand True\n",
            "block5c_se_excite True\n",
            "block5c_project_conv True\n",
            "block5c_project_bn True\n",
            "block5c_drop True\n",
            "block5c_add True\n",
            "block6a_expand_conv True\n",
            "block6a_expand_bn True\n",
            "block6a_expand_activation True\n",
            "block6a_dwconv_pad True\n",
            "block6a_dwconv True\n",
            "block6a_bn True\n",
            "block6a_activation True\n",
            "block6a_se_squeeze True\n",
            "block6a_se_reshape True\n",
            "block6a_se_reduce True\n",
            "block6a_se_expand True\n",
            "block6a_se_excite True\n",
            "block6a_project_conv True\n",
            "block6a_project_bn True\n",
            "block6b_expand_conv True\n",
            "block6b_expand_bn True\n",
            "block6b_expand_activation True\n",
            "block6b_dwconv True\n",
            "block6b_bn True\n",
            "block6b_activation True\n",
            "block6b_se_squeeze True\n",
            "block6b_se_reshape True\n",
            "block6b_se_reduce True\n",
            "block6b_se_expand True\n",
            "block6b_se_excite True\n",
            "block6b_project_conv True\n",
            "block6b_project_bn True\n",
            "block6b_drop True\n",
            "block6b_add True\n",
            "block6c_expand_conv True\n",
            "block6c_expand_bn True\n",
            "block6c_expand_activation True\n",
            "block6c_dwconv True\n",
            "block6c_bn True\n",
            "block6c_activation True\n",
            "block6c_se_squeeze True\n",
            "block6c_se_reshape True\n",
            "block6c_se_reduce True\n",
            "block6c_se_expand True\n",
            "block6c_se_excite True\n",
            "block6c_project_conv True\n",
            "block6c_project_bn True\n",
            "block6c_drop True\n",
            "block6c_add True\n",
            "block6d_expand_conv True\n",
            "block6d_expand_bn True\n",
            "block6d_expand_activation True\n",
            "block6d_dwconv True\n",
            "block6d_bn True\n",
            "block6d_activation True\n",
            "block6d_se_squeeze True\n",
            "block6d_se_reshape True\n",
            "block6d_se_reduce True\n",
            "block6d_se_expand True\n",
            "block6d_se_excite True\n",
            "block6d_project_conv True\n",
            "block6d_project_bn True\n",
            "block6d_drop True\n",
            "block6d_add True\n",
            "block7a_expand_conv True\n",
            "block7a_expand_bn True\n",
            "block7a_expand_activation True\n",
            "block7a_dwconv True\n",
            "block7a_bn True\n",
            "block7a_activation True\n",
            "block7a_se_squeeze True\n",
            "block7a_se_reshape True\n",
            "block7a_se_reduce True\n",
            "block7a_se_expand True\n",
            "block7a_se_excite True\n",
            "block7a_project_conv True\n",
            "block7a_project_bn True\n",
            "top_conv True\n",
            "top_bn True\n",
            "top_activation True\n"
          ]
        }
      ]
    },
    {
      "cell_type": "code",
      "metadata": {
        "id": "yadSjJiDJ-xj"
      },
      "source": [
        "model.compile(loss = \"sparse_categorical_crossentropy\",\n",
        "              optimizer=tf.keras.optimizers.Adam(1e-4),\n",
        "              metrics=[\"accuracy\"])"
      ],
      "execution_count": null,
      "outputs": []
    },
    {
      "cell_type": "code",
      "metadata": {
        "colab": {
          "base_uri": "https://localhost:8080/"
        },
        "id": "ZPtwVMkjKPV9",
        "outputId": "32ce1c37-c13b-4d82-b6aa-2e9be526df03"
      },
      "source": [
        "results_model_fine_tune = model.fit(train_data,\n",
        "                                    epochs=100,\n",
        "                                    steps_per_epoch=len(train_data),\n",
        "                                    validation_data=test_data,\n",
        "                                    validation_steps=int(0.15 *len(test_data)),\n",
        "                                    callbacks=[create_tensorboard_callback(\"tensorboard\",\n",
        "                                                                           \"efficientNetb0_fine_tune_manual\"),\n",
        "                                               model_checkpoint,\n",
        "                                               early_stopping_callback])"
      ],
      "execution_count": null,
      "outputs": [
        {
          "name": "stdout",
          "output_type": "stream",
          "text": [
            "Saving TensorBoard log files to: tensorboard/efficientNetb0_fine_tune_manual/20210905-041610\n",
            "Epoch 1/100\n"
          ]
        },
        {
          "name": "stderr",
          "output_type": "stream",
          "text": [
            "/usr/local/lib/python3.7/dist-packages/keras/utils/generic_utils.py:497: CustomMaskWarning: Custom mask layers require a config and must override get_config. When loading, the custom mask layer must be passed to the custom_objects argument.\n",
            "  category=CustomMaskWarning)\n"
          ]
        },
        {
          "name": "stdout",
          "output_type": "stream",
          "text": [
            "2368/2368 [==============================] - 1191s 489ms/step - loss: 0.9238 - accuracy: 0.7523 - val_loss: 0.8202 - val_accuracy: 0.7648\n",
            "Epoch 2/100\n",
            "2368/2368 [==============================] - 1141s 481ms/step - loss: 0.5793 - accuracy: 0.8389 - val_loss: 0.8219 - val_accuracy: 0.7701\n",
            "Epoch 3/100\n",
            "2368/2368 [==============================] - 1145s 483ms/step - loss: 0.3300 - accuracy: 0.9061 - val_loss: 0.8570 - val_accuracy: 0.7884\n",
            "Epoch 4/100\n",
            "2368/2368 [==============================] - 1155s 487ms/step - loss: 0.1754 - accuracy: 0.9477 - val_loss: 1.0306 - val_accuracy: 0.7762\n"
          ]
        }
      ]
    },
    {
      "cell_type": "code",
      "metadata": {
        "colab": {
          "base_uri": "https://localhost:8080/"
        },
        "id": "61yRz2VFdEvI",
        "outputId": "bde4ccd6-7364-4fc4-f507-d6dcb4debea6"
      },
      "source": [
        "result_model_fine_tune_manual = model.evaluate(test_data)"
      ],
      "execution_count": null,
      "outputs": [
        {
          "name": "stdout",
          "output_type": "stream",
          "text": [
            "790/790 [==============================] - 78s 98ms/step - loss: 1.0447 - accuracy: 0.7692\n"
          ]
        }
      ]
    },
    {
      "cell_type": "code",
      "metadata": {
        "colab": {
          "base_uri": "https://localhost:8080/"
        },
        "id": "3DGGxcxXK3wi",
        "outputId": "779b9c6b-740d-4772-a578-5660ef1a1379"
      },
      "source": [
        "model.save(\"/content/drive/MyDrive/model_fine_tune\")"
      ],
      "execution_count": null,
      "outputs": [
        {
          "name": "stdout",
          "output_type": "stream",
          "text": [
            "INFO:tensorflow:Assets written to: /content/drive/MyDrive/model_fine_tune/assets\n"
          ]
        },
        {
          "name": "stderr",
          "output_type": "stream",
          "text": [
            "INFO:tensorflow:Assets written to: /content/drive/MyDrive/model_fine_tune/assets\n",
            "/usr/local/lib/python3.7/dist-packages/keras/utils/generic_utils.py:497: CustomMaskWarning: Custom mask layers require a config and must override get_config. When loading, the custom mask layer must be passed to the custom_objects argument.\n",
            "  category=CustomMaskWarning)\n"
          ]
        }
      ]
    },
    {
      "cell_type": "code",
      "metadata": {
        "colab": {
          "base_uri": "https://localhost:8080/"
        },
        "id": "qj3qyUe0dD83",
        "outputId": "54cb4de8-4846-45dc-81ed-8bb8c1f2d8eb"
      },
      "source": [
        "!tensorboard dev upload --logdir ./tensorboard \\\n",
        "--name \"Food Vision Big TM\" \\\n",
        "--description \"a series of different expriment using feature extraction and fine tuning\" \\\n",
        "--one_shot"
      ],
      "execution_count": null,
      "outputs": [
        {
          "name": "stdout",
          "output_type": "stream",
          "text": [
            "2021-09-05 05:47:35.320242: I tensorflow/stream_executor/cuda/cuda_gpu_executor.cc:937] successful NUMA node read from SysFS had negative value (-1), but there must be at least one NUMA node, so returning NUMA node zero\n",
            "2021-09-05 05:47:35.329625: I tensorflow/stream_executor/cuda/cuda_gpu_executor.cc:937] successful NUMA node read from SysFS had negative value (-1), but there must be at least one NUMA node, so returning NUMA node zero\n",
            "2021-09-05 05:47:35.330285: I tensorflow/stream_executor/cuda/cuda_gpu_executor.cc:937] successful NUMA node read from SysFS had negative value (-1), but there must be at least one NUMA node, so returning NUMA node zero\n",
            "\n",
            "New experiment created. View your TensorBoard at: https://tensorboard.dev/experiment/aXW0ArxaSdmcbOZhoJfWtQ/\n",
            "\n",
            "\u001b[1m[2021-09-05T05:47:35]\u001b[0m Started scanning logdir.\n",
            "\u001b[1m[2021-09-05T05:47:38]\u001b[0m Total uploaded: 72 scalars, 0 tensors, 3 binary objects (2.7 MB)\n",
            "\u001b[1m[2021-09-05T05:47:38]\u001b[0m Done scanning logdir.\n",
            "\n",
            "\n",
            "Done. View your TensorBoard at https://tensorboard.dev/experiment/aXW0ArxaSdmcbOZhoJfWtQ/\n"
          ]
        }
      ]
    },
    {
      "cell_type": "markdown",
      "metadata": {
        "id": "tjfAV1oof6iV"
      },
      "source": [
        "Tensorboard Link:https://tensorboard.dev/experiment/aXW0ArxaSdmcbOZhoJfWtQ/"
      ]
    },
    {
      "cell_type": "code",
      "metadata": {
        "id": "N-2V8WWLh0wc"
      },
      "source": [
        "from tensorflow.keras.layers.experimental  import preprocessing\n",
        "data_augmentation= tf.keras.Sequential([\n",
        "     preprocessing.RandomFlip(\"horizontal\"),\n",
        "     preprocessing.RandomRotation(0.2),\n",
        "     preprocessing.RandomHeight(0.2),\n",
        "     preprocessing.RandomWidth(0.2),\n",
        "     preprocessing.RandomZoom(0.2)                                          \n",
        "])"
      ],
      "execution_count": null,
      "outputs": []
    },
    {
      "cell_type": "code",
      "metadata": {
        "id": "iKtN7ONteeHv"
      },
      "source": [
        "from tensorflow.keras import layers\n",
        "from tensorflow.keras.layers.experimental import preprocessing\n",
        "\n",
        "image_shape =(224,224,3)\n",
        "base_model = tf.keras.applications.EfficientNetB0(include_top=False)\n",
        "base_model.trainable =False\n",
        "\n",
        "inputs = layers.Input(shape=image_shape , name =\"input_layer\")\n",
        "x =data_augmentation(inputs)\n",
        "x = base_model(x , training= False)\n",
        "x = layers.GlobalAveragePooling2D(name=\"globalaverage_pooling2D\")(x)\n",
        "x = layers.Dense(len(class_names))(x)\n",
        "outputs = layers.Activation(\"softmax\" , dtype=tf.float32, name=\"output_layer\")(x)\n",
        "\n",
        "model = tf.keras.Model(inputs , outputs)"
      ],
      "execution_count": null,
      "outputs": []
    },
    {
      "cell_type": "code",
      "metadata": {
        "colab": {
          "base_uri": "https://localhost:8080/"
        },
        "id": "U3elwTUnjlRS",
        "outputId": "19b3bfd3-1679-43bb-e8ed-33e9e153db63"
      },
      "source": [
        "base_model.trainable= True\n",
        "for layer in model.layers:\n",
        "  print(layer.name , layer.trainable)"
      ],
      "execution_count": null,
      "outputs": [
        {
          "name": "stdout",
          "output_type": "stream",
          "text": [
            "input_layer True\n",
            "sequential_1 True\n",
            "efficientnetb0 True\n",
            "globalaverage_pooling2D True\n",
            "dense_1 True\n",
            "output_layer True\n"
          ]
        }
      ]
    },
    {
      "cell_type": "code",
      "metadata": {
        "id": "ElVp0qj_jWOt"
      },
      "source": [
        "model.compile(loss=\"sparse_categorical_crossentropy\",\n",
        "              optimizer=tf.keras.optimizers.Adam(1e-4),\n",
        "              metrics=[\"accuracy\"])"
      ],
      "execution_count": null,
      "outputs": []
    },
    {
      "cell_type": "code",
      "metadata": {
        "id": "QuIr5SZJj8Ll"
      },
      "source": [
        "history_model_augmneted_fine_tuned = model.fit(train_data,\n",
        "                                    epochs=100,\n",
        "                                    steps_per_epoch=len(train_data),\n",
        "                                    validation_data=test_data,\n",
        "                                    validation_steps=int(0.15 *len(test_data)),\n",
        "                                    callbacks=[create_tensorboard_callback(\"tensorboard\",\n",
        "                                                                           \"efficientNetb0_fine_tune_augmented\"),\n",
        "                                               model_checkpoint,\n",
        "                                               early_stopping_callback])"
      ],
      "execution_count": null,
      "outputs": []
    },
    {
      "cell_type": "code",
      "metadata": {
        "id": "uk18s1WAnfbY"
      },
      "source": [
        "import tensorflow as tf "
      ],
      "execution_count": null,
      "outputs": []
    },
    {
      "cell_type": "code",
      "metadata": {
        "colab": {
          "base_uri": "https://localhost:8080/"
        },
        "id": "FdWiisrwkOSj",
        "outputId": "9e3e725a-69c8-4056-f5c0-54ad2e375ad2"
      },
      "source": [
        "model_loaded = tf.keras.models.load_model(\"/content/drive/MyDrive/model_fine_tune\")"
      ],
      "execution_count": null,
      "outputs": [
        {
          "output_type": "stream",
          "name": "stdout",
          "text": [
            "WARNING:tensorflow:Mixed precision compatibility check (mixed_float16): WARNING\n",
            "Your GPU may run slowly with dtype policy mixed_float16 because it does not have compute capability of at least 7.0. Your GPU:\n",
            "  Tesla K80, compute capability 3.7\n",
            "See https://developer.nvidia.com/cuda-gpus for a list of GPUs and their compute capabilities.\n",
            "If you will use compatible GPU(s) not attached to this host, e.g. by running a multi-worker model, you can ignore this warning. This message will only be logged once\n"
          ]
        },
        {
          "output_type": "stream",
          "name": "stderr",
          "text": [
            "WARNING:tensorflow:Mixed precision compatibility check (mixed_float16): WARNING\n",
            "Your GPU may run slowly with dtype policy mixed_float16 because it does not have compute capability of at least 7.0. Your GPU:\n",
            "  Tesla K80, compute capability 3.7\n",
            "See https://developer.nvidia.com/cuda-gpus for a list of GPUs and their compute capabilities.\n",
            "If you will use compatible GPU(s) not attached to this host, e.g. by running a multi-worker model, you can ignore this warning. This message will only be logged once\n",
            "WARNING:absl:Importing a function (__inference_block5b_activation_layer_call_and_return_conditional_losses_433495) with ops with unsaved custom gradients. Will likely fail if a gradient is requested.\n",
            "WARNING:absl:Importing a function (__inference_block6c_expand_activation_layer_call_and_return_conditional_losses_397525) with ops with unsaved custom gradients. Will likely fail if a gradient is requested.\n",
            "WARNING:absl:Importing a function (__inference_block5b_expand_activation_layer_call_and_return_conditional_losses_433401) with ops with unsaved custom gradients. Will likely fail if a gradient is requested.\n",
            "WARNING:absl:Importing a function (__inference_block6d_expand_activation_layer_call_and_return_conditional_losses_397692) with ops with unsaved custom gradients. Will likely fail if a gradient is requested.\n",
            "WARNING:absl:Importing a function (__inference_block5c_se_reduce_layer_call_and_return_conditional_losses_397099) with ops with unsaved custom gradients. Will likely fail if a gradient is requested.\n",
            "WARNING:absl:Importing a function (__inference_block5b_se_reduce_layer_call_and_return_conditional_losses_396932) with ops with unsaved custom gradients. Will likely fail if a gradient is requested.\n",
            "WARNING:absl:Importing a function (__inference_block4c_se_reduce_layer_call_and_return_conditional_losses_396613) with ops with unsaved custom gradients. Will likely fail if a gradient is requested.\n",
            "WARNING:absl:Importing a function (__inference_block4a_activation_layer_call_and_return_conditional_losses_396251) with ops with unsaved custom gradients. Will likely fail if a gradient is requested.\n",
            "WARNING:absl:Importing a function (__inference_block4b_expand_activation_layer_call_and_return_conditional_losses_396379) with ops with unsaved custom gradients. Will likely fail if a gradient is requested.\n",
            "WARNING:absl:Importing a function (__inference_block5b_activation_layer_call_and_return_conditional_losses_396889) with ops with unsaved custom gradients. Will likely fail if a gradient is requested.\n",
            "WARNING:absl:Importing a function (__inference_efficientnetb0_layer_call_and_return_conditional_losses_410138) with ops with unsaved custom gradients. Will likely fail if a gradient is requested.\n",
            "WARNING:absl:Importing a function (__inference_block6a_expand_activation_layer_call_and_return_conditional_losses_434225) with ops with unsaved custom gradients. Will likely fail if a gradient is requested.\n",
            "WARNING:absl:Importing a function (__inference_block3a_expand_activation_layer_call_and_return_conditional_losses_431026) with ops with unsaved custom gradients. Will likely fail if a gradient is requested.\n",
            "WARNING:absl:Importing a function (__inference_block3b_expand_activation_layer_call_and_return_conditional_losses_431413) with ops with unsaved custom gradients. Will likely fail if a gradient is requested.\n",
            "WARNING:absl:Importing a function (__inference_block6b_activation_layer_call_and_return_conditional_losses_397382) with ops with unsaved custom gradients. Will likely fail if a gradient is requested.\n",
            "WARNING:absl:Importing a function (__inference_block3a_activation_layer_call_and_return_conditional_losses_395925) with ops with unsaved custom gradients. Will likely fail if a gradient is requested.\n",
            "WARNING:absl:Importing a function (__inference_block4a_expand_activation_layer_call_and_return_conditional_losses_396220) with ops with unsaved custom gradients. Will likely fail if a gradient is requested.\n",
            "WARNING:absl:Importing a function (__inference_block6d_expand_activation_layer_call_and_return_conditional_losses_435436) with ops with unsaved custom gradients. Will likely fail if a gradient is requested.\n",
            "WARNING:absl:Importing a function (__inference_block2b_activation_layer_call_and_return_conditional_losses_430708) with ops with unsaved custom gradients. Will likely fail if a gradient is requested.\n",
            "WARNING:absl:Importing a function (__inference_block2a_activation_layer_call_and_return_conditional_losses_430343) with ops with unsaved custom gradients. Will likely fail if a gradient is requested.\n",
            "WARNING:absl:Importing a function (__inference_block6b_activation_layer_call_and_return_conditional_losses_434706) with ops with unsaved custom gradients. Will likely fail if a gradient is requested.\n",
            "WARNING:absl:Importing a function (__inference_block7a_se_reduce_layer_call_and_return_conditional_losses_436010) with ops with unsaved custom gradients. Will likely fail if a gradient is requested.\n",
            "WARNING:absl:Importing a function (__inference_block1a_se_reduce_layer_call_and_return_conditional_losses_430024) with ops with unsaved custom gradients. Will likely fail if a gradient is requested.\n",
            "WARNING:absl:Importing a function (__inference_block2b_expand_activation_layer_call_and_return_conditional_losses_395727) with ops with unsaved custom gradients. Will likely fail if a gradient is requested.\n",
            "WARNING:absl:Importing a function (__inference_block4b_activation_layer_call_and_return_conditional_losses_396403) with ops with unsaved custom gradients. Will likely fail if a gradient is requested.\n",
            "WARNING:absl:Importing a function (__inference_block2a_se_reduce_layer_call_and_return_conditional_losses_395642) with ops with unsaved custom gradients. Will likely fail if a gradient is requested.\n",
            "WARNING:absl:Importing a function (__inference_block3a_se_reduce_layer_call_and_return_conditional_losses_431210) with ops with unsaved custom gradients. Will likely fail if a gradient is requested.\n",
            "WARNING:absl:Importing a function (__inference_efficientnetb0_layer_call_and_return_conditional_losses_406330) with ops with unsaved custom gradients. Will likely fail if a gradient is requested.\n",
            "WARNING:absl:Importing a function (__inference_block4b_activation_layer_call_and_return_conditional_losses_432306) with ops with unsaved custom gradients. Will likely fail if a gradient is requested.\n",
            "WARNING:absl:Importing a function (__inference_block7a_activation_layer_call_and_return_conditional_losses_397883) with ops with unsaved custom gradients. Will likely fail if a gradient is requested.\n",
            "WARNING:absl:Importing a function (__inference_stem_activation_layer_call_and_return_conditional_losses_429862) with ops with unsaved custom gradients. Will likely fail if a gradient is requested.\n",
            "WARNING:absl:Importing a function (__inference_block4a_se_reduce_layer_call_and_return_conditional_losses_396294) with ops with unsaved custom gradients. Will likely fail if a gradient is requested.\n",
            "WARNING:absl:Importing a function (__inference_block5a_se_reduce_layer_call_and_return_conditional_losses_433198) with ops with unsaved custom gradients. Will likely fail if a gradient is requested.\n",
            "WARNING:absl:Importing a function (__inference_efficientnetb0_layer_call_and_return_conditional_losses_426073) with ops with unsaved custom gradients. Will likely fail if a gradient is requested.\n",
            "WARNING:absl:Importing a function (__inference_block5c_expand_activation_layer_call_and_return_conditional_losses_397032) with ops with unsaved custom gradients. Will likely fail if a gradient is requested.\n",
            "WARNING:absl:Importing a function (__inference_block4a_activation_layer_call_and_return_conditional_losses_431941) with ops with unsaved custom gradients. Will likely fail if a gradient is requested.\n",
            "WARNING:absl:Importing a function (__inference_block6b_se_reduce_layer_call_and_return_conditional_losses_434774) with ops with unsaved custom gradients. Will likely fail if a gradient is requested.\n",
            "WARNING:absl:Importing a function (__inference_block3b_activation_layer_call_and_return_conditional_losses_431507) with ops with unsaved custom gradients. Will likely fail if a gradient is requested.\n",
            "WARNING:absl:Importing a function (__inference_block6d_activation_layer_call_and_return_conditional_losses_397716) with ops with unsaved custom gradients. Will likely fail if a gradient is requested.\n",
            "WARNING:absl:Importing a function (__inference_block4a_expand_activation_layer_call_and_return_conditional_losses_431825) with ops with unsaved custom gradients. Will likely fail if a gradient is requested.\n",
            "WARNING:absl:Importing a function (__inference_block4b_se_reduce_layer_call_and_return_conditional_losses_396446) with ops with unsaved custom gradients. Will likely fail if a gradient is requested.\n",
            "WARNING:absl:Importing a function (__inference_block5c_expand_activation_layer_call_and_return_conditional_losses_433813) with ops with unsaved custom gradients. Will likely fail if a gradient is requested.\n",
            "WARNING:absl:Importing a function (__inference_block3b_expand_activation_layer_call_and_return_conditional_losses_396053) with ops with unsaved custom gradients. Will likely fail if a gradient is requested.\n",
            "WARNING:absl:Importing a function (__inference_block2b_se_reduce_layer_call_and_return_conditional_losses_430776) with ops with unsaved custom gradients. Will likely fail if a gradient is requested.\n",
            "WARNING:absl:Importing a function (__inference_block5b_se_reduce_layer_call_and_return_conditional_losses_433563) with ops with unsaved custom gradients. Will likely fail if a gradient is requested.\n",
            "WARNING:absl:Importing a function (__inference_block5c_activation_layer_call_and_return_conditional_losses_397056) with ops with unsaved custom gradients. Will likely fail if a gradient is requested.\n",
            "WARNING:absl:Importing a function (__inference_block3a_expand_activation_layer_call_and_return_conditional_losses_395894) with ops with unsaved custom gradients. Will likely fail if a gradient is requested.\n",
            "WARNING:absl:Importing a function (__inference_block6c_activation_layer_call_and_return_conditional_losses_435118) with ops with unsaved custom gradients. Will likely fail if a gradient is requested.\n",
            "WARNING:absl:Importing a function (__inference_block4b_se_reduce_layer_call_and_return_conditional_losses_432374) with ops with unsaved custom gradients. Will likely fail if a gradient is requested.\n",
            "WARNING:absl:Importing a function (__inference_block6b_se_reduce_layer_call_and_return_conditional_losses_397425) with ops with unsaved custom gradients. Will likely fail if a gradient is requested.\n",
            "WARNING:absl:Importing a function (__inference_top_activation_layer_call_and_return_conditional_losses_398011) with ops with unsaved custom gradients. Will likely fail if a gradient is requested.\n",
            "WARNING:absl:Importing a function (__inference_block4c_activation_layer_call_and_return_conditional_losses_396570) with ops with unsaved custom gradients. Will likely fail if a gradient is requested.\n",
            "WARNING:absl:Importing a function (__inference_block4c_se_reduce_layer_call_and_return_conditional_losses_432786) with ops with unsaved custom gradients. Will likely fail if a gradient is requested.\n",
            "WARNING:absl:Importing a function (__inference_block2b_expand_activation_layer_call_and_return_conditional_losses_430614) with ops with unsaved custom gradients. Will likely fail if a gradient is requested.\n",
            "WARNING:absl:Importing a function (__inference_block3a_se_reduce_layer_call_and_return_conditional_losses_395968) with ops with unsaved custom gradients. Will likely fail if a gradient is requested.\n",
            "WARNING:absl:Importing a function (__inference__wrapped_model_388095) with ops with unsaved custom gradients. Will likely fail if a gradient is requested.\n",
            "WARNING:absl:Importing a function (__inference_model_layer_call_and_return_conditional_losses_419958) with ops with unsaved custom gradients. Will likely fail if a gradient is requested.\n",
            "WARNING:absl:Importing a function (__inference_block3b_se_reduce_layer_call_and_return_conditional_losses_396120) with ops with unsaved custom gradients. Will likely fail if a gradient is requested.\n",
            "WARNING:absl:Importing a function (__inference_block5c_se_reduce_layer_call_and_return_conditional_losses_433975) with ops with unsaved custom gradients. Will likely fail if a gradient is requested.\n",
            "WARNING:absl:Importing a function (__inference_block5a_se_reduce_layer_call_and_return_conditional_losses_396780) with ops with unsaved custom gradients. Will likely fail if a gradient is requested.\n",
            "WARNING:absl:Importing a function (__inference_block2b_activation_layer_call_and_return_conditional_losses_395751) with ops with unsaved custom gradients. Will likely fail if a gradient is requested.\n",
            "WARNING:absl:Importing a function (__inference_block5a_expand_activation_layer_call_and_return_conditional_losses_433036) with ops with unsaved custom gradients. Will likely fail if a gradient is requested.\n",
            "WARNING:absl:Importing a function (__inference_block5a_activation_layer_call_and_return_conditional_losses_433130) with ops with unsaved custom gradients. Will likely fail if a gradient is requested.\n",
            "WARNING:absl:Importing a function (__inference_block5a_expand_activation_layer_call_and_return_conditional_losses_396713) with ops with unsaved custom gradients. Will likely fail if a gradient is requested.\n",
            "WARNING:absl:Importing a function (__inference_block2a_activation_layer_call_and_return_conditional_losses_395599) with ops with unsaved custom gradients. Will likely fail if a gradient is requested.\n",
            "WARNING:absl:Importing a function (__inference_block4c_expand_activation_layer_call_and_return_conditional_losses_432624) with ops with unsaved custom gradients. Will likely fail if a gradient is requested.\n",
            "WARNING:absl:Importing a function (__inference_block1a_activation_layer_call_and_return_conditional_losses_395440) with ops with unsaved custom gradients. Will likely fail if a gradient is requested.\n",
            "WARNING:absl:Importing a function (__inference_efficientnetb0_layer_call_and_return_conditional_losses_429680) with ops with unsaved custom gradients. Will likely fail if a gradient is requested.\n",
            "WARNING:absl:Importing a function (__inference_block2a_expand_activation_layer_call_and_return_conditional_losses_430227) with ops with unsaved custom gradients. Will likely fail if a gradient is requested.\n",
            "WARNING:absl:Importing a function (__inference_block5b_expand_activation_layer_call_and_return_conditional_losses_396865) with ops with unsaved custom gradients. Will likely fail if a gradient is requested.\n",
            "WARNING:absl:Importing a function (__inference_block6c_expand_activation_layer_call_and_return_conditional_losses_435024) with ops with unsaved custom gradients. Will likely fail if a gradient is requested.\n",
            "WARNING:absl:Importing a function (__inference_efficientnetb0_layer_call_and_return_conditional_losses_424202) with ops with unsaved custom gradients. Will likely fail if a gradient is requested.\n",
            "WARNING:absl:Importing a function (__inference_block3b_activation_layer_call_and_return_conditional_losses_396077) with ops with unsaved custom gradients. Will likely fail if a gradient is requested.\n",
            "WARNING:absl:Importing a function (__inference_block3a_activation_layer_call_and_return_conditional_losses_431142) with ops with unsaved custom gradients. Will likely fail if a gradient is requested.\n",
            "WARNING:absl:Importing a function (__inference_block2a_expand_activation_layer_call_and_return_conditional_losses_395568) with ops with unsaved custom gradients. Will likely fail if a gradient is requested.\n",
            "WARNING:absl:Importing a function (__inference_block5c_activation_layer_call_and_return_conditional_losses_433907) with ops with unsaved custom gradients. Will likely fail if a gradient is requested.\n",
            "WARNING:absl:Importing a function (__inference_block6d_se_reduce_layer_call_and_return_conditional_losses_397759) with ops with unsaved custom gradients. Will likely fail if a gradient is requested.\n",
            "WARNING:absl:Importing a function (__inference_block6a_expand_activation_layer_call_and_return_conditional_losses_397199) with ops with unsaved custom gradients. Will likely fail if a gradient is requested.\n",
            "WARNING:absl:Importing a function (__inference_block6a_activation_layer_call_and_return_conditional_losses_434341) with ops with unsaved custom gradients. Will likely fail if a gradient is requested.\n",
            "WARNING:absl:Importing a function (__inference_block4c_activation_layer_call_and_return_conditional_losses_432718) with ops with unsaved custom gradients. Will likely fail if a gradient is requested.\n",
            "WARNING:absl:Importing a function (__inference_block3b_se_reduce_layer_call_and_return_conditional_losses_431575) with ops with unsaved custom gradients. Will likely fail if a gradient is requested.\n",
            "WARNING:absl:Importing a function (__inference_block6b_expand_activation_layer_call_and_return_conditional_losses_434612) with ops with unsaved custom gradients. Will likely fail if a gradient is requested.\n",
            "WARNING:absl:Importing a function (__inference_block1a_se_reduce_layer_call_and_return_conditional_losses_395483) with ops with unsaved custom gradients. Will likely fail if a gradient is requested.\n",
            "WARNING:absl:Importing a function (__inference_block6d_se_reduce_layer_call_and_return_conditional_losses_435598) with ops with unsaved custom gradients. Will likely fail if a gradient is requested.\n",
            "WARNING:absl:Importing a function (__inference_block6b_expand_activation_layer_call_and_return_conditional_losses_397358) with ops with unsaved custom gradients. Will likely fail if a gradient is requested.\n",
            "WARNING:absl:Importing a function (__inference_block7a_expand_activation_layer_call_and_return_conditional_losses_397859) with ops with unsaved custom gradients. Will likely fail if a gradient is requested.\n",
            "WARNING:absl:Importing a function (__inference_block6d_activation_layer_call_and_return_conditional_losses_435530) with ops with unsaved custom gradients. Will likely fail if a gradient is requested.\n",
            "WARNING:absl:Importing a function (__inference_block4c_expand_activation_layer_call_and_return_conditional_losses_396546) with ops with unsaved custom gradients. Will likely fail if a gradient is requested.\n",
            "WARNING:absl:Importing a function (__inference_block6a_se_reduce_layer_call_and_return_conditional_losses_434409) with ops with unsaved custom gradients. Will likely fail if a gradient is requested.\n",
            "WARNING:absl:Importing a function (__inference_block1a_activation_layer_call_and_return_conditional_losses_429956) with ops with unsaved custom gradients. Will likely fail if a gradient is requested.\n",
            "WARNING:absl:Importing a function (__inference_block4a_se_reduce_layer_call_and_return_conditional_losses_432009) with ops with unsaved custom gradients. Will likely fail if a gradient is requested.\n",
            "WARNING:absl:Importing a function (__inference_block4b_expand_activation_layer_call_and_return_conditional_losses_432212) with ops with unsaved custom gradients. Will likely fail if a gradient is requested.\n",
            "WARNING:absl:Importing a function (__inference_block6c_se_reduce_layer_call_and_return_conditional_losses_435186) with ops with unsaved custom gradients. Will likely fail if a gradient is requested.\n",
            "WARNING:absl:Importing a function (__inference_block6c_activation_layer_call_and_return_conditional_losses_397549) with ops with unsaved custom gradients. Will likely fail if a gradient is requested.\n",
            "WARNING:absl:Importing a function (__inference_block7a_se_reduce_layer_call_and_return_conditional_losses_397926) with ops with unsaved custom gradients. Will likely fail if a gradient is requested.\n",
            "WARNING:absl:Importing a function (__inference_block7a_expand_activation_layer_call_and_return_conditional_losses_435848) with ops with unsaved custom gradients. Will likely fail if a gradient is requested.\n",
            "WARNING:absl:Importing a function (__inference_stem_activation_layer_call_and_return_conditional_losses_395416) with ops with unsaved custom gradients. Will likely fail if a gradient is requested.\n",
            "WARNING:absl:Importing a function (__inference_block6a_activation_layer_call_and_return_conditional_losses_397230) with ops with unsaved custom gradients. Will likely fail if a gradient is requested.\n",
            "WARNING:absl:Importing a function (__inference_block6c_se_reduce_layer_call_and_return_conditional_losses_397592) with ops with unsaved custom gradients. Will likely fail if a gradient is requested.\n",
            "WARNING:absl:Importing a function (__inference_model_layer_call_and_return_conditional_losses_418210) with ops with unsaved custom gradients. Will likely fail if a gradient is requested.\n",
            "WARNING:absl:Importing a function (__inference_block2b_se_reduce_layer_call_and_return_conditional_losses_395794) with ops with unsaved custom gradients. Will likely fail if a gradient is requested.\n",
            "WARNING:absl:Importing a function (__inference_block2a_se_reduce_layer_call_and_return_conditional_losses_430411) with ops with unsaved custom gradients. Will likely fail if a gradient is requested.\n",
            "WARNING:absl:Importing a function (__inference_block5a_activation_layer_call_and_return_conditional_losses_396737) with ops with unsaved custom gradients. Will likely fail if a gradient is requested.\n",
            "WARNING:absl:Importing a function (__inference_block6a_se_reduce_layer_call_and_return_conditional_losses_397273) with ops with unsaved custom gradients. Will likely fail if a gradient is requested.\n",
            "WARNING:absl:Importing a function (__inference_efficientnetb0_layer_call_and_return_conditional_losses_427809) with ops with unsaved custom gradients. Will likely fail if a gradient is requested.\n",
            "WARNING:absl:Importing a function (__inference_top_activation_layer_call_and_return_conditional_losses_436213) with ops with unsaved custom gradients. Will likely fail if a gradient is requested.\n",
            "WARNING:absl:Importing a function (__inference_block7a_activation_layer_call_and_return_conditional_losses_435942) with ops with unsaved custom gradients. Will likely fail if a gradient is requested.\n"
          ]
        }
      ]
    },
    {
      "cell_type": "code",
      "metadata": {
        "colab": {
          "base_uri": "https://localhost:8080/"
        },
        "id": "L_QvIwEwqYid",
        "outputId": "6d18c8a5-6972-4e2c-bcce-3f436b52f801"
      },
      "source": [
        "test_data"
      ],
      "execution_count": null,
      "outputs": [
        {
          "output_type": "execute_result",
          "data": {
            "text/plain": [
              "<_OptionsDataset shapes: ((None, None, 3), ()), types: (tf.uint8, tf.int64)>"
            ]
          },
          "metadata": {},
          "execution_count": 12
        }
      ]
    },
    {
      "cell_type": "code",
      "metadata": {
        "colab": {
          "base_uri": "https://localhost:8080/"
        },
        "id": "Oa48C0p76j8G",
        "outputId": "f659c5f2-bb46-4ce3-b21a-c5e1b90913e8"
      },
      "source": [
        "reults_model_loaded = model_loaded.evaluate(test_data)"
      ],
      "execution_count": null,
      "outputs": [
        {
          "output_type": "stream",
          "name": "stdout",
          "text": [
            "790/790 [==============================] - 122s 105ms/step - loss: 1.0447 - accuracy: 0.7692\n"
          ]
        }
      ]
    },
    {
      "cell_type": "code",
      "metadata": {
        "id": "m546rfg5t1-6"
      },
      "source": [
        "def get_images_from_tfdataset(tfdataset, batched=False):\n",
        "\n",
        "    images = list(map(lambda x: x[0], tfdataset)) # Get images\n",
        "\n",
        "    if not batched:\n",
        "        return tf.concat(images, axis=0) # concat the list of batched labels\n",
        "\n",
        "    return images\n",
        "    "
      ],
      "execution_count": null,
      "outputs": []
    },
    {
      "cell_type": "code",
      "metadata": {
        "id": "QUPcIB3iwHAe"
      },
      "source": [
        "test_images = get_images_from_tfdataset(test_data , batched=False)"
      ],
      "execution_count": null,
      "outputs": []
    },
    {
      "cell_type": "code",
      "metadata": {
        "id": "U2_70HIVtdkB"
      },
      "source": [
        "def parse_row(ds):\n",
        "  return ds[]"
      ],
      "execution_count": null,
      "outputs": []
    },
    {
      "cell_type": "code",
      "metadata": {
        "id": "z5F74dMutmhZ"
      },
      "source": [
        "test_dataset_images = parse_row(test_data)"
      ],
      "execution_count": null,
      "outputs": []
    },
    {
      "cell_type": "code",
      "metadata": {
        "colab": {
          "base_uri": "https://localhost:8080/"
        },
        "id": "FZ9B_-jFsXcq",
        "outputId": "d5d4a430-85d2-4d22-b164-4b14d4010c8d"
      },
      "source": [
        "preds_prob = model_loaded.predict(test_data  ,verbose=1)"
      ],
      "execution_count": null,
      "outputs": [
        {
          "output_type": "stream",
          "name": "stdout",
          "text": [
            "790/790 [==============================] - 67s 83ms/step\n"
          ]
        }
      ]
    },
    {
      "cell_type": "code",
      "metadata": {
        "colab": {
          "base_uri": "https://localhost:8080/"
        },
        "id": "2--FaWQAutnW",
        "outputId": "b01067d3-45aa-4c21-8c33-2d13de9b3af3"
      },
      "source": [
        "preds_prob.shape"
      ],
      "execution_count": null,
      "outputs": [
        {
          "output_type": "execute_result",
          "data": {
            "text/plain": [
              "(25250, 101)"
            ]
          },
          "metadata": {},
          "execution_count": 24
        }
      ]
    },
    {
      "cell_type": "code",
      "metadata": {
        "colab": {
          "base_uri": "https://localhost:8080/"
        },
        "id": "gZUKw7stvCtm",
        "outputId": "a6a873bf-c67f-4f0b-ad21-1e759f1883fa"
      },
      "source": [
        "pred_classes = preds_prob.argmax(axis=1)\n",
        "pred_classes[:10]"
      ],
      "execution_count": null,
      "outputs": [
        {
          "output_type": "execute_result",
          "data": {
            "text/plain": [
              "array([ 1, 75, 74, 61, 54, 76, 90, 34,  4, 44])"
            ]
          },
          "metadata": {},
          "execution_count": 25
        }
      ]
    },
    {
      "cell_type": "code",
      "metadata": {
        "colab": {
          "background_save": true,
          "base_uri": "https://localhost:8080/"
        },
        "id": "08rVNjiq5FaU",
        "outputId": "98023cb8-1db2-4c39-cd83-fcc11ff192b8"
      },
      "source": [
        "for i in range(1):\n",
        "  preds_prob[i] ,len(preds_prob[i]) ,sum(preds_prob[i])"
      ],
      "execution_count": null,
      "outputs": [
        {
          "name": "stdout",
          "output_type": "stream",
          "text": [
            "[3.02719898e-11 3.06196800e-13 1.39598897e-15 3.22729074e-14\n",
            " 1.55265667e-09 2.81825669e-06 1.31061097e-06 2.53846044e-13\n",
            " 2.63007584e-11 8.75948966e-11 8.27589993e-12 5.48980620e-14\n",
            " 1.95745079e-14 4.20918014e-14 1.03429232e-09 1.61354369e-13\n",
            " 5.36583777e-10 5.23840953e-14 1.37227881e-12 2.31129487e-13\n",
            " 1.33005824e-12 4.02362943e-02 3.58408070e-05 1.12304896e-07\n",
            " 6.58426547e-13 1.44854995e-16 8.51558684e-17 1.92420437e-11\n",
            " 2.63403767e-14 6.72014551e-07 1.70782854e-12 8.13533951e-09\n",
            " 3.88699975e-11 2.14983908e-14 2.16214985e-15 1.95745079e-14\n",
            " 6.21140847e-11 1.10099851e-09 3.34880299e-15 5.34332344e-12\n",
            " 4.13769019e-11 8.77268500e-14 9.52550365e-12 8.37095489e-14\n",
            " 4.16765325e-15 8.62368649e-11 1.01825715e-09 6.50949988e-11\n",
            " 7.58986043e-16 9.52550365e-12 6.28275101e-13 2.06871492e-10\n",
            " 5.84735871e-10 9.63490897e-14 1.33968981e-16 3.46966433e-13\n",
            " 8.91083472e-14 8.35836400e-11 4.56351223e-09 2.93848130e-14\n",
            " 1.01398464e-11 1.91901707e-16 7.85195589e-11 5.00151087e-10\n",
            " 2.50963590e-11 1.48378727e-12 3.44990854e-12 5.17892630e-12\n",
            " 5.12783175e-13 1.64142240e-16 3.77308489e-14 1.40989879e-14\n",
            " 1.23528604e-10 8.07203016e-09 1.13594789e-09 3.50423661e-12\n",
            " 3.11018735e-13 4.86515082e-12 5.76193434e-17 1.96569865e-12\n",
            " 1.71040124e-15 4.78972374e-12 1.51350404e-10 9.59722698e-01\n",
            " 1.24947416e-12 2.27546145e-13 7.73022271e-11 4.07967727e-14\n",
            " 1.24947416e-12 6.41823427e-14 1.50715345e-12 4.01642796e-14\n",
            " 2.71765100e-14 5.08027287e-10 9.38342595e-08 1.46693838e-10\n",
            " 1.56390024e-13 2.28504941e-11 1.37598832e-07 1.13118152e-11\n",
            " 8.99962505e-13] 101 1.0000000076403444\n"
          ]
        }
      ]
    },
    {
      "cell_type": "code",
      "metadata": {
        "colab": {
          "base_uri": "https://localhost:8080/"
        },
        "id": "n5qB1yYUgzVI",
        "outputId": "e2e94f0d-2f75-42f7-c8c1-5f6f142fc9b1"
      },
      "source": [
        "test_data"
      ],
      "execution_count": null,
      "outputs": [
        {
          "output_type": "execute_result",
          "data": {
            "text/plain": [
              "<PrefetchDataset shapes: ((None, 224, 224, 3), (None,)), types: (tf.float32, tf.int64)>"
            ]
          },
          "metadata": {},
          "execution_count": 28
        }
      ]
    }
  ]
}