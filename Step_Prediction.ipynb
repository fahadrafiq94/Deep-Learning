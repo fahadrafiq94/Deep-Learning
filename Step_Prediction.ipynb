{
  "cells": [
    {
      "cell_type": "markdown",
      "metadata": {
        "id": "view-in-github",
        "colab_type": "text"
      },
      "source": [
        "<a href=\"https://colab.research.google.com/github/fahadrafiq94/Deep-Learning/blob/main/Step_Prediction.ipynb\" target=\"_parent\"><img src=\"https://colab.research.google.com/assets/colab-badge.svg\" alt=\"Open In Colab\"/></a>"
      ]
    },
    {
      "cell_type": "code",
      "execution_count": null,
      "metadata": {
        "colab": {
          "base_uri": "https://localhost:8080/"
        },
        "id": "QKb2XcCesQPu",
        "outputId": "8137c7b4-3ffe-48fa-9f9e-193a67111a1d"
      },
      "outputs": [
        {
          "name": "stdout",
          "output_type": "stream",
          "text": [
            "Mounted at /content/drive\n"
          ]
        }
      ],
      "source": [
        "from google.colab import drive\n",
        "drive.mount('/content/drive')"
      ],
      "id": "QKb2XcCesQPu"
    },
    {
      "cell_type": "markdown",
      "metadata": {
        "id": "GYijvrdtNztu"
      },
      "source": [
        "## Import Helper Functions"
      ],
      "id": "GYijvrdtNztu"
    },
    {
      "cell_type": "code",
      "execution_count": null,
      "metadata": {
        "id": "J_1stqJbLrOt"
      },
      "outputs": [],
      "source": [
        "from helper_functions import data_preperation, cnn_train_entropy, cnn_train_focal, mlp_train"
      ],
      "id": "J_1stqJbLrOt"
    },
    {
      "cell_type": "markdown",
      "metadata": {
        "id": "wFWvWLK2Q0Lx"
      },
      "source": [
        "# Import Library"
      ],
      "id": "wFWvWLK2Q0Lx"
    },
    {
      "cell_type": "code",
      "execution_count": null,
      "metadata": {
        "id": "43b29223"
      },
      "outputs": [],
      "source": [
        "import numpy as np\n",
        "import pandas as pd\n",
        "import torch\n",
        "from torchvision import datasets, transforms\n",
        "\n",
        "import torch.nn as nn\n",
        "import torch.optim as optim\n",
        "import matplotlib.pyplot as plt\n",
        "import os\n",
        "from sklearn.model_selection import train_test_split\n",
        "from torch.utils.data import TensorDataset, DataLoader\n",
        "from sklearn.utils import resample\n",
        "import torch.nn.functional as F"
      ],
      "id": "43b29223"
    },
    {
      "cell_type": "markdown",
      "metadata": {
        "id": "EzHnujDmUpiT"
      },
      "source": [
        "## Reading Data"
      ],
      "id": "EzHnujDmUpiT"
    },
    {
      "cell_type": "code",
      "execution_count": null,
      "metadata": {
        "id": "PHCW_pmEO9Bz"
      },
      "outputs": [],
      "source": [
        "path = '/content/drive/MyDrive/final_project/Kaggle competition dataset/data'\n",
        "combined_df = data_preperation(path)"
      ],
      "id": "PHCW_pmEO9Bz"
    },
    {
      "cell_type": "code",
      "execution_count": null,
      "metadata": {
        "colab": {
          "base_uri": "https://localhost:8080/",
          "height": 423
        },
        "id": "HdmHuyFZRAaa",
        "outputId": "3f9ffb15-da6a-488e-a28d-56136ce8f0a1"
      },
      "outputs": [
        {
          "data": {
            "text/html": [
              "\n",
              "  <div id=\"df-5ac77ff0-73f0-4103-b84b-2eb6338b35c3\" class=\"colab-df-container\">\n",
              "    <div>\n",
              "<style scoped>\n",
              "    .dataframe tbody tr th:only-of-type {\n",
              "        vertical-align: middle;\n",
              "    }\n",
              "\n",
              "    .dataframe tbody tr th {\n",
              "        vertical-align: top;\n",
              "    }\n",
              "\n",
              "    .dataframe thead th {\n",
              "        text-align: right;\n",
              "    }\n",
              "</style>\n",
              "<table border=\"1\" class=\"dataframe\">\n",
              "  <thead>\n",
              "    <tr style=\"text-align: right;\">\n",
              "      <th></th>\n",
              "      <th>Activity</th>\n",
              "      <th>AccelX_5</th>\n",
              "      <th>AccelY_5</th>\n",
              "      <th>AccelZ_5</th>\n",
              "      <th>GyroX_5</th>\n",
              "      <th>GyroY_5</th>\n",
              "      <th>GyroZ_5</th>\n",
              "      <th>step</th>\n",
              "    </tr>\n",
              "  </thead>\n",
              "  <tbody>\n",
              "    <tr>\n",
              "      <th>0</th>\n",
              "      <td>0</td>\n",
              "      <td>0.148915</td>\n",
              "      <td>4.705827</td>\n",
              "      <td>8.557376</td>\n",
              "      <td>-0.013430</td>\n",
              "      <td>-0.001028</td>\n",
              "      <td>0.017995</td>\n",
              "      <td>0.0</td>\n",
              "    </tr>\n",
              "    <tr>\n",
              "      <th>1</th>\n",
              "      <td>0</td>\n",
              "      <td>0.202848</td>\n",
              "      <td>4.666829</td>\n",
              "      <td>8.485154</td>\n",
              "      <td>-0.027897</td>\n",
              "      <td>-0.000346</td>\n",
              "      <td>0.016360</td>\n",
              "      <td>0.0</td>\n",
              "    </tr>\n",
              "    <tr>\n",
              "      <th>2</th>\n",
              "      <td>0</td>\n",
              "      <td>0.232652</td>\n",
              "      <td>4.668847</td>\n",
              "      <td>8.412815</td>\n",
              "      <td>-0.038700</td>\n",
              "      <td>0.023742</td>\n",
              "      <td>0.001388</td>\n",
              "      <td>0.0</td>\n",
              "    </tr>\n",
              "    <tr>\n",
              "      <th>3</th>\n",
              "      <td>0</td>\n",
              "      <td>0.194148</td>\n",
              "      <td>4.665260</td>\n",
              "      <td>8.463220</td>\n",
              "      <td>-0.049840</td>\n",
              "      <td>0.054852</td>\n",
              "      <td>-0.014097</td>\n",
              "      <td>0.0</td>\n",
              "    </tr>\n",
              "    <tr>\n",
              "      <th>4</th>\n",
              "      <td>0</td>\n",
              "      <td>0.118559</td>\n",
              "      <td>4.698190</td>\n",
              "      <td>8.585538</td>\n",
              "      <td>-0.061949</td>\n",
              "      <td>0.075178</td>\n",
              "      <td>-0.022977</td>\n",
              "      <td>0.0</td>\n",
              "    </tr>\n",
              "    <tr>\n",
              "      <th>...</th>\n",
              "      <td>...</td>\n",
              "      <td>...</td>\n",
              "      <td>...</td>\n",
              "      <td>...</td>\n",
              "      <td>...</td>\n",
              "      <td>...</td>\n",
              "      <td>...</td>\n",
              "      <td>...</td>\n",
              "    </tr>\n",
              "    <tr>\n",
              "      <th>722577</th>\n",
              "      <td>0</td>\n",
              "      <td>0.599268</td>\n",
              "      <td>2.624710</td>\n",
              "      <td>-9.532635</td>\n",
              "      <td>0.053674</td>\n",
              "      <td>-0.027126</td>\n",
              "      <td>0.004311</td>\n",
              "      <td>0.0</td>\n",
              "    </tr>\n",
              "    <tr>\n",
              "      <th>722578</th>\n",
              "      <td>0</td>\n",
              "      <td>0.632215</td>\n",
              "      <td>2.631344</td>\n",
              "      <td>-9.564042</td>\n",
              "      <td>0.056121</td>\n",
              "      <td>-0.012825</td>\n",
              "      <td>-0.003716</td>\n",
              "      <td>0.0</td>\n",
              "    </tr>\n",
              "    <tr>\n",
              "      <th>722579</th>\n",
              "      <td>0</td>\n",
              "      <td>0.612604</td>\n",
              "      <td>2.675650</td>\n",
              "      <td>-9.590501</td>\n",
              "      <td>0.040939</td>\n",
              "      <td>-0.016002</td>\n",
              "      <td>-0.006703</td>\n",
              "      <td>0.0</td>\n",
              "    </tr>\n",
              "    <tr>\n",
              "      <th>722580</th>\n",
              "      <td>0</td>\n",
              "      <td>0.603940</td>\n",
              "      <td>2.653812</td>\n",
              "      <td>-9.593956</td>\n",
              "      <td>0.016346</td>\n",
              "      <td>-0.025056</td>\n",
              "      <td>-0.013025</td>\n",
              "      <td>0.0</td>\n",
              "    </tr>\n",
              "    <tr>\n",
              "      <th>722581</th>\n",
              "      <td>0</td>\n",
              "      <td>0.600756</td>\n",
              "      <td>2.600639</td>\n",
              "      <td>-9.669493</td>\n",
              "      <td>-0.001718</td>\n",
              "      <td>-0.018781</td>\n",
              "      <td>-0.020006</td>\n",
              "      <td>0.0</td>\n",
              "    </tr>\n",
              "  </tbody>\n",
              "</table>\n",
              "<p>722582 rows × 8 columns</p>\n",
              "</div>\n",
              "    <div class=\"colab-df-buttons\">\n",
              "\n",
              "  <div class=\"colab-df-container\">\n",
              "    <button class=\"colab-df-convert\" onclick=\"convertToInteractive('df-5ac77ff0-73f0-4103-b84b-2eb6338b35c3')\"\n",
              "            title=\"Convert this dataframe to an interactive table.\"\n",
              "            style=\"display:none;\">\n",
              "\n",
              "  <svg xmlns=\"http://www.w3.org/2000/svg\" height=\"24px\" viewBox=\"0 -960 960 960\">\n",
              "    <path d=\"M120-120v-720h720v720H120Zm60-500h600v-160H180v160Zm220 220h160v-160H400v160Zm0 220h160v-160H400v160ZM180-400h160v-160H180v160Zm440 0h160v-160H620v160ZM180-180h160v-160H180v160Zm440 0h160v-160H620v160Z\"/>\n",
              "  </svg>\n",
              "    </button>\n",
              "\n",
              "  <style>\n",
              "    .colab-df-container {\n",
              "      display:flex;\n",
              "      gap: 12px;\n",
              "    }\n",
              "\n",
              "    .colab-df-convert {\n",
              "      background-color: #E8F0FE;\n",
              "      border: none;\n",
              "      border-radius: 50%;\n",
              "      cursor: pointer;\n",
              "      display: none;\n",
              "      fill: #1967D2;\n",
              "      height: 32px;\n",
              "      padding: 0 0 0 0;\n",
              "      width: 32px;\n",
              "    }\n",
              "\n",
              "    .colab-df-convert:hover {\n",
              "      background-color: #E2EBFA;\n",
              "      box-shadow: 0px 1px 2px rgba(60, 64, 67, 0.3), 0px 1px 3px 1px rgba(60, 64, 67, 0.15);\n",
              "      fill: #174EA6;\n",
              "    }\n",
              "\n",
              "    .colab-df-buttons div {\n",
              "      margin-bottom: 4px;\n",
              "    }\n",
              "\n",
              "    [theme=dark] .colab-df-convert {\n",
              "      background-color: #3B4455;\n",
              "      fill: #D2E3FC;\n",
              "    }\n",
              "\n",
              "    [theme=dark] .colab-df-convert:hover {\n",
              "      background-color: #434B5C;\n",
              "      box-shadow: 0px 1px 3px 1px rgba(0, 0, 0, 0.15);\n",
              "      filter: drop-shadow(0px 1px 2px rgba(0, 0, 0, 0.3));\n",
              "      fill: #FFFFFF;\n",
              "    }\n",
              "  </style>\n",
              "\n",
              "    <script>\n",
              "      const buttonEl =\n",
              "        document.querySelector('#df-5ac77ff0-73f0-4103-b84b-2eb6338b35c3 button.colab-df-convert');\n",
              "      buttonEl.style.display =\n",
              "        google.colab.kernel.accessAllowed ? 'block' : 'none';\n",
              "\n",
              "      async function convertToInteractive(key) {\n",
              "        const element = document.querySelector('#df-5ac77ff0-73f0-4103-b84b-2eb6338b35c3');\n",
              "        const dataTable =\n",
              "          await google.colab.kernel.invokeFunction('convertToInteractive',\n",
              "                                                    [key], {});\n",
              "        if (!dataTable) return;\n",
              "\n",
              "        const docLinkHtml = 'Like what you see? Visit the ' +\n",
              "          '<a target=\"_blank\" href=https://colab.research.google.com/notebooks/data_table.ipynb>data table notebook</a>'\n",
              "          + ' to learn more about interactive tables.';\n",
              "        element.innerHTML = '';\n",
              "        dataTable['output_type'] = 'display_data';\n",
              "        await google.colab.output.renderOutput(dataTable, element);\n",
              "        const docLink = document.createElement('div');\n",
              "        docLink.innerHTML = docLinkHtml;\n",
              "        element.appendChild(docLink);\n",
              "      }\n",
              "    </script>\n",
              "  </div>\n",
              "\n",
              "\n",
              "<div id=\"df-796dfb2a-2d6e-4398-be59-56e7f33e9db5\">\n",
              "  <button class=\"colab-df-quickchart\" onclick=\"quickchart('df-796dfb2a-2d6e-4398-be59-56e7f33e9db5')\"\n",
              "            title=\"Suggest charts.\"\n",
              "            style=\"display:none;\">\n",
              "\n",
              "<svg xmlns=\"http://www.w3.org/2000/svg\" height=\"24px\"viewBox=\"0 0 24 24\"\n",
              "     width=\"24px\">\n",
              "    <g>\n",
              "        <path d=\"M19 3H5c-1.1 0-2 .9-2 2v14c0 1.1.9 2 2 2h14c1.1 0 2-.9 2-2V5c0-1.1-.9-2-2-2zM9 17H7v-7h2v7zm4 0h-2V7h2v10zm4 0h-2v-4h2v4z\"/>\n",
              "    </g>\n",
              "</svg>\n",
              "  </button>\n",
              "\n",
              "<style>\n",
              "  .colab-df-quickchart {\n",
              "    background-color: #E8F0FE;\n",
              "    border: none;\n",
              "    border-radius: 50%;\n",
              "    cursor: pointer;\n",
              "    display: none;\n",
              "    fill: #1967D2;\n",
              "    height: 32px;\n",
              "    padding: 0 0 0 0;\n",
              "    width: 32px;\n",
              "  }\n",
              "\n",
              "  .colab-df-quickchart:hover {\n",
              "    background-color: #E2EBFA;\n",
              "    box-shadow: 0px 1px 2px rgba(60, 64, 67, 0.3), 0px 1px 3px 1px rgba(60, 64, 67, 0.15);\n",
              "    fill: #174EA6;\n",
              "  }\n",
              "\n",
              "  [theme=dark] .colab-df-quickchart {\n",
              "    background-color: #3B4455;\n",
              "    fill: #D2E3FC;\n",
              "  }\n",
              "\n",
              "  [theme=dark] .colab-df-quickchart:hover {\n",
              "    background-color: #434B5C;\n",
              "    box-shadow: 0px 1px 3px 1px rgba(0, 0, 0, 0.15);\n",
              "    filter: drop-shadow(0px 1px 2px rgba(0, 0, 0, 0.3));\n",
              "    fill: #FFFFFF;\n",
              "  }\n",
              "</style>\n",
              "\n",
              "  <script>\n",
              "    async function quickchart(key) {\n",
              "      const charts = await google.colab.kernel.invokeFunction(\n",
              "          'suggestCharts', [key], {});\n",
              "    }\n",
              "    (() => {\n",
              "      let quickchartButtonEl =\n",
              "        document.querySelector('#df-796dfb2a-2d6e-4398-be59-56e7f33e9db5 button');\n",
              "      quickchartButtonEl.style.display =\n",
              "        google.colab.kernel.accessAllowed ? 'block' : 'none';\n",
              "    })();\n",
              "  </script>\n",
              "</div>\n",
              "    </div>\n",
              "  </div>\n"
            ],
            "text/plain": [
              "         Activity   AccelX_5   AccelY_5   AccelZ_5   GyroX_5   GyroY_5  \\\n",
              "0               0   0.148915   4.705827   8.557376 -0.013430 -0.001028   \n",
              "1               0   0.202848   4.666829   8.485154 -0.027897 -0.000346   \n",
              "2               0   0.232652   4.668847   8.412815 -0.038700  0.023742   \n",
              "3               0   0.194148   4.665260   8.463220 -0.049840  0.054852   \n",
              "4               0   0.118559   4.698190   8.585538 -0.061949  0.075178   \n",
              "...           ...        ...        ...        ...       ...       ...   \n",
              "722577          0   0.599268   2.624710  -9.532635  0.053674 -0.027126   \n",
              "722578          0   0.632215   2.631344  -9.564042  0.056121 -0.012825   \n",
              "722579          0   0.612604   2.675650  -9.590501  0.040939 -0.016002   \n",
              "722580          0   0.603940   2.653812  -9.593956  0.016346 -0.025056   \n",
              "722581          0   0.600756   2.600639  -9.669493 -0.001718 -0.018781   \n",
              "\n",
              "         GyroZ_5  step  \n",
              "0       0.017995   0.0  \n",
              "1       0.016360   0.0  \n",
              "2       0.001388   0.0  \n",
              "3      -0.014097   0.0  \n",
              "4      -0.022977   0.0  \n",
              "...          ...   ...  \n",
              "722577  0.004311   0.0  \n",
              "722578 -0.003716   0.0  \n",
              "722579 -0.006703   0.0  \n",
              "722580 -0.013025   0.0  \n",
              "722581 -0.020006   0.0  \n",
              "\n",
              "[722582 rows x 8 columns]"
            ]
          },
          "execution_count": 5,
          "metadata": {},
          "output_type": "execute_result"
        }
      ],
      "source": [
        "combined_df"
      ],
      "id": "HdmHuyFZRAaa"
    },
    {
      "cell_type": "code",
      "execution_count": null,
      "metadata": {
        "colab": {
          "base_uri": "https://localhost:8080/"
        },
        "id": "-v10QOmODFS2",
        "outputId": "6bd39d6b-89ac-4667-a9d0-2be693c1d776"
      },
      "outputs": [
        {
          "name": "stdout",
          "output_type": "stream",
          "text": [
            "Index([' Activity', ' AccelX_5', ' AccelY_5', ' AccelZ_5', ' GyroX_5',\n",
            "       ' GyroY_5', ' GyroZ_5', 'step'],\n",
            "      dtype='object')\n"
          ]
        }
      ],
      "source": [
        "print(combined_df.columns)"
      ],
      "id": "-v10QOmODFS2"
    },
    {
      "cell_type": "code",
      "execution_count": null,
      "metadata": {
        "id": "UJb1WOtwFewf"
      },
      "outputs": [],
      "source": [
        "# Remove leading/trailing spaces from column names\n",
        "combined_df.columns = combined_df.columns.str.strip()"
      ],
      "id": "UJb1WOtwFewf"
    },
    {
      "cell_type": "code",
      "execution_count": null,
      "metadata": {
        "colab": {
          "base_uri": "https://localhost:8080/"
        },
        "id": "60CYRy3_HXPy",
        "outputId": "18de8787-5f94-4bd6-9ee6-b28b12ffb24c"
      },
      "outputs": [
        {
          "data": {
            "text/plain": [
              "0.0    709740\n",
              "1.0      6421\n",
              "2.0      6421\n",
              "Name: step, dtype: int64"
            ]
          },
          "execution_count": 8,
          "metadata": {},
          "output_type": "execute_result"
        }
      ],
      "source": [
        "combined_df['step'].value_counts()"
      ],
      "id": "60CYRy3_HXPy"
    },
    {
      "cell_type": "code",
      "execution_count": null,
      "metadata": {
        "colab": {
          "base_uri": "https://localhost:8080/",
          "height": 472
        },
        "id": "yZnScbJ1UXBq",
        "outputId": "21d0e933-945c-41ba-e043-caa498b8c8d7"
      },
      "outputs": [
        {
          "data": {
            "image/png": "[encoded data removed]",
            "text/plain": [
              "<Figure size 640x480 with 1 Axes>"
            ]
          },
          "metadata": {},
          "output_type": "display_data"
        }
      ],
      "source": [
        "# Assuming your dataframe is named 'df'\n",
        "steps = combined_df.iloc[:, -1]  # Extract the steps column (last column)\n",
        "\n",
        "# Map step category codes to English names\n",
        "step_names = {0: 'Still', 1: 'Step Start', 2: 'Step End'}\n",
        "steps = steps.map(step_names)\n",
        "\n",
        "# Count the occurrences of each step category\n",
        "step_counts = steps.value_counts()\n",
        "\n",
        "# Plotting the bar graph\n",
        "plt.bar(step_counts.index, step_counts.values)\n",
        "plt.xlabel('Step Category')\n",
        "plt.ylabel('Count')\n",
        "plt.title('Step Counts')\n",
        "plt.show()\n"
      ],
      "id": "yZnScbJ1UXBq"
    },
    {
      "cell_type": "markdown",
      "metadata": {
        "id": "I7BkiuybtPNC"
      },
      "source": [
        "## Preprocessing"
      ],
      "id": "I7BkiuybtPNC"
    },
    {
      "cell_type": "code",
      "execution_count": null,
      "metadata": {
        "id": "sgOZ_MDitO29"
      },
      "outputs": [],
      "source": [
        "# Ensuring that there is no nan values in the dataset\n",
        "combined_df = combined_df.dropna()"
      ],
      "id": "sgOZ_MDitO29"
    },
    {
      "cell_type": "code",
      "execution_count": null,
      "metadata": {
        "colab": {
          "base_uri": "https://localhost:8080/",
          "height": 423
        },
        "id": "zcDAiIGhu13F",
        "outputId": "c90939d9-cb72-4087-bd1b-376604a475c8"
      },
      "outputs": [
        {
          "data": {
            "text/html": [
              "\n",
              "  <div id=\"df-11bc892e-712c-42b1-864f-913b9ad82d8b\" class=\"colab-df-container\">\n",
              "    <div>\n",
              "<style scoped>\n",
              "    .dataframe tbody tr th:only-of-type {\n",
              "        vertical-align: middle;\n",
              "    }\n",
              "\n",
              "    .dataframe tbody tr th {\n",
              "        vertical-align: top;\n",
              "    }\n",
              "\n",
              "    .dataframe thead th {\n",
              "        text-align: right;\n",
              "    }\n",
              "</style>\n",
              "<table border=\"1\" class=\"dataframe\">\n",
              "  <thead>\n",
              "    <tr style=\"text-align: right;\">\n",
              "      <th></th>\n",
              "      <th>Activity</th>\n",
              "      <th>AccelX_5</th>\n",
              "      <th>AccelY_5</th>\n",
              "      <th>AccelZ_5</th>\n",
              "      <th>GyroX_5</th>\n",
              "      <th>GyroY_5</th>\n",
              "      <th>GyroZ_5</th>\n",
              "      <th>step</th>\n",
              "    </tr>\n",
              "  </thead>\n",
              "  <tbody>\n",
              "    <tr>\n",
              "      <th>0</th>\n",
              "      <td>0</td>\n",
              "      <td>0.148915</td>\n",
              "      <td>4.705827</td>\n",
              "      <td>8.557376</td>\n",
              "      <td>-0.013430</td>\n",
              "      <td>-0.001028</td>\n",
              "      <td>0.017995</td>\n",
              "      <td>0.0</td>\n",
              "    </tr>\n",
              "    <tr>\n",
              "      <th>1</th>\n",
              "      <td>0</td>\n",
              "      <td>0.202848</td>\n",
              "      <td>4.666829</td>\n",
              "      <td>8.485154</td>\n",
              "      <td>-0.027897</td>\n",
              "      <td>-0.000346</td>\n",
              "      <td>0.016360</td>\n",
              "      <td>0.0</td>\n",
              "    </tr>\n",
              "    <tr>\n",
              "      <th>2</th>\n",
              "      <td>0</td>\n",
              "      <td>0.232652</td>\n",
              "      <td>4.668847</td>\n",
              "      <td>8.412815</td>\n",
              "      <td>-0.038700</td>\n",
              "      <td>0.023742</td>\n",
              "      <td>0.001388</td>\n",
              "      <td>0.0</td>\n",
              "    </tr>\n",
              "    <tr>\n",
              "      <th>3</th>\n",
              "      <td>0</td>\n",
              "      <td>0.194148</td>\n",
              "      <td>4.665260</td>\n",
              "      <td>8.463220</td>\n",
              "      <td>-0.049840</td>\n",
              "      <td>0.054852</td>\n",
              "      <td>-0.014097</td>\n",
              "      <td>0.0</td>\n",
              "    </tr>\n",
              "    <tr>\n",
              "      <th>4</th>\n",
              "      <td>0</td>\n",
              "      <td>0.118559</td>\n",
              "      <td>4.698190</td>\n",
              "      <td>8.585538</td>\n",
              "      <td>-0.061949</td>\n",
              "      <td>0.075178</td>\n",
              "      <td>-0.022977</td>\n",
              "      <td>0.0</td>\n",
              "    </tr>\n",
              "    <tr>\n",
              "      <th>...</th>\n",
              "      <td>...</td>\n",
              "      <td>...</td>\n",
              "      <td>...</td>\n",
              "      <td>...</td>\n",
              "      <td>...</td>\n",
              "      <td>...</td>\n",
              "      <td>...</td>\n",
              "      <td>...</td>\n",
              "    </tr>\n",
              "    <tr>\n",
              "      <th>722577</th>\n",
              "      <td>0</td>\n",
              "      <td>0.599268</td>\n",
              "      <td>2.624710</td>\n",
              "      <td>-9.532635</td>\n",
              "      <td>0.053674</td>\n",
              "      <td>-0.027126</td>\n",
              "      <td>0.004311</td>\n",
              "      <td>0.0</td>\n",
              "    </tr>\n",
              "    <tr>\n",
              "      <th>722578</th>\n",
              "      <td>0</td>\n",
              "      <td>0.632215</td>\n",
              "      <td>2.631344</td>\n",
              "      <td>-9.564042</td>\n",
              "      <td>0.056121</td>\n",
              "      <td>-0.012825</td>\n",
              "      <td>-0.003716</td>\n",
              "      <td>0.0</td>\n",
              "    </tr>\n",
              "    <tr>\n",
              "      <th>722579</th>\n",
              "      <td>0</td>\n",
              "      <td>0.612604</td>\n",
              "      <td>2.675650</td>\n",
              "      <td>-9.590501</td>\n",
              "      <td>0.040939</td>\n",
              "      <td>-0.016002</td>\n",
              "      <td>-0.006703</td>\n",
              "      <td>0.0</td>\n",
              "    </tr>\n",
              "    <tr>\n",
              "      <th>722580</th>\n",
              "      <td>0</td>\n",
              "      <td>0.603940</td>\n",
              "      <td>2.653812</td>\n",
              "      <td>-9.593956</td>\n",
              "      <td>0.016346</td>\n",
              "      <td>-0.025056</td>\n",
              "      <td>-0.013025</td>\n",
              "      <td>0.0</td>\n",
              "    </tr>\n",
              "    <tr>\n",
              "      <th>722581</th>\n",
              "      <td>0</td>\n",
              "      <td>0.600756</td>\n",
              "      <td>2.600639</td>\n",
              "      <td>-9.669493</td>\n",
              "      <td>-0.001718</td>\n",
              "      <td>-0.018781</td>\n",
              "      <td>-0.020006</td>\n",
              "      <td>0.0</td>\n",
              "    </tr>\n",
              "  </tbody>\n",
              "</table>\n",
              "<p>722582 rows × 8 columns</p>\n",
              "</div>\n",
              "    <div class=\"colab-df-buttons\">\n",
              "\n",
              "  <div class=\"colab-df-container\">\n",
              "    <button class=\"colab-df-convert\" onclick=\"convertToInteractive('df-11bc892e-712c-42b1-864f-913b9ad82d8b')\"\n",
              "            title=\"Convert this dataframe to an interactive table.\"\n",
              "            style=\"display:none;\">\n",
              "\n",
              "  <svg xmlns=\"http://www.w3.org/2000/svg\" height=\"24px\" viewBox=\"0 -960 960 960\">\n",
              "    <path d=\"M120-120v-720h720v720H120Zm60-500h600v-160H180v160Zm220 220h160v-160H400v160Zm0 220h160v-160H400v160ZM180-400h160v-160H180v160Zm440 0h160v-160H620v160ZM180-180h160v-160H180v160Zm440 0h160v-160H620v160Z\"/>\n",
              "  </svg>\n",
              "    </button>\n",
              "\n",
              "  <style>\n",
              "    .colab-df-container {\n",
              "      display:flex;\n",
              "      gap: 12px;\n",
              "    }\n",
              "\n",
              "    .colab-df-convert {\n",
              "      background-color: #E8F0FE;\n",
              "      border: none;\n",
              "      border-radius: 50%;\n",
              "      cursor: pointer;\n",
              "      display: none;\n",
              "      fill: #1967D2;\n",
              "      height: 32px;\n",
              "      padding: 0 0 0 0;\n",
              "      width: 32px;\n",
              "    }\n",
              "\n",
              "    .colab-df-convert:hover {\n",
              "      background-color: #E2EBFA;\n",
              "      box-shadow: 0px 1px 2px rgba(60, 64, 67, 0.3), 0px 1px 3px 1px rgba(60, 64, 67, 0.15);\n",
              "      fill: #174EA6;\n",
              "    }\n",
              "\n",
              "    .colab-df-buttons div {\n",
              "      margin-bottom: 4px;\n",
              "    }\n",
              "\n",
              "    [theme=dark] .colab-df-convert {\n",
              "      background-color: #3B4455;\n",
              "      fill: #D2E3FC;\n",
              "    }\n",
              "\n",
              "    [theme=dark] .colab-df-convert:hover {\n",
              "      background-color: #434B5C;\n",
              "      box-shadow: 0px 1px 3px 1px rgba(0, 0, 0, 0.15);\n",
              "      filter: drop-shadow(0px 1px 2px rgba(0, 0, 0, 0.3));\n",
              "      fill: #FFFFFF;\n",
              "    }\n",
              "  </style>\n",
              "\n",
              "    <script>\n",
              "      const buttonEl =\n",
              "        document.querySelector('#df-11bc892e-712c-42b1-864f-913b9ad82d8b button.colab-df-convert');\n",
              "      buttonEl.style.display =\n",
              "        google.colab.kernel.accessAllowed ? 'block' : 'none';\n",
              "\n",
              "      async function convertToInteractive(key) {\n",
              "        const element = document.querySelector('#df-11bc892e-712c-42b1-864f-913b9ad82d8b');\n",
              "        const dataTable =\n",
              "          await google.colab.kernel.invokeFunction('convertToInteractive',\n",
              "                                                    [key], {});\n",
              "        if (!dataTable) return;\n",
              "\n",
              "        const docLinkHtml = 'Like what you see? Visit the ' +\n",
              "          '<a target=\"_blank\" href=https://colab.research.google.com/notebooks/data_table.ipynb>data table notebook</a>'\n",
              "          + ' to learn more about interactive tables.';\n",
              "        element.innerHTML = '';\n",
              "        dataTable['output_type'] = 'display_data';\n",
              "        await google.colab.output.renderOutput(dataTable, element);\n",
              "        const docLink = document.createElement('div');\n",
              "        docLink.innerHTML = docLinkHtml;\n",
              "        element.appendChild(docLink);\n",
              "      }\n",
              "    </script>\n",
              "  </div>\n",
              "\n",
              "\n",
              "<div id=\"df-d8e5fc83-4934-4095-bca7-d3bed2019e94\">\n",
              "  <button class=\"colab-df-quickchart\" onclick=\"quickchart('df-d8e5fc83-4934-4095-bca7-d3bed2019e94')\"\n",
              "            title=\"Suggest charts.\"\n",
              "            style=\"display:none;\">\n",
              "\n",
              "<svg xmlns=\"http://www.w3.org/2000/svg\" height=\"24px\"viewBox=\"0 0 24 24\"\n",
              "     width=\"24px\">\n",
              "    <g>\n",
              "        <path d=\"M19 3H5c-1.1 0-2 .9-2 2v14c0 1.1.9 2 2 2h14c1.1 0 2-.9 2-2V5c0-1.1-.9-2-2-2zM9 17H7v-7h2v7zm4 0h-2V7h2v10zm4 0h-2v-4h2v4z\"/>\n",
              "    </g>\n",
              "</svg>\n",
              "  </button>\n",
              "\n",
              "<style>\n",
              "  .colab-df-quickchart {\n",
              "    background-color: #E8F0FE;\n",
              "    border: none;\n",
              "    border-radius: 50%;\n",
              "    cursor: pointer;\n",
              "    display: none;\n",
              "    fill: #1967D2;\n",
              "    height: 32px;\n",
              "    padding: 0 0 0 0;\n",
              "    width: 32px;\n",
              "  }\n",
              "\n",
              "  .colab-df-quickchart:hover {\n",
              "    background-color: #E2EBFA;\n",
              "    box-shadow: 0px 1px 2px rgba(60, 64, 67, 0.3), 0px 1px 3px 1px rgba(60, 64, 67, 0.15);\n",
              "    fill: #174EA6;\n",
              "  }\n",
              "\n",
              "  [theme=dark] .colab-df-quickchart {\n",
              "    background-color: #3B4455;\n",
              "    fill: #D2E3FC;\n",
              "  }\n",
              "\n",
              "  [theme=dark] .colab-df-quickchart:hover {\n",
              "    background-color: #434B5C;\n",
              "    box-shadow: 0px 1px 3px 1px rgba(0, 0, 0, 0.15);\n",
              "    filter: drop-shadow(0px 1px 2px rgba(0, 0, 0, 0.3));\n",
              "    fill: #FFFFFF;\n",
              "  }\n",
              "</style>\n",
              "\n",
              "  <script>\n",
              "    async function quickchart(key) {\n",
              "      const charts = await google.colab.kernel.invokeFunction(\n",
              "          'suggestCharts', [key], {});\n",
              "    }\n",
              "    (() => {\n",
              "      let quickchartButtonEl =\n",
              "        document.querySelector('#df-d8e5fc83-4934-4095-bca7-d3bed2019e94 button');\n",
              "      quickchartButtonEl.style.display =\n",
              "        google.colab.kernel.accessAllowed ? 'block' : 'none';\n",
              "    })();\n",
              "  </script>\n",
              "</div>\n",
              "    </div>\n",
              "  </div>\n"
            ],
            "text/plain": [
              "        Activity  AccelX_5  AccelY_5  AccelZ_5   GyroX_5   GyroY_5   GyroZ_5  \\\n",
              "0              0  0.148915  4.705827  8.557376 -0.013430 -0.001028  0.017995   \n",
              "1              0  0.202848  4.666829  8.485154 -0.027897 -0.000346  0.016360   \n",
              "2              0  0.232652  4.668847  8.412815 -0.038700  0.023742  0.001388   \n",
              "3              0  0.194148  4.665260  8.463220 -0.049840  0.054852 -0.014097   \n",
              "4              0  0.118559  4.698190  8.585538 -0.061949  0.075178 -0.022977   \n",
              "...          ...       ...       ...       ...       ...       ...       ...   \n",
              "722577         0  0.599268  2.624710 -9.532635  0.053674 -0.027126  0.004311   \n",
              "722578         0  0.632215  2.631344 -9.564042  0.056121 -0.012825 -0.003716   \n",
              "722579         0  0.612604  2.675650 -9.590501  0.040939 -0.016002 -0.006703   \n",
              "722580         0  0.603940  2.653812 -9.593956  0.016346 -0.025056 -0.013025   \n",
              "722581         0  0.600756  2.600639 -9.669493 -0.001718 -0.018781 -0.020006   \n",
              "\n",
              "        step  \n",
              "0        0.0  \n",
              "1        0.0  \n",
              "2        0.0  \n",
              "3        0.0  \n",
              "4        0.0  \n",
              "...      ...  \n",
              "722577   0.0  \n",
              "722578   0.0  \n",
              "722579   0.0  \n",
              "722580   0.0  \n",
              "722581   0.0  \n",
              "\n",
              "[722582 rows x 8 columns]"
            ]
          },
          "execution_count": 11,
          "metadata": {},
          "output_type": "execute_result"
        }
      ],
      "source": [
        "combined_df"
      ],
      "id": "zcDAiIGhu13F"
    },
    {
      "cell_type": "code",
      "execution_count": null,
      "metadata": {
        "colab": {
          "base_uri": "https://localhost:8080/"
        },
        "id": "Xu9t218F9ppY",
        "outputId": "b56bd055-9c24-4c6e-f834-87c7ac994a36"
      },
      "outputs": [
        {
          "data": {
            "text/plain": [
              "0.0    709740\n",
              "1.0      6421\n",
              "2.0      6421\n",
              "Name: step, dtype: int64"
            ]
          },
          "execution_count": 12,
          "metadata": {},
          "output_type": "execute_result"
        }
      ],
      "source": [
        "combined_df[\"step\"].value_counts()"
      ],
      "id": "Xu9t218F9ppY"
    },
    {
      "cell_type": "markdown",
      "metadata": {
        "id": "KyWG2tJ9XE02"
      },
      "source": [
        "### Normalization"
      ],
      "id": "KyWG2tJ9XE02"
    },
    {
      "cell_type": "code",
      "execution_count": null,
      "metadata": {
        "id": "97T8pjWArXiB"
      },
      "outputs": [],
      "source": [
        "# Assuming your dataframe is named 'combined_df'\n",
        "output_column = combined_df.iloc[:, -1]  # Extract the last column (output variable)\n",
        "\n",
        "# Normalize all columns except the last one\n",
        "numerator = (combined_df.iloc[:, :-1] - combined_df.iloc[:, :-1].min())\n",
        "denominator = (combined_df.iloc[:, :-1].max() - combined_df.iloc[:, :-1].min())\n",
        "df_normalized =  numerator / denominator\n",
        "\n",
        "# Concatenate the normalized data and the output column\n",
        "df_normalized = pd.concat([df_normalized, output_column], axis=1)\n"
      ],
      "id": "97T8pjWArXiB"
    },
    {
      "cell_type": "code",
      "execution_count": null,
      "metadata": {
        "colab": {
          "base_uri": "https://localhost:8080/"
        },
        "id": "htfR7ddItpjq",
        "outputId": "7b286ff3-5dbc-4820-c57f-40d762a05c35"
      },
      "outputs": [
        {
          "data": {
            "text/plain": [
              "0.0    709740\n",
              "1.0      6421\n",
              "2.0      6421\n",
              "Name: step, dtype: int64"
            ]
          },
          "execution_count": 19,
          "metadata": {},
          "output_type": "execute_result"
        }
      ],
      "source": [
        "df_normalized[\"step\"].value_counts()"
      ],
      "id": "htfR7ddItpjq"
    },
    {
      "cell_type": "code",
      "execution_count": null,
      "metadata": {
        "id": "W1dzwci3x_Da"
      },
      "outputs": [],
      "source": [
        "# Convert DataFrame to numpy array\n",
        "# data = combined_df.values\n",
        "data = df_normalized.values\n",
        "\n",
        "# Split the data into input features (X) and labels (y)\n",
        "X = data[:, 1:7]\n",
        "y = data[:, -1]"
      ],
      "id": "W1dzwci3x_Da"
    },
    {
      "cell_type": "markdown",
      "metadata": {
        "id": "c9ppyXGBQS03"
      },
      "source": [
        "## Train And test Split"
      ],
      "id": "c9ppyXGBQS03"
    },
    {
      "cell_type": "code",
      "execution_count": null,
      "metadata": {
        "id": "v3ToSxKIWTGf"
      },
      "outputs": [],
      "source": [
        "# Convert the data type of the numpy array elements\n",
        "X = X.astype(np.float32)  # Convert input features to float32\n",
        "y = y.astype(np.float32)"
      ],
      "id": "v3ToSxKIWTGf"
    },
    {
      "cell_type": "code",
      "execution_count": null,
      "metadata": {
        "id": "KGwr7cb3e5y-"
      },
      "outputs": [],
      "source": [
        "# Split the data into train and test datasets\n",
        "X_train, X_test, y_train, y_test = train_test_split(X, y, test_size=0.2, random_state=42)"
      ],
      "id": "KGwr7cb3e5y-"
    },
    {
      "cell_type": "markdown",
      "metadata": {
        "id": "n-6v_JcG5Nd6"
      },
      "source": [
        "## Experiments"
      ],
      "id": "n-6v_JcG5Nd6"
    },
    {
      "cell_type": "markdown",
      "metadata": {
        "id": "M-dExjXA6uXh"
      },
      "source": [
        "### Assign weights with crossentropy, CONV1D"
      ],
      "id": "M-dExjXA6uXh"
    },
    {
      "cell_type": "code",
      "execution_count": null,
      "metadata": {
        "colab": {
          "base_uri": "https://localhost:8080/",
          "height": 1000
        },
        "id": "aFZSHftRBpFo",
        "outputId": "5ae6a188-6ab1-4dd8-c309-931464735770"
      },
      "outputs": [
        {
          "name": "stdout",
          "output_type": "stream",
          "text": [
            "tensor(567817) tensor(5106) tensor(5142)\n",
            "tensor(0.9823) tensor(0.0088) tensor(0.0089)\n",
            "Epoch: 0 | Loss: 0.22098, Accuracy: 91.41% | Test loss: 0.46868, Test acc: 90.36%\n",
            "Epoch: 1 | Loss: 0.32113, Accuracy: 87.34% | Test loss: 0.64232, Test acc: 83.23%\n",
            "Epoch: 2 | Loss: 0.28614, Accuracy: 86.50% | Test loss: 0.54480, Test acc: 84.43%\n",
            "Epoch: 3 | Loss: 0.31536, Accuracy: 86.21% | Test loss: 0.50706, Test acc: 87.05%\n",
            "Epoch: 4 | Loss: 0.43201, Accuracy: 85.91% | Test loss: 0.44731, Test acc: 88.94%\n",
            "Train Accuracy: 85.91%\n",
            "Test Accuracy: 88.94%\n"
          ]
        },
        {
          "data": {
            "image/png": "[encoded data removed]",
            "text/plain": [
              "<Figure size 640x480 with 1 Axes>"
            ]
          },
          "metadata": {},
          "output_type": "display_data"
        },
        {
          "data": {
            "image/png": "[encoded data removed]",
            "text/plain": [
              "<Figure size 640x480 with 1 Axes>"
            ]
          },
          "metadata": {},
          "output_type": "display_data"
        }
      ],
      "source": [
        "# user paramters\n",
        "out_channels = [128, 64, 32]  # list of hidden layer dimensions\n",
        "epochs = 5 # number of epochs\n",
        "batch_size = 32  # training batch size\n",
        "learning_rate = 0.001  # learning rate\n",
        "cuda = True  # true or false to train the model on cuda or not\n",
        "plots = True\n",
        "model_2 = cnn_train_entropy(train_data = X_train, train_label = y_train ,test_data = X_test, test_label = y_test, out_channels = out_channels, epochs = epochs,  batch_size = batch_size, learning_rate = learning_rate,cuda = cuda, plots = plots)\n"
      ],
      "id": "aFZSHftRBpFo"
    },
    {
      "cell_type": "markdown",
      "metadata": {
        "id": "HvoZtktR7E2k"
      },
      "source": [
        "### Assign weights with focal loss, CONV1D"
      ],
      "id": "HvoZtktR7E2k"
    },
    {
      "cell_type": "code",
      "execution_count": null,
      "metadata": {
        "colab": {
          "background_save": true,
          "base_uri": "https://localhost:8080/"
        },
        "id": "9ilzTXPMnNxo",
        "outputId": "2084906c-fb3a-4f8d-968f-5a781277e9b2"
      },
      "outputs": [
        {
          "name": "stdout",
          "output_type": "stream",
          "text": [
            "tensor(567817) tensor(5106)\n",
            "tensor(0.9823) tensor(0.0088) tensor(0.0089)\n",
            "Epoch: 0 | Loss: 0.12036, Accuracy: 91.23% | Test loss: 0.15022, Test acc: 89.65%\n",
            "Epoch: 1 | Loss: 0.11484, Accuracy: 87.30% | Test loss: 0.19604, Test acc: 88.42%\n",
            "Epoch: 2 | Loss: 0.10561, Accuracy: 86.64% | Test loss: 0.20879, Test acc: 86.81%\n",
            "Epoch: 3 | Loss: 0.18490, Accuracy: 86.15% | Test loss: 0.21686, Test acc: 82.25%\n",
            "Epoch: 4 | Loss: 0.22872, Accuracy: 86.39% | Test loss: 0.28971, Test acc: 73.80%\n",
            "Train Accuracy: 86.39%\n",
            "Test Accuracy: 73.80%\n"
          ]
        },
        {
          "data": {
            "image/png": "[encoded data removed]",
            "text/plain": [
              "<Figure size 640x480 with 1 Axes>"
            ]
          },
          "metadata": {},
          "output_type": "display_data"
        },
        {
          "data": {
            "image/png": "[encoded data removed]",
            "text/plain": [
              "<Figure size 640x480 with 1 Axes>"
            ]
          },
          "metadata": {},
          "output_type": "display_data"
        }
      ],
      "source": [
        "# user paramters\n",
        "out_channels = [128, 64, 32]  # list of hidden layer dimensions\n",
        "epochs = 5 # number of epochs\n",
        "batch_size = 32  # training batch size\n",
        "learning_rate = 0.001  # learning rate\n",
        "cuda = True  # true or false to train the model on cuda or not\n",
        "plots = True\n",
        "model_3 = cnn_train_focal(train_data = X_train, train_label = y_train ,test_data = X_test, test_label = y_test, out_channels = out_channels, epochs = epochs,  batch_size = batch_size, learning_rate = learning_rate,cuda = cuda, plots = plots)\n"
      ],
      "id": "9ilzTXPMnNxo"
    },
    {
      "cell_type": "markdown",
      "metadata": {
        "id": "DHcBOieN7Iwa"
      },
      "source": [
        "### Assign weights with crossentropy, LinModel"
      ],
      "id": "DHcBOieN7Iwa"
    },
    {
      "cell_type": "code",
      "execution_count": null,
      "metadata": {
        "colab": {
          "background_save": true
        },
        "id": "IUO8RAfozB2B",
        "outputId": "bc4ec03c-bf31-477d-9a3e-c8632680755b"
      },
      "outputs": [
        {
          "name": "stdout",
          "output_type": "stream",
          "text": [
            "tensor(567817) tensor(5106)\n",
            "tensor(0.9823) tensor(0.0088) tensor(0.0089)\n",
            "Epoch: 0 | Loss: 1.69758, Accuracy: 98.15% | Test loss: 0.32788, Test acc: 98.21%\n",
            "Epoch: 1 | Loss: 1.35116, Accuracy: 98.19% | Test loss: 0.45509, Test acc: 98.21%\n",
            "Epoch: 2 | Loss: 2.45714, Accuracy: 98.05% | Test loss: 0.59615, Test acc: 98.21%\n",
            "Epoch: 3 | Loss: 0.38080, Accuracy: 97.81% | Test loss: 0.45664, Test acc: 98.21%\n",
            "Epoch: 4 | Loss: 0.32638, Accuracy: 97.25% | Test loss: 0.30205, Test acc: 98.21%\n",
            "Train Accuracy: [98.14951605788276, 98.18705508896059, 98.04883533858649, 97.8137406693019, 97.24633042996895]%\n",
            "Test Accuracy: [98.20505546060325, 98.20505546060325, 98.20505546060325, 98.20505546060325, 98.20505546060325]%\n"
          ]
        },
        {
          "data": {
            "image/png": "[encoded data removed]",
            "text/plain": [
              "<Figure size 640x480 with 1 Axes>"
            ]
          },
          "metadata": {},
          "output_type": "display_data"
        },
        {
          "data": {
            "image/png": "[encoded data removed]",
            "text/plain": [
              "<Figure size 640x480 with 1 Axes>"
            ]
          },
          "metadata": {},
          "output_type": "display_data"
        }
      ],
      "source": [
        "# user paramters\n",
        "hidden_dims = [128, 64, 32]  # list of hidden layer dimensions\n",
        "epochs = 5 # number of epochs\n",
        "batch_size = 32  # training batch size\n",
        "learning_rate = 0.001  # learning rate\n",
        "cuda = True  # true or false to train the model on cuda or not\n",
        "plots = True\n",
        "model_1 = mlp_train(train_data = X_train, train_label = y_train ,test_data = X_test, test_label = y_test, hidden_dims= hidden_dims, epochs = epochs,  batch_size = batch_size, learning_rate = learning_rate,cuda = cuda, plots = plots)\n"
      ],
      "id": "IUO8RAfozB2B"
    },
    {
      "cell_type": "markdown",
      "metadata": {
        "id": "5ZPft8Hg5cte"
      },
      "source": [
        "## Test Data"
      ],
      "id": "5ZPft8Hg5cte"
    },
    {
      "cell_type": "code",
      "execution_count": null,
      "metadata": {
        "colab": {
          "background_save": true
        },
        "id": "wITHVE-xXzRT"
      },
      "outputs": [],
      "source": [
        "test_df = pd.read_csv(\"/content/drive/MyDrive/final_project/Kaggle competition dataset/data/testdata.csv\")\n"
      ],
      "id": "wITHVE-xXzRT"
    },
    {
      "cell_type": "code",
      "execution_count": null,
      "metadata": {
        "colab": {
          "background_save": true
        },
        "id": "OCWqChxpvk8r"
      },
      "outputs": [],
      "source": [
        "# Train values are used to normal the test data\n",
        "test_df_norm = numerator / denominator"
      ],
      "id": "OCWqChxpvk8r"
    },
    {
      "cell_type": "code",
      "execution_count": null,
      "metadata": {
        "colab": {
          "background_save": true
        },
        "id": "edFjgdtqvjFS"
      },
      "outputs": [],
      "source": [
        "test_data  = test_df_norm.values\n",
        "test_data = torch.Tensor(test_data)"
      ],
      "id": "edFjgdtqvjFS"
    },
    {
      "cell_type": "code",
      "execution_count": null,
      "metadata": {
        "colab": {
          "background_save": true
        },
        "id": "oMq6e9nbXVqs"
      },
      "outputs": [],
      "source": [
        "def get_prediction(model, data):\n",
        "  # Make predictions\n",
        "  # Check if CUDA is available and set device accordingly\n",
        "  device = torch.device(\"cuda\" if cuda and torch.cuda.is_available() else \"cpu\")\n",
        "  model.eval()\n",
        "  with torch.inference_mode():\n",
        "    data = data.unsqueeze(1)\n",
        "    y_logits = model(data.to(device))\n",
        "    # Turn predicted logits in prediction probabilities\n",
        "    y_pred_probs = torch.softmax(y_logits, dim=1)\n",
        "    # Turn prediction probabilities into prediction labels\n",
        "    y_preds = y_pred_probs.argmax(dim=1)\n",
        "    # Compare first 10 model preds and test labels\n",
        "    print(f\"Predictions: {y_preds[:10]}\")\n",
        "    return y_preds"
      ],
      "id": "oMq6e9nbXVqs"
    },
    {
      "cell_type": "code",
      "execution_count": null,
      "metadata": {
        "colab": {
          "background_save": true
        },
        "id": "3lB0jdbS5sSA"
      },
      "outputs": [],
      "source": [
        "def save_prediction(prediction, path):\n",
        "  # Convert tensor to numpy array\n",
        "  y_preds_array = prediction.cpu().numpy()\n",
        "  # Create a dataframe\n",
        "  save_df = pd.DataFrame({'y_preds': y_preds_array})\n",
        "  print(save_df.value_counts())\n",
        "  final_df = pd.DataFrame()\n",
        "  final_df['start'] = np.where(save_df['y_preds'] == 1, 1, 0)\n",
        "  final_df['end'] = np.where(save_df['y_preds'] == 2, 1, 0)\n",
        "  final_df.to_csv(path)"
      ],
      "id": "3lB0jdbS5sSA"
    },
    {
      "cell_type": "code",
      "execution_count": null,
      "metadata": {
        "colab": {
          "background_save": true
        },
        "id": "VuC0fTqz31yr",
        "outputId": "873bf5bd-9a3b-49fe-90de-e5ab0e583ccd"
      },
      "outputs": [
        {
          "name": "stdout",
          "output_type": "stream",
          "text": [
            "Predictions: tensor([0, 0, 0, 0, 0, 0, 0, 0, 0, 0], device='cuda:0')\n",
            "Predictions: tensor([0, 0, 0, 0, 0, 0, 0, 0, 0, 0], device='cuda:0')\n",
            "Predictions: tensor([0, 0, 0, 0, 0, 0, 0, 0, 0, 0], device='cuda:0')\n"
          ]
        }
      ],
      "source": [
        "prediction_cnn_entropy = get_prediction(model_2, test_data)\n",
        "prediction_cnn_focal = get_prediction(model_3, test_data)\n",
        "prediction_mlp_entropy = get_prediction(model_1, test_data)"
      ],
      "id": "VuC0fTqz31yr"
    },
    {
      "cell_type": "code",
      "execution_count": null,
      "metadata": {
        "colab": {
          "background_save": true
        },
        "id": "p33yEPFdwRZo",
        "outputId": "645324c1-8587-4ca0-96e1-4852b8dd5777"
      },
      "outputs": [
        {
          "name": "stdout",
          "output_type": "stream",
          "text": [
            "y_preds\n",
            "0          100077\n",
            "2            1762\n",
            "1             252\n",
            "dtype: int64\n",
            "y_preds\n",
            "0          88527\n",
            "2           9848\n",
            "1           3716\n",
            "dtype: int64\n",
            "y_preds\n",
            "0          102091\n",
            "dtype: int64\n"
          ]
        }
      ],
      "source": [
        "save_prediction(prediction_cnn_entropy, \"/content/prediction_cnn_entropy.csv\")\n",
        "save_prediction(prediction_cnn_focal, \"/content/prediction_cnn_focal_normalized.csv\")\n",
        "save_prediction(prediction_mlp_entropy, \"/content/prediction_mlp_entropy_normalized.csv\")"
      ],
      "id": "p33yEPFdwRZo"
    },
    {
      "cell_type": "code",
      "execution_count": null,
      "metadata": {
        "colab": {
          "background_save": true
        },
        "id": "N98s-y0AdgH4"
      },
      "outputs": [],
      "source": [],
      "id": "N98s-y0AdgH4"
    }
  ],
  "metadata": {
    "accelerator": "GPU",
    "colab": {
      "provenance": [],
      "include_colab_link": true
    },
    "kernelspec": {
      "display_name": "Python 3",
      "name": "python3"
    },
    "language_info": {
      "codemirror_mode": {
        "name": "ipython",
        "version": 3
      },
      "file_extension": ".py",
      "mimetype": "text/x-python",
      "name": "python",
      "nbconvert_exporter": "python",
      "pygments_lexer": "ipython3",
      "version": "3.11.0"
    }
  },
  "nbformat": 4,
  "nbformat_minor": 5
}