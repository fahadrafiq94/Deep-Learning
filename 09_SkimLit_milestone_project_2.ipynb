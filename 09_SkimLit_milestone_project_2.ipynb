{
  "nbformat": 4,
  "nbformat_minor": 0,
  "metadata": {
    "colab": {
      "name": "09_SkimLit_milestone_project_2.ipynb",
      "provenance": [],
      "collapsed_sections": [],
      "authorship_tag": "ABX9TyN3DWUIeFEnFmF9+lOI2LrI",
      "include_colab_link": true
    },
    "kernelspec": {
      "name": "python3",
      "display_name": "Python 3"
    },
    "language_info": {
      "name": "python"
    },
    "accelerator": "GPU"
  },
  "cells": [
    {
      "cell_type": "markdown",
      "metadata": {
        "id": "view-in-github",
        "colab_type": "text"
      },
      "source": [
        "<a href=\"https://colab.research.google.com/github/fahadrafiq94/Machine-Learning/blob/main/09_SkimLit_milestone_project_2.ipynb\" target=\"_parent\"><img src=\"https://colab.research.google.com/assets/colab-badge.svg\" alt=\"Open In Colab\"/></a>"
      ]
    },
    {
      "cell_type": "code",
      "metadata": {
        "colab": {
          "base_uri": "https://localhost:8080/"
        },
        "id": "9IaPhaEl-Gnb",
        "outputId": "6764d09d-6ac1-4229-8f55-666071a98200"
      },
      "source": [
        "!nvidia-smi -L"
      ],
      "execution_count": null,
      "outputs": [
        {
          "output_type": "stream",
          "name": "stdout",
          "text": [
            "GPU 0: Tesla K80 (UUID: GPU-7ece112e-937e-dd8b-5263-148b89040a11)\n"
          ]
        }
      ]
    },
    {
      "cell_type": "markdown",
      "metadata": {
        "id": "SmlGjHymAXoY"
      },
      "source": [
        "## Get Data\n",
        "PUGMED 200K Dataset :https://github.com/Franck-Dernoncourt/pubmed-rct"
      ]
    },
    {
      "cell_type": "code",
      "metadata": {
        "colab": {
          "base_uri": "https://localhost:8080/"
        },
        "id": "DI_Gd17Z-RqF",
        "outputId": "53f40061-deb2-4fec-c770-e96c18ae0ad4"
      },
      "source": [
        "!git clone https://github.com/Franck-Dernoncourt/pubmed-rct\n",
        "!ls pubmed-rct"
      ],
      "execution_count": null,
      "outputs": [
        {
          "output_type": "stream",
          "name": "stdout",
          "text": [
            "Cloning into 'pubmed-rct'...\n",
            "remote: Enumerating objects: 33, done.\u001b[K\n",
            "remote: Counting objects: 100% (3/3), done.\u001b[K\n",
            "remote: Compressing objects: 100% (3/3), done.\u001b[K\n",
            "remote: Total 33 (delta 0), reused 0 (delta 0), pack-reused 30\u001b[K\n",
            "Unpacking objects: 100% (33/33), done.\n",
            "PubMed_200k_RCT\n",
            "PubMed_200k_RCT_numbers_replaced_with_at_sign\n",
            "PubMed_20k_RCT\n",
            "PubMed_20k_RCT_numbers_replaced_with_at_sign\n",
            "README.md\n"
          ]
        }
      ]
    },
    {
      "cell_type": "code",
      "metadata": {
        "colab": {
          "base_uri": "https://localhost:8080/"
        },
        "id": "0YwAzqGQBUGn",
        "outputId": "a11bee45-83e1-4b79-b564-8188a0cd4c63"
      },
      "source": [
        "# check what files are in pubmed 20k dataset \n",
        "!ls pubmed-rct/PubMed_20k_RCT_numbers_replaced_with_at_sign/"
      ],
      "execution_count": null,
      "outputs": [
        {
          "output_type": "stream",
          "name": "stdout",
          "text": [
            "dev.txt  test.txt  train.txt\n"
          ]
        }
      ]
    },
    {
      "cell_type": "markdown",
      "metadata": {
        "id": "dgwKAZmkCV4b"
      },
      "source": [
        "Dev is another word for validation set "
      ]
    },
    {
      "cell_type": "code",
      "metadata": {
        "id": "Daph7At_CI15"
      },
      "source": [
        "# start our experiment using 20k dataset\n",
        "data_dir  =\"/content/pubmed-rct/PubMed_20k_RCT_numbers_replaced_with_at_sign/\""
      ],
      "execution_count": null,
      "outputs": []
    },
    {
      "cell_type": "code",
      "metadata": {
        "colab": {
          "base_uri": "https://localhost:8080/"
        },
        "id": "inXVkMPQDYJh",
        "outputId": "89003a31-fee1-4915-9cbc-fb1a58bef0fe"
      },
      "source": [
        "# check all the filenames in the target directory \n",
        "import os \n",
        "filenames = [data_dir + filename for filename in os.listdir(data_dir)]\n",
        "filenames"
      ],
      "execution_count": null,
      "outputs": [
        {
          "output_type": "execute_result",
          "data": {
            "text/plain": [
              "['/content/pubmed-rct/PubMed_20k_RCT_numbers_replaced_with_at_sign/test.txt',\n",
              " '/content/pubmed-rct/PubMed_20k_RCT_numbers_replaced_with_at_sign/dev.txt',\n",
              " '/content/pubmed-rct/PubMed_20k_RCT_numbers_replaced_with_at_sign/train.txt']"
            ]
          },
          "metadata": {},
          "execution_count": 5
        }
      ]
    },
    {
      "cell_type": "markdown",
      "metadata": {
        "id": "G3RBeydcETgE"
      },
      "source": [
        "## Preprocess data"
      ]
    },
    {
      "cell_type": "code",
      "metadata": {
        "id": "IQRIpHwtDuRp"
      },
      "source": [
        "# cerate a function to read the lines of a document\n",
        "def get_lines(filename):\n",
        "  \"\"\"\n",
        "  Read filename and return the lines as a list\n",
        "\n",
        "  Args: \n",
        "    filname: string containing the filepath\n",
        "\n",
        "  Returns:\n",
        "    A list of strings with one string per line from the target filename.\n",
        "    \"\"\"\n",
        "  with open(filename , \"r\") as f:\n",
        "    return f.readlines()"
      ],
      "execution_count": null,
      "outputs": []
    },
    {
      "cell_type": "code",
      "metadata": {
        "colab": {
          "base_uri": "https://localhost:8080/"
        },
        "id": "UZSoHn2tGzRK",
        "outputId": "7a5f578f-def5-469a-a405-778839d3b225"
      },
      "source": [
        "train_lines  = get_lines(data_dir + \"train.txt\")\n",
        "train_lines[:20]"
      ],
      "execution_count": null,
      "outputs": [
        {
          "output_type": "execute_result",
          "data": {
            "text/plain": [
              "['###24293578\\n',\n",
              " 'OBJECTIVE\\tTo investigate the efficacy of @ weeks of daily low-dose oral prednisolone in improving pain , mobility , and systemic low-grade inflammation in the short term and whether the effect would be sustained at @ weeks in older adults with moderate to severe knee osteoarthritis ( OA ) .\\n',\n",
              " 'METHODS\\tA total of @ patients with primary knee OA were randomized @:@ ; @ received @ mg/day of prednisolone and @ received placebo for @ weeks .\\n',\n",
              " 'METHODS\\tOutcome measures included pain reduction and improvement in function scores and systemic inflammation markers .\\n',\n",
              " 'METHODS\\tPain was assessed using the visual analog pain scale ( @-@ mm ) .\\n',\n",
              " 'METHODS\\tSecondary outcome measures included the Western Ontario and McMaster Universities Osteoarthritis Index scores , patient global assessment ( PGA ) of the severity of knee OA , and @-min walk distance ( @MWD ) .\\n',\n",
              " 'METHODS\\tSerum levels of interleukin @ ( IL-@ ) , IL-@ , tumor necrosis factor ( TNF ) - , and high-sensitivity C-reactive protein ( hsCRP ) were measured .\\n',\n",
              " 'RESULTS\\tThere was a clinically relevant reduction in the intervention group compared to the placebo group for knee pain , physical function , PGA , and @MWD at @ weeks .\\n',\n",
              " 'RESULTS\\tThe mean difference between treatment arms ( @ % CI ) was @ ( @-@ @ ) , p < @ ; @ ( @-@ @ ) , p < @ ; @ ( @-@ @ ) , p < @ ; and @ ( @-@ @ ) , p < @ , respectively .\\n',\n",
              " 'RESULTS\\tFurther , there was a clinically relevant reduction in the serum levels of IL-@ , IL-@ , TNF - , and hsCRP at @ weeks in the intervention group when compared to the placebo group .\\n',\n",
              " 'RESULTS\\tThese differences remained significant at @ weeks .\\n',\n",
              " 'RESULTS\\tThe Outcome Measures in Rheumatology Clinical Trials-Osteoarthritis Research Society International responder rate was @ % in the intervention group and @ % in the placebo group ( p < @ ) .\\n',\n",
              " 'CONCLUSIONS\\tLow-dose oral prednisolone had both a short-term and a longer sustained effect resulting in less knee pain , better physical function , and attenuation of systemic inflammation in older patients with knee OA ( ClinicalTrials.gov identifier NCT@ ) .\\n',\n",
              " '\\n',\n",
              " '###24854809\\n',\n",
              " 'BACKGROUND\\tEmotional eating is associated with overeating and the development of obesity .\\n',\n",
              " 'BACKGROUND\\tYet , empirical evidence for individual ( trait ) differences in emotional eating and cognitive mechanisms that contribute to eating during sad mood remain equivocal .\\n',\n",
              " 'OBJECTIVE\\tThe aim of this study was to test if attention bias for food moderates the effect of self-reported emotional eating during sad mood ( vs neutral mood ) on actual food intake .\\n',\n",
              " 'OBJECTIVE\\tIt was expected that emotional eating is predictive of elevated attention for food and higher food intake after an experimentally induced sad mood and that attentional maintenance on food predicts food intake during a sad versus a neutral mood .\\n',\n",
              " 'METHODS\\tParticipants ( N = @ ) were randomly assigned to one of the two experimental mood induction conditions ( sad/neutral ) .\\n']"
            ]
          },
          "metadata": {},
          "execution_count": 7
        }
      ]
    },
    {
      "cell_type": "code",
      "metadata": {
        "colab": {
          "base_uri": "https://localhost:8080/"
        },
        "id": "bL13SMAjHpZH",
        "outputId": "c64e7cd6-809b-4879-d2fe-30e6b9e985a0"
      },
      "source": [
        "len(train_lines)"
      ],
      "execution_count": null,
      "outputs": [
        {
          "output_type": "execute_result",
          "data": {
            "text/plain": [
              "210040"
            ]
          },
          "metadata": {},
          "execution_count": 8
        }
      ]
    },
    {
      "cell_type": "markdown",
      "metadata": {
        "id": "PXMykCtQINOA"
      },
      "source": [
        "lets think about how we want our data to look... "
      ]
    },
    {
      "cell_type": "code",
      "metadata": {
        "id": "EKxkKuY3IG7m"
      },
      "source": [
        "def preprocess_text_with_line_numbers (filename):\n",
        "  input_lines = get_lines(filename)# get all the lines in list format\n",
        "  abstract_lines = \"\"  # create an empty abstract\n",
        "  abstract_samples = [] #create an empty list of abstracts\n",
        "\n",
        "  # loop through each line in the target file\n",
        "  for line in input_lines:\n",
        "    if line.startswith(\"###\"): # check to see if the line is an id line\n",
        "      abstract_id = line \n",
        "      abstract_lines =\"\" #reset the abstract string if the line is an id line\n",
        "\n",
        "    elif line.isspace(): #check to see of the line is a new line\n",
        "      abstract_line_split = abstract_lines.splitlines() # split each line in the abstract\n",
        "\n",
        "      # iterate thorugh each line in a single and count them at the same time\n",
        "      for abstract_line_number , abstract_line in enumerate(abstract_line_split):\n",
        "        line_data = {} # create an empty dictionary\n",
        "        target_text_split = abstract_line.split(\"\\t\") # split target label from text\n",
        "        line_data[\"target\"] = target_text_split[0] # get target label\n",
        "        line_data[\"text\"] = target_text_split[1].lower() #get target text and turn it into lower case\n",
        "        line_data[\"line_number\"] = abstract_line_number # what line number does the line appear in abstract\n",
        "        line_data[\"total_lines\"] =len(abstract_line_split) - 1 # how many total lines are there in the target abstract\n",
        "        abstract_samples.append(line_data)\n",
        "\n",
        "    else:\n",
        "      abstract_lines +=line\n",
        "    \n",
        "  return abstract_samples"
      ],
      "execution_count": null,
      "outputs": []
    },
    {
      "cell_type": "code",
      "metadata": {
        "colab": {
          "base_uri": "https://localhost:8080/"
        },
        "id": "lomROTIJOMRx",
        "outputId": "fe8e7d2d-93df-4248-9ed9-98fceb82e8eb"
      },
      "source": [
        "%%time \n",
        "train_sample = preprocess_text_with_line_numbers(data_dir + \"train.txt\")\n",
        "val_sample = preprocess_text_with_line_numbers(data_dir + \"dev.txt\")\n",
        "test_sample = preprocess_text_with_line_numbers(data_dir + \"test.txt\")\n",
        "\n",
        "print(len(train_sample) , len(val_sample) , len(test_sample))"
      ],
      "execution_count": null,
      "outputs": [
        {
          "output_type": "stream",
          "name": "stdout",
          "text": [
            "180040 30212 30135\n",
            "CPU times: user 589 ms, sys: 124 ms, total: 712 ms\n",
            "Wall time: 712 ms\n"
          ]
        }
      ]
    },
    {
      "cell_type": "code",
      "metadata": {
        "colab": {
          "base_uri": "https://localhost:8080/"
        },
        "id": "Vs2ZNvwUQt85",
        "outputId": "88983b93-a19c-4ce3-aee4-883331a96679"
      },
      "source": [
        "train_sample[:14]"
      ],
      "execution_count": null,
      "outputs": [
        {
          "output_type": "execute_result",
          "data": {
            "text/plain": [
              "[{'line_number': 0,\n",
              "  'target': 'OBJECTIVE',\n",
              "  'text': 'to investigate the efficacy of @ weeks of daily low-dose oral prednisolone in improving pain , mobility , and systemic low-grade inflammation in the short term and whether the effect would be sustained at @ weeks in older adults with moderate to severe knee osteoarthritis ( oa ) .',\n",
              "  'total_lines': 11},\n",
              " {'line_number': 1,\n",
              "  'target': 'METHODS',\n",
              "  'text': 'a total of @ patients with primary knee oa were randomized @:@ ; @ received @ mg/day of prednisolone and @ received placebo for @ weeks .',\n",
              "  'total_lines': 11},\n",
              " {'line_number': 2,\n",
              "  'target': 'METHODS',\n",
              "  'text': 'outcome measures included pain reduction and improvement in function scores and systemic inflammation markers .',\n",
              "  'total_lines': 11},\n",
              " {'line_number': 3,\n",
              "  'target': 'METHODS',\n",
              "  'text': 'pain was assessed using the visual analog pain scale ( @-@ mm ) .',\n",
              "  'total_lines': 11},\n",
              " {'line_number': 4,\n",
              "  'target': 'METHODS',\n",
              "  'text': 'secondary outcome measures included the western ontario and mcmaster universities osteoarthritis index scores , patient global assessment ( pga ) of the severity of knee oa , and @-min walk distance ( @mwd ) .',\n",
              "  'total_lines': 11},\n",
              " {'line_number': 5,\n",
              "  'target': 'METHODS',\n",
              "  'text': 'serum levels of interleukin @ ( il-@ ) , il-@ , tumor necrosis factor ( tnf ) - , and high-sensitivity c-reactive protein ( hscrp ) were measured .',\n",
              "  'total_lines': 11},\n",
              " {'line_number': 6,\n",
              "  'target': 'RESULTS',\n",
              "  'text': 'there was a clinically relevant reduction in the intervention group compared to the placebo group for knee pain , physical function , pga , and @mwd at @ weeks .',\n",
              "  'total_lines': 11},\n",
              " {'line_number': 7,\n",
              "  'target': 'RESULTS',\n",
              "  'text': 'the mean difference between treatment arms ( @ % ci ) was @ ( @-@ @ ) , p < @ ; @ ( @-@ @ ) , p < @ ; @ ( @-@ @ ) , p < @ ; and @ ( @-@ @ ) , p < @ , respectively .',\n",
              "  'total_lines': 11},\n",
              " {'line_number': 8,\n",
              "  'target': 'RESULTS',\n",
              "  'text': 'further , there was a clinically relevant reduction in the serum levels of il-@ , il-@ , tnf - , and hscrp at @ weeks in the intervention group when compared to the placebo group .',\n",
              "  'total_lines': 11},\n",
              " {'line_number': 9,\n",
              "  'target': 'RESULTS',\n",
              "  'text': 'these differences remained significant at @ weeks .',\n",
              "  'total_lines': 11},\n",
              " {'line_number': 10,\n",
              "  'target': 'RESULTS',\n",
              "  'text': 'the outcome measures in rheumatology clinical trials-osteoarthritis research society international responder rate was @ % in the intervention group and @ % in the placebo group ( p < @ ) .',\n",
              "  'total_lines': 11},\n",
              " {'line_number': 11,\n",
              "  'target': 'CONCLUSIONS',\n",
              "  'text': 'low-dose oral prednisolone had both a short-term and a longer sustained effect resulting in less knee pain , better physical function , and attenuation of systemic inflammation in older patients with knee oa ( clinicaltrials.gov identifier nct@ ) .',\n",
              "  'total_lines': 11},\n",
              " {'line_number': 0,\n",
              "  'target': 'BACKGROUND',\n",
              "  'text': 'emotional eating is associated with overeating and the development of obesity .',\n",
              "  'total_lines': 10},\n",
              " {'line_number': 1,\n",
              "  'target': 'BACKGROUND',\n",
              "  'text': 'yet , empirical evidence for individual ( trait ) differences in emotional eating and cognitive mechanisms that contribute to eating during sad mood remain equivocal .',\n",
              "  'total_lines': 10}]"
            ]
          },
          "metadata": {},
          "execution_count": 11
        }
      ]
    },
    {
      "cell_type": "code",
      "metadata": {
        "id": "hJSDIpjDRAAR"
      },
      "source": [
        "import pandas as pd"
      ],
      "execution_count": null,
      "outputs": []
    },
    {
      "cell_type": "code",
      "metadata": {
        "colab": {
          "base_uri": "https://localhost:8080/",
          "height": 500
        },
        "id": "ikTrMzsqRlKF",
        "outputId": "9952a6ca-4948-4bb5-e8d1-b4c68196b8fa"
      },
      "source": [
        "train_df = pd.DataFrame(train_sample)\n",
        "val_df = pd.DataFrame(val_sample)\n",
        "test_df = pd.DataFrame(test_sample)\n",
        "train_df.head(14)"
      ],
      "execution_count": null,
      "outputs": [
        {
          "output_type": "execute_result",
          "data": {
            "text/html": [
              "<div>\n",
              "<style scoped>\n",
              "    .dataframe tbody tr th:only-of-type {\n",
              "        vertical-align: middle;\n",
              "    }\n",
              "\n",
              "    .dataframe tbody tr th {\n",
              "        vertical-align: top;\n",
              "    }\n",
              "\n",
              "    .dataframe thead th {\n",
              "        text-align: right;\n",
              "    }\n",
              "</style>\n",
              "<table border=\"1\" class=\"dataframe\">\n",
              "  <thead>\n",
              "    <tr style=\"text-align: right;\">\n",
              "      <th></th>\n",
              "      <th>target</th>\n",
              "      <th>text</th>\n",
              "      <th>line_number</th>\n",
              "      <th>total_lines</th>\n",
              "    </tr>\n",
              "  </thead>\n",
              "  <tbody>\n",
              "    <tr>\n",
              "      <th>0</th>\n",
              "      <td>OBJECTIVE</td>\n",
              "      <td>to investigate the efficacy of @ weeks of dail...</td>\n",
              "      <td>0</td>\n",
              "      <td>11</td>\n",
              "    </tr>\n",
              "    <tr>\n",
              "      <th>1</th>\n",
              "      <td>METHODS</td>\n",
              "      <td>a total of @ patients with primary knee oa wer...</td>\n",
              "      <td>1</td>\n",
              "      <td>11</td>\n",
              "    </tr>\n",
              "    <tr>\n",
              "      <th>2</th>\n",
              "      <td>METHODS</td>\n",
              "      <td>outcome measures included pain reduction and i...</td>\n",
              "      <td>2</td>\n",
              "      <td>11</td>\n",
              "    </tr>\n",
              "    <tr>\n",
              "      <th>3</th>\n",
              "      <td>METHODS</td>\n",
              "      <td>pain was assessed using the visual analog pain...</td>\n",
              "      <td>3</td>\n",
              "      <td>11</td>\n",
              "    </tr>\n",
              "    <tr>\n",
              "      <th>4</th>\n",
              "      <td>METHODS</td>\n",
              "      <td>secondary outcome measures included the wester...</td>\n",
              "      <td>4</td>\n",
              "      <td>11</td>\n",
              "    </tr>\n",
              "    <tr>\n",
              "      <th>5</th>\n",
              "      <td>METHODS</td>\n",
              "      <td>serum levels of interleukin @ ( il-@ ) , il-@ ...</td>\n",
              "      <td>5</td>\n",
              "      <td>11</td>\n",
              "    </tr>\n",
              "    <tr>\n",
              "      <th>6</th>\n",
              "      <td>RESULTS</td>\n",
              "      <td>there was a clinically relevant reduction in t...</td>\n",
              "      <td>6</td>\n",
              "      <td>11</td>\n",
              "    </tr>\n",
              "    <tr>\n",
              "      <th>7</th>\n",
              "      <td>RESULTS</td>\n",
              "      <td>the mean difference between treatment arms ( @...</td>\n",
              "      <td>7</td>\n",
              "      <td>11</td>\n",
              "    </tr>\n",
              "    <tr>\n",
              "      <th>8</th>\n",
              "      <td>RESULTS</td>\n",
              "      <td>further , there was a clinically relevant redu...</td>\n",
              "      <td>8</td>\n",
              "      <td>11</td>\n",
              "    </tr>\n",
              "    <tr>\n",
              "      <th>9</th>\n",
              "      <td>RESULTS</td>\n",
              "      <td>these differences remained significant at @ we...</td>\n",
              "      <td>9</td>\n",
              "      <td>11</td>\n",
              "    </tr>\n",
              "    <tr>\n",
              "      <th>10</th>\n",
              "      <td>RESULTS</td>\n",
              "      <td>the outcome measures in rheumatology clinical ...</td>\n",
              "      <td>10</td>\n",
              "      <td>11</td>\n",
              "    </tr>\n",
              "    <tr>\n",
              "      <th>11</th>\n",
              "      <td>CONCLUSIONS</td>\n",
              "      <td>low-dose oral prednisolone had both a short-te...</td>\n",
              "      <td>11</td>\n",
              "      <td>11</td>\n",
              "    </tr>\n",
              "    <tr>\n",
              "      <th>12</th>\n",
              "      <td>BACKGROUND</td>\n",
              "      <td>emotional eating is associated with overeating...</td>\n",
              "      <td>0</td>\n",
              "      <td>10</td>\n",
              "    </tr>\n",
              "    <tr>\n",
              "      <th>13</th>\n",
              "      <td>BACKGROUND</td>\n",
              "      <td>yet , empirical evidence for individual ( trai...</td>\n",
              "      <td>1</td>\n",
              "      <td>10</td>\n",
              "    </tr>\n",
              "  </tbody>\n",
              "</table>\n",
              "</div>"
            ],
            "text/plain": [
              "         target  ... total_lines\n",
              "0     OBJECTIVE  ...          11\n",
              "1       METHODS  ...          11\n",
              "2       METHODS  ...          11\n",
              "3       METHODS  ...          11\n",
              "4       METHODS  ...          11\n",
              "5       METHODS  ...          11\n",
              "6       RESULTS  ...          11\n",
              "7       RESULTS  ...          11\n",
              "8       RESULTS  ...          11\n",
              "9       RESULTS  ...          11\n",
              "10      RESULTS  ...          11\n",
              "11  CONCLUSIONS  ...          11\n",
              "12   BACKGROUND  ...          10\n",
              "13   BACKGROUND  ...          10\n",
              "\n",
              "[14 rows x 4 columns]"
            ]
          },
          "metadata": {},
          "execution_count": 13
        }
      ]
    },
    {
      "cell_type": "code",
      "metadata": {
        "colab": {
          "base_uri": "https://localhost:8080/"
        },
        "id": "dodF-hPESALw",
        "outputId": "741f8dfb-cb0c-4d1c-8304-ce50904301fa"
      },
      "source": [
        "# distribution of labels in training data\n",
        "train_df.target.value_counts()"
      ],
      "execution_count": null,
      "outputs": [
        {
          "output_type": "execute_result",
          "data": {
            "text/plain": [
              "METHODS        59353\n",
              "RESULTS        57953\n",
              "CONCLUSIONS    27168\n",
              "BACKGROUND     21727\n",
              "OBJECTIVE      13839\n",
              "Name: target, dtype: int64"
            ]
          },
          "metadata": {},
          "execution_count": 14
        }
      ]
    },
    {
      "cell_type": "code",
      "metadata": {
        "colab": {
          "base_uri": "https://localhost:8080/",
          "height": 267
        },
        "id": "bfgm7VZgSRP0",
        "outputId": "7b817e71-ee46-4bad-a516-007752ffc9fb"
      },
      "source": [
        "# len of different lines \n",
        "train_df.total_lines.plot.hist();"
      ],
      "execution_count": null,
      "outputs": [
        {
          "output_type": "display_data",
          "data": {
            "image/png": "[encoded data removed]",
            "text/plain": [
              "<Figure size 432x288 with 1 Axes>"
            ]
          },
          "metadata": {
            "needs_background": "light"
          }
        }
      ]
    },
    {
      "cell_type": "markdown",
      "metadata": {
        "id": "MB958gsHSqIY"
      },
      "source": [
        "## Get list of sentences"
      ]
    },
    {
      "cell_type": "code",
      "metadata": {
        "colab": {
          "base_uri": "https://localhost:8080/"
        },
        "id": "oz_h31KjSbkc",
        "outputId": "17611c56-bcd7-4f37-ad16-900dda2015af"
      },
      "source": [
        "# convert abstract text lines into lists\n",
        "train_sentences = train_df[\"text\"].tolist()\n",
        "val_sentences = val_df[\"text\"].tolist()\n",
        "test_sentences = test_df[\"text\"].tolist()\n",
        "len(train_sentences) , len(val_sentences) , len(test_sentences)"
      ],
      "execution_count": null,
      "outputs": [
        {
          "output_type": "execute_result",
          "data": {
            "text/plain": [
              "(180040, 30212, 30135)"
            ]
          },
          "metadata": {},
          "execution_count": 16
        }
      ]
    },
    {
      "cell_type": "code",
      "metadata": {
        "colab": {
          "base_uri": "https://localhost:8080/"
        },
        "id": "zTOF_rOyS2vU",
        "outputId": "c02feb59-f531-44d8-e257-f09cbfbc6e0f"
      },
      "source": [
        "train_sentences[:10]"
      ],
      "execution_count": null,
      "outputs": [
        {
          "output_type": "execute_result",
          "data": {
            "text/plain": [
              "['to investigate the efficacy of @ weeks of daily low-dose oral prednisolone in improving pain , mobility , and systemic low-grade inflammation in the short term and whether the effect would be sustained at @ weeks in older adults with moderate to severe knee osteoarthritis ( oa ) .',\n",
              " 'a total of @ patients with primary knee oa were randomized @:@ ; @ received @ mg/day of prednisolone and @ received placebo for @ weeks .',\n",
              " 'outcome measures included pain reduction and improvement in function scores and systemic inflammation markers .',\n",
              " 'pain was assessed using the visual analog pain scale ( @-@ mm ) .',\n",
              " 'secondary outcome measures included the western ontario and mcmaster universities osteoarthritis index scores , patient global assessment ( pga ) of the severity of knee oa , and @-min walk distance ( @mwd ) .',\n",
              " 'serum levels of interleukin @ ( il-@ ) , il-@ , tumor necrosis factor ( tnf ) - , and high-sensitivity c-reactive protein ( hscrp ) were measured .',\n",
              " 'there was a clinically relevant reduction in the intervention group compared to the placebo group for knee pain , physical function , pga , and @mwd at @ weeks .',\n",
              " 'the mean difference between treatment arms ( @ % ci ) was @ ( @-@ @ ) , p < @ ; @ ( @-@ @ ) , p < @ ; @ ( @-@ @ ) , p < @ ; and @ ( @-@ @ ) , p < @ , respectively .',\n",
              " 'further , there was a clinically relevant reduction in the serum levels of il-@ , il-@ , tnf - , and hscrp at @ weeks in the intervention group when compared to the placebo group .',\n",
              " 'these differences remained significant at @ weeks .']"
            ]
          },
          "metadata": {},
          "execution_count": 17
        }
      ]
    },
    {
      "cell_type": "markdown",
      "metadata": {
        "id": "JclH3eE1Rsl1"
      },
      "source": [
        "## Make Numeric Labels "
      ]
    },
    {
      "cell_type": "code",
      "metadata": {
        "colab": {
          "base_uri": "https://localhost:8080/"
        },
        "id": "SESHKWuYTOqV",
        "outputId": "4f7c2694-7869-45ce-f547-c3b87f2c155d"
      },
      "source": [
        "# one hot encode labels\n",
        "from sklearn.preprocessing import OneHotEncoder\n",
        "one_hot_encoder = OneHotEncoder(sparse=False)\n",
        "train_labels_one_hot   =one_hot_encoder.fit_transform(train_df[\"target\"].to_numpy().reshape(-1,1))\n",
        "val_labels_one_hot = one_hot_encoder.transform(val_df[\"target\"].to_numpy().reshape(-1,1))\n",
        "test_labels_one_hot = one_hot_encoder.transform(test_df[\"target\"].to_numpy().reshape(-1,1))\n",
        "train_labels_one_hot"
      ],
      "execution_count": null,
      "outputs": [
        {
          "output_type": "execute_result",
          "data": {
            "text/plain": [
              "array([[0., 0., 0., 1., 0.],\n",
              "       [0., 0., 1., 0., 0.],\n",
              "       [0., 0., 1., 0., 0.],\n",
              "       ...,\n",
              "       [0., 0., 0., 0., 1.],\n",
              "       [0., 1., 0., 0., 0.],\n",
              "       [0., 1., 0., 0., 0.]])"
            ]
          },
          "metadata": {},
          "execution_count": 18
        }
      ]
    },
    {
      "cell_type": "markdown",
      "metadata": {
        "id": "zUBeLGTwTniC"
      },
      "source": [
        "## Label encode Labels"
      ]
    },
    {
      "cell_type": "code",
      "metadata": {
        "colab": {
          "base_uri": "https://localhost:8080/"
        },
        "id": "t_Yiuw6oTmoX",
        "outputId": "b26db686-c163-4637-e5a3-474563e26304"
      },
      "source": [
        "# extract labels and encode them into integers\n",
        "from sklearn.preprocessing import LabelEncoder\n",
        "label_encoder = LabelEncoder()\n",
        "train_labels_encoded = label_encoder.fit_transform(train_df[\"target\"].to_numpy())\n",
        "val_labels_encoded = label_encoder.transform(val_df[\"target\"].to_numpy())\n",
        "test_labels_encoded  = label_encoder.transform(test_df[\"target\"].to_numpy())\n",
        "train_labels_encoded"
      ],
      "execution_count": null,
      "outputs": [
        {
          "output_type": "execute_result",
          "data": {
            "text/plain": [
              "array([3, 2, 2, ..., 4, 1, 1])"
            ]
          },
          "metadata": {},
          "execution_count": 19
        }
      ]
    },
    {
      "cell_type": "code",
      "metadata": {
        "colab": {
          "base_uri": "https://localhost:8080/"
        },
        "id": "ZaiU4uaMUkwp",
        "outputId": "796f0b16-9cee-466f-8857-528ca19eef8e"
      },
      "source": [
        "# Get Class names and number of classes from label encoder instance\n",
        "num_classes = len(label_encoder.classes_)\n",
        "class_names = label_encoder.classes_\n",
        "num_classes , class_names"
      ],
      "execution_count": null,
      "outputs": [
        {
          "output_type": "execute_result",
          "data": {
            "text/plain": [
              "(5, array(['BACKGROUND', 'CONCLUSIONS', 'METHODS', 'OBJECTIVE', 'RESULTS'],\n",
              "       dtype=object))"
            ]
          },
          "metadata": {},
          "execution_count": 20
        }
      ]
    },
    {
      "cell_type": "markdown",
      "metadata": {
        "id": "YlxzhcpkVsNN"
      },
      "source": [
        "## Model 0: BaseLine "
      ]
    },
    {
      "cell_type": "code",
      "metadata": {
        "colab": {
          "base_uri": "https://localhost:8080/"
        },
        "id": "3p3aUePEVJ32",
        "outputId": "98d2a06e-c6d8-4814-d3f3-bd26c9d93db3"
      },
      "source": [
        "from sklearn.feature_extraction.text import TfidfVectorizer\n",
        "from sklearn.naive_bayes import MultinomialNB\n",
        "from sklearn.pipeline import Pipeline\n",
        "\n",
        "model_0=  Pipeline([\n",
        "      (\"tf-idf\" , TfidfVectorizer()),\n",
        "      (\"clf\" , MultinomialNB())                  \n",
        "])\n",
        "model_0.fit(train_sentences,\n",
        "               train_labels_encoded)"
      ],
      "execution_count": null,
      "outputs": [
        {
          "output_type": "execute_result",
          "data": {
            "text/plain": [
              "Pipeline(memory=None,\n",
              "         steps=[('tf-idf',\n",
              "                 TfidfVectorizer(analyzer='word', binary=False,\n",
              "                                 decode_error='strict',\n",
              "                                 dtype=<class 'numpy.float64'>,\n",
              "                                 encoding='utf-8', input='content',\n",
              "                                 lowercase=True, max_df=1.0, max_features=None,\n",
              "                                 min_df=1, ngram_range=(1, 1), norm='l2',\n",
              "                                 preprocessor=None, smooth_idf=True,\n",
              "                                 stop_words=None, strip_accents=None,\n",
              "                                 sublinear_tf=False,\n",
              "                                 token_pattern='(?u)\\\\b\\\\w\\\\w+\\\\b',\n",
              "                                 tokenizer=None, use_idf=True,\n",
              "                                 vocabulary=None)),\n",
              "                ('clf',\n",
              "                 MultinomialNB(alpha=1.0, class_prior=None, fit_prior=True))],\n",
              "         verbose=False)"
            ]
          },
          "metadata": {},
          "execution_count": 21
        }
      ]
    },
    {
      "cell_type": "code",
      "metadata": {
        "colab": {
          "base_uri": "https://localhost:8080/"
        },
        "id": "ATJ1zYIyWacA",
        "outputId": "b010bd37-bcde-49d4-cb6f-ecac40630b41"
      },
      "source": [
        "# Evaluate the baseline model\n",
        "model_0.score(val_sentences,\n",
        "              val_labels_encoded)"
      ],
      "execution_count": null,
      "outputs": [
        {
          "output_type": "execute_result",
          "data": {
            "text/plain": [
              "0.7218323844829869"
            ]
          },
          "metadata": {},
          "execution_count": 22
        }
      ]
    },
    {
      "cell_type": "code",
      "metadata": {
        "colab": {
          "base_uri": "https://localhost:8080/"
        },
        "id": "TI306_ubXuP4",
        "outputId": "538651ba-4ca5-422b-b7d5-e9ce6aaff112"
      },
      "source": [
        "# Make a prediction using baseline model \n",
        "baseline_preds = model_0.predict(val_sentences)\n",
        "baseline_preds "
      ],
      "execution_count": null,
      "outputs": [
        {
          "output_type": "execute_result",
          "data": {
            "text/plain": [
              "array([4, 1, 3, ..., 4, 4, 1])"
            ]
          },
          "metadata": {},
          "execution_count": 23
        }
      ]
    },
    {
      "cell_type": "markdown",
      "metadata": {
        "id": "B5LZ06pQY6_G"
      },
      "source": [
        "Getting Helper Functions"
      ]
    },
    {
      "cell_type": "code",
      "metadata": {
        "colab": {
          "base_uri": "https://localhost:8080/"
        },
        "id": "NEAuynp5Y36u",
        "outputId": "22554290-fb2d-4e7a-f813-756ed6e012c3"
      },
      "source": [
        "!wget https://raw.githubusercontent.com/mrdbourke/tensorflow-deep-learning/main/extras/helper_functions.py"
      ],
      "execution_count": null,
      "outputs": [
        {
          "output_type": "stream",
          "name": "stdout",
          "text": [
            "--2021-09-27 03:17:38--  https://raw.githubusercontent.com/mrdbourke/tensorflow-deep-learning/main/extras/helper_functions.py\n",
            "Resolving raw.githubusercontent.com (raw.githubusercontent.com)... 185.199.109.133, 185.199.111.133, 185.199.110.133, ...\n",
            "Connecting to raw.githubusercontent.com (raw.githubusercontent.com)|185.199.109.133|:443... connected.\n",
            "HTTP request sent, awaiting response... 200 OK\n",
            "Length: 10246 (10K) [text/plain]\n",
            "Saving to: ‘helper_functions.py’\n",
            "\n",
            "\rhelper_functions.py   0%[                    ]       0  --.-KB/s               \rhelper_functions.py 100%[===================>]  10.01K  --.-KB/s    in 0s      \n",
            "\n",
            "2021-09-27 03:17:38 (47.9 MB/s) - ‘helper_functions.py’ saved [10246/10246]\n",
            "\n"
          ]
        }
      ]
    },
    {
      "cell_type": "code",
      "metadata": {
        "id": "ptqG6NgCZGbn"
      },
      "source": [
        "from helper_functions import calculate_results"
      ],
      "execution_count": null,
      "outputs": []
    },
    {
      "cell_type": "code",
      "metadata": {
        "colab": {
          "base_uri": "https://localhost:8080/"
        },
        "id": "HgbRhHQYdDY_",
        "outputId": "a88d6a65-c7e7-42c1-b4c9-91549044efad"
      },
      "source": [
        "baseline_results = calculate_results(y_true = val_labels_encoded,\n",
        "                                     y_pred=baseline_preds)\n",
        "baseline_results"
      ],
      "execution_count": null,
      "outputs": [
        {
          "output_type": "execute_result",
          "data": {
            "text/plain": [
              "{'accuracy': 72.1832384482987,\n",
              " 'f1': 0.6989250353450294,\n",
              " 'precision': 0.7186466952323352,\n",
              " 'recall': 0.7218323844829869}"
            ]
          },
          "metadata": {},
          "execution_count": 26
        }
      ]
    },
    {
      "cell_type": "markdown",
      "metadata": {
        "id": "mjOLUBiIdrmc"
      },
      "source": [
        "## Model 1:Conv1D using Token embedding "
      ]
    },
    {
      "cell_type": "code",
      "metadata": {
        "id": "slUBhsA8dUo7"
      },
      "source": [
        "import numpy as np\n",
        "import tensorflow as tf\n",
        "from tensorflow.keras import layers"
      ],
      "execution_count": null,
      "outputs": []
    },
    {
      "cell_type": "code",
      "metadata": {
        "colab": {
          "base_uri": "https://localhost:8080/"
        },
        "id": "W0FOVHEsvqmN",
        "outputId": "3ce06e4e-c078-433a-c509-924cf42e044b"
      },
      "source": [
        " # How long is each sentence on average?\n",
        " sent_lens = [len(sentence.split()) for sentence in train_sentences]\n",
        " avg_sent_len = np.mean(sent_lens)\n",
        " avg_sent_len"
      ],
      "execution_count": null,
      "outputs": [
        {
          "output_type": "execute_result",
          "data": {
            "text/plain": [
              "26.338269273494777"
            ]
          },
          "metadata": {},
          "execution_count": 28
        }
      ]
    },
    {
      "cell_type": "code",
      "metadata": {
        "colab": {
          "base_uri": "https://localhost:8080/",
          "height": 265
        },
        "id": "lKemcubpwFoS",
        "outputId": "41fadbda-54cb-40c1-a15e-4a57ee0e6461"
      },
      "source": [
        "# what's the distribution looks like?\n",
        "import matplotlib.pyplot as plt\n",
        "plt.hist(sent_lens , bins=20);"
      ],
      "execution_count": null,
      "outputs": [
        {
          "output_type": "display_data",
          "data": {
            "image/png": "[encoded data removed]",
            "text/plain": [
              "<Figure size 432x288 with 1 Axes>"
            ]
          },
          "metadata": {
            "needs_background": "light"
          }
        }
      ]
    },
    {
      "cell_type": "code",
      "metadata": {
        "colab": {
          "base_uri": "https://localhost:8080/"
        },
        "id": "aClc-k-qwTUa",
        "outputId": "4220cf5c-5e11-43c1-a8fd-1e77acd82420"
      },
      "source": [
        "# how long  sentence cover 95% of the lenghts?\n",
        "output_seq_len = int(np.percentile(sent_lens , 95))\n",
        "output_seq_len"
      ],
      "execution_count": null,
      "outputs": [
        {
          "output_type": "execute_result",
          "data": {
            "text/plain": [
              "55"
            ]
          },
          "metadata": {},
          "execution_count": 30
        }
      ]
    },
    {
      "cell_type": "code",
      "metadata": {
        "colab": {
          "base_uri": "https://localhost:8080/"
        },
        "id": "guZAWyqEwkfK",
        "outputId": "2d017405-0ee9-4f98-f222-bd865cb6a622"
      },
      "source": [
        "# maximum sentence lenght in the training set\n",
        "max(sent_lens)"
      ],
      "execution_count": null,
      "outputs": [
        {
          "output_type": "execute_result",
          "data": {
            "text/plain": [
              "296"
            ]
          },
          "metadata": {},
          "execution_count": 31
        }
      ]
    },
    {
      "cell_type": "markdown",
      "metadata": {
        "id": "vgjaLpzmxR07"
      },
      "source": [
        "### Create Text Vectorization layer"
      ]
    },
    {
      "cell_type": "code",
      "metadata": {
        "id": "8KMndrMVwxzb"
      },
      "source": [
        "from tensorflow.keras.layers import TextVectorization\n",
        "max_tokens  =68000\n",
        "text_vectorizer = TextVectorization(max_tokens=max_tokens,\n",
        "                                    pad_to_max_tokens=True,\n",
        "                                    output_sequence_length=output_seq_len)\n"
      ],
      "execution_count": null,
      "outputs": []
    },
    {
      "cell_type": "code",
      "metadata": {
        "id": "ckconBHoxl7C"
      },
      "source": [
        "# adapt to the train data\n",
        "text_vectorizer.adapt(train_sentences)"
      ],
      "execution_count": null,
      "outputs": []
    },
    {
      "cell_type": "code",
      "metadata": {
        "colab": {
          "base_uri": "https://localhost:8080/"
        },
        "id": "atytQARhyaIi",
        "outputId": "a63fe51f-38a5-4220-a149-e96fef28e991"
      },
      "source": [
        "text_vectorizer([\"fahad is a good boy\"])"
      ],
      "execution_count": null,
      "outputs": [
        {
          "output_type": "execute_result",
          "data": {
            "text/plain": [
              "<tf.Tensor: shape=(1, 55), dtype=int64, numpy=\n",
              "array([[  1,  20,   8, 745,   1,   0,   0,   0,   0,   0,   0,   0,   0,\n",
              "          0,   0,   0,   0,   0,   0,   0,   0,   0,   0,   0,   0,   0,\n",
              "          0,   0,   0,   0,   0,   0,   0,   0,   0,   0,   0,   0,   0,\n",
              "          0,   0,   0,   0,   0,   0,   0,   0,   0,   0,   0,   0,   0,\n",
              "          0,   0,   0]])>"
            ]
          },
          "metadata": {},
          "execution_count": 34
        }
      ]
    },
    {
      "cell_type": "code",
      "metadata": {
        "colab": {
          "base_uri": "https://localhost:8080/"
        },
        "id": "wgMhud9XzdT1",
        "outputId": "0226e279-8788-4202-af32-08da6cc2d250"
      },
      "source": [
        "import random \n",
        "target_sentence = random.choice(train_sentences)\n",
        "print(f\"Text:\\n{target_sentence}\")\n",
        "print(f\"\\nLength of text:{len(target_sentence.split())}\")\n",
        "print(f\"\\nVectorized Text:{text_vectorizer([target_sentence])}\")"
      ],
      "execution_count": null,
      "outputs": [
        {
          "output_type": "stream",
          "name": "stdout",
          "text": [
            "Text:\n",
            "each group underwent dynamic liver mr imaging using a @-t scanner after an intravenous injection of gadoxetic acid at rates of either @ ml/s ( n = @ ) or @ ml/s ( n = @ ) .\n",
            "\n",
            "Length of text:38\n",
            "\n",
            "Vectorized Text:[[  122    13   352  1909   604  2078   688    59     8   206  7018    21\n",
            "     26   511   390     4 14016   386    15   162     4   132  4878    40\n",
            "     16  4878    40     0     0     0     0     0     0     0     0     0\n",
            "      0     0     0     0     0     0     0     0     0     0     0     0\n",
            "      0     0     0     0     0     0     0]]\n"
          ]
        }
      ]
    },
    {
      "cell_type": "code",
      "metadata": {
        "colab": {
          "base_uri": "https://localhost:8080/"
        },
        "id": "z5Idlqdm0ONW",
        "outputId": "ed1fa65c-e623-42ee-8240-d0d8464ef67e"
      },
      "source": [
        "# how many words in our training vocabulary\n",
        "rct_20k_text_vocab = text_vectorizer.get_vocabulary()\n",
        "print(f\"Number of words in vocab : {len(rct_20k_text_vocab)} \")\n",
        "print(f\"Most Common Words in the vocab:{rct_20k_text_vocab[:5]}\")\n",
        "print(f\"Least Common Words in the vocab:{rct_20k_text_vocab[-5:]}\")"
      ],
      "execution_count": null,
      "outputs": [
        {
          "output_type": "stream",
          "name": "stdout",
          "text": [
            "Number of words in vocab : 64841 \n",
            "Most Common Words in the vocab:['', '[UNK]', 'the', 'and', 'of']\n",
            "Least Common Words in the vocab:['aainduced', 'aaigroup', 'aachener', 'aachen', 'aaacp']\n"
          ]
        }
      ]
    },
    {
      "cell_type": "code",
      "metadata": {
        "colab": {
          "base_uri": "https://localhost:8080/"
        },
        "id": "OgKNAiQA1KuV",
        "outputId": "bea818c4-7432-45bb-98e8-b2729ca1cfd8"
      },
      "source": [
        "# Get the config of our text vectorizer\n",
        "text_vectorizer.get_config()"
      ],
      "execution_count": null,
      "outputs": [
        {
          "output_type": "execute_result",
          "data": {
            "text/plain": [
              "{'batch_input_shape': (None,),\n",
              " 'dtype': 'string',\n",
              " 'max_tokens': 68000,\n",
              " 'name': 'text_vectorization',\n",
              " 'ngrams': None,\n",
              " 'output_mode': 'int',\n",
              " 'output_sequence_length': 55,\n",
              " 'pad_to_max_tokens': True,\n",
              " 'split': 'whitespace',\n",
              " 'standardize': 'lower_and_strip_punctuation',\n",
              " 'trainable': True}"
            ]
          },
          "metadata": {},
          "execution_count": 37
        }
      ]
    },
    {
      "cell_type": "markdown",
      "metadata": {
        "id": "xujBuaHt1jYc"
      },
      "source": [
        "### Embedding layer"
      ]
    },
    {
      "cell_type": "code",
      "metadata": {
        "id": "vrAS0zqT1U4s"
      },
      "source": [
        "from tensorflow.keras.layers import Embedding\n",
        "embedding = Embedding(input_dim=len(rct_20k_text_vocab),\n",
        "                      output_dim=128,\n",
        "                      mask_zero=True)"
      ],
      "execution_count": null,
      "outputs": []
    },
    {
      "cell_type": "code",
      "metadata": {
        "colab": {
          "base_uri": "https://localhost:8080/"
        },
        "id": "zGKfsc0f1ulo",
        "outputId": "73b5571c-dfef-4b71-e831-01edf72c268b"
      },
      "source": [
        "print(f\"Sentence before Vectorization:\\n{target_sentence}\")\n",
        "vectorized_sentence =text_vectorizer([target_sentence])\n",
        "print(f\"\\nSentence after Vectorixation:\\n{vectorized_sentence}\")\n",
        "embedded_sentene = embedding(vectorized_sentence)  \n",
        "print(f\"\\nSentence after embedding :\\n{embedded_sentene}\")\n",
        "print(f\"\\nShape of embedded sentence:{embedded_sentene.shape}\")"
      ],
      "execution_count": null,
      "outputs": [
        {
          "output_type": "stream",
          "name": "stdout",
          "text": [
            "Sentence before Vectorization:\n",
            "each group underwent dynamic liver mr imaging using a @-t scanner after an intravenous injection of gadoxetic acid at rates of either @ ml/s ( n = @ ) or @ ml/s ( n = @ ) .\n",
            "\n",
            "Sentence after Vectorixation:\n",
            "[[  122    13   352  1909   604  2078   688    59     8   206  7018    21\n",
            "     26   511   390     4 14016   386    15   162     4   132  4878    40\n",
            "     16  4878    40     0     0     0     0     0     0     0     0     0\n",
            "      0     0     0     0     0     0     0     0     0     0     0     0\n",
            "      0     0     0     0     0     0     0]]\n",
            "\n",
            "Sentence after embedding :\n",
            "[[[-0.04763117  0.02334573  0.03448809 ...  0.02038277  0.00913355\n",
            "    0.02340747]\n",
            "  [ 0.015228   -0.01888244  0.01452998 ...  0.0087934  -0.04799545\n",
            "   -0.03326748]\n",
            "  [-0.0129701   0.0280006   0.03121832 ... -0.01884288 -0.00853898\n",
            "   -0.04852654]\n",
            "  ...\n",
            "  [-0.02904441 -0.01160873 -0.00226548 ...  0.01032081  0.00917933\n",
            "   -0.00428559]\n",
            "  [-0.02904441 -0.01160873 -0.00226548 ...  0.01032081  0.00917933\n",
            "   -0.00428559]\n",
            "  [-0.02904441 -0.01160873 -0.00226548 ...  0.01032081  0.00917933\n",
            "   -0.00428559]]]\n",
            "\n",
            "Shape of embedded sentence:(1, 55, 128)\n"
          ]
        }
      ]
    },
    {
      "cell_type": "markdown",
      "metadata": {
        "id": "iL8Jre-mx2Qf"
      },
      "source": [
        "### Turn Data into Dataset "
      ]
    },
    {
      "cell_type": "code",
      "metadata": {
        "colab": {
          "base_uri": "https://localhost:8080/"
        },
        "id": "oZ6pS9wZ4J4U",
        "outputId": "24820bb3-7abb-49cf-fbca-23ee38cf10b1"
      },
      "source": [
        "train_dataset = tf.data.Dataset.from_tensor_slices((train_sentences , train_labels_one_hot))\n",
        "val_dataset = tf.data.Dataset.from_tensor_slices((val_sentences , val_labels_one_hot))\n",
        "test_dataset = tf.data.Dataset.from_tensor_slices((test_sentences , test_labels_one_hot))\n",
        "train_dataset "
      ],
      "execution_count": null,
      "outputs": [
        {
          "output_type": "execute_result",
          "data": {
            "text/plain": [
              "<TensorSliceDataset shapes: ((), (5,)), types: (tf.string, tf.float64)>"
            ]
          },
          "metadata": {},
          "execution_count": 40
        }
      ]
    },
    {
      "cell_type": "code",
      "metadata": {
        "colab": {
          "base_uri": "https://localhost:8080/"
        },
        "id": "t13kDbXLyw37",
        "outputId": "6b7a083f-7e80-41be-d84f-65b12e2f040a"
      },
      "source": [
        "train_dataset  = train_dataset.batch(32).prefetch(tf.data.AUTOTUNE)\n",
        "val_dataset = val_dataset.batch(32).prefetch(tf.data.AUTOTUNE)\n",
        "test_dataset = test_dataset.batch(32).prefetch(tf.data.AUTOTUNE)\n",
        "\n",
        "train_dataset"
      ],
      "execution_count": null,
      "outputs": [
        {
          "output_type": "execute_result",
          "data": {
            "text/plain": [
              "<PrefetchDataset shapes: ((None,), (None, 5)), types: (tf.string, tf.float64)>"
            ]
          },
          "metadata": {},
          "execution_count": 41
        }
      ]
    },
    {
      "cell_type": "code",
      "metadata": {
        "colab": {
          "base_uri": "https://localhost:8080/"
        },
        "id": "TK7Nd6m50fMw",
        "outputId": "a6c47ee9-6681-4bdd-d30e-7badd2ae44c1"
      },
      "source": [
        "num_classes"
      ],
      "execution_count": null,
      "outputs": [
        {
          "output_type": "execute_result",
          "data": {
            "text/plain": [
              "5"
            ]
          },
          "metadata": {},
          "execution_count": 42
        }
      ]
    },
    {
      "cell_type": "code",
      "metadata": {
        "id": "ytuw2su1zoD5"
      },
      "source": [
        "inputs = layers.Input(shape=(1,), dtype=tf.string)\n",
        "text_vectors = text_vectorizer(inputs) # vectorize text inputs\n",
        "token_embeddings = embedding(text_vectors) # create embedding\n",
        "x = layers.Conv1D(64, kernel_size=5, padding=\"same\", activation=\"relu\")(token_embeddings)\n",
        "x = layers.GlobalAveragePooling1D()(x) # condense the output of our feature vector\n",
        "outputs = layers.Dense(num_classes, activation=\"softmax\")(x)\n",
        "model_1 = tf.keras.Model(inputs, outputs)\n",
        "\n",
        "# compile\n",
        "model_1.compile(loss=\"categorical_crossentropy\",\n",
        "                optimizer=tf.keras.optimizers.Adam(),\n",
        "                metrics=[\"accuracy\"])"
      ],
      "execution_count": null,
      "outputs": []
    },
    {
      "cell_type": "code",
      "metadata": {
        "colab": {
          "base_uri": "https://localhost:8080/"
        },
        "id": "SyeId1uN041r",
        "outputId": "a55806b8-3385-4e2b-a7ac-249defb63155"
      },
      "source": [
        "model_1.summary()"
      ],
      "execution_count": null,
      "outputs": [
        {
          "output_type": "stream",
          "name": "stdout",
          "text": [
            "Model: \"model_5\"\n",
            "_________________________________________________________________\n",
            "Layer (type)                 Output Shape              Param #   \n",
            "=================================================================\n",
            "input_4 (InputLayer)         [(None, 1)]               0         \n",
            "_________________________________________________________________\n",
            "text_vectorization (TextVect (None, 55)                0         \n",
            "_________________________________________________________________\n",
            "embedding (Embedding)        (None, 55, 128)           8299648   \n",
            "_________________________________________________________________\n",
            "conv1d_2 (Conv1D)            (None, 55, 64)            41024     \n",
            "_________________________________________________________________\n",
            "global_average_pooling1d_1 ( (None, 64)                0         \n",
            "_________________________________________________________________\n",
            "dense_7 (Dense)              (None, 5)                 325       \n",
            "=================================================================\n",
            "Total params: 8,340,997\n",
            "Trainable params: 8,340,997\n",
            "Non-trainable params: 0\n",
            "_________________________________________________________________\n"
          ]
        }
      ]
    },
    {
      "cell_type": "code",
      "metadata": {
        "colab": {
          "base_uri": "https://localhost:8080/"
        },
        "id": "z_DtonzA2DiB",
        "outputId": "8c728fc7-f512-4724-c7d5-df4b14098448"
      },
      "source": [
        "# fit the model\n",
        "model_1_history = model_1.fit(train_dataset ,\n",
        "                              epochs =3 , \n",
        "                              steps_per_epoch = int(0.1*len(train_dataset)),\n",
        "                              validation_data = val_dataset,\n",
        "                              validation_steps = int(0.1*len(val_dataset)))"
      ],
      "execution_count": null,
      "outputs": [
        {
          "output_type": "stream",
          "name": "stdout",
          "text": [
            "Epoch 1/3\n",
            "562/562 [==============================] - 9s 14ms/step - loss: 0.6567 - accuracy: 0.7667 - val_loss: 0.5980 - val_accuracy: 0.7856\n",
            "Epoch 2/3\n",
            "562/562 [==============================] - 8s 14ms/step - loss: 0.4921 - accuracy: 0.8285 - val_loss: 0.5917 - val_accuracy: 0.7839\n",
            "Epoch 3/3\n",
            "562/562 [==============================] - 8s 14ms/step - loss: 0.4752 - accuracy: 0.8336 - val_loss: 0.5829 - val_accuracy: 0.7909\n"
          ]
        }
      ]
    },
    {
      "cell_type": "code",
      "metadata": {
        "colab": {
          "base_uri": "https://localhost:8080/"
        },
        "id": "68QtP4xh2o0B",
        "outputId": "c4c982bd-f173-43d0-ccff-f67d9cf02a58"
      },
      "source": [
        "model_1.evaluate(val_dataset)"
      ],
      "execution_count": null,
      "outputs": [
        {
          "output_type": "stream",
          "name": "stdout",
          "text": [
            "945/945 [==============================] - 4s 5ms/step - loss: 0.5848 - accuracy: 0.7914\n"
          ]
        },
        {
          "output_type": "execute_result",
          "data": {
            "text/plain": [
              "[0.5847675204277039, 0.7913742661476135]"
            ]
          },
          "metadata": {},
          "execution_count": 94
        }
      ]
    },
    {
      "cell_type": "code",
      "metadata": {
        "colab": {
          "base_uri": "https://localhost:8080/"
        },
        "id": "5YLCmKWx3U3A",
        "outputId": "de3c4078-a933-4440-d972-e73c8cdb3d16"
      },
      "source": [
        "model_1_pred_probs = model_1.predict(val_dataset)\n",
        "model_1_pred_probs"
      ],
      "execution_count": null,
      "outputs": [
        {
          "output_type": "execute_result",
          "data": {
            "text/plain": [
              "array([[5.97177505e-01, 9.47669744e-02, 3.76558118e-02, 2.44346246e-01,\n",
              "        2.60535125e-02],\n",
              "       [4.10466105e-01, 1.90068662e-01, 1.15980348e-02, 3.80072683e-01,\n",
              "        7.79461628e-03],\n",
              "       [7.69366696e-02, 1.36474380e-03, 6.09240727e-04, 9.21077490e-01,\n",
              "        1.18910320e-05],\n",
              "       ...,\n",
              "       [1.70255282e-06, 6.54770192e-05, 2.56705418e-04, 1.51644667e-06,\n",
              "        9.99674559e-01],\n",
              "       [5.24898209e-02, 5.81991255e-01, 1.12411544e-01, 5.42407781e-02,\n",
              "        1.98866680e-01],\n",
              "       [6.79743662e-02, 8.88758361e-01, 2.38262117e-02, 5.23683010e-03,\n",
              "        1.42041594e-02]], dtype=float32)"
            ]
          },
          "metadata": {},
          "execution_count": 95
        }
      ]
    },
    {
      "cell_type": "code",
      "metadata": {
        "colab": {
          "base_uri": "https://localhost:8080/"
        },
        "id": "zGpRCehN3f-D",
        "outputId": "937ca0e5-2a41-4d35-bb6b-a91ccfa2ac15"
      },
      "source": [
        "model_1_pred = tf.argmax(model_1_pred_probs ,axis =1)\n",
        "model_1_pred"
      ],
      "execution_count": null,
      "outputs": [
        {
          "output_type": "execute_result",
          "data": {
            "text/plain": [
              "<tf.Tensor: shape=(30212,), dtype=int64, numpy=array([0, 0, 3, ..., 4, 1, 1])>"
            ]
          },
          "metadata": {},
          "execution_count": 96
        }
      ]
    },
    {
      "cell_type": "code",
      "metadata": {
        "colab": {
          "base_uri": "https://localhost:8080/"
        },
        "id": "PKQ707J73s9V",
        "outputId": "b465f7bc-3462-4c5a-e0e5-28cb0ee0be84"
      },
      "source": [
        "model_1_results = calculate_results(val_labels_encoded , \n",
        "                                    model_1_pred)\n",
        "model_1_results"
      ],
      "execution_count": null,
      "outputs": [
        {
          "output_type": "execute_result",
          "data": {
            "text/plain": [
              "{'accuracy': 79.13742883622402,\n",
              " 'f1': 0.7896821257058273,\n",
              " 'precision': 0.7884743454275999,\n",
              " 'recall': 0.7913742883622402}"
            ]
          },
          "metadata": {},
          "execution_count": 171
        }
      ]
    },
    {
      "cell_type": "markdown",
      "metadata": {
        "id": "x3TVD3ic6KnP"
      },
      "source": [
        "## Model_2 : Feature Extraction with pretained toekn embeedings"
      ]
    },
    {
      "cell_type": "code",
      "metadata": {
        "id": "Igt3vd9j6TrH"
      },
      "source": [
        "import tensorflow_hub  as hub \n",
        "tf_hub_embedding_layer = hub.KerasLayer(\"https://tfhub.dev/google/universal-sentence-encoder/4\",\n",
        "                                        trainable = False , \n",
        "                                        name=\"universal_sentence_encoder\")"
      ],
      "execution_count": null,
      "outputs": []
    },
    {
      "cell_type": "code",
      "metadata": {
        "colab": {
          "base_uri": "https://localhost:8080/"
        },
        "id": "YE15cm876tgG",
        "outputId": "5ced0105-6431-4d99-f249-8880fabfa369"
      },
      "source": [
        "# Test out the embedding on a random sentence\n",
        "random_training_sentence = random.choice(train_sentences)\n",
        "print(f\"Random training sentence:\\n{random_training_sentence}\\n\")\n",
        "use_embedded_sentence = tf_hub_embedding_layer([random_training_sentence])\n",
        "print(f\"Sentence after embedding:\\n{use_embedded_sentence[0][:30]} (truncated output)...\\n\")\n",
        "print(f\"Length of sentence embedding:\\n{len(use_embedded_sentence[0])}\")"
      ],
      "execution_count": null,
      "outputs": [
        {
          "output_type": "stream",
          "name": "stdout",
          "text": [
            "Random training sentence:\n",
            "adverse events were recorded throughout the study .\n",
            "\n",
            "Sentence after embedding:\n",
            "[ 0.05065588  0.07904902  0.02576297 -0.0670723   0.05953039 -0.0009108\n",
            "  0.040583    0.00536262  0.02744448  0.00445353 -0.00379891  0.03473751\n",
            "  0.08908388 -0.03221748  0.03675015 -0.03720836 -0.05284023 -0.03198034\n",
            " -0.03548372 -0.06311263 -0.04720806  0.02546839 -0.04388556 -0.03046189\n",
            " -0.06253104 -0.00842004  0.04363562  0.00588438  0.04708194  0.06750435] (truncated output)...\n",
            "\n",
            "Length of sentence embedding:\n",
            "512\n"
          ]
        }
      ]
    },
    {
      "cell_type": "code",
      "metadata": {
        "id": "kqnZtnnf7EkO"
      },
      "source": [
        "inputs =  layers.Input(shape=[] , dtype = tf.string)\n",
        "embedded = tf_hub_embedding_layer(inputs)\n",
        "x = layers.Dense(128 , activation=\"relu\")(embedded)\n",
        "outputs = layers.Dense(num_classes , activation=\"softmax\")(x)\n",
        "model_2 = tf.keras.Model(inputs , outputs , name=\"USE_Feature_Extraction\")\n",
        "\n",
        "# compile\n",
        "model_2.compile(loss=\"categorical_crossentropy\",\n",
        "                optimizer=tf.keras.optimizers.Adam(),\n",
        "                metrics=[\"accuracy\"])"
      ],
      "execution_count": null,
      "outputs": []
    },
    {
      "cell_type": "code",
      "metadata": {
        "colab": {
          "base_uri": "https://localhost:8080/"
        },
        "id": "kJeC8lo49rbs",
        "outputId": "12625980-dae8-4751-d1a9-abadae28529b"
      },
      "source": [
        "model_2.summary()"
      ],
      "execution_count": null,
      "outputs": [
        {
          "output_type": "stream",
          "name": "stdout",
          "text": [
            "Model: \"USE_Feature_Extraction\"\n",
            "_________________________________________________________________\n",
            "Layer (type)                 Output Shape              Param #   \n",
            "=================================================================\n",
            "input_6 (InputLayer)         [(None,)]                 0         \n",
            "_________________________________________________________________\n",
            "universal_sentence_encoder ( (None, 512)               256797824 \n",
            "_________________________________________________________________\n",
            "dense_10 (Dense)             (None, 128)               65664     \n",
            "_________________________________________________________________\n",
            "dense_11 (Dense)             (None, 5)                 645       \n",
            "=================================================================\n",
            "Total params: 256,864,133\n",
            "Trainable params: 66,309\n",
            "Non-trainable params: 256,797,824\n",
            "_________________________________________________________________\n"
          ]
        }
      ]
    },
    {
      "cell_type": "code",
      "metadata": {
        "colab": {
          "base_uri": "https://localhost:8080/"
        },
        "id": "yGR0SMDI79vO",
        "outputId": "1574392d-2a17-4f11-ffb4-965d2c2e3360"
      },
      "source": [
        "model_2_hisotry =  model_2.fit(train_dataset ,\n",
        "                               epochs = 3,\n",
        "                               steps_per_epoch = int(0.1 * len(train_dataset)),\n",
        "                               validation_data = val_dataset,\n",
        "                               validation_steps = int(0.1 *len(val_dataset)))"
      ],
      "execution_count": null,
      "outputs": [
        {
          "output_type": "stream",
          "name": "stdout",
          "text": [
            "Epoch 1/3\n",
            "562/562 [==============================] - 15s 22ms/step - loss: 0.9193 - accuracy: 0.6470 - val_loss: 0.7989 - val_accuracy: 0.6875\n",
            "Epoch 2/3\n",
            "562/562 [==============================] - 12s 21ms/step - loss: 0.7720 - accuracy: 0.7001 - val_loss: 0.7582 - val_accuracy: 0.7018\n",
            "Epoch 3/3\n",
            "562/562 [==============================] - 12s 21ms/step - loss: 0.7562 - accuracy: 0.7112 - val_loss: 0.7435 - val_accuracy: 0.7124\n"
          ]
        }
      ]
    },
    {
      "cell_type": "code",
      "metadata": {
        "colab": {
          "base_uri": "https://localhost:8080/"
        },
        "id": "YudhKfW29Mr9",
        "outputId": "d192eb17-175c-41e1-8518-eb6ddfd93add"
      },
      "source": [
        "# Evaluate on whole dataset \n",
        "model_2.evaluate(val_dataset)"
      ],
      "execution_count": null,
      "outputs": [
        {
          "output_type": "stream",
          "name": "stdout",
          "text": [
            "945/945 [==============================] - 18s 19ms/step - loss: 0.7453 - accuracy: 0.7132\n"
          ]
        },
        {
          "output_type": "execute_result",
          "data": {
            "text/plain": [
              "[0.7453117370605469, 0.7131603360176086]"
            ]
          },
          "metadata": {},
          "execution_count": 104
        }
      ]
    },
    {
      "cell_type": "code",
      "metadata": {
        "colab": {
          "base_uri": "https://localhost:8080/"
        },
        "id": "VnCrTRED-Rm8",
        "outputId": "89958260-cd88-4744-8636-0a17b25ff851"
      },
      "source": [
        "# Get the predictions \n",
        "model_2_pred_probs =  model_2.predict(val_dataset)\n",
        "model_2_pred_probs"
      ],
      "execution_count": null,
      "outputs": [
        {
          "output_type": "execute_result",
          "data": {
            "text/plain": [
              "array([[4.3814903e-01, 3.5936028e-01, 2.2169959e-03, 1.9382314e-01,\n",
              "        6.4505222e-03],\n",
              "       [3.4587520e-01, 4.9413490e-01, 3.2552744e-03, 1.5387985e-01,\n",
              "        2.8547989e-03],\n",
              "       [2.2737460e-01, 1.4402176e-01, 2.0211732e-02, 5.7025570e-01,\n",
              "        3.8136188e-02],\n",
              "       ...,\n",
              "       [2.2621851e-03, 6.3180933e-03, 5.7786308e-02, 8.1881852e-04,\n",
              "        9.3281466e-01],\n",
              "       [4.4731759e-03, 4.3989819e-02, 2.1203765e-01, 1.6219955e-03,\n",
              "        7.3787737e-01],\n",
              "       [1.8722484e-01, 2.4440138e-01, 5.0340879e-01, 5.6294543e-03,\n",
              "        5.9335515e-02]], dtype=float32)"
            ]
          },
          "metadata": {},
          "execution_count": 105
        }
      ]
    },
    {
      "cell_type": "code",
      "metadata": {
        "colab": {
          "base_uri": "https://localhost:8080/"
        },
        "id": "RAhgjh4b-bij",
        "outputId": "77d3da23-5fcb-45e4-da99-2457ad661911"
      },
      "source": [
        "# convert probs to labels\n",
        "model_2_pred = tf.argmax(model_2_pred_probs ,axis=1)\n",
        "model_2_pred"
      ],
      "execution_count": null,
      "outputs": [
        {
          "output_type": "execute_result",
          "data": {
            "text/plain": [
              "<tf.Tensor: shape=(30212,), dtype=int64, numpy=array([0, 1, 3, ..., 4, 4, 2])>"
            ]
          },
          "metadata": {},
          "execution_count": 106
        }
      ]
    },
    {
      "cell_type": "code",
      "metadata": {
        "colab": {
          "base_uri": "https://localhost:8080/"
        },
        "id": "fOz_Wlnk-o4k",
        "outputId": "0209e51d-6d53-44b2-ad0c-d533adc1d26b"
      },
      "source": [
        "# Calculate the results \n",
        "model_2_results  = calculate_results(val_labels_encoded , \n",
        "                                     model_2_pred)\n",
        "model_2_results"
      ],
      "execution_count": null,
      "outputs": [
        {
          "output_type": "execute_result",
          "data": {
            "text/plain": [
              "{'accuracy': 71.31603336422614,\n",
              " 'f1': 0.7102215216280391,\n",
              " 'precision': 0.7133513863237418,\n",
              " 'recall': 0.7131603336422614}"
            ]
          },
          "metadata": {},
          "execution_count": 107
        }
      ]
    },
    {
      "cell_type": "code",
      "metadata": {
        "colab": {
          "base_uri": "https://localhost:8080/"
        },
        "id": "mM7l9HO_-zkB",
        "outputId": "37fc89ef-672e-4f75-af72-1ee86f1adc79"
      },
      "source": [
        "model_1_resutls"
      ],
      "execution_count": null,
      "outputs": [
        {
          "output_type": "execute_result",
          "data": {
            "text/plain": [
              "{'accuracy': 79.13742883622402,\n",
              " 'f1': 0.7896821257058273,\n",
              " 'precision': 0.7884743454275999,\n",
              " 'recall': 0.7913742883622402}"
            ]
          },
          "metadata": {},
          "execution_count": 108
        }
      ]
    },
    {
      "cell_type": "code",
      "metadata": {
        "colab": {
          "base_uri": "https://localhost:8080/"
        },
        "id": "VVi5MhZw-8El",
        "outputId": "886b7b90-e2df-432e-be45-14e84bae398a"
      },
      "source": [
        "baseline_results"
      ],
      "execution_count": null,
      "outputs": [
        {
          "output_type": "execute_result",
          "data": {
            "text/plain": [
              "{'accuracy': 72.1832384482987,\n",
              " 'f1': 0.6989250353450294,\n",
              " 'precision': 0.7186466952323352,\n",
              " 'recall': 0.7218323844829869}"
            ]
          },
          "metadata": {},
          "execution_count": 109
        }
      ]
    },
    {
      "cell_type": "markdown",
      "metadata": {
        "id": "620_Xev6_kJS"
      },
      "source": [
        "## Model_3 : Conv1D with character Embedding "
      ]
    },
    {
      "cell_type": "code",
      "metadata": {
        "colab": {
          "base_uri": "https://localhost:8080/"
        },
        "id": "mQcyBSfF_COe",
        "outputId": "ae9a09eb-6f49-4415-f1ee-19b7e1c8fa1f"
      },
      "source": [
        "train_sentences[:10]"
      ],
      "execution_count": null,
      "outputs": [
        {
          "output_type": "execute_result",
          "data": {
            "text/plain": [
              "['to investigate the efficacy of @ weeks of daily low-dose oral prednisolone in improving pain , mobility , and systemic low-grade inflammation in the short term and whether the effect would be sustained at @ weeks in older adults with moderate to severe knee osteoarthritis ( oa ) .',\n",
              " 'a total of @ patients with primary knee oa were randomized @:@ ; @ received @ mg/day of prednisolone and @ received placebo for @ weeks .',\n",
              " 'outcome measures included pain reduction and improvement in function scores and systemic inflammation markers .',\n",
              " 'pain was assessed using the visual analog pain scale ( @-@ mm ) .',\n",
              " 'secondary outcome measures included the western ontario and mcmaster universities osteoarthritis index scores , patient global assessment ( pga ) of the severity of knee oa , and @-min walk distance ( @mwd ) .',\n",
              " 'serum levels of interleukin @ ( il-@ ) , il-@ , tumor necrosis factor ( tnf ) - , and high-sensitivity c-reactive protein ( hscrp ) were measured .',\n",
              " 'there was a clinically relevant reduction in the intervention group compared to the placebo group for knee pain , physical function , pga , and @mwd at @ weeks .',\n",
              " 'the mean difference between treatment arms ( @ % ci ) was @ ( @-@ @ ) , p < @ ; @ ( @-@ @ ) , p < @ ; @ ( @-@ @ ) , p < @ ; and @ ( @-@ @ ) , p < @ , respectively .',\n",
              " 'further , there was a clinically relevant reduction in the serum levels of il-@ , il-@ , tnf - , and hscrp at @ weeks in the intervention group when compared to the placebo group .',\n",
              " 'these differences remained significant at @ weeks .']"
            ]
          },
          "metadata": {},
          "execution_count": 110
        }
      ]
    },
    {
      "cell_type": "code",
      "metadata": {
        "colab": {
          "base_uri": "https://localhost:8080/",
          "height": 35
        },
        "id": "LSbINseTBSPr",
        "outputId": "545b5cb5-8d89-4526-ed07-a4bf3684e237"
      },
      "source": [
        "random_training_sentence"
      ],
      "execution_count": null,
      "outputs": [
        {
          "output_type": "execute_result",
          "data": {
            "application/vnd.google.colaboratory.intrinsic+json": {
              "type": "string"
            },
            "text/plain": [
              "'adverse events were recorded throughout the study .'"
            ]
          },
          "metadata": {},
          "execution_count": 111
        }
      ]
    },
    {
      "cell_type": "code",
      "metadata": {
        "colab": {
          "base_uri": "https://localhost:8080/",
          "height": 52
        },
        "id": "ycQ5aZsuA4fo",
        "outputId": "26ee654a-3389-4e73-b522-e071b2c5da2e"
      },
      "source": [
        "# Make Function to Split sentecnes into characters\n",
        "def split_chars(text):\n",
        "  return \" \".join(list(text))\n",
        "\n",
        "split_chars(random_training_sentence)"
      ],
      "execution_count": null,
      "outputs": [
        {
          "output_type": "execute_result",
          "data": {
            "application/vnd.google.colaboratory.intrinsic+json": {
              "type": "string"
            },
            "text/plain": [
              "'a d v e r s e   e v e n t s   w e r e   r e c o r d e d   t h r o u g h o u t   t h e   s t u d y   .'"
            ]
          },
          "metadata": {},
          "execution_count": 112
        }
      ]
    },
    {
      "cell_type": "code",
      "metadata": {
        "colab": {
          "base_uri": "https://localhost:8080/"
        },
        "id": "jkLqgb4FBH5c",
        "outputId": "87e2b583-1287-40ed-e124-b2f30ed9ddf2"
      },
      "source": [
        "#Split Sequence lvl data into cahracter lvl data spliter \n",
        "train_chars = [split_chars(sentence) for sentence in train_sentences]\n",
        "val_chars = [split_chars(sentence) for sentence in val_sentences]\n",
        "test_chars = [split_chars(sentence) for sentence in test_sentences]\n",
        "train_chars[:5]"
      ],
      "execution_count": null,
      "outputs": [
        {
          "output_type": "execute_result",
          "data": {
            "text/plain": [
              "['t o   i n v e s t i g a t e   t h e   e f f i c a c y   o f   @   w e e k s   o f   d a i l y   l o w - d o s e   o r a l   p r e d n i s o l o n e   i n   i m p r o v i n g   p a i n   ,   m o b i l i t y   ,   a n d   s y s t e m i c   l o w - g r a d e   i n f l a m m a t i o n   i n   t h e   s h o r t   t e r m   a n d   w h e t h e r   t h e   e f f e c t   w o u l d   b e   s u s t a i n e d   a t   @   w e e k s   i n   o l d e r   a d u l t s   w i t h   m o d e r a t e   t o   s e v e r e   k n e e   o s t e o a r t h r i t i s   (   o a   )   .',\n",
              " 'a   t o t a l   o f   @   p a t i e n t s   w i t h   p r i m a r y   k n e e   o a   w e r e   r a n d o m i z e d   @ : @   ;   @   r e c e i v e d   @   m g / d a y   o f   p r e d n i s o l o n e   a n d   @   r e c e i v e d   p l a c e b o   f o r   @   w e e k s   .',\n",
              " 'o u t c o m e   m e a s u r e s   i n c l u d e d   p a i n   r e d u c t i o n   a n d   i m p r o v e m e n t   i n   f u n c t i o n   s c o r e s   a n d   s y s t e m i c   i n f l a m m a t i o n   m a r k e r s   .',\n",
              " 'p a i n   w a s   a s s e s s e d   u s i n g   t h e   v i s u a l   a n a l o g   p a i n   s c a l e   (   @ - @   m m   )   .',\n",
              " 's e c o n d a r y   o u t c o m e   m e a s u r e s   i n c l u d e d   t h e   w e s t e r n   o n t a r i o   a n d   m c m a s t e r   u n i v e r s i t i e s   o s t e o a r t h r i t i s   i n d e x   s c o r e s   ,   p a t i e n t   g l o b a l   a s s e s s m e n t   (   p g a   )   o f   t h e   s e v e r i t y   o f   k n e e   o a   ,   a n d   @ - m i n   w a l k   d i s t a n c e   (   @ m w d   )   .']"
            ]
          },
          "metadata": {},
          "execution_count": 113
        }
      ]
    },
    {
      "cell_type": "code",
      "metadata": {
        "colab": {
          "base_uri": "https://localhost:8080/"
        },
        "id": "5ZegJmI5BwcU",
        "outputId": "bfd13747-479b-4ee6-ade9-f1e84879de09"
      },
      "source": [
        "# Whats the average character length?\n",
        "char_lens = [len(sentence) for sentence in train_sentences]\n",
        "mean_char_len = np.mean(char_lens)\n",
        "mean_char_len"
      ],
      "execution_count": null,
      "outputs": [
        {
          "output_type": "execute_result",
          "data": {
            "text/plain": [
              "149.3662574983337"
            ]
          },
          "metadata": {},
          "execution_count": 114
        }
      ]
    },
    {
      "cell_type": "code",
      "metadata": {
        "colab": {
          "base_uri": "https://localhost:8080/",
          "height": 265
        },
        "id": "tX7T1DwauoXo",
        "outputId": "611c4e96-4d8d-461b-f065-1d7a5527c830"
      },
      "source": [
        "# Check the distribution of our sequence at a character level \n",
        "import matplotlib.pyplot as plt\n",
        "plt.hist(char_lens , bins=7);"
      ],
      "execution_count": null,
      "outputs": [
        {
          "output_type": "display_data",
          "data": {
            "image/png": "[encoded data removed]",
            "text/plain": [
              "<Figure size 432x288 with 1 Axes>"
            ]
          },
          "metadata": {
            "needs_background": "light"
          }
        }
      ]
    },
    {
      "cell_type": "code",
      "metadata": {
        "colab": {
          "base_uri": "https://localhost:8080/"
        },
        "id": "fmRaqwV1vf0u",
        "outputId": "c2454568-cee9-496b-e32f-c517e232b08b"
      },
      "source": [
        "# find the charcter length covers 95% of sequence \n",
        "output_seq_char_len = int(np.percentile(char_lens , 95))\n",
        "output_seq_char_len"
      ],
      "execution_count": null,
      "outputs": [
        {
          "output_type": "execute_result",
          "data": {
            "text/plain": [
              "290"
            ]
          },
          "metadata": {},
          "execution_count": 116
        }
      ]
    },
    {
      "cell_type": "code",
      "metadata": {
        "colab": {
          "base_uri": "https://localhost:8080/",
          "height": 35
        },
        "id": "iSOZoFJ9wHnk",
        "outputId": "9593846a-c599-436c-b52d-dce64e4ae447"
      },
      "source": [
        "# get all keyboard characters \n",
        "import string \n",
        "alphabet  = string.ascii_lowercase +  string.digits +string.punctuation\n",
        "alphabet"
      ],
      "execution_count": null,
      "outputs": [
        {
          "output_type": "execute_result",
          "data": {
            "application/vnd.google.colaboratory.intrinsic+json": {
              "type": "string"
            },
            "text/plain": [
              "'abcdefghijklmnopqrstuvwxyz0123456789!\"#$%&\\'()*+,-./:;<=>?@[\\\\]^_`{|}~'"
            ]
          },
          "metadata": {},
          "execution_count": 117
        }
      ]
    },
    {
      "cell_type": "code",
      "metadata": {
        "id": "jjLqA1qZw9Tp"
      },
      "source": [
        "# creata character lvl token vectorizer instance \n",
        "NUM_CHAR_TOKEN = len(alphabet) +2\n",
        "char_vectorizer = TextVectorization(max_tokens=NUM_CHAR_TOKEN,\n",
        "                                    output_sequence_length = output_seq_char_len,\n",
        "                                    pad_to_max_tokens=True)\n",
        "                                    # standardize = None)"
      ],
      "execution_count": null,
      "outputs": []
    },
    {
      "cell_type": "code",
      "metadata": {
        "id": "vVtNEKlGxb5H"
      },
      "source": [
        "# Adapt character vectorizer to training characters \n",
        "char_vectorizer.adapt(train_chars)"
      ],
      "execution_count": null,
      "outputs": []
    },
    {
      "cell_type": "code",
      "metadata": {
        "colab": {
          "base_uri": "https://localhost:8080/"
        },
        "id": "_tyb68IdxoSg",
        "outputId": "f7be5c07-fe35-4e8d-945c-3ca5aa253d57"
      },
      "source": [
        "# check character vocab \n",
        "char_vocab = char_vectorizer.get_vocabulary()\n",
        "print(f\"Number of different characters in character vocab: {len(char_vocab)} \")\n",
        "print(f\"5 most common character in vocab : {char_vocab[:5]}\")\n",
        "print(f\"% least common character in vocab : {char_vocab[-5:]}\")"
      ],
      "execution_count": null,
      "outputs": [
        {
          "output_type": "stream",
          "name": "stdout",
          "text": [
            "Number of different characters in character vocab: 28 \n",
            "5 most common character in vocab : ['', '[UNK]', 'e', 't', 'i']\n",
            "% least common character in vocab : ['k', 'x', 'z', 'q', 'j']\n"
          ]
        }
      ]
    },
    {
      "cell_type": "code",
      "metadata": {
        "colab": {
          "base_uri": "https://localhost:8080/"
        },
        "id": "GwUqhgKxyntu",
        "outputId": "e27d1c47-fc76-4aab-fe33-a2d44607d485"
      },
      "source": [
        "# Test out character vectorizer\n",
        "random_train_chars = random.choice(train_chars)\n",
        "print(f\"Charified text:\\n{random_train_chars}\")\n",
        "print(f\"\\nLength of chars: {len(random_train_chars.split())}\")\n",
        "vectorized_chars = char_vectorizer([random_train_chars])\n",
        "print(f\"\\nVectorized chars:\\n{vectorized_chars}\")\n",
        "print(f\"\\nLength of vectorized chars: {len(vectorized_chars[0])}\")"
      ],
      "execution_count": null,
      "outputs": [
        {
          "output_type": "stream",
          "name": "stdout",
          "text": [
            "Charified text:\n",
            "e v a l u a t i o n   w e r e   m a d e   o f   p o s t o p e r a t i v e   p a i n   ,   t r i s m u s   a n d   s w e l l i n g   .\n",
            "\n",
            "Length of chars: 57\n",
            "\n",
            "Vectorized chars:\n",
            "[[ 2 21  5 12 16  5  3  4  7  6 20  2  8  2 15  5 10  2  7 17 14  7  9  3\n",
            "   7 14  2  8  5  3  4 21  2 14  5  4  6  3  8  4  9 15 16  9  5  6 10  9\n",
            "  20  2 12 12  4  6 18  0  0  0  0  0  0  0  0  0  0  0  0  0  0  0  0  0\n",
            "   0  0  0  0  0  0  0  0  0  0  0  0  0  0  0  0  0  0  0  0  0  0  0  0\n",
            "   0  0  0  0  0  0  0  0  0  0  0  0  0  0  0  0  0  0  0  0  0  0  0  0\n",
            "   0  0  0  0  0  0  0  0  0  0  0  0  0  0  0  0  0  0  0  0  0  0  0  0\n",
            "   0  0  0  0  0  0  0  0  0  0  0  0  0  0  0  0  0  0  0  0  0  0  0  0\n",
            "   0  0  0  0  0  0  0  0  0  0  0  0  0  0  0  0  0  0  0  0  0  0  0  0\n",
            "   0  0  0  0  0  0  0  0  0  0  0  0  0  0  0  0  0  0  0  0  0  0  0  0\n",
            "   0  0  0  0  0  0  0  0  0  0  0  0  0  0  0  0  0  0  0  0  0  0  0  0\n",
            "   0  0  0  0  0  0  0  0  0  0  0  0  0  0  0  0  0  0  0  0  0  0  0  0\n",
            "   0  0  0  0  0  0  0  0  0  0  0  0  0  0  0  0  0  0  0  0  0  0  0  0\n",
            "   0  0]]\n",
            "\n",
            "Length of vectorized chars: 290\n"
          ]
        }
      ]
    },
    {
      "cell_type": "code",
      "metadata": {
        "id": "8iIUKHwm0TTm"
      },
      "source": [
        "# create character level embedding \n",
        "char_embedding = Embedding(input_dim=len(char_vocab),\n",
        "                           output_dim=25, #char size in the paper \n",
        "                           mask_zero =True)"
      ],
      "execution_count": null,
      "outputs": []
    },
    {
      "cell_type": "code",
      "metadata": {
        "colab": {
          "base_uri": "https://localhost:8080/"
        },
        "id": "CuCX08sF3Dgz",
        "outputId": "6702290a-46a9-4fcb-a94e-842bb406ef5e"
      },
      "source": [
        "# Test out character embedding layer\n",
        "print(f\"Charified text (before vectorization and embedding):\\n{random_train_chars}\\n\")\n",
        "char_embed_example = char_embedding(char_vectorizer([random_train_chars]))\n",
        "print(f\"Embedded chars (after vectorization and embedding):\\n{char_embed_example}\\n\")\n",
        "print(f\"Character embedding shape: {char_embed_example.shape}\")"
      ],
      "execution_count": null,
      "outputs": [
        {
          "output_type": "stream",
          "name": "stdout",
          "text": [
            "Charified text (before vectorization and embedding):\n",
            "e v a l u a t i o n   w e r e   m a d e   o f   p o s t o p e r a t i v e   p a i n   ,   t r i s m u s   a n d   s w e l l i n g   .\n",
            "\n",
            "Embedded chars (after vectorization and embedding):\n",
            "[[[ 0.02488257  0.0148975   0.02859748 ...  0.02664934 -0.00100931\n",
            "    0.03878803]\n",
            "  [ 0.03457076  0.00992206  0.04335443 ... -0.00958071  0.03932336\n",
            "    0.03497804]\n",
            "  [ 0.01340069  0.01716275 -0.01766441 ...  0.02057615 -0.04107194\n",
            "   -0.02146359]\n",
            "  ...\n",
            "  [-0.01424394 -0.04821927 -0.00381832 ...  0.01963938 -0.03927332\n",
            "   -0.02983486]\n",
            "  [-0.01424394 -0.04821927 -0.00381832 ...  0.01963938 -0.03927332\n",
            "   -0.02983486]\n",
            "  [-0.01424394 -0.04821927 -0.00381832 ...  0.01963938 -0.03927332\n",
            "   -0.02983486]]]\n",
            "\n",
            "Character embedding shape: (1, 290, 25)\n"
          ]
        }
      ]
    },
    {
      "cell_type": "code",
      "metadata": {
        "id": "rR_n0PHb3SI4"
      },
      "source": [
        "# Make conV1D on char only \n",
        "inputs = layers.Input(shape=(1,) , dtype=tf.string)\n",
        "char_vector = char_vectorizer(inputs)\n",
        "char_embed = char_embedding(char_vector)\n",
        "x = layers.Conv1D(64 , 5 , padding=\"same\" , activation=\"relu\")(char_embed)\n",
        "x = layers.GlobalMaxPool1D()(x)\n",
        "outputs = layers.Dense(num_classes , activation=\"softmax\")(x)\n",
        "model_3 = tf.keras.Model(inputs , outputs)\n",
        "\n",
        "# Compile the model \n",
        "model_3.compile(loss=\"categorical_crossentropy\",\n",
        "                optimizer=tf.keras.optimizers.Adam(),\n",
        "                metrics=[\"accuracy\"])"
      ],
      "execution_count": null,
      "outputs": []
    },
    {
      "cell_type": "code",
      "metadata": {
        "colab": {
          "base_uri": "https://localhost:8080/"
        },
        "id": "k8okfSUm4pSJ",
        "outputId": "8410079b-90a3-48f0-f97a-07dee1828201"
      },
      "source": [
        "model_3.summary()"
      ],
      "execution_count": null,
      "outputs": [
        {
          "output_type": "stream",
          "name": "stdout",
          "text": [
            "Model: \"model_7\"\n",
            "_________________________________________________________________\n",
            "Layer (type)                 Output Shape              Param #   \n",
            "=================================================================\n",
            "input_8 (InputLayer)         [(None, 1)]               0         \n",
            "_________________________________________________________________\n",
            "text_vectorization_2 (TextVe (None, 290)               0         \n",
            "_________________________________________________________________\n",
            "embedding_2 (Embedding)      (None, 290, 25)           700       \n",
            "_________________________________________________________________\n",
            "conv1d_4 (Conv1D)            (None, 290, 64)           8064      \n",
            "_________________________________________________________________\n",
            "global_max_pooling1d_2 (Glob (None, 64)                0         \n",
            "_________________________________________________________________\n",
            "dense_13 (Dense)             (None, 5)                 325       \n",
            "=================================================================\n",
            "Total params: 9,089\n",
            "Trainable params: 9,089\n",
            "Non-trainable params: 0\n",
            "_________________________________________________________________\n"
          ]
        }
      ]
    },
    {
      "cell_type": "code",
      "metadata": {
        "colab": {
          "base_uri": "https://localhost:8080/"
        },
        "id": "Wzaw2Q3r41HM",
        "outputId": "afa912a4-fb35-4b4a-aea1-1b1a22a9b331"
      },
      "source": [
        "train_chars_dataset = tf.data.Dataset.from_tensor_slices((train_chars , train_labels_one_hot)).batch(32).prefetch(tf.data.AUTOTUNE)\n",
        "val_chars_dataset = tf.data.Dataset.from_tensor_slices((val_chars , val_labels_one_hot)).batch(32).prefetch(tf.data.AUTOTUNE)\n",
        "test_chars_dataset = tf.data.Dataset.from_tensor_slices((test_chars , test_labels_one_hot)).batch(32).prefetch(tf.data.AUTOTUNE)\n",
        "train_chars_dataset"
      ],
      "execution_count": null,
      "outputs": [
        {
          "output_type": "execute_result",
          "data": {
            "text/plain": [
              "<PrefetchDataset shapes: ((None,), (None, 5)), types: (tf.string, tf.float64)>"
            ]
          },
          "metadata": {},
          "execution_count": 127
        }
      ]
    },
    {
      "cell_type": "code",
      "metadata": {
        "colab": {
          "base_uri": "https://localhost:8080/"
        },
        "id": "-xXUo0LL4uYN",
        "outputId": "7ac423ed-27ba-44d6-fff0-a1b4cf486810"
      },
      "source": [
        "model_3_history = model_3.fit(train_chars_dataset,\n",
        "                              epochs =3,\n",
        "                              steps_per_epoch = int(0.1 * len(train_chars_dataset)),\n",
        "                              validation_data = val_chars_dataset,\n",
        "                              validation_steps=int(0.1*len(val_chars_dataset)))"
      ],
      "execution_count": null,
      "outputs": [
        {
          "output_type": "stream",
          "name": "stdout",
          "text": [
            "Epoch 1/3\n",
            "562/562 [==============================] - 7s 11ms/step - loss: 1.2618 - accuracy: 0.4894 - val_loss: 1.0483 - val_accuracy: 0.5798\n",
            "Epoch 2/3\n",
            "562/562 [==============================] - 6s 10ms/step - loss: 1.0132 - accuracy: 0.5900 - val_loss: 0.9496 - val_accuracy: 0.6237\n",
            "Epoch 3/3\n",
            "562/562 [==============================] - 5s 10ms/step - loss: 0.9352 - accuracy: 0.6317 - val_loss: 0.8742 - val_accuracy: 0.6662\n"
          ]
        }
      ]
    },
    {
      "cell_type": "code",
      "metadata": {
        "colab": {
          "base_uri": "https://localhost:8080/"
        },
        "id": "-zgfe_a56rXw",
        "outputId": "737793a4-1587-4515-d29c-c1415f440489"
      },
      "source": [
        "model_3.evaluate(val_chars_dataset)"
      ],
      "execution_count": null,
      "outputs": [
        {
          "output_type": "stream",
          "name": "stdout",
          "text": [
            "945/945 [==============================] - 5s 5ms/step - loss: 0.8953 - accuracy: 0.6518\n"
          ]
        },
        {
          "output_type": "execute_result",
          "data": {
            "text/plain": [
              "[0.8953315615653992, 0.6518270969390869]"
            ]
          },
          "metadata": {},
          "execution_count": 129
        }
      ]
    },
    {
      "cell_type": "code",
      "metadata": {
        "colab": {
          "base_uri": "https://localhost:8080/"
        },
        "id": "bZr-28bY6IL_",
        "outputId": "dcd4c0e9-09f3-438f-d119-49c0d9789b33"
      },
      "source": [
        "model_3_pred_probs = model_3.predict(val_chars_dataset)\n",
        "model_3_pred_probs"
      ],
      "execution_count": null,
      "outputs": [
        {
          "output_type": "execute_result",
          "data": {
            "text/plain": [
              "array([[0.1665784 , 0.35547733, 0.04948567, 0.39271623, 0.03574239],\n",
              "       [0.22611545, 0.5614992 , 0.01201204, 0.14850295, 0.05187038],\n",
              "       [0.11887365, 0.34226698, 0.12340716, 0.266389  , 0.14906316],\n",
              "       ...,\n",
              "       [0.04181996, 0.04064679, 0.12899758, 0.04645802, 0.74207765],\n",
              "       [0.03338908, 0.17997476, 0.310432  , 0.04316745, 0.43303677],\n",
              "       [0.44901425, 0.38922   , 0.04805654, 0.0519683 , 0.06174085]],\n",
              "      dtype=float32)"
            ]
          },
          "metadata": {},
          "execution_count": 130
        }
      ]
    },
    {
      "cell_type": "code",
      "metadata": {
        "colab": {
          "base_uri": "https://localhost:8080/"
        },
        "id": "ORkVS66T6z3t",
        "outputId": "72aa9e48-dedd-440c-9ea4-8c0fa94d89ce"
      },
      "source": [
        "model_3_preds = tf.argmax(model_3_pred_probs , axis=1)\n",
        "model_3_preds[:10]"
      ],
      "execution_count": null,
      "outputs": [
        {
          "output_type": "execute_result",
          "data": {
            "text/plain": [
              "<tf.Tensor: shape=(10,), dtype=int64, numpy=array([3, 1, 1, 2, 2, 2, 2, 1, 4, 3])>"
            ]
          },
          "metadata": {},
          "execution_count": 131
        }
      ]
    },
    {
      "cell_type": "code",
      "metadata": {
        "colab": {
          "base_uri": "https://localhost:8080/"
        },
        "id": "jqnnKkQ86_vP",
        "outputId": "6d50aa21-58e7-4cae-e484-430db0eb4615"
      },
      "source": [
        "model_3_results = calculate_results(val_labels_encoded , \n",
        "                                    model_3_preds)\n",
        "model_3_results"
      ],
      "execution_count": null,
      "outputs": [
        {
          "output_type": "execute_result",
          "data": {
            "text/plain": [
              "{'accuracy': 65.18270885740766,\n",
              " 'f1': 0.6423097143578445,\n",
              " 'precision': 0.6494779144142697,\n",
              " 'recall': 0.6518270885740766}"
            ]
          },
          "metadata": {},
          "execution_count": 132
        }
      ]
    },
    {
      "cell_type": "markdown",
      "metadata": {
        "id": "qMP_VKhs7cwz"
      },
      "source": [
        "## Model 4 :Combining pretained token embeddings + character embeddings (hybrid embedding layers)"
      ]
    },
    {
      "cell_type": "code",
      "metadata": {
        "id": "kHzLQQSA7Oqm"
      },
      "source": [
        "# 1.  Setup token inputs/model\n",
        "token_inputs  =  layers.Input(shape=[] , dtype=tf.string , name=\"token_input\")\n",
        "token_embeddings = tf_hub_embedding_layer(token_inputs)\n",
        "token_output = layers.Dense(128 , activation=\"relu\")(token_embeddings)\n",
        "token_model = tf.keras.Model(token_inputs , \n",
        "                             token_output)\n",
        "\n",
        "#2.  Setup char inputs/model\n",
        "char_inputs = layers.Input(shape=(1,) , dtype=tf.string , name=\"char_input\")\n",
        "char_vector = char_vectorizer(char_inputs)\n",
        "char_embed = char_embedding(char_vector)\n",
        "char_bi_lstm = layers.Bidirectional(layers.LSTM(24))(char_embed)\n",
        "char_model = tf.keras.Model(inputs=char_inputs,\n",
        "                            outputs=char_bi_lstm)\n",
        "\n",
        "#3. Concatenate token and char  inputs (create hybrid token embedding)\n",
        "token_char_concat = layers.Concatenate(name=\"token_char_hybrid\")([token_model.output,\n",
        "                                                                 char_model.output])\n",
        "\n",
        "# 4. Create output layers\n",
        "combined_dropout = layers.Dropout(0.5)(token_char_concat)\n",
        "combined_Dense = layers.Dense(200 , activation=\"relu\")(combined_dropout)\n",
        "final_dropout = layers.Dropout(0.5)(combined_Dense)\n",
        "output_layer = layers.Dense(num_classes , activation = \"softmax\")(final_dropout)\n",
        "\n",
        "# 5. Construct model with with char and token inputs \n",
        "model_4 = tf.keras.Model(inputs=[token_model.input , char_model.input],\n",
        "                         outputs = output_layer)"
      ],
      "execution_count": null,
      "outputs": []
    },
    {
      "cell_type": "code",
      "metadata": {
        "colab": {
          "base_uri": "https://localhost:8080/"
        },
        "id": "CFyC2AeCFXsU",
        "outputId": "be33fcea-c22e-4604-fd0e-4d9e54e9930e"
      },
      "source": [
        "model_4.summary()"
      ],
      "execution_count": null,
      "outputs": [
        {
          "output_type": "stream",
          "name": "stdout",
          "text": [
            "Model: \"model_10\"\n",
            "__________________________________________________________________________________________________\n",
            "Layer (type)                    Output Shape         Param #     Connected to                     \n",
            "==================================================================================================\n",
            "char_input (InputLayer)         [(None, 1)]          0                                            \n",
            "__________________________________________________________________________________________________\n",
            "token_input (InputLayer)        [(None,)]            0                                            \n",
            "__________________________________________________________________________________________________\n",
            "text_vectorization_2 (TextVecto (None, 290)          0           char_input[0][0]                 \n",
            "__________________________________________________________________________________________________\n",
            "universal_sentence_encoder (Ker (None, 512)          256797824   token_input[0][0]                \n",
            "__________________________________________________________________________________________________\n",
            "embedding_2 (Embedding)         (None, 290, 25)      700         text_vectorization_2[2][0]       \n",
            "__________________________________________________________________________________________________\n",
            "dense_14 (Dense)                (None, 128)          65664       universal_sentence_encoder[2][0] \n",
            "__________________________________________________________________________________________________\n",
            "bidirectional_1 (Bidirectional) (None, 48)           9600        embedding_2[2][0]                \n",
            "__________________________________________________________________________________________________\n",
            "token_char_hybrid (Concatenate) (None, 176)          0           dense_14[0][0]                   \n",
            "                                                                 bidirectional_1[0][0]            \n",
            "__________________________________________________________________________________________________\n",
            "dropout_2 (Dropout)             (None, 176)          0           token_char_hybrid[0][0]          \n",
            "__________________________________________________________________________________________________\n",
            "dense_15 (Dense)                (None, 200)          35400       dropout_2[0][0]                  \n",
            "__________________________________________________________________________________________________\n",
            "dropout_3 (Dropout)             (None, 200)          0           dense_15[0][0]                   \n",
            "__________________________________________________________________________________________________\n",
            "dense_16 (Dense)                (None, 5)            1005        dropout_3[0][0]                  \n",
            "==================================================================================================\n",
            "Total params: 256,910,193\n",
            "Trainable params: 112,369\n",
            "Non-trainable params: 256,797,824\n",
            "__________________________________________________________________________________________________\n"
          ]
        }
      ]
    },
    {
      "cell_type": "code",
      "metadata": {
        "colab": {
          "base_uri": "https://localhost:8080/",
          "height": 976
        },
        "id": "0N-n88QbFvmN",
        "outputId": "32653593-b388-474b-c3aa-29e92faa6118"
      },
      "source": [
        "# Plot hybrid token and character model \n",
        "# from keras.utils import plot_model \n",
        "tf.keras.utils.plot_model(model_4 , show_shapes=True)"
      ],
      "execution_count": null,
      "outputs": [
        {
          "output_type": "execute_result",
          "data": {
            "image/png": "[encoded data removed]",
            "text/plain": [
              "<IPython.core.display.Image object>"
            ]
          },
          "metadata": {},
          "execution_count": 135
        }
      ]
    },
    {
      "cell_type": "code",
      "metadata": {
        "id": "2i0KBzoX3Tzs"
      },
      "source": [
        "# Compile the model \n",
        "model_4.compile(loss=\"categorical_crossentropy\",\n",
        "                optimizer=tf.keras.optimizers.Adam(),\n",
        "                metrics=[\"accuracy\"])"
      ],
      "execution_count": null,
      "outputs": []
    },
    {
      "cell_type": "markdown",
      "metadata": {
        "id": "X6npn_d35ph0"
      },
      "source": [
        "### Combining token and character data into tf.data.Dataset"
      ]
    },
    {
      "cell_type": "code",
      "metadata": {
        "id": "UKdNDeuD5Af3"
      },
      "source": [
        "# Combine train chars and token into a dataset\n",
        "trian_char_token_data = tf.data.Dataset.from_tensor_slices((train_sentences , train_chars))\n",
        "train_char_token_labels = tf.data.Dataset.from_tensor_slices(train_labels_one_hot)\n",
        "train_char_token_dataset = tf.data.Dataset.zip((trian_char_token_data , train_char_token_labels))\n",
        "\n",
        "# PRefetch and batch train data\n",
        "train_char_token_dataset = train_char_token_dataset.batch(32).prefetch(tf.data.AUTOTUNE)"
      ],
      "execution_count": null,
      "outputs": []
    },
    {
      "cell_type": "code",
      "metadata": {
        "id": "-XdNbqUT7Aa0"
      },
      "source": [
        "# Combine val chars and token into a dataset\n",
        "val_char_token_data = tf.data.Dataset.from_tensor_slices((val_sentences , val_chars))\n",
        "val_char_token_labels = tf.data.Dataset.from_tensor_slices(val_labels_one_hot)\n",
        "val_char_token_dataset = tf.data.Dataset.zip((val_char_token_data , val_char_token_labels))\n",
        "\n",
        "# PRefetch and batch train data\n",
        "val_char_token_dataset = val_char_token_dataset.batch(32).prefetch(tf.data.AUTOTUNE)"
      ],
      "execution_count": null,
      "outputs": []
    },
    {
      "cell_type": "code",
      "metadata": {
        "colab": {
          "base_uri": "https://localhost:8080/"
        },
        "id": "KHfyANmc7RZu",
        "outputId": "e8e59335-7c29-41f7-e170-997a3cba70f8"
      },
      "source": [
        "train_char_token_dataset , val_char_token_dataset"
      ],
      "execution_count": null,
      "outputs": [
        {
          "output_type": "execute_result",
          "data": {
            "text/plain": [
              "(<PrefetchDataset shapes: (((None,), (None,)), (None, 5)), types: ((tf.string, tf.string), tf.float64)>,\n",
              " <PrefetchDataset shapes: (((None,), (None,)), (None, 5)), types: ((tf.string, tf.string), tf.float64)>)"
            ]
          },
          "metadata": {},
          "execution_count": 139
        }
      ]
    },
    {
      "cell_type": "code",
      "metadata": {
        "colab": {
          "base_uri": "https://localhost:8080/"
        },
        "id": "eESbq8WT7YuA",
        "outputId": "38c04048-203a-41ad-f2df-f812aa1a7fa6"
      },
      "source": [
        "# Fitting model on token and char level squences \n",
        "model_4_history = model_4.fit(train_char_token_dataset,\n",
        "                              epochs=3,\n",
        "                              steps_per_epoch=int(0.1*len(train_char_token_dataset)),\n",
        "                              validation_data = val_char_token_dataset,\n",
        "                              validation_steps=int(0.1*len(val_char_token_dataset)))"
      ],
      "execution_count": null,
      "outputs": [
        {
          "output_type": "stream",
          "name": "stdout",
          "text": [
            "Epoch 1/3\n",
            "562/562 [==============================] - 86s 135ms/step - loss: 0.9716 - accuracy: 0.6128 - val_loss: 0.7823 - val_accuracy: 0.7081\n",
            "Epoch 2/3\n",
            "562/562 [==============================] - 73s 130ms/step - loss: 0.7914 - accuracy: 0.6946 - val_loss: 0.7106 - val_accuracy: 0.7291\n",
            "Epoch 3/3\n",
            "562/562 [==============================] - 69s 123ms/step - loss: 0.7650 - accuracy: 0.7062 - val_loss: 0.6816 - val_accuracy: 0.7447\n"
          ]
        }
      ]
    },
    {
      "cell_type": "code",
      "metadata": {
        "colab": {
          "base_uri": "https://localhost:8080/"
        },
        "id": "S3D78-Py8Qzt",
        "outputId": "30cb10ee-4f4e-4be3-e9a5-b728b46fa61c"
      },
      "source": [
        "model_4.evaluate(val_char_token_dataset)"
      ],
      "execution_count": null,
      "outputs": [
        {
          "output_type": "stream",
          "name": "stdout",
          "text": [
            "945/945 [==============================] - 51s 54ms/step - loss: 0.6880 - accuracy: 0.7395\n"
          ]
        },
        {
          "output_type": "execute_result",
          "data": {
            "text/plain": [
              "[0.6879710555076599, 0.7395074963569641]"
            ]
          },
          "metadata": {},
          "execution_count": 141
        }
      ]
    },
    {
      "cell_type": "code",
      "metadata": {
        "colab": {
          "base_uri": "https://localhost:8080/"
        },
        "id": "k1nYHfYG8aWg",
        "outputId": "932a5568-a961-46dd-e60d-8b0edcffb4f4"
      },
      "source": [
        "model_4_pred_probs = model_4.predict(val_char_token_dataset)\n",
        "model_4_pred_probs"
      ],
      "execution_count": null,
      "outputs": [
        {
          "output_type": "execute_result",
          "data": {
            "text/plain": [
              "array([[4.0869334e-01, 3.3429012e-01, 2.7958832e-03, 2.4918900e-01,\n",
              "        5.0317193e-03],\n",
              "       [2.9742625e-01, 5.6549376e-01, 2.9941474e-03, 1.3226385e-01,\n",
              "        1.8219777e-03],\n",
              "       [2.7650747e-01, 1.1654480e-01, 4.2148013e-02, 5.2917105e-01,\n",
              "        3.5628628e-02],\n",
              "       ...,\n",
              "       [4.9042288e-04, 6.7923483e-03, 3.3565380e-02, 1.8899968e-04,\n",
              "        9.5896286e-01],\n",
              "       [5.8252793e-03, 7.2323255e-02, 2.3934467e-01, 2.9262919e-03,\n",
              "        6.7958051e-01],\n",
              "       [2.2822648e-01, 3.8116974e-01, 3.1398419e-01, 2.2768009e-02,\n",
              "        5.3851556e-02]], dtype=float32)"
            ]
          },
          "metadata": {},
          "execution_count": 142
        }
      ]
    },
    {
      "cell_type": "code",
      "metadata": {
        "colab": {
          "base_uri": "https://localhost:8080/"
        },
        "id": "TdXANR3n8zbR",
        "outputId": "795b2081-5e24-45e5-c240-8fc52e72ad03"
      },
      "source": [
        "model_4_preds = tf.argmax(model_4_pred_probs , axis=1)\n",
        "model_4_preds"
      ],
      "execution_count": null,
      "outputs": [
        {
          "output_type": "execute_result",
          "data": {
            "text/plain": [
              "<tf.Tensor: shape=(30212,), dtype=int64, numpy=array([0, 1, 3, ..., 4, 4, 1])>"
            ]
          },
          "metadata": {},
          "execution_count": 143
        }
      ]
    },
    {
      "cell_type": "code",
      "metadata": {
        "colab": {
          "base_uri": "https://localhost:8080/"
        },
        "id": "PrR7ylE8886g",
        "outputId": "1cae7718-f5c4-48ef-9271-64b08e116066"
      },
      "source": [
        "model_4_results  = calculate_results(val_labels_encoded,\n",
        "                                     model_4_preds)\n",
        "model_4_results"
      ],
      "execution_count": null,
      "outputs": [
        {
          "output_type": "execute_result",
          "data": {
            "text/plain": [
              "{'accuracy': 73.95074804713359,\n",
              " 'f1': 0.7360773371653543,\n",
              " 'precision': 0.7393663889786982,\n",
              " 'recall': 0.7395074804713359}"
            ]
          },
          "metadata": {},
          "execution_count": 144
        }
      ]
    },
    {
      "cell_type": "code",
      "metadata": {
        "colab": {
          "base_uri": "https://localhost:8080/"
        },
        "id": "1iK01QAd9LnV",
        "outputId": "35c737ec-6269-42a0-c999-f343947782b4"
      },
      "source": [
        "model_1_resutls"
      ],
      "execution_count": null,
      "outputs": [
        {
          "output_type": "execute_result",
          "data": {
            "text/plain": [
              "{'accuracy': 79.13742883622402,\n",
              " 'f1': 0.7896821257058273,\n",
              " 'precision': 0.7884743454275999,\n",
              " 'recall': 0.7913742883622402}"
            ]
          },
          "metadata": {},
          "execution_count": 145
        }
      ]
    },
    {
      "cell_type": "markdown",
      "metadata": {
        "id": "_WiC5LuUAaV0"
      },
      "source": [
        "## Model 5: Transfer learning with pretained token embedding + character embedding + postional embedding "
      ]
    },
    {
      "cell_type": "code",
      "metadata": {
        "colab": {
          "base_uri": "https://localhost:8080/",
          "height": 204
        },
        "id": "TtxxxlQi-LVH",
        "outputId": "fdf78b9b-f122-4c33-fd7b-8e2d94cc402c"
      },
      "source": [
        "train_df.head()"
      ],
      "execution_count": null,
      "outputs": [
        {
          "output_type": "execute_result",
          "data": {
            "text/html": [
              "<div>\n",
              "<style scoped>\n",
              "    .dataframe tbody tr th:only-of-type {\n",
              "        vertical-align: middle;\n",
              "    }\n",
              "\n",
              "    .dataframe tbody tr th {\n",
              "        vertical-align: top;\n",
              "    }\n",
              "\n",
              "    .dataframe thead th {\n",
              "        text-align: right;\n",
              "    }\n",
              "</style>\n",
              "<table border=\"1\" class=\"dataframe\">\n",
              "  <thead>\n",
              "    <tr style=\"text-align: right;\">\n",
              "      <th></th>\n",
              "      <th>target</th>\n",
              "      <th>text</th>\n",
              "      <th>line_number</th>\n",
              "      <th>total_lines</th>\n",
              "    </tr>\n",
              "  </thead>\n",
              "  <tbody>\n",
              "    <tr>\n",
              "      <th>0</th>\n",
              "      <td>OBJECTIVE</td>\n",
              "      <td>to investigate the efficacy of @ weeks of dail...</td>\n",
              "      <td>0</td>\n",
              "      <td>11</td>\n",
              "    </tr>\n",
              "    <tr>\n",
              "      <th>1</th>\n",
              "      <td>METHODS</td>\n",
              "      <td>a total of @ patients with primary knee oa wer...</td>\n",
              "      <td>1</td>\n",
              "      <td>11</td>\n",
              "    </tr>\n",
              "    <tr>\n",
              "      <th>2</th>\n",
              "      <td>METHODS</td>\n",
              "      <td>outcome measures included pain reduction and i...</td>\n",
              "      <td>2</td>\n",
              "      <td>11</td>\n",
              "    </tr>\n",
              "    <tr>\n",
              "      <th>3</th>\n",
              "      <td>METHODS</td>\n",
              "      <td>pain was assessed using the visual analog pain...</td>\n",
              "      <td>3</td>\n",
              "      <td>11</td>\n",
              "    </tr>\n",
              "    <tr>\n",
              "      <th>4</th>\n",
              "      <td>METHODS</td>\n",
              "      <td>secondary outcome measures included the wester...</td>\n",
              "      <td>4</td>\n",
              "      <td>11</td>\n",
              "    </tr>\n",
              "  </tbody>\n",
              "</table>\n",
              "</div>"
            ],
            "text/plain": [
              "      target  ... total_lines\n",
              "0  OBJECTIVE  ...          11\n",
              "1    METHODS  ...          11\n",
              "2    METHODS  ...          11\n",
              "3    METHODS  ...          11\n",
              "4    METHODS  ...          11\n",
              "\n",
              "[5 rows x 4 columns]"
            ]
          },
          "metadata": {},
          "execution_count": 146
        }
      ]
    },
    {
      "cell_type": "markdown",
      "metadata": {
        "id": "olIlqWdLCaPR"
      },
      "source": [
        "### Create Positional embedding"
      ]
    },
    {
      "cell_type": "code",
      "metadata": {
        "colab": {
          "base_uri": "https://localhost:8080/"
        },
        "id": "3uBVlVsyA_8q",
        "outputId": "4d95e288-a7de-42ff-b86d-0a4b4cca4708"
      },
      "source": [
        "# How many diferent line numbers are there?\n",
        "train_df[\"line_number\"].value_counts()"
      ],
      "execution_count": null,
      "outputs": [
        {
          "output_type": "execute_result",
          "data": {
            "text/plain": [
              "0     15000\n",
              "1     15000\n",
              "2     15000\n",
              "3     15000\n",
              "4     14992\n",
              "5     14949\n",
              "6     14758\n",
              "7     14279\n",
              "8     13346\n",
              "9     11981\n",
              "10    10041\n",
              "11     7892\n",
              "12     5853\n",
              "13     4152\n",
              "14     2835\n",
              "15     1861\n",
              "16     1188\n",
              "17      751\n",
              "18      462\n",
              "19      286\n",
              "20      162\n",
              "21      101\n",
              "22       66\n",
              "23       33\n",
              "24       22\n",
              "25       14\n",
              "26        7\n",
              "27        4\n",
              "28        3\n",
              "29        1\n",
              "30        1\n",
              "Name: line_number, dtype: int64"
            ]
          },
          "metadata": {},
          "execution_count": 147
        }
      ]
    },
    {
      "cell_type": "code",
      "metadata": {
        "colab": {
          "base_uri": "https://localhost:8080/",
          "height": 282
        },
        "id": "NOphpQYaCxbd",
        "outputId": "93d2d8d3-baa6-4938-e21e-681757103ba5"
      },
      "source": [
        "# Check the distribution of line number column \n",
        "train_df.line_number.plot.hist()"
      ],
      "execution_count": null,
      "outputs": [
        {
          "output_type": "execute_result",
          "data": {
            "text/plain": [
              "<matplotlib.axes._subplots.AxesSubplot at 0x7f4d3b574690>"
            ]
          },
          "metadata": {},
          "execution_count": 148
        },
        {
          "output_type": "display_data",
          "data": {
            "image/png": "[encoded data removed]",
            "text/plain": [
              "<Figure size 432x288 with 1 Axes>"
            ]
          },
          "metadata": {
            "needs_background": "light"
          }
        }
      ]
    },
    {
      "cell_type": "code",
      "metadata": {
        "colab": {
          "base_uri": "https://localhost:8080/"
        },
        "id": "_6CZXK70DEYL",
        "outputId": "839dc02c-3726-4d5c-faaa-d35b6abeeb07"
      },
      "source": [
        "# Use tensoflow to create one hot encoded tensors of our line number column\n",
        "train_line_number_one_hot =tf.one_hot(train_df[\"line_number\"].to_numpy()  ,depth=15)\n",
        "val_line_number_one_hot = tf.one_hot(val_df[\"line_number\"].to_numpy() , depth=15)\n",
        "test_line_number_one_hot = tf.one_hot(test_df[\"line_number\"].to_numpy() , depth=15)\n",
        "train_line_number_one_hot[:10] , train_line_number_one_hot.shape"
      ],
      "execution_count": null,
      "outputs": [
        {
          "output_type": "execute_result",
          "data": {
            "text/plain": [
              "(<tf.Tensor: shape=(10, 15), dtype=float32, numpy=\n",
              " array([[1., 0., 0., 0., 0., 0., 0., 0., 0., 0., 0., 0., 0., 0., 0.],\n",
              "        [0., 1., 0., 0., 0., 0., 0., 0., 0., 0., 0., 0., 0., 0., 0.],\n",
              "        [0., 0., 1., 0., 0., 0., 0., 0., 0., 0., 0., 0., 0., 0., 0.],\n",
              "        [0., 0., 0., 1., 0., 0., 0., 0., 0., 0., 0., 0., 0., 0., 0.],\n",
              "        [0., 0., 0., 0., 1., 0., 0., 0., 0., 0., 0., 0., 0., 0., 0.],\n",
              "        [0., 0., 0., 0., 0., 1., 0., 0., 0., 0., 0., 0., 0., 0., 0.],\n",
              "        [0., 0., 0., 0., 0., 0., 1., 0., 0., 0., 0., 0., 0., 0., 0.],\n",
              "        [0., 0., 0., 0., 0., 0., 0., 1., 0., 0., 0., 0., 0., 0., 0.],\n",
              "        [0., 0., 0., 0., 0., 0., 0., 0., 1., 0., 0., 0., 0., 0., 0.],\n",
              "        [0., 0., 0., 0., 0., 0., 0., 0., 0., 1., 0., 0., 0., 0., 0.]],\n",
              "       dtype=float32)>, TensorShape([180040, 15]))"
            ]
          },
          "metadata": {},
          "execution_count": 149
        }
      ]
    },
    {
      "cell_type": "markdown",
      "metadata": {
        "id": "aWHAhd71Eu-C"
      },
      "source": [
        "### Create positional embedding for total lines"
      ]
    },
    {
      "cell_type": "code",
      "metadata": {
        "colab": {
          "base_uri": "https://localhost:8080/"
        },
        "id": "bLKbF3jdDwAC",
        "outputId": "46182e74-b535-4e6e-b581-2e8c7128959e"
      },
      "source": [
        "train_df[\"total_lines\"].value_counts()"
      ],
      "execution_count": null,
      "outputs": [
        {
          "output_type": "execute_result",
          "data": {
            "text/plain": [
              "11    24468\n",
              "10    23639\n",
              "12    22113\n",
              "9     19400\n",
              "13    18438\n",
              "14    14610\n",
              "8     12285\n",
              "15    10768\n",
              "7      7464\n",
              "16     7429\n",
              "17     5202\n",
              "6      3353\n",
              "18     3344\n",
              "19     2480\n",
              "20     1281\n",
              "5      1146\n",
              "21      770\n",
              "22      759\n",
              "23      264\n",
              "4       215\n",
              "24      200\n",
              "25      182\n",
              "26       81\n",
              "28       58\n",
              "3        32\n",
              "30       31\n",
              "27       28\n",
              "Name: total_lines, dtype: int64"
            ]
          },
          "metadata": {},
          "execution_count": 150
        }
      ]
    },
    {
      "cell_type": "code",
      "metadata": {
        "colab": {
          "base_uri": "https://localhost:8080/",
          "height": 284
        },
        "id": "C5_QP8a6E6uy",
        "outputId": "d11ac27f-14da-4292-b20d-9a2de8407b8e"
      },
      "source": [
        "train_df.total_lines.plot.hist()"
      ],
      "execution_count": null,
      "outputs": [
        {
          "output_type": "execute_result",
          "data": {
            "text/plain": [
              "<matplotlib.axes._subplots.AxesSubplot at 0x7f4d3b500750>"
            ]
          },
          "metadata": {},
          "execution_count": 151
        },
        {
          "output_type": "display_data",
          "data": {
            "image/png": "[encoded data removed]",
            "text/plain": [
              "<Figure size 432x288 with 1 Axes>"
            ]
          },
          "metadata": {
            "needs_background": "light"
          }
        }
      ]
    },
    {
      "cell_type": "code",
      "metadata": {
        "colab": {
          "base_uri": "https://localhost:8080/"
        },
        "id": "vCXsfcOtFLGn",
        "outputId": "344a5895-0868-451d-845c-492286031df8"
      },
      "source": [
        "#Now one hot encode the total line numbers\n",
        "train_total_lines_one_hot  = tf.one_hot(train_df[\"total_lines\"].to_numpy() , depth=20)\n",
        "val_total_lines_one_hot = tf.one_hot(val_df[\"total_lines\"].to_numpy() , depth=20)\n",
        "test_total_lines_one_hot = tf.one_hot(test_df[\"total_lines\"].to_numpy() , depth= 20)\n",
        "train_total_lines_one_hot[:20] , train_total_lines_one_hot.shape"
      ],
      "execution_count": null,
      "outputs": [
        {
          "output_type": "execute_result",
          "data": {
            "text/plain": [
              "(<tf.Tensor: shape=(20, 20), dtype=float32, numpy=\n",
              " array([[0., 0., 0., 0., 0., 0., 0., 0., 0., 0., 0., 1., 0., 0., 0., 0.,\n",
              "         0., 0., 0., 0.],\n",
              "        [0., 0., 0., 0., 0., 0., 0., 0., 0., 0., 0., 1., 0., 0., 0., 0.,\n",
              "         0., 0., 0., 0.],\n",
              "        [0., 0., 0., 0., 0., 0., 0., 0., 0., 0., 0., 1., 0., 0., 0., 0.,\n",
              "         0., 0., 0., 0.],\n",
              "        [0., 0., 0., 0., 0., 0., 0., 0., 0., 0., 0., 1., 0., 0., 0., 0.,\n",
              "         0., 0., 0., 0.],\n",
              "        [0., 0., 0., 0., 0., 0., 0., 0., 0., 0., 0., 1., 0., 0., 0., 0.,\n",
              "         0., 0., 0., 0.],\n",
              "        [0., 0., 0., 0., 0., 0., 0., 0., 0., 0., 0., 1., 0., 0., 0., 0.,\n",
              "         0., 0., 0., 0.],\n",
              "        [0., 0., 0., 0., 0., 0., 0., 0., 0., 0., 0., 1., 0., 0., 0., 0.,\n",
              "         0., 0., 0., 0.],\n",
              "        [0., 0., 0., 0., 0., 0., 0., 0., 0., 0., 0., 1., 0., 0., 0., 0.,\n",
              "         0., 0., 0., 0.],\n",
              "        [0., 0., 0., 0., 0., 0., 0., 0., 0., 0., 0., 1., 0., 0., 0., 0.,\n",
              "         0., 0., 0., 0.],\n",
              "        [0., 0., 0., 0., 0., 0., 0., 0., 0., 0., 0., 1., 0., 0., 0., 0.,\n",
              "         0., 0., 0., 0.],\n",
              "        [0., 0., 0., 0., 0., 0., 0., 0., 0., 0., 0., 1., 0., 0., 0., 0.,\n",
              "         0., 0., 0., 0.],\n",
              "        [0., 0., 0., 0., 0., 0., 0., 0., 0., 0., 0., 1., 0., 0., 0., 0.,\n",
              "         0., 0., 0., 0.],\n",
              "        [0., 0., 0., 0., 0., 0., 0., 0., 0., 0., 1., 0., 0., 0., 0., 0.,\n",
              "         0., 0., 0., 0.],\n",
              "        [0., 0., 0., 0., 0., 0., 0., 0., 0., 0., 1., 0., 0., 0., 0., 0.,\n",
              "         0., 0., 0., 0.],\n",
              "        [0., 0., 0., 0., 0., 0., 0., 0., 0., 0., 1., 0., 0., 0., 0., 0.,\n",
              "         0., 0., 0., 0.],\n",
              "        [0., 0., 0., 0., 0., 0., 0., 0., 0., 0., 1., 0., 0., 0., 0., 0.,\n",
              "         0., 0., 0., 0.],\n",
              "        [0., 0., 0., 0., 0., 0., 0., 0., 0., 0., 1., 0., 0., 0., 0., 0.,\n",
              "         0., 0., 0., 0.],\n",
              "        [0., 0., 0., 0., 0., 0., 0., 0., 0., 0., 1., 0., 0., 0., 0., 0.,\n",
              "         0., 0., 0., 0.],\n",
              "        [0., 0., 0., 0., 0., 0., 0., 0., 0., 0., 1., 0., 0., 0., 0., 0.,\n",
              "         0., 0., 0., 0.],\n",
              "        [0., 0., 0., 0., 0., 0., 0., 0., 0., 0., 1., 0., 0., 0., 0., 0.,\n",
              "         0., 0., 0., 0.]], dtype=float32)>, TensorShape([180040, 20]))"
            ]
          },
          "metadata": {},
          "execution_count": 152
        }
      ]
    },
    {
      "cell_type": "markdown",
      "metadata": {
        "id": "2M3ri_wwEiu_"
      },
      "source": [
        "### Building the Trained tribrid model "
      ]
    },
    {
      "cell_type": "code",
      "metadata": {
        "id": "XQB9t_XaF5e6"
      },
      "source": [
        "# 1. Token input\n",
        "token_inputs = layers.Input(shape=[] , dtype=tf.string)\n",
        "token_embeddings = tf_hub_embedding_layer(token_inputs)\n",
        "token_outputs = layers.Dense(128 , activation=\"relu\")(token_embeddings)\n",
        "token_model = tf.keras.Model(token_inputs,\n",
        "                             token_outputs)\n",
        "\n",
        "# 2. Char input \n",
        "char_inputs = layers.Input(shape=(1,) , dtype=tf.string)\n",
        "char_vector = char_vectorizer(char_inputs)\n",
        "char_embed = char_embedding(char_vector)\n",
        "char_bi_lstm  = layers.Bidirectional(layers.LSTM(32))(char_embed)\n",
        "char_model = tf.keras.Model(char_inputs,\n",
        "                            char_bi_lstm)\n",
        "\n",
        "# 3. Line number input \n",
        "line_number_inputs = layers.Input(shape=(15,) , dtype=tf.float32)\n",
        "x = layers.Dense(32 ,activation=\"relu\")(line_number_inputs)\n",
        "model_line_number = tf.keras.Model(line_number_inputs,\n",
        "                                   x)\n",
        "\n",
        "# 4. Total line input \n",
        "total_line_inputs =  layers.Input(shape=(20,) , dtype=tf.float32)\n",
        "y = layers.Dense(32 , activation=\"relu\")(total_line_inputs)\n",
        "model_total_line = tf.keras.Model(total_line_inputs,\n",
        "                                  y)\n",
        "# 5. combine token and char embeddings into hybrid embedding\n",
        "combined_embedding = layers.Concatenate(name=\"token_char_embdding\")([token_model.output,\n",
        "                                                                     char_model.output])\n",
        "z = layers.Dense(256 , activation=\"relu\")(combined_embedding)\n",
        "z = layers.Dropout(0.5)(z)\n",
        "\n",
        "# 6. Combine positional embedding with combined toekn and char embedding\n",
        "tribrid_embedding = layers.Concatenate(name=\"positional_combined_embedding\")([model_line_number.output,\n",
        "                                                                              model_total_line.output,\n",
        "                                                                              z])\n",
        "# 7. Create ouput layer \n",
        "output_layer  = layers.Dense(5 , activation=\"softmax\", name=\"output_layer\")(tribrid_embedding)\n",
        "\n",
        "\n",
        "# 8. Put together model\n",
        "model_5 = tf.keras.Model(inputs =[model_line_number.input,\n",
        "                                  model_total_line.input,\n",
        "                                  token_model.input,\n",
        "                                  char_model.input],\n",
        "                         outputs = output_layer)\n"
      ],
      "execution_count": null,
      "outputs": []
    },
    {
      "cell_type": "code",
      "metadata": {
        "colab": {
          "base_uri": "https://localhost:8080/"
        },
        "id": "GcSw0HekJvcU",
        "outputId": "c5ffa27c-9788-4d01-ea44-767afd3aed02"
      },
      "source": [
        "model_5.summary()"
      ],
      "execution_count": null,
      "outputs": [
        {
          "output_type": "stream",
          "name": "stdout",
          "text": [
            "Model: \"model_15\"\n",
            "__________________________________________________________________________________________________\n",
            "Layer (type)                    Output Shape         Param #     Connected to                     \n",
            "==================================================================================================\n",
            "input_10 (InputLayer)           [(None, 1)]          0                                            \n",
            "__________________________________________________________________________________________________\n",
            "input_9 (InputLayer)            [(None,)]            0                                            \n",
            "__________________________________________________________________________________________________\n",
            "text_vectorization_2 (TextVecto (None, 290)          0           input_10[0][0]                   \n",
            "__________________________________________________________________________________________________\n",
            "universal_sentence_encoder (Ker (None, 512)          256797824   input_9[0][0]                    \n",
            "__________________________________________________________________________________________________\n",
            "embedding_2 (Embedding)         (None, 290, 25)      700         text_vectorization_2[3][0]       \n",
            "__________________________________________________________________________________________________\n",
            "dense_17 (Dense)                (None, 128)          65664       universal_sentence_encoder[3][0] \n",
            "__________________________________________________________________________________________________\n",
            "bidirectional_2 (Bidirectional) (None, 64)           14848       embedding_2[3][0]                \n",
            "__________________________________________________________________________________________________\n",
            "token_char_embdding (Concatenat (None, 192)          0           dense_17[0][0]                   \n",
            "                                                                 bidirectional_2[0][0]            \n",
            "__________________________________________________________________________________________________\n",
            "input_11 (InputLayer)           [(None, 15)]         0                                            \n",
            "__________________________________________________________________________________________________\n",
            "input_12 (InputLayer)           [(None, 20)]         0                                            \n",
            "__________________________________________________________________________________________________\n",
            "dense_20 (Dense)                (None, 256)          49408       token_char_embdding[0][0]        \n",
            "__________________________________________________________________________________________________\n",
            "dense_18 (Dense)                (None, 32)           512         input_11[0][0]                   \n",
            "__________________________________________________________________________________________________\n",
            "dense_19 (Dense)                (None, 32)           672         input_12[0][0]                   \n",
            "__________________________________________________________________________________________________\n",
            "dropout_4 (Dropout)             (None, 256)          0           dense_20[0][0]                   \n",
            "__________________________________________________________________________________________________\n",
            "positional_combined_embedding ( (None, 320)          0           dense_18[0][0]                   \n",
            "                                                                 dense_19[0][0]                   \n",
            "                                                                 dropout_4[0][0]                  \n",
            "__________________________________________________________________________________________________\n",
            "output_layer (Dense)            (None, 5)            1605        positional_combined_embedding[0][\n",
            "==================================================================================================\n",
            "Total params: 256,931,233\n",
            "Trainable params: 133,409\n",
            "Non-trainable params: 256,797,824\n",
            "__________________________________________________________________________________________________\n"
          ]
        }
      ]
    },
    {
      "cell_type": "code",
      "metadata": {
        "colab": {
          "base_uri": "https://localhost:8080/",
          "height": 856
        },
        "id": "PA1I-JTtJ0ON",
        "outputId": "73b35128-f156-4071-8d3e-862a78ef6396"
      },
      "source": [
        "# from keras.utils import plot_model \n",
        "tf.keras.utils.plot_model(model_5)"
      ],
      "execution_count": null,
      "outputs": [
        {
          "output_type": "execute_result",
          "data": {
            "image/png": "[encoded data removed]",
            "text/plain": [
              "<IPython.core.display.Image object>"
            ]
          },
          "metadata": {},
          "execution_count": 155
        }
      ]
    },
    {
      "cell_type": "code",
      "metadata": {
        "colab": {
          "base_uri": "https://localhost:8080/"
        },
        "id": "Oqufo_WuM-ow",
        "outputId": "8f8c4a4e-af37-44b4-da30-3874a3f3a14e"
      },
      "source": [
        "# Check which layers are trainable or not \n",
        "for layer in model_5.layers:\n",
        "  print(layer.name , layer.trainable)"
      ],
      "execution_count": null,
      "outputs": [
        {
          "output_type": "stream",
          "name": "stdout",
          "text": [
            "input_10 True\n",
            "input_9 True\n",
            "text_vectorization_2 True\n",
            "universal_sentence_encoder False\n",
            "embedding_2 True\n",
            "dense_17 True\n",
            "bidirectional_2 True\n",
            "token_char_embdding True\n",
            "input_11 True\n",
            "input_12 True\n",
            "dense_20 True\n",
            "dense_18 True\n",
            "dense_19 True\n",
            "dropout_4 True\n",
            "positional_combined_embedding True\n",
            "output_layer True\n"
          ]
        }
      ]
    },
    {
      "cell_type": "code",
      "metadata": {
        "id": "j0GbRlpgRgQK"
      },
      "source": [
        "model_5.compile(loss=tf.keras.losses.CategoricalCrossentropy(label_smoothing=0.2),# add label smoothing(i.e which are really confident get smooth a little)\n",
        "                optimizer=tf.keras.optimizers.Adam(),\n",
        "                metrics=[\"accuracy\"])"
      ],
      "execution_count": null,
      "outputs": []
    },
    {
      "cell_type": "code",
      "metadata": {
        "colab": {
          "base_uri": "https://localhost:8080/"
        },
        "id": "p4BqF7CBSyxE",
        "outputId": "0449beb9-ec88-4b46-99d3-9b8881ddabf0"
      },
      "source": [
        "# create Dataset for training data\n",
        "train_pos_char_token_data = tf.data.Dataset.from_tensor_slices((train_line_number_one_hot , \n",
        "                                                                train_total_lines_one_hot,\n",
        "                                                                train_sentences,\n",
        "                                                                train_chars)) # order of data here is dame as we used in concatenate in our model\n",
        "train_pos_char_token_labels = tf.data.Dataset.from_tensor_slices(train_labels_one_hot)\n",
        "train_pos_char_token_dataset = tf.data.Dataset.zip((train_pos_char_token_data,\n",
        "                                                    train_pos_char_token_labels))\n",
        "train_pos_char_token_dataset = train_pos_char_token_dataset.batch(32).prefetch(tf.data.AUTOTUNE)\n",
        "\n",
        "# create Dataset for validation data \n",
        "val_pos_char_token_data = tf.data.Dataset.from_tensor_slices((val_line_number_one_hot , \n",
        "                                                                val_total_lines_one_hot,\n",
        "                                                                val_sentences,\n",
        "                                                                val_chars))\n",
        "val_pos_char_token_labels = tf.data.Dataset.from_tensor_slices(val_labels_one_hot)\n",
        "val_pos_char_token_dataset = tf.data.Dataset.zip((val_pos_char_token_data,\n",
        "                                                    val_pos_char_token_labels))\n",
        "val_pos_char_token_dataset = val_pos_char_token_dataset.batch(32).prefetch(tf.data.AUTOTUNE)\n",
        "train_pos_char_token_dataset , val_pos_char_token_dataset"
      ],
      "execution_count": null,
      "outputs": [
        {
          "output_type": "execute_result",
          "data": {
            "text/plain": [
              "(<PrefetchDataset shapes: (((None, 15), (None, 20), (None,), (None,)), (None, 5)), types: ((tf.float32, tf.float32, tf.string, tf.string), tf.float64)>,\n",
              " <PrefetchDataset shapes: (((None, 15), (None, 20), (None,), (None,)), (None, 5)), types: ((tf.float32, tf.float32, tf.string, tf.string), tf.float64)>)"
            ]
          },
          "metadata": {},
          "execution_count": 160
        }
      ]
    },
    {
      "cell_type": "code",
      "metadata": {
        "colab": {
          "base_uri": "https://localhost:8080/"
        },
        "id": "9pys3FShUqD4",
        "outputId": "8ffea49a-97d6-41dc-d0c6-60afe21e9740"
      },
      "source": [
        "# Fit the model \n",
        "model_5_history =model_5.fit(train_pos_char_token_dataset,\n",
        "                             epochs=3,\n",
        "                             steps_per_epoch=int(0.1*len(train_pos_char_token_dataset)),\n",
        "                             validation_data=val_pos_char_token_dataset,\n",
        "                             validation_steps=int(0.1*len(val_pos_char_token_dataset)))"
      ],
      "execution_count": null,
      "outputs": [
        {
          "output_type": "stream",
          "name": "stdout",
          "text": [
            "Epoch 1/3\n",
            "562/562 [==============================] - 95s 152ms/step - loss: 1.0923 - accuracy: 0.7255 - val_loss: 0.9814 - val_accuracy: 0.8042\n",
            "Epoch 2/3\n",
            "562/562 [==============================] - 73s 130ms/step - loss: 0.9655 - accuracy: 0.8163 - val_loss: 0.9476 - val_accuracy: 0.8265\n",
            "Epoch 3/3\n",
            "562/562 [==============================] - 68s 121ms/step - loss: 0.9488 - accuracy: 0.8245 - val_loss: 0.9395 - val_accuracy: 0.8314\n"
          ]
        }
      ]
    },
    {
      "cell_type": "code",
      "metadata": {
        "colab": {
          "base_uri": "https://localhost:8080/"
        },
        "id": "vMxNQuFeWDFw",
        "outputId": "59645ae4-bdeb-4338-ea46-299b939a0cb9"
      },
      "source": [
        "model_5.evaluate(val_pos_char_token_dataset)"
      ],
      "execution_count": null,
      "outputs": [
        {
          "output_type": "stream",
          "name": "stdout",
          "text": [
            "945/945 [==============================] - 49s 52ms/step - loss: 0.9360 - accuracy: 0.8334\n"
          ]
        },
        {
          "output_type": "execute_result",
          "data": {
            "text/plain": [
              "[0.9360367655754089, 0.8334105610847473]"
            ]
          },
          "metadata": {},
          "execution_count": 167
        }
      ]
    },
    {
      "cell_type": "code",
      "metadata": {
        "colab": {
          "base_uri": "https://localhost:8080/"
        },
        "id": "BrJQGKdiWL9I",
        "outputId": "3ffd05b6-1eb9-4f77-f7fc-6de1d06a5a06"
      },
      "source": [
        "model_5_pred_probs = model_5.predict(val_pos_char_token_dataset)\n",
        "model_5_pred_probs"
      ],
      "execution_count": null,
      "outputs": [
        {
          "output_type": "execute_result",
          "data": {
            "text/plain": [
              "array([[0.52173436, 0.09317511, 0.0133642 , 0.35079578, 0.02093059],\n",
              "       [0.50828034, 0.10639232, 0.04713991, 0.32655275, 0.01163478],\n",
              "       [0.26805225, 0.09645902, 0.11323398, 0.4634863 , 0.05876842],\n",
              "       ...,\n",
              "       [0.03177733, 0.1049425 , 0.03893488, 0.03288302, 0.79146224],\n",
              "       [0.02821836, 0.29075187, 0.07721519, 0.02720853, 0.57660604],\n",
              "       [0.26638398, 0.54448783, 0.09317127, 0.04141835, 0.05453863]],\n",
              "      dtype=float32)"
            ]
          },
          "metadata": {},
          "execution_count": 164
        }
      ]
    },
    {
      "cell_type": "code",
      "metadata": {
        "colab": {
          "base_uri": "https://localhost:8080/"
        },
        "id": "3N6QxZWtWZoV",
        "outputId": "cf84f6eb-d790-435d-8a24-8481656867b1"
      },
      "source": [
        "model_5_preds = tf.argmax(model_5_pred_probs , axis=1)\n",
        "model_5_preds"
      ],
      "execution_count": null,
      "outputs": [
        {
          "output_type": "execute_result",
          "data": {
            "text/plain": [
              "<tf.Tensor: shape=(30212,), dtype=int64, numpy=array([0, 0, 3, ..., 4, 4, 1])>"
            ]
          },
          "metadata": {},
          "execution_count": 165
        }
      ]
    },
    {
      "cell_type": "code",
      "metadata": {
        "colab": {
          "base_uri": "https://localhost:8080/"
        },
        "id": "eAY8C3G6Wg2p",
        "outputId": "784d0a74-e30c-45fe-bf5c-34fb64358cee"
      },
      "source": [
        "model_5_results = calculate_results(val_labels_encoded,\n",
        "                                    model_5_preds)\n",
        "model_5_results"
      ],
      "execution_count": null,
      "outputs": [
        {
          "output_type": "execute_result",
          "data": {
            "text/plain": [
              "{'accuracy': 83.34105653382761,\n",
              " 'f1': 0.8324830254865646,\n",
              " 'precision': 0.8323593388328139,\n",
              " 'recall': 0.8334105653382762}"
            ]
          },
          "metadata": {},
          "execution_count": 168
        }
      ]
    },
    {
      "cell_type": "markdown",
      "metadata": {
        "id": "kz2Rg4MSX1Z9"
      },
      "source": [
        "## Comparing all of our modeling experiment"
      ]
    },
    {
      "cell_type": "code",
      "metadata": {
        "colab": {
          "base_uri": "https://localhost:8080/",
          "height": 235
        },
        "id": "Jh3NSZ8kWrj2",
        "outputId": "0059dab2-c50e-4abb-f6c9-323f78aeaa1f"
      },
      "source": [
        "# combine all model results in dataframe\n",
        "all_model_results = pd.DataFrame({\"model_0_baseline\" : baseline_results,\n",
        "                                  \"model_1_custom_token_embedding\":model_1_results,\n",
        "                                  \"model_2_pretained_token_embeddings\":model_2_results,\n",
        "                                  \"model_3_custom_char_embed_conv1d\": model_3_results,\n",
        "                                  \"model_4_hybrid_char_token_embed\": model_4_results,\n",
        "                                  \"model_5-tribrid_pos_char_token_embed\": model_5_results})\n",
        "all_model_results = all_model_results.transpose()\n",
        "all_model_results"
      ],
      "execution_count": null,
      "outputs": [
        {
          "output_type": "execute_result",
          "data": {
            "text/html": [
              "<div>\n",
              "<style scoped>\n",
              "    .dataframe tbody tr th:only-of-type {\n",
              "        vertical-align: middle;\n",
              "    }\n",
              "\n",
              "    .dataframe tbody tr th {\n",
              "        vertical-align: top;\n",
              "    }\n",
              "\n",
              "    .dataframe thead th {\n",
              "        text-align: right;\n",
              "    }\n",
              "</style>\n",
              "<table border=\"1\" class=\"dataframe\">\n",
              "  <thead>\n",
              "    <tr style=\"text-align: right;\">\n",
              "      <th></th>\n",
              "      <th>accuracy</th>\n",
              "      <th>precision</th>\n",
              "      <th>recall</th>\n",
              "      <th>f1</th>\n",
              "    </tr>\n",
              "  </thead>\n",
              "  <tbody>\n",
              "    <tr>\n",
              "      <th>model_0_baseline</th>\n",
              "      <td>72.183238</td>\n",
              "      <td>0.718647</td>\n",
              "      <td>0.721832</td>\n",
              "      <td>0.698925</td>\n",
              "    </tr>\n",
              "    <tr>\n",
              "      <th>model_1_custom_token_embedding</th>\n",
              "      <td>79.137429</td>\n",
              "      <td>0.788474</td>\n",
              "      <td>0.791374</td>\n",
              "      <td>0.789682</td>\n",
              "    </tr>\n",
              "    <tr>\n",
              "      <th>model_2_pretained_token_embeddings</th>\n",
              "      <td>71.316033</td>\n",
              "      <td>0.713351</td>\n",
              "      <td>0.713160</td>\n",
              "      <td>0.710222</td>\n",
              "    </tr>\n",
              "    <tr>\n",
              "      <th>model_3_custom_char_embed_conv1d</th>\n",
              "      <td>65.182709</td>\n",
              "      <td>0.649478</td>\n",
              "      <td>0.651827</td>\n",
              "      <td>0.642310</td>\n",
              "    </tr>\n",
              "    <tr>\n",
              "      <th>model_4_hybrid_char_token_embed</th>\n",
              "      <td>73.950748</td>\n",
              "      <td>0.739366</td>\n",
              "      <td>0.739507</td>\n",
              "      <td>0.736077</td>\n",
              "    </tr>\n",
              "    <tr>\n",
              "      <th>model_5-tribrid_pos_char_token_embed</th>\n",
              "      <td>83.341057</td>\n",
              "      <td>0.832359</td>\n",
              "      <td>0.833411</td>\n",
              "      <td>0.832483</td>\n",
              "    </tr>\n",
              "  </tbody>\n",
              "</table>\n",
              "</div>"
            ],
            "text/plain": [
              "                                       accuracy  precision    recall        f1\n",
              "model_0_baseline                      72.183238   0.718647  0.721832  0.698925\n",
              "model_1_custom_token_embedding        79.137429   0.788474  0.791374  0.789682\n",
              "model_2_pretained_token_embeddings    71.316033   0.713351  0.713160  0.710222\n",
              "model_3_custom_char_embed_conv1d      65.182709   0.649478  0.651827  0.642310\n",
              "model_4_hybrid_char_token_embed       73.950748   0.739366  0.739507  0.736077\n",
              "model_5-tribrid_pos_char_token_embed  83.341057   0.832359  0.833411  0.832483"
            ]
          },
          "metadata": {},
          "execution_count": 173
        }
      ]
    },
    {
      "cell_type": "code",
      "metadata": {
        "id": "B35eW7T8Yv5j"
      },
      "source": [
        "# Reduce the accuracy to same scale as other metrics\n",
        "all_model_results[\"accuracy\"] = all_model_results[\"accuracy\"]/100"
      ],
      "execution_count": null,
      "outputs": []
    },
    {
      "cell_type": "code",
      "metadata": {
        "colab": {
          "base_uri": "https://localhost:8080/",
          "height": 617
        },
        "id": "_x2GC2YvZvBd",
        "outputId": "654f7c56-e4cd-451b-d1c7-3bbb9ea3c1f1"
      },
      "source": [
        "# plot the reults \n",
        "all_model_results.plot(kind=\"bar\" , figsize=(10,7)).legend(bbox_to_anchor=(1.0,1.0));"
      ],
      "execution_count": null,
      "outputs": [
        {
          "output_type": "display_data",
          "data": {
            "image/png": "[encoded data removed]",
            "text/plain": [
              "<Figure size 720x504 with 1 Axes>"
            ]
          },
          "metadata": {
            "needs_background": "light"
          }
        }
      ]
    },
    {
      "cell_type": "code",
      "metadata": {
        "colab": {
          "base_uri": "https://localhost:8080/",
          "height": 634
        },
        "id": "jVQbsg9maEYL",
        "outputId": "db4620e6-72dc-43b3-cfd5-c82bb07c6325"
      },
      "source": [
        "# Sort the model resuts by F1-score\n",
        "all_model_results.sort_values(\"f1\" , ascending=True)[\"f1\"].plot(kind=\"bar\" , figsize=(10,7))"
      ],
      "execution_count": null,
      "outputs": [
        {
          "output_type": "execute_result",
          "data": {
            "text/plain": [
              "<matplotlib.axes._subplots.AxesSubplot at 0x7f4cbc16fd10>"
            ]
          },
          "metadata": {},
          "execution_count": 176
        },
        {
          "output_type": "display_data",
          "data": {
            "image/png": "[encoded data removed]",
            "text/plain": [
              "<Figure size 720x504 with 1 Axes>"
            ]
          },
          "metadata": {
            "needs_background": "light"
          }
        }
      ]
    },
    {
      "cell_type": "markdown",
      "metadata": {
        "id": "WoAEE0B8auGB"
      },
      "source": [
        "## Save and Reload our best model"
      ]
    },
    {
      "cell_type": "code",
      "metadata": {
        "colab": {
          "base_uri": "https://localhost:8080/"
        },
        "id": "bTRxBHtqakP-",
        "outputId": "f52b9bef-c56d-4885-aa93-095aaba6e47c"
      },
      "source": [
        "model_5.save(\"model_5_pos_char_token\")"
      ],
      "execution_count": null,
      "outputs": [
        {
          "output_type": "stream",
          "name": "stderr",
          "text": [
            "WARNING:absl:Found untraced functions such as lstm_cell_7_layer_call_fn, lstm_cell_7_layer_call_and_return_conditional_losses, lstm_cell_8_layer_call_fn, lstm_cell_8_layer_call_and_return_conditional_losses, lstm_cell_7_layer_call_fn while saving (showing 5 of 10). These functions will not be directly callable after loading.\n"
          ]
        },
        {
          "output_type": "stream",
          "name": "stdout",
          "text": [
            "INFO:tensorflow:Assets written to: model_5_pos_char_token/assets\n"
          ]
        },
        {
          "output_type": "stream",
          "name": "stderr",
          "text": [
            "INFO:tensorflow:Assets written to: model_5_pos_char_token/assets\n"
          ]
        }
      ]
    },
    {
      "cell_type": "code",
      "metadata": {
        "colab": {
          "base_uri": "https://localhost:8080/",
          "height": 391
        },
        "id": "CkNiJFfhbGMI",
        "outputId": "299b22da-f9ed-40ce-f0b6-4f73d0c734fa"
      },
      "source": [
        "model_5_loaded = tf.keras.models.load_model(\"model_5_pos_char_token\")"
      ],
      "execution_count": null,
      "outputs": [
        {
          "output_type": "error",
          "ename": "ValueError",
          "evalue": "ignored",
          "traceback": [
            "\u001b[0;31m---------------------------------------------------------------------------\u001b[0m",
            "\u001b[0;31mValueError\u001b[0m                                Traceback (most recent call last)",
            "\u001b[0;32m<ipython-input-180-fe515819872f>\u001b[0m in \u001b[0;36m<module>\u001b[0;34m()\u001b[0m\n\u001b[0;32m----> 1\u001b[0;31m \u001b[0mmodel_5_loaded\u001b[0m \u001b[0;34m=\u001b[0m \u001b[0mtf\u001b[0m\u001b[0;34m.\u001b[0m\u001b[0mkeras\u001b[0m\u001b[0;34m.\u001b[0m\u001b[0mmodels\u001b[0m\u001b[0;34m.\u001b[0m\u001b[0mload_model\u001b[0m\u001b[0;34m(\u001b[0m\u001b[0;34m\"model_5_pos_char_token\"\u001b[0m\u001b[0;34m)\u001b[0m\u001b[0;34m\u001b[0m\u001b[0;34m\u001b[0m\u001b[0m\n\u001b[0m",
            "\u001b[0;32m/usr/local/lib/python3.7/dist-packages/keras/saving/save.py\u001b[0m in \u001b[0;36mload_model\u001b[0;34m(filepath, custom_objects, compile, options)\u001b[0m\n\u001b[1;32m    203\u001b[0m         \u001b[0mfilepath\u001b[0m \u001b[0;34m=\u001b[0m \u001b[0mpath_to_string\u001b[0m\u001b[0;34m(\u001b[0m\u001b[0mfilepath\u001b[0m\u001b[0;34m)\u001b[0m\u001b[0;34m\u001b[0m\u001b[0;34m\u001b[0m\u001b[0m\n\u001b[1;32m    204\u001b[0m         \u001b[0;32mif\u001b[0m \u001b[0misinstance\u001b[0m\u001b[0;34m(\u001b[0m\u001b[0mfilepath\u001b[0m\u001b[0;34m,\u001b[0m \u001b[0mstr\u001b[0m\u001b[0;34m)\u001b[0m\u001b[0;34m:\u001b[0m\u001b[0;34m\u001b[0m\u001b[0;34m\u001b[0m\u001b[0m\n\u001b[0;32m--> 205\u001b[0;31m           \u001b[0;32mreturn\u001b[0m \u001b[0msaved_model_load\u001b[0m\u001b[0;34m.\u001b[0m\u001b[0mload\u001b[0m\u001b[0;34m(\u001b[0m\u001b[0mfilepath\u001b[0m\u001b[0;34m,\u001b[0m \u001b[0mcompile\u001b[0m\u001b[0;34m,\u001b[0m \u001b[0moptions\u001b[0m\u001b[0;34m)\u001b[0m\u001b[0;34m\u001b[0m\u001b[0;34m\u001b[0m\u001b[0m\n\u001b[0m\u001b[1;32m    206\u001b[0m \u001b[0;34m\u001b[0m\u001b[0m\n\u001b[1;32m    207\u001b[0m   raise IOError(\n",
            "\u001b[0;32m/usr/local/lib/python3.7/dist-packages/keras/saving/saved_model/load.py\u001b[0m in \u001b[0;36mload\u001b[0;34m(path, compile, options)\u001b[0m\n\u001b[1;32m    141\u001b[0m \u001b[0;34m\u001b[0m\u001b[0m\n\u001b[1;32m    142\u001b[0m   \u001b[0;31m# Finalize the loaded layers and remove the extra tracked dependencies.\u001b[0m\u001b[0;34m\u001b[0m\u001b[0;34m\u001b[0m\u001b[0;34m\u001b[0m\u001b[0m\n\u001b[0;32m--> 143\u001b[0;31m   \u001b[0mkeras_loader\u001b[0m\u001b[0;34m.\u001b[0m\u001b[0mfinalize_objects\u001b[0m\u001b[0;34m(\u001b[0m\u001b[0;34m)\u001b[0m\u001b[0;34m\u001b[0m\u001b[0;34m\u001b[0m\u001b[0m\n\u001b[0m\u001b[1;32m    144\u001b[0m   \u001b[0mkeras_loader\u001b[0m\u001b[0;34m.\u001b[0m\u001b[0mdel_tracking\u001b[0m\u001b[0;34m(\u001b[0m\u001b[0;34m)\u001b[0m\u001b[0;34m\u001b[0m\u001b[0;34m\u001b[0m\u001b[0m\n\u001b[1;32m    145\u001b[0m \u001b[0;34m\u001b[0m\u001b[0m\n",
            "\u001b[0;32m/usr/local/lib/python3.7/dist-packages/keras/saving/saved_model/load.py\u001b[0m in \u001b[0;36mfinalize_objects\u001b[0;34m(self)\u001b[0m\n\u001b[1;32m    642\u001b[0m \u001b[0;34m\u001b[0m\u001b[0m\n\u001b[1;32m    643\u001b[0m     \u001b[0;31m# Initialize graph networks, now that layer dependencies have been resolved.\u001b[0m\u001b[0;34m\u001b[0m\u001b[0;34m\u001b[0m\u001b[0;34m\u001b[0m\u001b[0m\n\u001b[0;32m--> 644\u001b[0;31m     \u001b[0mself\u001b[0m\u001b[0;34m.\u001b[0m\u001b[0m_reconstruct_all_models\u001b[0m\u001b[0;34m(\u001b[0m\u001b[0;34m)\u001b[0m\u001b[0;34m\u001b[0m\u001b[0;34m\u001b[0m\u001b[0m\n\u001b[0m\u001b[1;32m    645\u001b[0m \u001b[0;34m\u001b[0m\u001b[0m\n\u001b[1;32m    646\u001b[0m   \u001b[0;32mdef\u001b[0m \u001b[0m_unblock_model_reconstruction\u001b[0m\u001b[0;34m(\u001b[0m\u001b[0mself\u001b[0m\u001b[0;34m,\u001b[0m \u001b[0mlayer_id\u001b[0m\u001b[0;34m,\u001b[0m \u001b[0mlayer\u001b[0m\u001b[0;34m)\u001b[0m\u001b[0;34m:\u001b[0m\u001b[0;34m\u001b[0m\u001b[0;34m\u001b[0m\u001b[0m\n",
            "\u001b[0;32m/usr/local/lib/python3.7/dist-packages/keras/saving/saved_model/load.py\u001b[0m in \u001b[0;36m_reconstruct_all_models\u001b[0;34m(self)\u001b[0m\n\u001b[1;32m    661\u001b[0m       \u001b[0mall_initialized_models\u001b[0m\u001b[0;34m.\u001b[0m\u001b[0madd\u001b[0m\u001b[0;34m(\u001b[0m\u001b[0mmodel_id\u001b[0m\u001b[0;34m)\u001b[0m\u001b[0;34m\u001b[0m\u001b[0;34m\u001b[0m\u001b[0m\n\u001b[1;32m    662\u001b[0m       \u001b[0mmodel\u001b[0m\u001b[0;34m,\u001b[0m \u001b[0mlayers\u001b[0m \u001b[0;34m=\u001b[0m \u001b[0mself\u001b[0m\u001b[0;34m.\u001b[0m\u001b[0mmodel_layer_dependencies\u001b[0m\u001b[0;34m[\u001b[0m\u001b[0mmodel_id\u001b[0m\u001b[0;34m]\u001b[0m\u001b[0;34m\u001b[0m\u001b[0;34m\u001b[0m\u001b[0m\n\u001b[0;32m--> 663\u001b[0;31m       \u001b[0mself\u001b[0m\u001b[0;34m.\u001b[0m\u001b[0m_reconstruct_model\u001b[0m\u001b[0;34m(\u001b[0m\u001b[0mmodel_id\u001b[0m\u001b[0;34m,\u001b[0m \u001b[0mmodel\u001b[0m\u001b[0;34m,\u001b[0m \u001b[0mlayers\u001b[0m\u001b[0;34m)\u001b[0m\u001b[0;34m\u001b[0m\u001b[0;34m\u001b[0m\u001b[0m\n\u001b[0m\u001b[1;32m    664\u001b[0m       \u001b[0m_finalize_config_layers\u001b[0m\u001b[0;34m(\u001b[0m\u001b[0;34m[\u001b[0m\u001b[0mmodel\u001b[0m\u001b[0;34m]\u001b[0m\u001b[0;34m)\u001b[0m\u001b[0;34m\u001b[0m\u001b[0;34m\u001b[0m\u001b[0m\n\u001b[1;32m    665\u001b[0m \u001b[0;34m\u001b[0m\u001b[0m\n",
            "\u001b[0;32m/usr/local/lib/python3.7/dist-packages/keras/saving/saved_model/load.py\u001b[0m in \u001b[0;36m_reconstruct_model\u001b[0;34m(self, model_id, model, layers)\u001b[0m\n\u001b[1;32m    707\u001b[0m       (inputs, outputs,\n\u001b[1;32m    708\u001b[0m        \u001b[0mcreated_layers\u001b[0m\u001b[0;34m)\u001b[0m \u001b[0;34m=\u001b[0m \u001b[0mfunctional_lib\u001b[0m\u001b[0;34m.\u001b[0m\u001b[0mreconstruct_from_config\u001b[0m\u001b[0;34m(\u001b[0m\u001b[0;34m\u001b[0m\u001b[0;34m\u001b[0m\u001b[0m\n\u001b[0;32m--> 709\u001b[0;31m            config, created_layers={layer.name: layer for layer in layers})\n\u001b[0m\u001b[1;32m    710\u001b[0m       \u001b[0mmodel\u001b[0m\u001b[0;34m.\u001b[0m\u001b[0m__init__\u001b[0m\u001b[0;34m(\u001b[0m\u001b[0minputs\u001b[0m\u001b[0;34m,\u001b[0m \u001b[0moutputs\u001b[0m\u001b[0;34m,\u001b[0m \u001b[0mname\u001b[0m\u001b[0;34m=\u001b[0m\u001b[0mconfig\u001b[0m\u001b[0;34m[\u001b[0m\u001b[0;34m'name'\u001b[0m\u001b[0;34m]\u001b[0m\u001b[0;34m)\u001b[0m\u001b[0;34m\u001b[0m\u001b[0;34m\u001b[0m\u001b[0m\n\u001b[1;32m    711\u001b[0m       \u001b[0mfunctional_lib\u001b[0m\u001b[0;34m.\u001b[0m\u001b[0mconnect_ancillary_layers\u001b[0m\u001b[0;34m(\u001b[0m\u001b[0mmodel\u001b[0m\u001b[0;34m,\u001b[0m \u001b[0mcreated_layers\u001b[0m\u001b[0;34m)\u001b[0m\u001b[0;34m\u001b[0m\u001b[0;34m\u001b[0m\u001b[0m\n",
            "\u001b[0;32m/usr/local/lib/python3.7/dist-packages/keras/engine/functional.py\u001b[0m in \u001b[0;36mreconstruct_from_config\u001b[0;34m(config, custom_objects, created_layers)\u001b[0m\n\u001b[1;32m   1281\u001b[0m       \u001b[0;32mif\u001b[0m \u001b[0mlayer\u001b[0m \u001b[0;32min\u001b[0m \u001b[0munprocessed_nodes\u001b[0m\u001b[0;34m:\u001b[0m\u001b[0;34m\u001b[0m\u001b[0;34m\u001b[0m\u001b[0m\n\u001b[1;32m   1282\u001b[0m         \u001b[0;32mfor\u001b[0m \u001b[0mnode_data\u001b[0m \u001b[0;32min\u001b[0m \u001b[0munprocessed_nodes\u001b[0m\u001b[0;34m.\u001b[0m\u001b[0mpop\u001b[0m\u001b[0;34m(\u001b[0m\u001b[0mlayer\u001b[0m\u001b[0;34m)\u001b[0m\u001b[0;34m:\u001b[0m\u001b[0;34m\u001b[0m\u001b[0;34m\u001b[0m\u001b[0m\n\u001b[0;32m-> 1283\u001b[0;31m           \u001b[0mprocess_node\u001b[0m\u001b[0;34m(\u001b[0m\u001b[0mlayer\u001b[0m\u001b[0;34m,\u001b[0m \u001b[0mnode_data\u001b[0m\u001b[0;34m)\u001b[0m\u001b[0;34m\u001b[0m\u001b[0;34m\u001b[0m\u001b[0m\n\u001b[0m\u001b[1;32m   1284\u001b[0m \u001b[0;34m\u001b[0m\u001b[0m\n\u001b[1;32m   1285\u001b[0m   \u001b[0minput_tensors\u001b[0m \u001b[0;34m=\u001b[0m \u001b[0;34m[\u001b[0m\u001b[0;34m]\u001b[0m\u001b[0;34m\u001b[0m\u001b[0;34m\u001b[0m\u001b[0m\n",
            "\u001b[0;32m/usr/local/lib/python3.7/dist-packages/keras/engine/functional.py\u001b[0m in \u001b[0;36mprocess_node\u001b[0;34m(layer, node_data)\u001b[0m\n\u001b[1;32m   1229\u001b[0m         input_tensors = (\n\u001b[1;32m   1230\u001b[0m             base_layer_utils.unnest_if_single_tensor(input_tensors))\n\u001b[0;32m-> 1231\u001b[0;31m       \u001b[0moutput_tensors\u001b[0m \u001b[0;34m=\u001b[0m \u001b[0mlayer\u001b[0m\u001b[0;34m(\u001b[0m\u001b[0minput_tensors\u001b[0m\u001b[0;34m,\u001b[0m \u001b[0;34m**\u001b[0m\u001b[0mkwargs\u001b[0m\u001b[0;34m)\u001b[0m\u001b[0;34m\u001b[0m\u001b[0;34m\u001b[0m\u001b[0m\n\u001b[0m\u001b[1;32m   1232\u001b[0m \u001b[0;34m\u001b[0m\u001b[0m\n\u001b[1;32m   1233\u001b[0m       \u001b[0;31m# Update node index map.\u001b[0m\u001b[0;34m\u001b[0m\u001b[0;34m\u001b[0m\u001b[0;34m\u001b[0m\u001b[0m\n",
            "\u001b[0;32m/usr/local/lib/python3.7/dist-packages/keras/layers/wrappers.py\u001b[0m in \u001b[0;36m__call__\u001b[0;34m(self, inputs, initial_state, constants, **kwargs)\u001b[0m\n\u001b[1;32m    581\u001b[0m \u001b[0;34m\u001b[0m\u001b[0m\n\u001b[1;32m    582\u001b[0m     \u001b[0;32mif\u001b[0m \u001b[0minitial_state\u001b[0m \u001b[0;32mis\u001b[0m \u001b[0;32mNone\u001b[0m \u001b[0;32mand\u001b[0m \u001b[0mconstants\u001b[0m \u001b[0;32mis\u001b[0m \u001b[0;32mNone\u001b[0m\u001b[0;34m:\u001b[0m\u001b[0;34m\u001b[0m\u001b[0;34m\u001b[0m\u001b[0m\n\u001b[0;32m--> 583\u001b[0;31m       \u001b[0;32mreturn\u001b[0m \u001b[0msuper\u001b[0m\u001b[0;34m(\u001b[0m\u001b[0mBidirectional\u001b[0m\u001b[0;34m,\u001b[0m \u001b[0mself\u001b[0m\u001b[0;34m)\u001b[0m\u001b[0;34m.\u001b[0m\u001b[0m__call__\u001b[0m\u001b[0;34m(\u001b[0m\u001b[0minputs\u001b[0m\u001b[0;34m,\u001b[0m \u001b[0;34m**\u001b[0m\u001b[0mkwargs\u001b[0m\u001b[0;34m)\u001b[0m\u001b[0;34m\u001b[0m\u001b[0;34m\u001b[0m\u001b[0m\n\u001b[0m\u001b[1;32m    584\u001b[0m \u001b[0;34m\u001b[0m\u001b[0m\n\u001b[1;32m    585\u001b[0m     \u001b[0;31m# Applies the same workaround as in `RNN.__call__`\u001b[0m\u001b[0;34m\u001b[0m\u001b[0;34m\u001b[0m\u001b[0;34m\u001b[0m\u001b[0m\n",
            "\u001b[0;32m/usr/local/lib/python3.7/dist-packages/keras/engine/base_layer.py\u001b[0m in \u001b[0;36m__call__\u001b[0;34m(self, *args, **kwargs)\u001b[0m\n\u001b[1;32m    975\u001b[0m     \u001b[0;32mif\u001b[0m \u001b[0m_in_functional_construction_mode\u001b[0m\u001b[0;34m(\u001b[0m\u001b[0mself\u001b[0m\u001b[0;34m,\u001b[0m \u001b[0minputs\u001b[0m\u001b[0;34m,\u001b[0m \u001b[0margs\u001b[0m\u001b[0;34m,\u001b[0m \u001b[0mkwargs\u001b[0m\u001b[0;34m,\u001b[0m \u001b[0minput_list\u001b[0m\u001b[0;34m)\u001b[0m\u001b[0;34m:\u001b[0m\u001b[0;34m\u001b[0m\u001b[0;34m\u001b[0m\u001b[0m\n\u001b[1;32m    976\u001b[0m       return self._functional_construction_call(inputs, args, kwargs,\n\u001b[0;32m--> 977\u001b[0;31m                                                 input_list)\n\u001b[0m\u001b[1;32m    978\u001b[0m \u001b[0;34m\u001b[0m\u001b[0m\n\u001b[1;32m    979\u001b[0m     \u001b[0;31m# Maintains info about the `Layer.call` stack.\u001b[0m\u001b[0;34m\u001b[0m\u001b[0;34m\u001b[0m\u001b[0;34m\u001b[0m\u001b[0m\n",
            "\u001b[0;32m/usr/local/lib/python3.7/dist-packages/keras/engine/base_layer.py\u001b[0m in \u001b[0;36m_functional_construction_call\u001b[0;34m(self, inputs, args, kwargs, input_list)\u001b[0m\n\u001b[1;32m   1113\u001b[0m       \u001b[0;31m# Check input assumptions set after layer building, e.g. input shape.\u001b[0m\u001b[0;34m\u001b[0m\u001b[0;34m\u001b[0m\u001b[0;34m\u001b[0m\u001b[0m\n\u001b[1;32m   1114\u001b[0m       outputs = self._keras_tensor_symbolic_call(\n\u001b[0;32m-> 1115\u001b[0;31m           inputs, input_masks, args, kwargs)\n\u001b[0m\u001b[1;32m   1116\u001b[0m \u001b[0;34m\u001b[0m\u001b[0m\n\u001b[1;32m   1117\u001b[0m       \u001b[0;32mif\u001b[0m \u001b[0moutputs\u001b[0m \u001b[0;32mis\u001b[0m \u001b[0;32mNone\u001b[0m\u001b[0;34m:\u001b[0m\u001b[0;34m\u001b[0m\u001b[0;34m\u001b[0m\u001b[0m\n",
            "\u001b[0;32m/usr/local/lib/python3.7/dist-packages/keras/engine/base_layer.py\u001b[0m in \u001b[0;36m_keras_tensor_symbolic_call\u001b[0;34m(self, inputs, input_masks, args, kwargs)\u001b[0m\n\u001b[1;32m    846\u001b[0m       \u001b[0;32mreturn\u001b[0m \u001b[0mtf\u001b[0m\u001b[0;34m.\u001b[0m\u001b[0mnest\u001b[0m\u001b[0;34m.\u001b[0m\u001b[0mmap_structure\u001b[0m\u001b[0;34m(\u001b[0m\u001b[0mkeras_tensor\u001b[0m\u001b[0;34m.\u001b[0m\u001b[0mKerasTensor\u001b[0m\u001b[0;34m,\u001b[0m \u001b[0moutput_signature\u001b[0m\u001b[0;34m)\u001b[0m\u001b[0;34m\u001b[0m\u001b[0;34m\u001b[0m\u001b[0m\n\u001b[1;32m    847\u001b[0m     \u001b[0;32melse\u001b[0m\u001b[0;34m:\u001b[0m\u001b[0;34m\u001b[0m\u001b[0;34m\u001b[0m\u001b[0m\n\u001b[0;32m--> 848\u001b[0;31m       \u001b[0;32mreturn\u001b[0m \u001b[0mself\u001b[0m\u001b[0;34m.\u001b[0m\u001b[0m_infer_output_signature\u001b[0m\u001b[0;34m(\u001b[0m\u001b[0minputs\u001b[0m\u001b[0;34m,\u001b[0m \u001b[0margs\u001b[0m\u001b[0;34m,\u001b[0m \u001b[0mkwargs\u001b[0m\u001b[0;34m,\u001b[0m \u001b[0minput_masks\u001b[0m\u001b[0;34m)\u001b[0m\u001b[0;34m\u001b[0m\u001b[0;34m\u001b[0m\u001b[0m\n\u001b[0m\u001b[1;32m    849\u001b[0m \u001b[0;34m\u001b[0m\u001b[0m\n\u001b[1;32m    850\u001b[0m   \u001b[0;32mdef\u001b[0m \u001b[0m_infer_output_signature\u001b[0m\u001b[0;34m(\u001b[0m\u001b[0mself\u001b[0m\u001b[0;34m,\u001b[0m \u001b[0minputs\u001b[0m\u001b[0;34m,\u001b[0m \u001b[0margs\u001b[0m\u001b[0;34m,\u001b[0m \u001b[0mkwargs\u001b[0m\u001b[0;34m,\u001b[0m \u001b[0minput_masks\u001b[0m\u001b[0;34m)\u001b[0m\u001b[0;34m:\u001b[0m\u001b[0;34m\u001b[0m\u001b[0;34m\u001b[0m\u001b[0m\n",
            "\u001b[0;32m/usr/local/lib/python3.7/dist-packages/keras/engine/base_layer.py\u001b[0m in \u001b[0;36m_infer_output_signature\u001b[0;34m(self, inputs, args, kwargs, input_masks)\u001b[0m\n\u001b[1;32m    886\u001b[0m           \u001b[0mself\u001b[0m\u001b[0;34m.\u001b[0m\u001b[0m_maybe_build\u001b[0m\u001b[0;34m(\u001b[0m\u001b[0minputs\u001b[0m\u001b[0;34m)\u001b[0m\u001b[0;34m\u001b[0m\u001b[0;34m\u001b[0m\u001b[0m\n\u001b[1;32m    887\u001b[0m           \u001b[0minputs\u001b[0m \u001b[0;34m=\u001b[0m \u001b[0mself\u001b[0m\u001b[0;34m.\u001b[0m\u001b[0m_maybe_cast_inputs\u001b[0m\u001b[0;34m(\u001b[0m\u001b[0minputs\u001b[0m\u001b[0;34m)\u001b[0m\u001b[0;34m\u001b[0m\u001b[0;34m\u001b[0m\u001b[0m\n\u001b[0;32m--> 888\u001b[0;31m           \u001b[0moutputs\u001b[0m \u001b[0;34m=\u001b[0m \u001b[0mcall_fn\u001b[0m\u001b[0;34m(\u001b[0m\u001b[0minputs\u001b[0m\u001b[0;34m,\u001b[0m \u001b[0;34m*\u001b[0m\u001b[0margs\u001b[0m\u001b[0;34m,\u001b[0m \u001b[0;34m**\u001b[0m\u001b[0mkwargs\u001b[0m\u001b[0;34m)\u001b[0m\u001b[0;34m\u001b[0m\u001b[0;34m\u001b[0m\u001b[0m\n\u001b[0m\u001b[1;32m    889\u001b[0m \u001b[0;34m\u001b[0m\u001b[0m\n\u001b[1;32m    890\u001b[0m         \u001b[0mself\u001b[0m\u001b[0;34m.\u001b[0m\u001b[0m_handle_activity_regularization\u001b[0m\u001b[0;34m(\u001b[0m\u001b[0minputs\u001b[0m\u001b[0;34m,\u001b[0m \u001b[0moutputs\u001b[0m\u001b[0;34m)\u001b[0m\u001b[0;34m\u001b[0m\u001b[0;34m\u001b[0m\u001b[0m\n",
            "\u001b[0;32m/usr/local/lib/python3.7/dist-packages/keras/layers/wrappers.py\u001b[0m in \u001b[0;36mcall\u001b[0;34m(self, inputs, training, mask, initial_state, constants)\u001b[0m\n\u001b[1;32m    697\u001b[0m \u001b[0;34m\u001b[0m\u001b[0m\n\u001b[1;32m    698\u001b[0m       y = self.forward_layer(forward_inputs,\n\u001b[0;32m--> 699\u001b[0;31m                              initial_state=forward_state, **kwargs)\n\u001b[0m\u001b[1;32m    700\u001b[0m       y_rev = self.backward_layer(backward_inputs,\n\u001b[1;32m    701\u001b[0m                                   initial_state=backward_state, **kwargs)\n",
            "\u001b[0;32m/usr/local/lib/python3.7/dist-packages/keras/layers/recurrent.py\u001b[0m in \u001b[0;36m__call__\u001b[0;34m(self, inputs, initial_state, constants, **kwargs)\u001b[0m\n\u001b[1;32m    657\u001b[0m \u001b[0;34m\u001b[0m\u001b[0m\n\u001b[1;32m    658\u001b[0m     \u001b[0;32mif\u001b[0m \u001b[0minitial_state\u001b[0m \u001b[0;32mis\u001b[0m \u001b[0;32mNone\u001b[0m \u001b[0;32mand\u001b[0m \u001b[0mconstants\u001b[0m \u001b[0;32mis\u001b[0m \u001b[0;32mNone\u001b[0m\u001b[0;34m:\u001b[0m\u001b[0;34m\u001b[0m\u001b[0;34m\u001b[0m\u001b[0m\n\u001b[0;32m--> 659\u001b[0;31m       \u001b[0;32mreturn\u001b[0m \u001b[0msuper\u001b[0m\u001b[0;34m(\u001b[0m\u001b[0mRNN\u001b[0m\u001b[0;34m,\u001b[0m \u001b[0mself\u001b[0m\u001b[0;34m)\u001b[0m\u001b[0;34m.\u001b[0m\u001b[0m__call__\u001b[0m\u001b[0;34m(\u001b[0m\u001b[0minputs\u001b[0m\u001b[0;34m,\u001b[0m \u001b[0;34m**\u001b[0m\u001b[0mkwargs\u001b[0m\u001b[0;34m)\u001b[0m\u001b[0;34m\u001b[0m\u001b[0;34m\u001b[0m\u001b[0m\n\u001b[0m\u001b[1;32m    660\u001b[0m \u001b[0;34m\u001b[0m\u001b[0m\n\u001b[1;32m    661\u001b[0m     \u001b[0;31m# If any of `initial_state` or `constants` are specified and are Keras\u001b[0m\u001b[0;34m\u001b[0m\u001b[0;34m\u001b[0m\u001b[0;34m\u001b[0m\u001b[0m\n",
            "\u001b[0;32m/usr/local/lib/python3.7/dist-packages/keras/engine/base_layer.py\u001b[0m in \u001b[0;36m__call__\u001b[0;34m(self, *args, **kwargs)\u001b[0m\n\u001b[1;32m   1035\u001b[0m         with autocast_variable.enable_auto_cast_variables(\n\u001b[1;32m   1036\u001b[0m             self._compute_dtype_object):\n\u001b[0;32m-> 1037\u001b[0;31m           \u001b[0moutputs\u001b[0m \u001b[0;34m=\u001b[0m \u001b[0mcall_fn\u001b[0m\u001b[0;34m(\u001b[0m\u001b[0minputs\u001b[0m\u001b[0;34m,\u001b[0m \u001b[0;34m*\u001b[0m\u001b[0margs\u001b[0m\u001b[0;34m,\u001b[0m \u001b[0;34m**\u001b[0m\u001b[0mkwargs\u001b[0m\u001b[0;34m)\u001b[0m\u001b[0;34m\u001b[0m\u001b[0;34m\u001b[0m\u001b[0m\n\u001b[0m\u001b[1;32m   1038\u001b[0m \u001b[0;34m\u001b[0m\u001b[0m\n\u001b[1;32m   1039\u001b[0m         \u001b[0;32mif\u001b[0m \u001b[0mself\u001b[0m\u001b[0;34m.\u001b[0m\u001b[0m_activity_regularizer\u001b[0m\u001b[0;34m:\u001b[0m\u001b[0;34m\u001b[0m\u001b[0;34m\u001b[0m\u001b[0m\n",
            "\u001b[0;32m/usr/local/lib/python3.7/dist-packages/keras/layers/recurrent_v2.py\u001b[0m in \u001b[0;36mcall\u001b[0;34m(self, inputs, mask, training, initial_state)\u001b[0m\n\u001b[1;32m   1134\u001b[0m     \u001b[0minputs\u001b[0m\u001b[0;34m,\u001b[0m \u001b[0mrow_lengths\u001b[0m \u001b[0;34m=\u001b[0m \u001b[0mbackend\u001b[0m\u001b[0;34m.\u001b[0m\u001b[0mconvert_inputs_if_ragged\u001b[0m\u001b[0;34m(\u001b[0m\u001b[0minputs\u001b[0m\u001b[0;34m)\u001b[0m\u001b[0;34m\u001b[0m\u001b[0;34m\u001b[0m\u001b[0m\n\u001b[1;32m   1135\u001b[0m     \u001b[0mis_ragged_input\u001b[0m \u001b[0;34m=\u001b[0m \u001b[0;34m(\u001b[0m\u001b[0mrow_lengths\u001b[0m \u001b[0;32mis\u001b[0m \u001b[0;32mnot\u001b[0m \u001b[0;32mNone\u001b[0m\u001b[0;34m)\u001b[0m\u001b[0;34m\u001b[0m\u001b[0;34m\u001b[0m\u001b[0m\n\u001b[0;32m-> 1136\u001b[0;31m     \u001b[0mself\u001b[0m\u001b[0;34m.\u001b[0m\u001b[0m_validate_args_if_ragged\u001b[0m\u001b[0;34m(\u001b[0m\u001b[0mis_ragged_input\u001b[0m\u001b[0;34m,\u001b[0m \u001b[0mmask\u001b[0m\u001b[0;34m)\u001b[0m\u001b[0;34m\u001b[0m\u001b[0;34m\u001b[0m\u001b[0m\n\u001b[0m\u001b[1;32m   1137\u001b[0m \u001b[0;34m\u001b[0m\u001b[0m\n\u001b[1;32m   1138\u001b[0m     \u001b[0;31m# LSTM does not support constants. Ignore it during process.\u001b[0m\u001b[0;34m\u001b[0m\u001b[0;34m\u001b[0m\u001b[0;34m\u001b[0m\u001b[0m\n",
            "\u001b[0;32m/usr/local/lib/python3.7/dist-packages/keras/layers/recurrent.py\u001b[0m in \u001b[0;36m_validate_args_if_ragged\u001b[0;34m(self, is_ragged_input, mask)\u001b[0m\n\u001b[1;32m    871\u001b[0m     \u001b[0;32mif\u001b[0m \u001b[0mmask\u001b[0m \u001b[0;32mis\u001b[0m \u001b[0;32mnot\u001b[0m \u001b[0;32mNone\u001b[0m\u001b[0;34m:\u001b[0m\u001b[0;34m\u001b[0m\u001b[0;34m\u001b[0m\u001b[0m\n\u001b[1;32m    872\u001b[0m       raise ValueError('The mask that was passed in was ' + str(mask) +\n\u001b[0;32m--> 873\u001b[0;31m                        \u001b[0;34m' and cannot be applied to RaggedTensor inputs. Please '\u001b[0m\u001b[0;34m\u001b[0m\u001b[0;34m\u001b[0m\u001b[0m\n\u001b[0m\u001b[1;32m    874\u001b[0m                        \u001b[0;34m'make sure that there is no mask passed in by upstream '\u001b[0m\u001b[0;34m\u001b[0m\u001b[0;34m\u001b[0m\u001b[0m\n\u001b[1;32m    875\u001b[0m                        'layers.')\n",
            "\u001b[0;31mValueError\u001b[0m: The mask that was passed in was tf.RaggedTensor(values=Tensor(\"Placeholder_2:0\", shape=(None,), dtype=bool), row_splits=Tensor(\"Placeholder_3:0\", shape=(None,), dtype=int64)) and cannot be applied to RaggedTensor inputs. Please make sure that there is no mask passed in by upstream layers."
          ]
        }
      ]
    },
    {
      "cell_type": "markdown",
      "metadata": {
        "id": "fgAsQxRd5ok8"
      },
      "source": [
        "## 🤩 Chalange "
      ]
    },
    {
      "cell_type": "markdown",
      "metadata": {
        "id": "4ygIcM4YKKhd"
      },
      "source": [
        "### Getting Dataset pubmed-rct"
      ]
    },
    {
      "cell_type": "code",
      "metadata": {
        "colab": {
          "base_uri": "https://localhost:8080/"
        },
        "id": "BlPcHloxb0Jj",
        "outputId": "7ee6980f-e8c6-47c4-9ede-99299ac67ee1"
      },
      "source": [
        "!git clone https://github.com/Franck-Dernoncourt/pubmed-rct.git\n",
        "!ls pubmed-rct"
      ],
      "execution_count": null,
      "outputs": [
        {
          "output_type": "stream",
          "name": "stdout",
          "text": [
            "Cloning into 'pubmed-rct'...\n",
            "remote: Enumerating objects: 33, done.\u001b[K\n",
            "remote: Counting objects: 100% (3/3), done.\u001b[K\n",
            "remote: Compressing objects: 100% (3/3), done.\u001b[K\n",
            "remote: Total 33 (delta 0), reused 0 (delta 0), pack-reused 30\u001b[K\n",
            "Unpacking objects: 100% (33/33), done.\n",
            "PubMed_200k_RCT\n",
            "PubMed_200k_RCT_numbers_replaced_with_at_sign\n",
            "PubMed_20k_RCT\n",
            "PubMed_20k_RCT_numbers_replaced_with_at_sign\n",
            "README.md\n"
          ]
        }
      ]
    },
    {
      "cell_type": "code",
      "metadata": {
        "id": "VUEWv0_-6__7"
      },
      "source": [
        "data_dir = \"/content/pubmed-rct/PubMed_20k_RCT_numbers_replaced_with_at_sign/\""
      ],
      "execution_count": null,
      "outputs": []
    },
    {
      "cell_type": "code",
      "metadata": {
        "colab": {
          "base_uri": "https://localhost:8080/"
        },
        "id": "5_bc8g8s7Sxe",
        "outputId": "bdd75745-becb-488c-b4e3-f55cabc49f22"
      },
      "source": [
        "import os \n",
        "filenames  = [data_dir + filename for filename in os.listdir(data_dir)]\n",
        "filenames"
      ],
      "execution_count": null,
      "outputs": [
        {
          "output_type": "execute_result",
          "data": {
            "text/plain": [
              "['/content/pubmed-rct/PubMed_20k_RCT_numbers_replaced_with_at_sign/dev.txt',\n",
              " '/content/pubmed-rct/PubMed_20k_RCT_numbers_replaced_with_at_sign/test.txt',\n",
              " '/content/pubmed-rct/PubMed_20k_RCT_numbers_replaced_with_at_sign/train.txt']"
            ]
          },
          "metadata": {},
          "execution_count": 3
        }
      ]
    },
    {
      "cell_type": "markdown",
      "metadata": {
        "id": "5bbsyUpkKVze"
      },
      "source": [
        "### Preprocess Data"
      ]
    },
    {
      "cell_type": "code",
      "metadata": {
        "id": "sAsgv7Gi7qu5"
      },
      "source": [
        "def get_lines (filename):\n",
        "  with open(filename , \"r\") as f:\n",
        "    return f.readlines()"
      ],
      "execution_count": null,
      "outputs": []
    },
    {
      "cell_type": "code",
      "metadata": {
        "colab": {
          "base_uri": "https://localhost:8080/"
        },
        "id": "VjsUgxhV7_Wk",
        "outputId": "49ede99d-8f86-42af-806a-e53f2672e997"
      },
      "source": [
        "test_lines = get_lines(data_dir + \"test.txt\")\n",
        "test_lines[:20]"
      ],
      "execution_count": null,
      "outputs": [
        {
          "output_type": "execute_result",
          "data": {
            "text/plain": [
              "['###24845963\\n',\n",
              " 'BACKGROUND\\tThis study analyzed liver function abnormalities in heart failure patients admitted with severe acute decompensated heart failure ( ADHF ) .\\n',\n",
              " 'RESULTS\\tA post hoc analysis was conducted with the use of data from the Evaluation Study of Congestive Heart Failure and Pulmonary Artery Catheterization Effectiveness ( ESCAPE ) .\\n',\n",
              " 'RESULTS\\tLiver function tests ( LFTs ) were measured at @ time points from baseline , at discharge , and up to @ months follow-up .\\n',\n",
              " 'RESULTS\\tSurvival analyses were used to assess the association between admission Model of End-Stage Liver Disease Excluding International Normalized Ratio ( MELD-XI ) scores and patient outcome.There was a high prevalence of abnormal baseline ( admission ) LFTs ( albumin @ % , aspartate transaminase @ % , alanine transaminase @ % , and total bilirubin @ % ) .\\n',\n",
              " \"RESULTS\\tThe percentage of patients with abnormal LFTs decreased significantly from baseline to @-months ' follow-up .\\n\",\n",
              " 'RESULTS\\tWhen mean hemodynamic profiles were compared in patients with abnormal versus normal LFTs , elevated total bilirubin was associated with a significantly lower cardiac index ( @ vs @ ; P < @ ) and higher central venous pressure ( @ vs @ ; P = @ ) .\\n',\n",
              " 'RESULTS\\tMultivariable analyses revealed that patients with elevated MELD-XI scores ( @ ) had a @-fold ( hazard ratio@ @ , @ % confidence interval @-@ @ ) increased risk of death , rehospitalization , or transplantation after adjusting for baseline LFTs , age , sex , race , body mass index , diabetes , and systolic blood pressure .\\n',\n",
              " 'CONCLUSIONS\\tAbnormal LFTs are common in the ADHF population and are a dynamic marker of an impaired hemodynamic state .\\n',\n",
              " 'CONCLUSIONS\\tElevated MELD-XI scores are associated with poor outcomes among patients admitted with ADHF .\\n',\n",
              " '\\n',\n",
              " '###24469619\\n',\n",
              " 'BACKGROUND\\tMinimally invasive endovascular aneurysm repair ( EVAR ) could be a surgical technique that improves outcome of patients with ruptured abdominal aortic aneurysm ( rAAA ) .\\n',\n",
              " 'BACKGROUND\\tThe aim of this study was to analyse the cost-effectiveness and cost-utility of EVAR compared with standard open repair ( OR ) in the treatment of rAAA , with costs per @-day and @-month survivor as outcome parameters .\\n',\n",
              " 'METHODS\\tResource use was determined from the Amsterdam Acute Aneurysm ( AJAX ) trial , a multicentre randomized trial comparing EVAR with OR in patients with rAAA .\\n',\n",
              " 'METHODS\\tThe analysis was performed from a provider perspective .\\n',\n",
              " 'METHODS\\tAll costs were calculated as if all patients had been treated in the same hospital ( Onze Lieve Vrouwe Gasthuis , teaching hospital ) .\\n',\n",
              " 'RESULTS\\tA total of @ patients were randomized .\\n',\n",
              " 'RESULTS\\tThe @-day mortality rate was @ per cent after EVAR and @ per cent for OR : absolute risk reduction ( ARR ) @ ( @ per cent confidence interval ( c.i. ) -@ to @ ) per cent .\\n',\n",
              " 'RESULTS\\tAt @months , the total mortality rate for EVAR was @ per cent , compared with @ per cent among those assigned to OR : ARR @ ( -@ to @ ) per cent .\\n']"
            ]
          },
          "metadata": {},
          "execution_count": 5
        }
      ]
    },
    {
      "cell_type": "code",
      "metadata": {
        "id": "V77ztrbm8K30"
      },
      "source": [
        "def preprocess_text_with_line_numbers(filename):\n",
        "    input_lines = get_lines(filename) # get all lines from filename\n",
        "    abstract_lines = \"\" # create an empty abstract\n",
        "    abstract_samples = [] # create an empty list of abstracts\n",
        "    \n",
        "    # Loop through each line in target file\n",
        "    for line in input_lines:\n",
        "      if line.startswith(\"###\"): # check to see if line is an ID line\n",
        "        abstract_id = line\n",
        "        abstract_lines = \"\" # reset abstract string\n",
        "      elif line.isspace(): # check to see if line is a new line\n",
        "        abstract_line_split = abstract_lines.splitlines() # split abstract into separate lines\n",
        "\n",
        "        # Iterate through each line in abstract and count them at the same time\n",
        "        for abstract_line_number, abstract_line in enumerate(abstract_line_split):\n",
        "          line_data = {} # create empty dict to store data from line\n",
        "          target_text_split = abstract_line.split(\"\\t\") # split target label from text\n",
        "          line_data[\"target\"] = target_text_split[0] # get target label\n",
        "          line_data[\"text\"] = target_text_split[1].lower() # get target text and lower it\n",
        "          line_data[\"line_number\"] = abstract_line_number # what number line does the line appear in the abstract?\n",
        "          line_data[\"total_lines\"] = len(abstract_line_split) - 1 # how many total lines are in the abstract? (start from 0)\n",
        "          abstract_samples.append(line_data) # add line data to abstract samples list\n",
        "      \n",
        "      else: # if the above conditions aren't fulfilled, the line contains a labelled sentence\n",
        "        abstract_lines += line\n",
        "    \n",
        "    return abstract_samples"
      ],
      "execution_count": null,
      "outputs": []
    },
    {
      "cell_type": "code",
      "metadata": {
        "colab": {
          "base_uri": "https://localhost:8080/"
        },
        "id": "CXJNo-hc8ijm",
        "outputId": "a298433e-7c5d-4860-fd72-9f1b485d098d"
      },
      "source": [
        "test_samples = preprocess_text_with_line_numbers(data_dir + \"test.txt\")\n",
        "len(test_samples)"
      ],
      "execution_count": null,
      "outputs": [
        {
          "output_type": "execute_result",
          "data": {
            "text/plain": [
              "30135"
            ]
          },
          "metadata": {},
          "execution_count": 7
        }
      ]
    },
    {
      "cell_type": "code",
      "metadata": {
        "colab": {
          "base_uri": "https://localhost:8080/"
        },
        "id": "z_l4whyh83kG",
        "outputId": "cd3d8e00-63fb-4069-d375-f03b5c166a9f"
      },
      "source": [
        "test_samples[:10]"
      ],
      "execution_count": null,
      "outputs": [
        {
          "output_type": "execute_result",
          "data": {
            "text/plain": [
              "[{'line_number': 0,\n",
              "  'target': 'BACKGROUND',\n",
              "  'text': 'this study analyzed liver function abnormalities in heart failure patients admitted with severe acute decompensated heart failure ( adhf ) .',\n",
              "  'total_lines': 8},\n",
              " {'line_number': 1,\n",
              "  'target': 'RESULTS',\n",
              "  'text': 'a post hoc analysis was conducted with the use of data from the evaluation study of congestive heart failure and pulmonary artery catheterization effectiveness ( escape ) .',\n",
              "  'total_lines': 8},\n",
              " {'line_number': 2,\n",
              "  'target': 'RESULTS',\n",
              "  'text': 'liver function tests ( lfts ) were measured at @ time points from baseline , at discharge , and up to @ months follow-up .',\n",
              "  'total_lines': 8},\n",
              " {'line_number': 3,\n",
              "  'target': 'RESULTS',\n",
              "  'text': 'survival analyses were used to assess the association between admission model of end-stage liver disease excluding international normalized ratio ( meld-xi ) scores and patient outcome.there was a high prevalence of abnormal baseline ( admission ) lfts ( albumin @ % , aspartate transaminase @ % , alanine transaminase @ % , and total bilirubin @ % ) .',\n",
              "  'total_lines': 8},\n",
              " {'line_number': 4,\n",
              "  'target': 'RESULTS',\n",
              "  'text': \"the percentage of patients with abnormal lfts decreased significantly from baseline to @-months ' follow-up .\",\n",
              "  'total_lines': 8},\n",
              " {'line_number': 5,\n",
              "  'target': 'RESULTS',\n",
              "  'text': 'when mean hemodynamic profiles were compared in patients with abnormal versus normal lfts , elevated total bilirubin was associated with a significantly lower cardiac index ( @ vs @ ; p < @ ) and higher central venous pressure ( @ vs @ ; p = @ ) .',\n",
              "  'total_lines': 8},\n",
              " {'line_number': 6,\n",
              "  'target': 'RESULTS',\n",
              "  'text': 'multivariable analyses revealed that patients with elevated meld-xi scores ( @ ) had a @-fold ( hazard ratio@ @ , @ % confidence interval @-@ @ ) increased risk of death , rehospitalization , or transplantation after adjusting for baseline lfts , age , sex , race , body mass index , diabetes , and systolic blood pressure .',\n",
              "  'total_lines': 8},\n",
              " {'line_number': 7,\n",
              "  'target': 'CONCLUSIONS',\n",
              "  'text': 'abnormal lfts are common in the adhf population and are a dynamic marker of an impaired hemodynamic state .',\n",
              "  'total_lines': 8},\n",
              " {'line_number': 8,\n",
              "  'target': 'CONCLUSIONS',\n",
              "  'text': 'elevated meld-xi scores are associated with poor outcomes among patients admitted with adhf .',\n",
              "  'total_lines': 8},\n",
              " {'line_number': 0,\n",
              "  'target': 'BACKGROUND',\n",
              "  'text': 'minimally invasive endovascular aneurysm repair ( evar ) could be a surgical technique that improves outcome of patients with ruptured abdominal aortic aneurysm ( raaa ) .',\n",
              "  'total_lines': 12}]"
            ]
          },
          "metadata": {},
          "execution_count": 8
        }
      ]
    },
    {
      "cell_type": "code",
      "metadata": {
        "colab": {
          "base_uri": "https://localhost:8080/",
          "height": 204
        },
        "id": "BsOmVTLV8_nw",
        "outputId": "29e31448-ea59-4466-da2a-9e591b27021b"
      },
      "source": [
        "import pandas as pd\n",
        "test_df = pd.DataFrame(test_samples)\n",
        "test_df.head()"
      ],
      "execution_count": null,
      "outputs": [
        {
          "output_type": "execute_result",
          "data": {
            "text/html": [
              "<div>\n",
              "<style scoped>\n",
              "    .dataframe tbody tr th:only-of-type {\n",
              "        vertical-align: middle;\n",
              "    }\n",
              "\n",
              "    .dataframe tbody tr th {\n",
              "        vertical-align: top;\n",
              "    }\n",
              "\n",
              "    .dataframe thead th {\n",
              "        text-align: right;\n",
              "    }\n",
              "</style>\n",
              "<table border=\"1\" class=\"dataframe\">\n",
              "  <thead>\n",
              "    <tr style=\"text-align: right;\">\n",
              "      <th></th>\n",
              "      <th>target</th>\n",
              "      <th>text</th>\n",
              "      <th>line_number</th>\n",
              "      <th>total_lines</th>\n",
              "    </tr>\n",
              "  </thead>\n",
              "  <tbody>\n",
              "    <tr>\n",
              "      <th>0</th>\n",
              "      <td>BACKGROUND</td>\n",
              "      <td>this study analyzed liver function abnormaliti...</td>\n",
              "      <td>0</td>\n",
              "      <td>8</td>\n",
              "    </tr>\n",
              "    <tr>\n",
              "      <th>1</th>\n",
              "      <td>RESULTS</td>\n",
              "      <td>a post hoc analysis was conducted with the use...</td>\n",
              "      <td>1</td>\n",
              "      <td>8</td>\n",
              "    </tr>\n",
              "    <tr>\n",
              "      <th>2</th>\n",
              "      <td>RESULTS</td>\n",
              "      <td>liver function tests ( lfts ) were measured at...</td>\n",
              "      <td>2</td>\n",
              "      <td>8</td>\n",
              "    </tr>\n",
              "    <tr>\n",
              "      <th>3</th>\n",
              "      <td>RESULTS</td>\n",
              "      <td>survival analyses were used to assess the asso...</td>\n",
              "      <td>3</td>\n",
              "      <td>8</td>\n",
              "    </tr>\n",
              "    <tr>\n",
              "      <th>4</th>\n",
              "      <td>RESULTS</td>\n",
              "      <td>the percentage of patients with abnormal lfts ...</td>\n",
              "      <td>4</td>\n",
              "      <td>8</td>\n",
              "    </tr>\n",
              "  </tbody>\n",
              "</table>\n",
              "</div>"
            ],
            "text/plain": [
              "       target  ... total_lines\n",
              "0  BACKGROUND  ...           8\n",
              "1     RESULTS  ...           8\n",
              "2     RESULTS  ...           8\n",
              "3     RESULTS  ...           8\n",
              "4     RESULTS  ...           8\n",
              "\n",
              "[5 rows x 4 columns]"
            ]
          },
          "metadata": {},
          "execution_count": 9
        }
      ]
    },
    {
      "cell_type": "code",
      "metadata": {
        "colab": {
          "base_uri": "https://localhost:8080/"
        },
        "id": "GS8YFFTj9LwE",
        "outputId": "0111015d-b4a9-441b-c5ca-e64f3275031d"
      },
      "source": [
        "test_sentences = test_df[\"text\"].tolist()\n",
        "test_sentences"
      ],
      "execution_count": null,
      "outputs": [
        {
          "output_type": "execute_result",
          "data": {
            "text/plain": [
              "['this study analyzed liver function abnormalities in heart failure patients admitted with severe acute decompensated heart failure ( adhf ) .',\n",
              " 'a post hoc analysis was conducted with the use of data from the evaluation study of congestive heart failure and pulmonary artery catheterization effectiveness ( escape ) .',\n",
              " 'liver function tests ( lfts ) were measured at @ time points from baseline , at discharge , and up to @ months follow-up .',\n",
              " 'survival analyses were used to assess the association between admission model of end-stage liver disease excluding international normalized ratio ( meld-xi ) scores and patient outcome.there was a high prevalence of abnormal baseline ( admission ) lfts ( albumin @ % , aspartate transaminase @ % , alanine transaminase @ % , and total bilirubin @ % ) .',\n",
              " \"the percentage of patients with abnormal lfts decreased significantly from baseline to @-months ' follow-up .\",\n",
              " 'when mean hemodynamic profiles were compared in patients with abnormal versus normal lfts , elevated total bilirubin was associated with a significantly lower cardiac index ( @ vs @ ; p < @ ) and higher central venous pressure ( @ vs @ ; p = @ ) .',\n",
              " 'multivariable analyses revealed that patients with elevated meld-xi scores ( @ ) had a @-fold ( hazard ratio@ @ , @ % confidence interval @-@ @ ) increased risk of death , rehospitalization , or transplantation after adjusting for baseline lfts , age , sex , race , body mass index , diabetes , and systolic blood pressure .',\n",
              " 'abnormal lfts are common in the adhf population and are a dynamic marker of an impaired hemodynamic state .',\n",
              " 'elevated meld-xi scores are associated with poor outcomes among patients admitted with adhf .',\n",
              " 'minimally invasive endovascular aneurysm repair ( evar ) could be a surgical technique that improves outcome of patients with ruptured abdominal aortic aneurysm ( raaa ) .',\n",
              " 'the aim of this study was to analyse the cost-effectiveness and cost-utility of evar compared with standard open repair ( or ) in the treatment of raaa , with costs per @-day and @-month survivor as outcome parameters .',\n",
              " 'resource use was determined from the amsterdam acute aneurysm ( ajax ) trial , a multicentre randomized trial comparing evar with or in patients with raaa .',\n",
              " 'the analysis was performed from a provider perspective .',\n",
              " 'all costs were calculated as if all patients had been treated in the same hospital ( onze lieve vrouwe gasthuis , teaching hospital ) .',\n",
              " 'a total of @ patients were randomized .',\n",
              " 'the @-day mortality rate was @ per cent after evar and @ per cent for or : absolute risk reduction ( arr ) @ ( @ per cent confidence interval ( c.i. ) -@ to @ ) per cent .',\n",
              " 'at @months , the total mortality rate for evar was @ per cent , compared with @ per cent among those assigned to or : arr @ ( -@ to @ ) per cent .',\n",
              " 'the mean cost difference between evar and or was @ ( @ per cent c.i. -@ to @,@ ) at @days and @,@ ( -@ to @,@ ) at @months .',\n",
              " 'the incremental cost-effectiveness ratio per prevented death was @,@ at @days and @,@ at @months .',\n",
              " 'there was no significant difference in quality of life between evar and or .',\n",
              " 'nor was evar superior regarding cost-utility .',\n",
              " 'evar may be more effective for raaa , but its increased costs mean that it is unaffordable based on current standards of societal willingness-to-pay for health gains .',\n",
              " 'evidence suggests that individuals with social anxiety demonstrate vigilance to social threat , whilst the peptide hormone oxytocin is widely accepted as supporting affiliative behaviour in humans .',\n",
              " 'this study investigated whether oxytocin can affect attentional bias in social anxiety .',\n",
              " 'in a double-blind , randomized , placebo-controlled , within-group study design , @ healthy and @ highly socially anxious ( hsa ) male volunteers ( within the hsa group , @ were diagnosed with generalized social anxiety disorder ) were administered @ iu of oxytocin or placebo to investigate attentional processing in social anxiety .',\n",
              " 'attentional bias was assessed using the dot-probe paradigm with angry , fearful , happy and neutral face stimuli .',\n",
              " 'in the baseline placebo condition , the hsa group showed greater attentional bias for emotional faces than healthy individuals .',\n",
              " 'oxytocin reduced the difference between hsa and non-socially anxious individuals in attentional bias for emotional faces .',\n",
              " 'moreover , it appeared to normalize attentional bias in hsa individuals to levels seen in the healthy population in the baseline condition .',\n",
              " 'the biological mechanisms by which oxytocin may be exerting these effects are discussed .',\n",
              " 'these results , coupled with previous research , could indicate a potential therapeutic use of this hormone in treatment for social anxiety .',\n",
              " 'exposure to diesel exhaust causes inflammatory responses .',\n",
              " 'previous controlled exposure studies at a concentration of @ g/m ( @ ) of diesel exhaust particles mainly lasted for @ h.',\n",
              " 'we prolonged the exposure period and investigated how quickly diesel exhaust can induce respiratory and systemic effects .',\n",
              " 'eighteen healthy volunteers were exposed twice to diluted diesel exhaust ( pm@ ~ @ g/m ( @ ) ) and twice to filtered air ( pm@ ~ @ g/m ( @ ) ) for @ h , seated , in a chamber with a double-blind set-up .',\n",
              " 'immediately before and after exposure , we performed a medical examination , spirometry , rhinometry , nasal lavage and blood sampling .',\n",
              " 'nasal lavage and blood samples were collected again @ h post-exposure .',\n",
              " 'symptom scores and peak expiratory flow ( pef ) were assessed before exposure , and at @ , @ , and @ min of exposure .',\n",
              " 'self-rated throat irritation was higher during diesel exhaust than filtered air exposure .',\n",
              " 'clinical signs of irritation in the upper airways were also significantly more common after diesel exhaust exposure ( odds ratio = @ , p < @ ) .',\n",
              " 'pef increased during filtered air , but decreased during diesel exhaust exposure , with a statistically significant difference at @ min ( +@ l/min vs. -@ l/min , p = @ ) .',\n",
              " 'monocyte and total leukocyte counts in peripheral blood were higher after exposure to diesel exhaust than filtered air @ h post-exposure , and a trend ( p = @ ) towards increased serum il-@ concentrations was also observed @ h post-exposure .',\n",
              " 'diesel exhaust induced acute adverse effects such as symptoms and signs of irritation , decreased pef , inflammatory markers in healthy volunteers .',\n",
              " 'the effects were first seen at @ min of exposure .',\n",
              " 'depressive disorders are one of the leading components of the global burden of disease with a prevalence of up to @ % in the general population .',\n",
              " 'numerous studies have demonstrated that pharmacotherapy combined with non-pharmacological measures offer the best treatment approach .',\n",
              " 'psycho-education as an intervention has been studied mostly in disorders such as schizophrenia and dementia , less so in depressive disorders .',\n",
              " 'the present study aimed to assess the impact of psycho-education of patients and their caregivers on the outcome of depression .',\n",
              " 'a total of @ eligible depressed subjects were recruited and randomised into @ groups .',\n",
              " 'the study group involved an eligible family member and all were offered individual structured psycho-educational modules .',\n",
              " 'another group ( controls ) received routine counselling .',\n",
              " 'the subjects in both groups also received routine pharmacotherapy and counselling from the treating clinician and were assessed at baseline , @ , @ , @ , and @ weeks using the hamilton depression rating scale ( hdrs ) , global assessment of functioning ( gaf ) , and psychological general well-being index ( pgwbi ) .',\n",
              " \"results from both groups were compared using statistical methods including chi-square test , fisher 's exact test , student 's t test , pearson 's correlation coefficient , as well as univariate and multiple regression analyses .\",\n",
              " 'baseline socio-demographic and assessment measures were similar in both groups .',\n",
              " 'the study group had consistent improvement in terms of outcome measures with hdrs , gaf , and pgwbi scores showing respective mean change of -@ , @ , and @ over @ weeks .',\n",
              " 'the comparable respective changes in the controls were -@ , @ , and @ .',\n",
              " 'structured psycho-education combined with pharmacotherapy is an effective intervention for people with depressive disorders .',\n",
              " 'psycho-education optimises the pharmacological treatment of depression in terms of faster recovery , reduction in severity of depression , and improvement in subjective wellbeing and social functioning .',\n",
              " 'a pharmacokinetic substudy was conducted within a phase @ clinical trial that evaluated the efficacy and safety of two leuprolide acetate @-month depot formulations in children with central precocious puberty ( cpp ) , where the pharmacokinetics of leuprolide and the exposure-response relationship between leuprolide concentration and the probability of luteinizing hormone ( lh ) suppression were assessed .',\n",
              " 'children diagnosed with cpp ( n = @ in each dosing cohort ) , who were treatment nave or previously treated , received a total of two intramuscular injections of either leuprolide acetate depot @ or @ mg formulations administered @ months apart .',\n",
              " 'serial blood samples were collected for leuprolide concentration determination in a subset of subjects ( n = @ in each cohort ) .',\n",
              " 'one-way analysis of covariance was used to assess dose proportionality .',\n",
              " 'the probability of lh suppression ( peak-stimulated lh concentrations < @ miu/ml ) exposure-response relationship was modelled using repeated measures logistic regression .',\n",
              " 'the predicted probability of lh suppression and the corresponding @ % confidence interval at the mean leuprolide concentration of each dose group and at each time of measurement were computed .',\n",
              " 'mean leuprolide concentrations between weeks @ and @ for @ and @ mg doses were relatively constant and dose proportional , with no accumulation of leuprolide upon repeated administration .',\n",
              " 'body weight and age were not found to be significant covariates on leuprolide pharmacokinetics .',\n",
              " 'higher leuprolide concentrations were associated with higher probability of lh suppression and both doses provided lh suppression levels < @ miu/ml .',\n",
              " 'leuprolide pharmacokinetics were characterized for @ and @ mg @-month depot injections .',\n",
              " 'an exposure-response model was developed to link leuprolide concentrations and probability of peak-stimulated lh suppression .',\n",
              " 'to determine whether alcohol consumption is causally associated with cognitive impairment in older men as predicted by mendelian randomization .',\n",
              " 'retrospective analysis of a cohort study of @,@ community-dwelling men aged @ to @ years followed for @ years .',\n",
              " 'cognitive impairment was established by a mini-mental state examination score of @ or less .',\n",
              " 'participants provided detailed information about their use of alcohol during the preceding year and were classified as abstainers , occasional drinkers , and regular drinkers : mild ( < @ drinks/wk ) , moderate ( @-@ drinks/wk ) , heavy ( @-@ drinks/wk ) , and abusers ( @ drinks/wk ) .',\n",
              " 'we genotyped the rs@ ga variant of the alcohol dehydrogenase @b ( adh@b ) gene , which is associated with lower prevalence of alcohol abuse and dependence .',\n",
              " 'other measures included age , education , marital status , smoking and physical activity , body mass index , diabetes , hypertension , and cardiovascular diseases .',\n",
              " 'at study entry , rs@ ga polymorphism was associated with lower prevalence of regular use of alcohol and decreased consumption among regular users .',\n",
              " 'six years later , @ men ( @ % ) showed evidence of cognitive impairment .',\n",
              " 'abstainers and irregular drinkers had higher odds of cognitive impairment than regular drinkers ( odds ratio -lsb- or -rsb- = @ , @ % confidence interval -lsb- ci -rsb- = @-@ @ , after adjustment for other measured factors ) .',\n",
              " 'the rs@ ga polymorphism did not decrease the odds of cognitive impairment ( aa/gg or = @ , @ % ci = @-@ @ ; ga/gg or = @ , @ % ci = @-@ @ ) .',\n",
              " 'alcohol consumption , including heavy regular drinking and abuse , is not a direct cause of cognitive impairment in later life .',\n",
              " 'our results are consistent with the possibility , but do not prove , that regular moderate drinking decreases the risk of cognitive impairment in older men .',\n",
              " 'detoxification with psychosocial counseling remains a standard opioid-use disorder treatment practice but is associated with poor outcomes .',\n",
              " 'this study tested the efficacy of a newly developed psychosocial intervention , community reinforcement approach and family training for treatment retention ( craft-t ) , relative to psychosocial treatment as usual ( tau ) , for improving treatment outcomes .',\n",
              " 'a randomized , @-week trial with follow-up visits at @ and @ months post-randomization conducted at two substance use disorder ( sud ) treatment programs .',\n",
              " 'opioid-dependent adults ( i.e. , identified patient - ip ) enrolled in a residential buprenorphine-detoxification program and their identified concerned significant other ( cso ) was randomized to craft-t ( n = @ dyads ) or tau ( n = @ dyads ) .',\n",
              " 'craft-t consisted of two sessions with the ip and cso together and @ with the cso alone , over @ weeks .',\n",
              " 'tau for the csos was primarily educational and referral to self-help .',\n",
              " 'all ips received treatment as usually provided by the sud program in which they were enrolled .',\n",
              " 'the primary outcome was time to first ip drop from treatment lasting @ days or more .',\n",
              " 'opioid and other drug use were key secondary outcomes .',\n",
              " 'craft-t resulted in a moderate but non-significant effect on treatment retention ( p = @ , hazard ratio = @ ) .',\n",
              " 'when the cso was parental family , craft-t had a large and significant effect on treatment retention ( p < @ , hazard ratio = @ ) .',\n",
              " 'craft-t had a significant positive effect on ip opioid and other drug use ( p < @ ) .',\n",
              " 'craft-t is a promising treatment for opioid use disorder but replication is needed to confirm these results .',\n",
              " 'characterization of the variations in the metabolomic profiles of elderly people is a necessary step to understand changes associated with aging .',\n",
              " 'this study assessed whether diets with different fat quality and supplementation with coenzyme q@ ( coq ) affect the metabolomic profile in urine analyzed by proton nuclear magnetic resonance spectroscopy from elderly people .',\n",
              " 'ten participants received , in a cross-over design , four isocaloric diets for @-week periods each : mediterranean diet supplemented with coq ( med + coq diet ) ; mediterranean diet ; western diet rich in saturated fat diet ; low-fat , high-carbohydrate diet enriched in n-@ polyunsaturated fat .',\n",
              " 'multivariate analysis showed differences between diets when comparing med + coq diet and saturated fat diet , with greater hippurate urine levels after med + coq diet and higher phenylacetylglycine levels after saturated fat diet in women .',\n",
              " 'following consumption of med + coq , hippurate excretion was positively correlated with coq and - carotene plasma levels and inversely related to nrf@ , thioredoxin , superoxide dismutase @ , and gp@ ( phox ) subunit of nadph oxidase gene expression .',\n",
              " 'after saturated fat diet consumption , phenylacetylglycine excretion was inversely related to coq plasma level and positively correlated with isoprostanes urinary level .',\n",
              " 'the association between hippurate excretion and antioxidant biomarkers along with the relationship between phenylacetylglycine excretion and oxidant biomarkers suggests that the long-term consumption of a med + coq diet could be beneficial for healthy aging and a promising challenge in the prevention of processes related to chronic oxidative stress , such as cardiovascular and neurodegenerative disease .',\n",
              " 'to compare the differences in the efficacy on lower limb motor function in children with spastic cerebral palsy between the combined therapeutic program of jin three-needle therapy and motomed intelligent motor training and the simple motomed .',\n",
              " 'eighty children with spastic cerebral palsy were randomized into an observation group and a control group , @ cases in each group .',\n",
              " 'in the observation group , jin three-needle therapy was used at four mind points , three brain points , three intelligent points , three temporal points , three knee points and three foot points , as well as chengjin ( bl @ ) , chengshen ( bl @ ) and the other .',\n",
              " 'additionally , motomed was given in assistance with conventional rehabilitation training .',\n",
              " 'in the control group , motomed and the conventional rehabilitation training were adopted .',\n",
              " 'in the two groups , the treatment was given once a day , @ treatments made one session and there were @ to @ days at interval between the two sessions .',\n",
              " 'the efficacy evaluation was performed after continuous @ sessions of treatment .',\n",
              " 'the gross motor function measure ( gmfm ) and modified ashworth scale ( mas ) were applied for the evaluation before and after treatment in the two groups .',\n",
              " 'after @ sessions of treatment , gmfm score was increased apparently as compared with that before treatment in the two groups ( p < @ , p < @ ) .',\n",
              " 'after treatment , gmfm score in the observation group was increased more remarkably than that in the control group ( @ + / - @ vs @ + / - @ , p < @ ) .',\n",
              " 'after treatment , the total effective rate of gastrocnemius ashworth spasm grade -lsb- @ % ( @/@ ) -rsb- in the observation group was better apparently than -lsb- @ % ( @/@ ) -rsb- in the control group ( p < @ ) .',\n",
              " 'the combined therapeutic program of jin three-needle therapy and motomet intelligent motor training improves the lower limb motor function of the children with spastic cerebral palsy and its efficacy is better than simple motomed .',\n",
              " 'stenting is an alternative to endarterectomy for treatment of carotid artery stenosis , but long-term efficacy is uncertain .',\n",
              " 'we report long-term data from the randomised international carotid stenting study comparison of these treatments .',\n",
              " 'patients with symptomatic carotid stenosis were randomly assigned @:@ to open treatment with stenting or endarterectomy at @ centres worldwide .',\n",
              " 'randomisation was computer generated centrally and allocated by telephone call or fax .',\n",
              " 'major outcomes were assessed by an independent endpoint committee unaware of treatment assignment .',\n",
              " 'the primary endpoint was fatal or disabling stroke in any territory after randomisation to the end of follow-up .',\n",
              " 'analysis was by intention to treat ( -lsb- itt -rsb- all patients ) and per protocol from @ days after treatment ( all patients in whom assigned treatment was completed ) .',\n",
              " 'functional ability was rated with the modified rankin scale .',\n",
              " 'this study is registered , number isrctn@ .',\n",
              " '@ patients were assigned to stenting ( n = @ ) or endarterectomy ( n = @ ) and followed up for a median of @ years ( iqr @-@ , maximum @ ) .',\n",
              " 'three patients withdrew immediately and , therefore , the itt population comprised @ patients .',\n",
              " 'the number of fatal or disabling strokes ( @ vs @ ) and cumulative @-year risk did not differ significantly between the stenting and endarterectomy groups ( @ % vs @ % ; hazard ratio -lsb- hr -rsb- @ , @ % ci @-@ , p = @ ) .',\n",
              " 'any stroke was more frequent in the stenting group than in the endarterectomy group ( @ vs @ events ; itt population , @-year cumulative risk @ % vs @ % , hr @ , @ % ci @-@ , p < @ ; per-protocol population , @-year cumulative risk @ % vs @ % , @ , @-@ , p = @ ) , but were mainly non-disabling strokes .',\n",
              " 'the distribution of modified rankin scale scores at @ year , @ years , or final follow-up did not differ significantly between treatment groups .',\n",
              " 'long-term functional outcome and risk of fatal or disabling stroke are similar for stenting and endarterectomy for symptomatic carotid stenosis .',\n",
              " 'medical research council , stroke association , sanofi-synthlabo , european union .',\n",
              " 'to investigate the effect of central venous blood oxygen saturation ( scvo@ ) and venous-arterial pco@ ( p ( cv-a ) co@ ) guided fluid therapy on tissue perfusion , gastrointestinal function recovering and outcome of the patients who undergoing open gastrointestinal surgery .',\n",
              " 'forty patients undergoing open gastrointestinal surgery were randomly divided into @ groups ( n = @ each ) : scvo@ guided fluid therapy ( group s ) and p ( cv-a ) co@ guided fluid therapy ( group p ) .',\n",
              " \"all the patients were infused @ ml/kg lactated ringer 's ( lr ) solution before anesthesia induction , they were all also given a continuous lactated ringer 's ( lr ) solution 's infusion at the speed of @ mlkg ( -@ ) h ( -@ ) during the operation .\",\n",
              " \"while , @ % hes @/@ @ ( free flex @ % hes @/@ @ , fresenius kabi ) infusion was different between the @ groups , when the patients of group s 's central venous blood oxygen saturation < @ % or venous-arterial pco@ in the patients of p group @ mm hg , then infused @ % hes @/@ @ .\",\n",
              " 'arterial and central venous blood gas analyses were performed every @ minutes after skin incision , measure the venous and arterial lactate value , and record the anal exhaust time after surgery , postoperative complications and mortality in @ days .',\n",
              " 'compared with group s , the arterial lactate value in t@ ( after operation began @ min ) were significantly decreased in group p ( p = @ ) , and venous lactate value in t@ ( after operation began @ min ) were also lower ( p = @ ) , other lactate value were not different ( p > @ ) .',\n",
              " 'the anal exhaust time was not different between the two groups ( p = @ ) .',\n",
              " 'all the patients were survival , and there were no obvious postoperative complications .',\n",
              " 'compared to group s , there was a transient improvement in tissue perfusion in group p , but there were no difference in complications and mortality .',\n",
              " 'the study aim was to compare the efficacy and safety of ultrasound-guided intra-articular injections of hyaluronic acid and betamethasone in the management of patients with osteoarthritis of the thumb .',\n",
              " 'eighty-eight evaluable patients diagnosed with osteoarthritis of the thumb ( kellgren-lawrence grade ii-iii ) received ultrasound-guided intra-articular treatment with hyaluronic acid ( @ ) or betamethasone ( @ ) .',\n",
              " 'in total , @ local injections were scheduled at @-day intervals .',\n",
              " 'assessments were performed at baseline and at @ , @ , @ , @ , and @ days .',\n",
              " 'in both study groups , the pain visual analogue scale and functional index for hand osteoarthritis scores decreased significantly during follow-up compared to baseline .',\n",
              " 'there were no significant differences between the groups .',\n",
              " 'however , at @ days , the functional score showed a trend towards greater clinical improvement in the hyaluronic acid group ( p @ ) .',\n",
              " 'a subanalysis of patients with functional index score@ and visual analogue scale score@ at baseline showed a significantly higher median functionality score in the hyaluronic acid group ( p @ at @ days and p @ at @ days ) .',\n",
              " 'further limiting analysis to a baseline pain score@ showed significantly greater improvement in functionality score ( p @ at @ days ) , which was already apparent after the second intra-articular injection at @ days ( p @ ) .',\n",
              " 'in this patient subset , the mean pain score also improved significantly at @ days ( p @ ) .',\n",
              " 'both hyaluronic acid and betamethasone were effective and well-tolerated for the management of rhizarthrosis .',\n",
              " 'hyaluronic acid was more effective over time and more efficiently improved functionality and pain in patients with more severe symptoms .',\n",
              " 'the management of recurrent malignant pleural effusions ( mpe ) can be challenging .',\n",
              " 'various options are available , with the most efficacious and widely used being talc pleurodesis .',\n",
              " 'talc can either be applied via a chest drain in the form of slurry , or at medical thoracoscopy using poudrage .',\n",
              " 'current evidence regarding which method is most effective is conflicting and often methodologically flawed .',\n",
              " 'the tapps trial is a suitably powered , multicentre , open-label , randomised controlled trial designed to compare the pleurodesis success rate of medical thoracoscopy and talc poudrage with chest drain insertion and talc slurry .',\n",
              " '@ patients with a confirmed mpe requiring intervention will be recruited from uk hospitals .',\n",
              " 'patients will be randomised ( @:@ ) to undergo either small bore ( < @fr ) seldinger chest drain insertion followed by instillation of sterile talc ( @g ) , or to undergo medical thoracoscopy and simultaneous poudrage ( @g ) .',\n",
              " 'the allocated procedure will be performed as an inpatient within @days of randomisation taking place .',\n",
              " 'following discharge , patients will be followed up at regular intervals for @months .',\n",
              " 'the primary outcome measure is pleurodesis failure rates at @months .',\n",
              " 'pleurodesis failure is defined as the need for further pleural intervention for fluid management on the side of the trial intervention .',\n",
              " 'the trial has received ethical approval from the national research ethics service committee north west-preston ( @/nw/@ ) .',\n",
              " 'there is a trial steering committee which includes independent members and a patient and public representative .',\n",
              " 'the trial results will be published in a peer-reviewed journal and presented at international conferences , as well as being disseminated via local and national charities and patient groups .',\n",
              " 'all participants who wish to know the study results will also be contacted directly on their publication .',\n",
              " 'isrctn@ .',\n",
              " 'reference values for plasma pth assessment were generally established on small samples of apparently healthy subjects , without considering their @-hydroxyvitamin d ( @ohd ) status or other potential modifiers of pth concentration .',\n",
              " 'our objective was to assess ranges of plasma pth concentration in a large sample of adults , stratifying by @ohd status , age , gender , weight status , and calcium intake .',\n",
              " 'this cross-sectional survey is based on @ middle-aged caucasian adults from the supplmentation en vitamines et minraux antioxydants study ( @ ) .',\n",
              " 'plasma pth and @ohd concentrations were measured by an electrochemoluminescent immunoassay .',\n",
              " 'extreme percentiles of plasma pth concentrations were assessed specifically in subjects who had plasmatic values of @ohd of @ ng/ml or greater and @ ng/ml or greater .',\n",
              " 'among subjects with @ohd status of @ ng/ml or greater , the @ th percentile of plasma pth concentration was @ ng/l .',\n",
              " 'by using this value as a reference , @ % of the subjects with plasma @ohd less than @ nmol/l had a high plasma pth level , reflecting secondary hyperparathyroidism .',\n",
              " 'among vitamin d-replete subjects ( @ohd status of @ ng/ml or greater ) , the @ th percentile of plasma pth was higher in overweight/obese subjects ( @ vs @ ng/l among normal weight subjects ) .',\n",
              " 'the reference value for plasma pth defined in this vitamin d-replete population was far below the value currently provided by the manufacturer ( @ ng/l ) and varied according to overweight status .',\n",
              " 'these results may contribute to improve the diagnosis of primary and secondary hyperparathyroidism and subsequent therapeutic indication .',\n",
              " 'cytokine responses accompanying sublingual immunotherapy ( slit ) responder phenotypes have not previously been reported .',\n",
              " 'to investigate clinical and cytokine responses of house dust mite ( hdm ) sensitive patients with allergic rhinitis receiving hdm slit or placebo for @ years .',\n",
              " 'sixty adults were randomized to receive slit or placebo .',\n",
              " 'clinical symptoms were measured using the total @ symptom score ( tss@ ) and juniper rhinitis quality of life questionnaire .',\n",
              " 'hdm specific ige , igg , skin prick tests , and hdm-stimulated release of interleukin ( il ) @ and interferon ( ifn - ) in peripheral blood mononuclear cells was studied at @ , @ , @ , and @ months and il-@ , il-@ , and il-@ at @ and @ months .',\n",
              " 'a total of @ of @ slit and @ of @ placebo patients completed the study .',\n",
              " 'there was significant clinical improvement in both the slit and placebo groups .',\n",
              " 'median t@ss decreased from @ to @ in the slit group ( p < @ ) and @ to @ in the placebo group ( p = @ ) .',\n",
              " 'the median quality-of-life score also decreased in the slit group ( p < @ ) and the placebo group ( p < @ ) .',\n",
              " 'a subgroup analysis of patients found a @ % or greater improvement ( on the t@ss and the juniper rhinitis quality of life questionnaire ) in the good responders group and a @ % to @ % improvement or no improvement in the intermediate responders group .',\n",
              " 'this subgroup analysis also found more good responders in the slit group ( @ % ) compared with the placebo group ( @ % ; p = @ ) .',\n",
              " 'significant decreases in the il-@ / ifn - ( p < @ ) , il-@ / ifn - ( p < @ ) , and il-@ / ifn - ( p = @ ) ratios were found in the combined good clinical improvement group at @ months .',\n",
              " 'a good clinical response ( @ % improvement in both tss@ and quality of life ) is associated with significant decreases in il-@ , il-@ , and il-@ relative to ifn - during @ years of slit therapy for hdms .',\n",
              " 'the effects of combined oxycodone/naloxone prolonged release tablets ( oxn pr ) were investigated in patients with moderate-to-severe chronic cancer-related or non-cancer pain .',\n",
              " 'all patients had opioid-induced constipation ( oic ) which persisted despite substantial laxative therapy .',\n",
              " 'this pooled analysis included @ patients with oic at study entry that was refractory to at least two laxatives with different modes of action .',\n",
              " 'patients completed randomized , double-blind treatment with oxn pr @-@mg / day for either @ weeks ( oxn @ : non-cancer pain study ) or @ weeks ( oxn @ : cancer-related pain study ) .',\n",
              " 'analgesia and bowel function were assessed using the brief pain inventory short form and bowel function index ( bfi ) , respectively .',\n",
              " 'use of laxative medication and safety were assessed throughout the studies .',\n",
              " 'nct@ , eudract @-@-@ , eudract @-@-@ .',\n",
              " 'statistically and clinically significant improvements in bowel function were observed following double-blind treatment with oxn pr .',\n",
              " 'mean ( sd ) reduction in bfi score was @ ( @ ) and comparable in patients with cancer-related ( @ -lsb- @ -rsb- ) and non-cancer pain ( @ .',\n",
              " '-lsb- @ -rsb- ; p@ @ ) .',\n",
              " 'furthermore , the proportion of patients with a bfi score within normal range ( @ ) increased from @ % at screening to @ % at day @ of oxn pr .',\n",
              " 'while all patients used @ laxatives of different classes at screening , during study treatment @ % stopped using laxatives ( p < @ ) .',\n",
              " 'oxn pr provided effective analgesia , evidenced by stable pain scores during study treatment , and there were no unanticipated adverse events .',\n",
              " 'oxn pr significantly improved bowel function and reduced the use of laxatives in patients with oic , previously unresponsive to at least two different classes of laxatives .',\n",
              " 'oxn also provided effective analgesia for patients with moderate-to-severe cancer-related pain and non-cancer-related pain .',\n",
              " 'to observe the difference in the clinical efficacy on oculomotor impairment between electroacupuncture and acupuncture and explore the best therapeutic method in the treatment of this disease .',\n",
              " 'sixty cases of oculomotor impairment were randomized into an electroacupuncture group and an acupuncture group , @ cases in each one .',\n",
              " 'in the electroacupuncture group , the points were selected on extraocular muscles , the internal needling technique in the eye was used in combination of electroacupuncture therapy .',\n",
              " 'in the acupuncture group , the points and needling technique were same as the electroacupuncture group , but without electric stimulation applied .',\n",
              " 'the treatment was given @ times a week , @ treatments made one session .',\n",
              " 'after @ sessions of treatment , the clinical efficacy , palpebral fissure size , pupil size , oculomotor range and the recovery in diplopia were compared before and after treatment in the two groups .',\n",
              " 'in the electroacupuncture group , the palpebral fissure size was ( @ + / -@ ) mm and the eyeball shifting distance was ( @ + / -@ ) mm , which were hig-her than ( @ + / -@ ) mm and ( @ + / -@ ) mm respectively in the acupuncture group .',\n",
              " 'in the electroacupuncture group , the pupil diameter was ( @ + / -@ ) mm , which was less than ( @ + / - @ ) mm in the acupuncture group , indicating the significant difference ( all p < @ ) .',\n",
              " 'the cured rate was @ % ( @/@ ) and the total effective rate was @ % ( @/@ ) in the electroacupuncture group , which was better than @ % ( @/@ ) and @ ( @/@ ) in the acupuncture group separately , indicating the significant difference ( all p < @ ) .',\n",
              " 'electroacupuncture presents the obvious advantages in the treatment of oculomotor impairment , characterized as quick and high effect , short duration of treatment and remarkable improvements in clinical symptoms , there are important significance for the improvement of survival quality of patients .',\n",
              " 'in this multi-country cluster-randomized behavioural intervention trial promoting exclusive breastfeeding ( ebf ) in africa , we compared growth of infants up to @months of age living in communities where peer counsellors promoted ebf with growth in those infants living in control communities .',\n",
              " 'a total of @ clusters in burkina faso , uganda and south africa were randomised to either the intervention or the control arm .',\n",
              " 'feeding data and anthropometric measurements were collected at visits scheduled @ , @ , @ and @weeks post-partum .',\n",
              " 'we calculated weight-for-length ( wlz ) , length-for-age ( laz ) and weight-for-age ( waz ) z-scores .',\n",
              " 'country specific adjusted least squares means with @ % confidence intervals ( ci ) based on a longitudinal analysis are reported .',\n",
              " 'prevalence ratios ( pr ) for the association between peer counselling for ebf and wasting ( wlz < -@ ) , stunting ( laz < -@ ) and underweight ( waz < -@ ) were calculated at each data collection point .',\n",
              " 'the study included a total of @,@ children .',\n",
              " 'adjusting for socio-economic status , the mean wlz at @weeks were in burkina faso -@ ( @ % ci -@ to -@ ) and in uganda -@ ( @ % ci -@ to -@ ) lower in the intervention than in the control arm .',\n",
              " 'in south africa the mean wlz at @weeks was @ ( @ % ci @ to @ ) greater in the intervention than in the control arm .',\n",
              " 'differences in laz between the study arms were small and not statistically significant .',\n",
              " 'in uganda , infants in the intervention arm were more likely to be wasted compared to those in the control arm at @weeks ( pr @ ; @ % ci @ to @ ) .',\n",
              " 'differences in wasting in south africa and burkina faso and stunting and underweight in all three countries were small and not significantly different .',\n",
              " 'there were small differences in mean anthropometric indicators between the intervention and control arms in the study , but in uganda and burkina faso , a tendency to slightly lower ponderal growth ( weight-for-length z-scores ) was found in the intervention arms .',\n",
              " 'clinicaltrials.gov : nct@ .',\n",
              " 'dietary nitrate , which is in green leafy vegetables and beetroot , decreases blood pressure through the enterosalivary nitrate-nitrite-nitric oxide pathway in healthy individuals .',\n",
              " 'whether similar effects would occur in individuals with treated hypertension and , therefore , at increased risk of cardiovascular disease is unclear .',\n",
              " 'we assessed whether increased dietary nitrate intake by using beetroot juice for @ wk lowers blood pressure in treated hypertensive men and women .',\n",
              " 'participants ( n = @ ) were recruited to a randomized , placebo-controlled , double-blind crossover trial .',\n",
              " 'the effect of @-wk intake of nitrate-rich beetroot juice was compared with @-wk intake of nitrate-depleted beetroot juice ( placebo ) .',\n",
              " 'the primary outcome was blood pressure assessed by measuring home blood pressure during the intervention and @-h ambulatory blood pressure on day @ of the intervention .',\n",
              " 'other outcomes included nitrate metabolism assessed by measuring nitrate and nitrite in plasma , saliva , and urine .',\n",
              " 'relative to the placebo , @-wk intake of nitrate-rich beetroot juice resulted in a @-fold increase in plasma nitrite and nitrate , a @-fold increase in salivary nitrite , an @-fold higher salivary nitrate , and a @-fold increase in both urinary nitrite and nitrate ( p < @ ) .',\n",
              " 'however , no differences in home blood pressure and @-h ambulatory blood pressure were observed with @-wk intake of nitrate-rich beetroot juice in comparison with the placebo .',\n",
              " 'an increase in dietary nitrate intake may not be an effective short-term approach to further lower blood pressure in treated hypertensive subjects .',\n",
              " 'the oxymizer is a special nasal cannula that provides a higher luminal diameter in combination with an incorporated oxygen ( o@ ) reservoir .',\n",
              " 'it is assumed that a higher o@ concentration can be delivered breath by breath in order to increase oxygenation .',\n",
              " 'we aimed to investigate the effects of the oxymizer on endurance time in comparison to a conventional nasal cannula ( cnc ) .',\n",
              " 'forty-three patients with severe chronic obstructive pulmonary disease ( copd , age @ @ years , fev@ @ @ % pred . )',\n",
              " 'and indications for ltot were recruited during pulmonary rehabilitation for this cross-over study .',\n",
              " 'after an initial maximal incremental cycle test , all patients performed @ cycling endurance time tests at @ % of their peak work rate ( twice with the oxymizer and twice with a cnc , in reverse order ) .',\n",
              " 'the endurance time was significantly higher when patients cycled while using the oxymizer in comparison to while using the cnc -lsb- @ @ vs. @ @ s ; between-group difference @ s ( @ % confidence interval @-@ ) , p < @ -rsb- .',\n",
              " 'in addition to a longer cycling duration , o@ saturation at isotime was significantly higher with the oxymizer ( @ @ vs. @ @ % ; p = @ ) .',\n",
              " 'furthermore , there was a positive correlation ( r = @ , p = @ ) between the o@ flow rate and improvements in the constant work rate test , showing greater improvements in favor of the oxymizer in patients with a higher demand for o@ ( @ liters/min ) .',\n",
              " 'we show that o@ delivery via the oxymizer is superior to a cnc with regard to endurance capacity and oxygenation during exercise in patients with severe copd .',\n",
              " 'it seems that patients with a higher demand for o@ ( @ liters/min ) , in particular , may benefit more from the use of the oxymizer .',\n",
              " 'while acute-phase antipsychotic response has been attributed to @ % -@ % dopamine d receptor blockade , the degree of occupancy for relapse prevention in the maintenance treatment of schizophrenia remains unknown .',\n",
              " 'in this secondary study of an open-label , @-week , randomized , controlled trial conducted between april @ and august @ , clinically stable patients with schizophrenia ( dsm-iv ) treated with risperidone or olanzapine were randomly assigned to the reduction group ( dose reduced by @ % ) or maintenance group ( dose kept constant ) .',\n",
              " 'plasma antipsychotic concentrations at peak and trough before and after dose reduction were estimated with population pharmacokinetic techniques , using @ collected plasma samples .',\n",
              " 'corresponding dopamine d occupancy levels were then estimated using the model we developed .',\n",
              " 'relapse was defined as worsening in @ positive and negative syndrome scale-positive subscale items : delusion , conceptual disorganization , hallucinatory behavior , and suspiciousness .',\n",
              " 'plasma antipsychotic concentrations were available for @ and @ patients in the reduction and maintenance groups , respectively .',\n",
              " 'estimated dopamine d occupancy ( mean sd ) decreased following dose reduction from @ % @ % to @ % @ % at peak and @ % @ % to @ % @ % at trough .',\n",
              " 'in the reduction group , @ patients ( @ % ) did not demonstrate continuous d receptor blockade above @ % ( ie , < @ % at trough ) after dose reduction ; furthermore , @ patients ( @ % ) did not achieve a threshold of @ % occupancy even at peak .',\n",
              " 'nonetheless , only @ patient met our relapse criteria after dose reduction during the @ months of the study .',\n",
              " 'the results suggest that the therapeutic threshold regarding dopamine d occupancy may be lower for those who are stable in antipsychotic maintenance versus acute-phase treatment .',\n",
              " 'positron emission tomography studies are warranted to further test our preliminary findings .',\n",
              " 'umin clinical trials registry identifier : umin@ .',\n",
              " 'to determine the prevalence of , risk factors for , and visual acuity ( va ) correlations with outer retinal tubulation ( ort ) seen on spectral-domain optical coherence tomography ( sd oct ) in eyes with neovascular age-related macular degeneration ( amd ) after anti-vascular endothelial growth factor ( vegf ) therapy .',\n",
              " 'prospective cohort study within a randomized clinical trial .',\n",
              " 'patients with sd oct images at weeks @ and @ in the comparison of amd treatments trials ( catt ) .',\n",
              " 'participants in the catt were assigned randomly to ranibizumab ( @ mg ) or bevacizumab ( @ mg ) treatment and to a monthly or pro re nata ( prn ) injection-dosing regimen .',\n",
              " 'a subset of eyes was imaged with sd oct beginning at week @ .',\n",
              " 'cirrus @ or spectralis @ volume cube scan protocols were used to acquire sd oct images .',\n",
              " 'two independent readers at the catt oct reading center graded scans , and a senior reader arbitrated discrepant grades .',\n",
              " 'the prevalence of ort , identified as tubular structures seen on at least @ consecutive cirrus b scans or @ consecutive spectralis b scans , was determined .',\n",
              " 'the associations of patient-specific and ocular features at baseline and follow-up with ort were evaluated by univariate and multivariate analyses .',\n",
              " 'outer retinal tubulations .',\n",
              " 'seven of @ eyes ( @ % ) at @ weeks and @ of @ eyes ( @ % ) at week @ had orts .',\n",
              " 'absence of diabetes , poor va , blocked fluorescence , geographic atrophy , greater lesion size , and presence of subretinal hyperreflective material at baseline were associated independently with greater risk of ort at @ weeks ( p < @ ) .',\n",
              " 'neither drug nor dosing regimen were associated significantly with ort .',\n",
              " 'the mean va of eyes with ort at week @ ( @ early treatment diabetic retinopathy study letters ) was worse than the mean va of eyes without ort ( @ letters ; p < @ ) .',\n",
              " 'at @ years after initiation of anti-vegf therapy for neovascular amd , orts are present in a substantial proportion of eyes .',\n",
              " 'we identified baseline features that independently predict orts .',\n",
              " 'it is important to identify orts because eyes with orts have worse va outcomes than those without this finding .',\n",
              " 'patients with type @ diabetes are generally treated in primary care setting and as a final treatment step to obtain good glycaemic control , multiple daily insulin injections ( mdi ) are generally used .',\n",
              " 'the aim of this study is to evaluate the effect of glp-@ analogue liraglutide on glycaemic control in patients with type @ diabetes treated with mdi with inadequate glycaemic control .',\n",
              " 'overweight and obese patients with type @ diabetes and impaired glycaemic control treated with mdi were randomised to liraglutide or placebo over @ weeks .',\n",
              " 'masked continuous glucose monitoring was performed at baseline and during the trial .',\n",
              " 'the primary endpoint was the change in haemoglobin a@c from baseline to week @ .',\n",
              " 'additional endpoints include changes in weight , fasting glucose , glycaemic variability , treatment satisfaction , insulin dose , hypoglycaemias , blood pressure and blood lipid levels .',\n",
              " 'recruitment occurred between february @ and february @ .',\n",
              " 'a total of @ patients were randomised .',\n",
              " 'study completion is anticipated in august @ .',\n",
              " 'it is expected that the results of this study will establish whether adding liraglutide to patients with type @ diabetes treated with mdi will improve glycaemic control , lower body weight , and influence glycaemic variability .',\n",
              " 'standard first-line antiretroviral therapy for hiv-@ infection includes two nucleoside or nucleotide reverse transcriptase inhibitors ( ntrtis ) , but these drugs have limitations .',\n",
              " 'we assessed the @ week efficacy and safety of an ntrti-sparing regimen .',\n",
              " 'between august , @ , and september , @ , we enrolled treatment-naive adults into this randomised , open-label , non-inferiority trial in treatment-naive adults in @ european countries .',\n",
              " 'the composite primary outcome was change to randomised treatment before week @ because of insufficient virological response , no virological response by week @ , hiv-@ rna concentration @ copies per ml or higher at any time after week @ ; death from any cause ; any new or recurrent aids event ; or any serious non-aids event .',\n",
              " 'patients were randomised in a @:@ ratio to receive oral treatment with @ mg raltegravir twice daily plus @ mg darunavir and @ mg ritonavir once daily ( ntrti-sparing regimen ) or tenofovir-emtricitabine in a @ mg and @ mg fixed-dose combination once daily , plus @ mg darunavir and @ mg ritonavir once daily ( standard regimen ) .',\n",
              " 'this trial was registered with clinicaltrials.gov , number nct@ .',\n",
              " 'of @ patients enrolled , @ received the ntrti-sparing regimen and @ the standard regimen , with median follow-up of @ weeks ( iqr @-@ ) .',\n",
              " 'treatment failure was seen in @ ( @ % ) in the ntrti-sparing group and @ ( @ % ) in the standard group .',\n",
              " 'kaplan-meier estimated proportions of treatment failure by week @ were @ % and @ % , respectively ( difference @ % , @ % ci -@ to @ ) .',\n",
              " 'the frequency of serious or treatment-modifying adverse events were similar ( @ vs @ per @ person-years and @ vs @ per @ person-years , respectively ) .',\n",
              " 'our ntrti-sparing regimen was non-inferior to standard treatment and represents a treatment option for patients with cd@ cell counts higher than @ cells per l.',\n",
              " 'european union sixth framework programme , inserm-anrs , gilead sciences , janssen pharmaceuticals , merck laboratories .',\n",
              " 'higher-risk patients may not receive evidence-based therapy because of limited life expectancy , which is a composite measure that encompasses many patient factors , including age , frailty , and comorbidities .',\n",
              " 'in this study , we evaluated the extent to which treatment care gaps can be explained by a difference in projected life expectancy .',\n",
              " 'an observational cohort study was conducted on acute myocardial infarction patients hospitalized in ontario , canada .',\n",
              " 'projected life expectancy was estimated using actual survival data with extrapolation using proportional hazard models adjusting for important covariates .',\n",
              " 'the relationship between projected life expectancy with statins and reperfusion therapy was examined using generalized linear models .',\n",
              " 'among the @ acute myocardial infarction patients , @ % were prescribed statins and @ % were treated with reperfusion therapy .',\n",
              " 'when projected life expectancy was < @ years , the likelihood of receiving either treatment declined progressively with reduction in life expectancy ( p < @ ) .',\n",
              " 'at the @th percentile of projected life expectancies , the likelihood of receiving a statin decreased by @ % ( @ % confidence interval , @-@ @ % ) , and acute reperfusion therapy decreased by @ % ( @ % confidence interval , @-@ @ % ) for each year decline in projected life expectancy .',\n",
              " 'life expectancy of a patient strongly influences evidence-based treatment in acute myocardial infarction .',\n",
              " 'it was seen not only among patients with limited life expectancies but also among those with many years to live .',\n",
              " \"treatment care gaps may reflect clinicians ' synthesis about frailty and life-expectancy gains .\",\n",
              " 'to compare the bioavailability and safety profile of crushed ticagrelor tablets suspended in water and administered orally or via nasogastric tube , with that of whole tablets administered orally .',\n",
              " 'in this single-center , open-label , randomized , three-treatment crossover study , @ healthy volunteers were randomized to receive a single @-mg dose of ticagrelor administered orally as a whole tablet or as crushed tablets suspended in water and given orally or via a nasogastric tube into the stomach , with a minimum @-day wash-out between treatments .',\n",
              " 'plasma concentrations of ticagrelor and ar-c@xx were assessed at @ , @ , @ , @ , @ , @ , @ , @ , @ , @ , @ , @ , @ , and @ hours post-ticagrelor dose for pharmacokinetic analyses .',\n",
              " 'safety and tolerability was assessed throughout the study .',\n",
              " 'at @ hours postdose , plasma concentrations of ticagrelor and ar-c@xx were higher with crushed tablets administered orally ( @ ng/ml and @ ng/ml , respectively ) or via nasogastric tube ( @ ng/ml and @ ng/ml , respectively ) compared with whole-tablet administration ( @ ng/ml and @ ng/ml , respectively ) .',\n",
              " 'a similar trend was observed at @ hour postdose .',\n",
              " 'ticagrelor tmax was shorter following crushed vs. whole-tablet administration ( @ vs. @ hours , respectively ) .',\n",
              " 'geometric mean ratios between treatments for auc and cmax were contained within the bioequivalence limits of @-@ % for ticagrelor and ar-c@xx .',\n",
              " 'all treatments were generally well tolerated .',\n",
              " 'ticagrelor administered as a crushed tablet is bioequivalent to whole-tablet administration , independent of mode of administration ( oral or via nasogastric tube ) , and resulted in increased plasma concentrations of ticagrelor and arc@xx at early timepoints .',\n",
              " 'preterm birth leads to an estimated @ % of neonatal deaths worldwide .',\n",
              " 'our study analyses neonatal mortality risks among preterm births in rural bangladesh .',\n",
              " 'trained community health workers ( chw ) prospectively collected data between june @ and september @ .',\n",
              " 'among @ livebirths , @ % were preterm ( delivered at < @ weeks gestation ) and almost half ( @ % ) of all neonatal deaths occurred among preterm babies .',\n",
              " 'preterm babies who were born as the first child -lcb- -lsb- risk ratio ( rr ) @ ; @ % confidence interval ( ci ) @ , @ -rsb- -rcb- and in the poorest households -lsb- rr @ ; @ % ci @ , @ -rsb- were at higher mortality risk .',\n",
              " 'birth and newborn care preparedness was associated with lower risk of mortality -lsb- rr @ ; @ % ci @ , @ -rsb- while preterm infants who had symptoms of infection -lsb- rr @ ; @ % ci @ , @ -rsb- or whose mother suffered antenatal complications -lsb- rr @ ; @ % ci @ , @ -rsb- were at higher mortality risk .',\n",
              " 'elimination of excess neonatal deaths caused by preterm would decrease population-level neonatal mortality rate by @ % -lsb- @ % ci @ % , @ % -rsb- .',\n",
              " 'given that @ % of preterm births and @ % of preterm deaths were in late or moderate preterm infants , and that @ % preterm babies received a visit from chw within third day of life , a home-based essential care package delivered by chws for sick preterm infants , specifically focused on birth preparedness , skin-to-skin care , immediate breast feeding , early recognition of danger signs , and linked through referral to intensive and quality care in health facilities , could be an effective approach in low resource settings .',\n",
              " 'the braf inhibitors vemurafenib and dabrafenib have shown efficacy as monotherapies in patients with previously untreated metastatic melanoma with braf v@e or v@k mutations .',\n",
              " 'combining dabrafenib and the mek inhibitor trametinib , as compared with dabrafenib alone , enhanced antitumor activity in this population of patients .',\n",
              " 'in this open-label , phase @ trial , we randomly assigned @ patients with metastatic melanoma with a braf v@ mutation to receive either a combination of dabrafenib ( @ mg twice daily ) and trametinib ( @ mg once daily ) or vemurafenib ( @ mg twice daily ) orally as first-line therapy .',\n",
              " 'the primary end point was overall survival .',\n",
              " 'at the preplanned interim overall survival analysis , which was performed after @ % of the total number of expected events occurred , the overall survival rate at @ months was @ % ( @ % confidence interval -lsb- ci -rsb- , @ to @ ) in the combination-therapy group and @ % ( @ % ci , @ to @ ) in the vemurafenib group ( hazard ratio for death in the combination-therapy group , @ ; @ % ci , @ to @ ; p = @ ) .',\n",
              " 'the prespecified interim stopping boundary was crossed , and the study was stopped for efficacy in july @ .',\n",
              " 'median progression-free survival was @ months in the combination-therapy group and @ months in the vemurafenib group ( hazard ratio , @ ; @ % ci , @ to @ ; p < @ ) .',\n",
              " 'the objective response rate was @ % in the combination-therapy group and @ % in the vemurafenib group ( p < @ ) .',\n",
              " 'rates of severe adverse events and study-drug discontinuations were similar in the two groups .',\n",
              " 'cutaneous squamous-cell carcinoma and keratoacanthoma occurred in @ % of patients in the combination-therapy group and @ % of those in the vemurafenib group .',\n",
              " 'dabrafenib plus trametinib , as compared with vemurafenib monotherapy , significantly improved overall survival in previously untreated patients with metastatic melanoma with braf v@e or v@k mutations , without increased overall toxicity .',\n",
              " '( funded by glaxosmithkline ; clinicaltrials.gov number , nct@ . )',\n",
              " 'this phase @ trial evaluated the efficacy , safety , and tolerability of low - and high-dose cariprazine in patients meeting dsm-iv-tr criteria for acute manic or mixed episodes associated with bipolar i disorder .',\n",
              " 'this multicenter , randomized , double-blind , placebo-controlled , parallel-group , fixed/flexible-dose study was conducted from february @ to december @ .',\n",
              " 'patients were randomly assigned to placebo , cariprazine @-@ mg/d , or cariprazine @-@ mg/d for @ weeks of double-blind treatment .',\n",
              " 'primary and secondary efficacy parameters were change from baseline to week @ in young mania rating scale ( ymrs ) total score and clinical global impressions-severity of illness ( cgi-s ) score , respectively .',\n",
              " 'post hoc analysis examined change from baseline to week @ in ymrs single items .',\n",
              " 'a total of @ patients were randomized ; @ % completed the study .',\n",
              " 'the least squares mean difference ( lsmd ) for change from baseline to week @ in ymrs total score was statistically significant in favor of both cariprazine groups versus placebo ( lsmd -lsb- @ % ci -rsb- : @-@ mg/d , -@ -lsb- -@ to -@ -rsb- ; @-@ mg/d , -@ -lsb- -@ , -@ -rsb- ; p < @ -lsb- both -rsb- ) .',\n",
              " 'both cariprazine treatment groups showed statistically significant superiority to placebo on all @ ymrs single items ( all comparisons , p < @ ) .',\n",
              " 'change from baseline in cgi-s scores was statistically significantly greater in both cariprazine groups compared with placebo ( lsmd -lsb- @ % ci -rsb- : @-@ mg/d , -@ -lsb- -@ to -@ -rsb- ; @-@ mg/d , -@ -lsb- -@ to -@ -rsb- ; p < @ -lsb- both -rsb- ) .',\n",
              " 'the most common ( @ % and twice the rate of placebo ) treatment-related adverse events for cariprazine were akathisia ( both groups ) and nausea , constipation , and tremor ( @-@ mg/d only ) .',\n",
              " 'results of this study demonstrated that both low - and high-dose cariprazine were more effective than placebo in the treatment of acute manic or mixed episodes associated with bipolar i disorder .',\n",
              " 'cariprazine was generally well tolerated , although the incidence of akathisia was greater with cariprazine than with placebo .',\n",
              " 'clinicaltrials.gov identifier : nct@ .',\n",
              " 'although neoadjuvant chemotherapy ( nac ) for locally advanced breast cancer can improve operability and local disease control , there is a lack of reliable biomarkers that predict response to chemotherapy or long-term survival .',\n",
              " 'since expression of aldehyde dehydrogenase-@ ( aldh@ ) is associated with the stem-like properties of self-renewal and innate chemoresistance in breast cancer , we asked whether expression in serial tumor samples treated with nac could identify women more likely to benefit from this therapy .',\n",
              " 'women with locally advanced breast cancer were randomly assigned to receive four cycles of anthracycline-based chemotherapy , followed by four cycles of taxane therapy ( arm a ) , or the same regimen in reverse order ( arm b ) .',\n",
              " 'tumor specimens were collected at baseline , after four cycles , and then at surgical resection .',\n",
              " \"aldh@ expression was determined by immunohistochemistry and correlated with tumor response using fisher 's exact test while kaplan-meier method was used to calculate survival .\",\n",
              " 'a hundred and nineteen women were enrolled into the study .',\n",
              " 'fifty seven ( @ % ) were randomized to arm a and @ ( @ % ) to arm b. most of the women ( @ % ) had ductal carcinoma and @ % had lobular carcinoma .',\n",
              " 'of these , @ ( @ % ) achieved a pathological complete response ( pcr ) after nac .',\n",
              " 'there was no correlation between baseline aldh@ expression and tumor grade , stage , hormone receptor , human epidermal growth factor receptor @ ( her@ ) status and ki@ index .',\n",
              " 'aldh@ negativity at baseline was significantly associated with pcr ( p = @ ) .',\n",
              " 'the presence of aldh@ ( + ) cells in the residual tumor cells in non-responding women was strongly predictive of worse overall survival ( p = @ ) .',\n",
              " 'moreover , serial analysis of specimens from non-responders showed a marked increase in tumor-specific aldh@ expression ( p = @ ) .',\n",
              " 'overall , there was no survival difference according to the chemotherapy sequence .',\n",
              " 'however , poorly responding tumours from women receiving docetaxel chemotherapy showed an unexpected significant increase in aldh@ expression .',\n",
              " 'aldh@ expression is a useful predictor of chemoresistance .',\n",
              " 'the up-regulation of aldh@ after nac predicts poor survival in locally advanced breast cancer .',\n",
              " 'although the chemotherapy sequence had no effect on overall prognosis , our results suggest that anthracycline-based chemotherapy may be more effective at targeting aldh@ ( + ) breast cancer cells .',\n",
              " 'actrn@ .',\n",
              " 'there have been several studies of atrial fibrillation ( af ) over the past decades ; however , data from chinese patients are scarce .',\n",
              " 'the aim of the study was therefore to describe the patient characteristics , risk profile and management strategies for chinese af patients presenting to emergency department ( ed ) .',\n",
              " 'we conducted a prospective , multicentre registry of patients with af or atrial flutter ( afl ) in china .',\n",
              " 'participants were enrolled at @ eds , then data regarding baseline characteristics and treatment in eds were collected .',\n",
              " 'of the @ chinese patients , @ ( @ % ) were female .',\n",
              " 'six hundred eighteen ( @ % ) had paroxysmal af , @ ( @ % ) had persistent af and @ ( @ % ) had permanent af .',\n",
              " 'the most common comorbidity was hypertension ( @ % ) , followed by coronary artery disease ( @ % ) and heart failure ( hf , @ % ) .',\n",
              " 'the prevalence of concomitant cardiovascular risk factors , such as hf and valvular heart disease , increased as af progressed .',\n",
              " 'among the patients with non-valvular af , @ ( @ % ) of those with chads@ ( congestive hf , hypertension , age of @ years and greater , diabetes mellitus and history of stroke ) @ were prescribed oral anticoagulants ( oac ) , while @ ( @ % ) of those with chads@ < @ received such agents .',\n",
              " 'among the @ patients with valvular af , @ ( @ % ) actually were treated with oac .',\n",
              " 'the international normalised ratio value was within the target range ( @-@ @ ) in @ patients only ( @ % ) .',\n",
              " 'moreover , a total of @ % of the patients received @ anti-arrhythmic agents , whereas rate control agents were used more frequently ( @ % ) .',\n",
              " 'according to the present study , the risk profile and management of chinese patients with af/afl differed from that observed in previous studies .',\n",
              " 'the use of oac inadequately deviate from current guidelines .',\n",
              " 'the acosog ( american college of surgeons oncology group ) z@ ( alliance ) study , a randomized , placebo-controlled trial , demonstrated that @ year of adjuvant imatinib prolonged recurrence-free survival ( rfs ) after resection of primary gi stromal tumor ( gist ) .',\n",
              " 'we sought to determine the pathologic and molecular factors associated with patient outcome .',\n",
              " 'there were @ patients assigned to the placebo arm and @ to the imatinib arm .',\n",
              " 'median patient follow-up was @ months .',\n",
              " 'there were @ tumor specimens available for mitotic rate or mutation analysis .',\n",
              " 'rfs remained superior in the imatinib arm ( hazard ratio , @ ; @ % ci , @ to @ ; cox model-adjusted p < @ ) .',\n",
              " 'on multivariable analysis of patients in the placebo arm , large tumor size , small bowel location , and high mitotic rate were associated with lower rfs , whereas tumor genotype was not significantly associated with rfs .',\n",
              " 'multivariable analysis of patients in the imatinib arm yielded similar findings .',\n",
              " 'when comparing the two arms , imatinib therapy was associated with higher rfs in patients with a kit exon @ deletion of any type , but not a kit exon @ insertion or point mutation , kit exon @ mutation , pdgfra mutation , or wild-type tumor , although some of these patient groups were small .',\n",
              " 'adjuvant imatinib did not seem to alter overall survival .',\n",
              " 'our findings show that tumor size , location , and mitotic rate , but not tumor genotype , are associated with the natural history of gist .',\n",
              " 'patients with kit exon @ deletions assigned to @ year of adjuvant imatinib had a longer rfs .',\n",
              " 'nausea and vomiting are two of the most frequently experienced postoperative side effects complicating one third of the cases .',\n",
              " 'the objective of this study was to determine the effectiveness of gastric decompression in reducing the incidence and complications associated with post-tonsillectomy vomiting in children .',\n",
              " 'this was a randomised control study conducted at the ent department , ayub teaching hospital abbottabad from january to june @ .',\n",
              " 'patients included in this study were divided into two groups , group a undergoing gastric aspiration and group b not undergoing gastric aspiration .',\n",
              " 'gastric aspiration was done with an oro-gastric tube placed under direct visualisation while the patient was still under general anaesthesia .',\n",
              " 'the incidence of vomiting , episodes of vomiting and the need for rescue anti-emetic prophylaxis were noted .',\n",
              " 'a total of @ patients were included in the study .',\n",
              " 'their ages ranged from @ to @ years with mean age @ + / - @ years .',\n",
              " 'no statistically significant difference ( p > @ ) was noted between the two groups for the patients experiencing vomiting ( @ % vs @ % , p = @ ) , the mean number of episodes of vomiting ( @ vs @ , p = @ ) , and patients requiring rescue anti-emetics ( @ % vs @ % , p = @ ) .',\n",
              " 'gastric aspiration during tonsillectomy is not useful in reducing post-tonsillectomy vomiting .',\n",
              " 'this study evaluated the efficacy and safety of atl@ , an antisense oligonucleotide that selectively targets the rna for human cd@d , the subunit of very late antigen @ , in patients with relapsing-remitting multiple sclerosis ( rrms ) .',\n",
              " 'in a multicenter , double-blind , placebo-controlled randomized phase ii trial , @ patients with rrms were treated with @ mg of atl@ subcutaneously injected @ times in the first week and twice weekly for @ weeks or placebo and monitored for a further @ weeks .',\n",
              " 'mri scans were taken at baseline and weeks @ , @ , @ , and @ .',\n",
              " 'the primary endpoint was the cumulative number of new active lesions ( either new gadolinium-enhancing t@ lesions or nonenhancing new or enlarging t@ lesions ) at weeks @ , @ , and @ .',\n",
              " 'a total of @ patients completed the study and @ intention-to-treat patients were assessed .',\n",
              " 'atl@ significantly reduced the cumulative number of new active lesions by @ % compared to placebo ( mean @ -lsb- sd @ -rsb- vs @ -lsb- @ -rsb- , p = @ ) .',\n",
              " 'the cumulative number of new gadolinium-enhancing t@ lesions was reduced by @ % compared to placebo ( p = @ ) .',\n",
              " 'treatment-emergent adverse events included mild to moderate injection site erythema and decrease in platelet counts that returned to within the normal range after dosing .',\n",
              " 'in patients with rrms , atl@ significantly reduced disease activity after @ weeks of treatment and was generally well-tolerated .',\n",
              " 'this trial provides evidence for the first time that antisense oligonucleotides may be used as a therapeutic approach in neuroimmunologic disorders .',\n",
              " 'this study provides class i evidence that for patients with rrms , the antisense oligonucleotide atl@ reduces the number of new active head mri lesions .',\n",
              " 'to compare bipolar with standard monopolar transurethral resection of the prostate ( turp ) .',\n",
              " 'a prospectively randomized study was conducted between january @ and september @ .',\n",
              " 'primary end points studied were efficacy ( maximum flow rate -lsb- qmax -rsb- , international prostate symptom score ) and safety ( adverse events , decline in postoperative serum sodium -lsb- na + -rsb- and haemoglobin -lsb- hb -rsb- levels ) .',\n",
              " 'secondary end points were operation time and duration of irrigation , catheterization , and hospitalization .',\n",
              " 'sixty consecutive patients were randomized and completed the study , with @ patients in the monopolar turp group and @ in the turis group .',\n",
              " 'at baseline , the two groups were comparable in age , prostate volume , mean prostate-specific antigen value , international prostate symptom score , and they had at least @ months of follow-up .',\n",
              " 'declines in the mean postoperative serum na + for bipolar and monopolar turp groups were @ and @ mmol/l , respectively .',\n",
              " 'however , there was no statistical difference in the decline in postoperative hb between the two groups .',\n",
              " 'the mean catheterization time was @ and @ hours in the bipolar and standard groups , respectively .',\n",
              " 'this difference was statistically significant as was the difference in the time to hospital discharge .',\n",
              " 'the ipss and qmax improvements were comparable between the two groups at @ months of follow-up .',\n",
              " 'no clinically relevant differences in short-term efficacy are existed between the two techniques , but bipolar turp is preferable due to a more favorable safety profile and shorter catheterization duration .',\n",
              " 'larger biopsy specimens or increasing the number of biopsies may improve the diagnostic accuracy of gastric epithelial neoplasia ( gen ) .',\n",
              " 'the aims of this study was to compare the diagnostic accuracies between conventional and jumbo forceps biopsy of gen before endoscopic submucosal dissection ( esd ) and to confirm that increasing the number of biopsies is useful for the diagnosis of gen.',\n",
              " 'the concordance rate between efb and esd specimens was not significantly different between the two groups -lsb- @ % ( @/@ ) in jg vs. @ % ( @/@ ) in cg -rsb- .',\n",
              " 'on multivariate analyses , two or four efbs significantly increased the cumulating concordance rate -lsb- coefficients ; twice : @ ( p = @ ) , four times : @ ( p = @ ) -rsb- .',\n",
              " 'but , the concordance rate was decreased in high grade dysplasia ( coefficient -@ , p = @ ) .',\n",
              " 'one hundred and sixty gens from @ patients were randomized into two groups and finally @ gens in @ patients and @ gens in @ patients were allocated to the conventional group ( cg ) or jumbo group ( jg ) , respectively .',\n",
              " 'four endoscopic forceps biopsy ( efb ) specimens were obtained from each lesion with conventional ( @ mm ) forceps or jumbo ( @ mm ) forceps .',\n",
              " 'the histological concordance rate between @ efb specimens and esd specimens was investigated in the two groups .',\n",
              " 'before esd , the diagnostic accuracy of gens was significantly increased not by the use of jumbo forceps biopsy but by increasing the number of biopsies .',\n",
              " 'prospective trials specifically designed for elderly patients with advanced non-small-cell lung cancer demonstrating the benefit of platinum-based therapies are still lacking .',\n",
              " 'this trial was designed to clarify whether the addition of cisplatin to monotherapy could improve survival for elderly patients .',\n",
              " 'elderly patients ( age @ years , ecog performance status @-@ ) with advanced non-small-cell lung cancer were randomized to receive docetaxel @ mg/m ( @ ) plus cisplatin @ mg/m ( @ ) on day @ , @ and @ ( docetaxel plus cisplatin ) or docetaxel @ mg/m ( @ ) on the same schedule ( docetaxel ) .',\n",
              " 'both regimens were repeated every @ weeks until disease progression .',\n",
              " 'one hundred and twenty-six patients were enrolled .',\n",
              " 'sixty-three were randomly assigned docetaxel plus cisplatin and @ docetaxel monotherapy .',\n",
              " 'median age was @ years ( range @-@ ) .',\n",
              " 'the second planned interim analysis was performed on @ assessable patients ( docetaxel/docetaxel plus cisplatin : @/@ ) .',\n",
              " 'although the formal criterion for stopping the trial was not met , the data and safety monitoring committee recommended study termination on ethical grounds based on the interaction ( two-sided p = @ , hazard ratios for @/@ : @ / @ ) between age and subgroup and treatment arm , which suggested that docetaxel may not represent an adequate control arm regimen for the age subgroup of @-@ years .',\n",
              " 'the interpretation of study results is limited due to early stopping .',\n",
              " 'further study is needed to confirm survival benefit of platinum-based chemotherapy for elderly non-small-cell lung cancer -lsb- umin-ctr ( www.umin.ac.jp/ctr/ ) id : c@ -rsb- .',\n",
              " 'recommended therapy duration for patients hospitalized with cellulitis is @-@ days .',\n",
              " 'unnecessary use of antibiotics is one of the key factors driving resistance .',\n",
              " 'recent studies have shown that antibiotic therapy for cellulitis in outpatients can safely be shortened , despite residual inflammation .',\n",
              " 'this study will compare in hospitalized patients the safety and effectiveness of shortening antibiotic therapy for cellulitis from @ to @ days .',\n",
              " 'in a multicenter , randomized , double-blind , non-inferiority trial , adult patients admitted with cellulitis will be included .',\n",
              " 'cellulitis is defined as warmth , erythema , and induration of the skin and/or subcutaneous tissue , with or without pain ( including erysipelas ) .',\n",
              " 'all patients will initially be treated with intravenous flucloxacillin , and will be evaluated after @-@ days .',\n",
              " 'those who have improved substantially ( defined as being afebrile , and having a lower cellulitis severity score ) will be randomized at day @ between additional @ days of oral flucloxacillin ( n = @ ) or placebo ( n = @ ) .',\n",
              " 'treatment success is defined as resolution of cellulitis on day @ ( disappearance of warmth and tenderness , improvement of erythema and edema ) , without the need of additional antibiotics for cellulitis by day @ .',\n",
              " 'secondary endpoints are relapse rate ( up to day @ ) , speed of recovery ( using a cellulitis severity score until day @ , and vas scores on pain and swelling until day @ ) , quality of life ( using the sf-@ and eq-@d questionnaires ) and costs ( associated with total antibiotic use and health-care resource utilization up to day @ ) .',\n",
              " 'inclusion is planned to start in q@ @ .',\n",
              " 'clinicaltrials.gov ( nct@ ) and the netherlands trial register ( ntr@ ) .',\n",
              " 'injection opioid use plays a significant role in the transmission of hiv infection in many communities and several regions of the world .',\n",
              " 'access to evidence-based treatments for opioid use disorders is extremely limited .',\n",
              " 'hiv prevention trials network @ ( hptn @ ) was a randomized controlled trial designed to compare the impact of @ medication-assisted treatment ( mat ) strategies on hiv incidence or death among opioid-dependent people who inject drugs ( pwid ) .',\n",
              " 'hiv-negative opioid-dependent pwid were recruited from @ communities in thailand and china with historically high prevalence of hiv among pwid .',\n",
              " 'a total of @ participants were randomly assigned to either ( @ ) a @-year intervention consisting of @ opportunities for a @-day detoxification with buprenorphine/naloxone ( bup/nx ) combined with up to @ sessions of behavioral drug and risk counseling -lsb- short-term medication-assisted treatment ( st-mat ) -rsb- or ( @ ) thrice-weekly dosing for @ weeks with bup/nx and up to @ counseling sessions -lsb- long-term medication-assisted treatment ( lt-mat ) -rsb- followed by dose tapering .',\n",
              " 'all participants were followed for @ weeks after treatment completion to assess durability of impact .',\n",
              " 'although the study was stopped early due to lower than expected occurrence of the primary end points , sufficient data were available to assess the impact of the interventions on drug use and injection-related risk behavior .',\n",
              " 'at week @ , @ % of st-mat participants had negative urinalyses for opioids compared with @ % in the lt-mat ( p < @ ) .',\n",
              " 'differences disappeared in the year after treatment : at week @ , @ % in st-mat and @ % in the lt-mat had negative urinalyses .',\n",
              " 'injection-related risk behaviors were significantly reduced in both groups after randomization .',\n",
              " 'participants receiving bup/nx @ times weekly were more likely to reduce opioid injection while on active treatment .',\n",
              " 'both treatment strategies were considered safe and associated with reductions in injection-related risk behavior .',\n",
              " 'these data support the use of thrice-weekly bup/nx as a way to reduce exposure to hiv risk .',\n",
              " 'continued access to bup/nx may be required to sustain reductions in opioid use .',\n",
              " 'medication use is a potentially modifiable risk factor for falling ; psychotropic and cardiovascular drugs have been indicated as main drug groups that increase fall risk .',\n",
              " 'however , evidence is mainly based on studies that recorded falls retrospectively and/or did not determine medication use at the time of the fall .',\n",
              " 'therefore , we investigated the associations indicated in the literature between medication use and falls , using prospectively recorded falls and medication use determined at the time of the fall .',\n",
              " 'data from the b-proof ( b-vitamins for the prevention of osteoporotic fractures ) study were used , concerning community-dwelling elderly aged @ years .',\n",
              " 'we included @,@ participants with pharmacy dispensing records .',\n",
              " 'during the @ - to @-year follow-up , participants recorded falls using a fall calendar .',\n",
              " 'cox proportional hazard models were applied , adjusting for potential confounders including age , sex , health status variables and concomitant medication use .',\n",
              " 'during follow-up , @,@ participants experienced at least one fall .',\n",
              " 'users of anti-arrhythmic medication had an increased fall risk ( hazard ratio -lsb- hr -rsb- @ ; @ % confidence interval -lsb- ci -rsb- @-@ @ ) compared with non-users .',\n",
              " 'similarly , non-selective beta-blocker use was associated with an increased fall risk ( hr @ -lsb- @ % ci @-@ @ -rsb- ) , while statin use was associated with a lower risk ( hr @ -lsb- @ % ci @-@ @ -rsb- ) .',\n",
              " 'benzodiazepine use ( hr @ -lsb- @ % ci @-@ @ -rsb- ) , and antidepressant use ( hr @ -lsb- @ % ci @-@ @ -rsb- ) were associated with an increased fall risk .',\n",
              " 'use of other cardiovascular and psychotropic medication was not associated with fall risk .',\n",
              " 'our results strengthen the evidence for an increased fall risk in community-dwelling elderly during the use of anti-arrhythmics , non-selective beta-blockers , benzodiazepines , and antidepressant medication .',\n",
              " 'clinicians should prescribe these drugs cautiously and if possible choose safer alternatives for older patients .',\n",
              " 'patients with end-stage renal disease are at a high risk of adverse cardiovascular events .',\n",
              " 'elevated level of homocysteine is an important risk factor for cardiovascular morbidity and mortality in dialysis patients .',\n",
              " 'there are some strategies for reduction of serum homocysteine level in these patients , including folate and vitamin supplementation .',\n",
              " 'the aim of the present study was to evaluate the effect of omega-@ supplementation on serum homocysteine level in patients on hemodialysis .',\n",
              " 'in a randomized controlled trial , @ hemodialysis patients were assigned into two groups to receive omega-@ ( oral capsule , @ g/d ) or placebo for @ months .',\n",
              " 'complete blood count , blood urea nitrogen , serum creatinine , serum lipids , and serum homocysteine levels were measured before the study and after @ months at the end of study .',\n",
              " 'of @ patients , @ in each group were excluded , and @ patients in each group completed the study .',\n",
              " 'there were no significant differences regarding the age , sex , and the number of dialysis sessions per week between the two groups .',\n",
              " 'no difference was observed between the two groups in the laboratory investigations at the end of the study , except for a significant reduction in serum homocysteine level in the omega-@ group as compared to the placebo group ( p = @ ) .',\n",
              " 'our study showed a significant reduction regulated by omega-@ supplementation in serum homocysteine level which is a cardiovascular risk factor among hemodialysis patients .',\n",
              " 'omega-@ can be considered as another homocysteine-reducing agent in this population .',\n",
              " 'intra-articular corticosteroids are a mainstay in the treatment of knee osteoarthritis , and in clinical trials , they demonstrate a large initial analgesic effect that wanes over one to four weeks with the rapid efflux of drug from the joint .',\n",
              " 'the present study was undertaken to determine if fx@ , an extended-release formulation of triamcinolone acetonide , can provide pain relief that is superior to the current standard of care , immediate-release triamcinolone acetonide .',\n",
              " 'in this phase-@ , double-blind , multicenter study , @ patients with moderate to severe knee osteoarthritis pain were randomized to a single intra-articular injection of fx@ ( containing @ , @ , or @ mg of triamcinolone acetonide ) or @ mg of immediate-release triamcinolone acetonide .',\n",
              " 'data on the mean daily pain on the @-point numeric rating scale were collected over twelve weeks ; the primary efficacy end point was the change from baseline to each of eight , ten , and twelve weeks in the weekly mean of the mean daily pain intensity scores analyzed with a longitudinal mixed-effects model .',\n",
              " 'the @-mg dose of fx@ produced pain relief that was improved relative to immediate-release triamcinolone acetonide at two through twelve weeks , although the difference in pain relief was not significant ( p @ ) .',\n",
              " 'the @-mg dose of fx@ produced pain relief that was improved at two through twelve weeks and was significantly superior to immediate-release triamcinolone acetonide at five to ten weeks ( p < @ at each time point ) .',\n",
              " 'at the @-mg dose of fx@ , prespecified secondary analyses , including responder analyses and all western ontario and mcmaster universities subscales , were significantly superior ( p < @ ) to immediate-release triamcinolone acetonide at eight weeks , and the time-weighted mean pain relief ( assessed with mean daily pain intensity scores ) was significantly superior to immediate-release triamcinolone acetonide over one to twelve weeks ( p = @ ) .',\n",
              " 'the @-mg dose did not provide additional improvement relative to the @-mg dose .',\n",
              " 'adverse events were generally mild and similar across all treatments .',\n",
              " 'intra-articular injection of fx@ , an extended-release formulation of triamcinolone acetonide , provided a clinically relevant improvement in pain relief in patients with knee osteoarthritis relative to immediate-release triamcinolone acetonide , the current standard of care .',\n",
              " 'therapeutic level i. see instructions for authors for a complete description of levels of evidence .',\n",
              " 'the mitraclip realism ( abbott vascular , menlo park , ca ) trial included several inclusion criteria to identify patients at high risk for conventional mitral valve ( mv ) surgery .',\n",
              " 'this study evaluated contemporary surgical outcomes for high-risk surgical patients who met these defined criteria to serve as a benchmark to evaluate appropriateness in treatment allocation between surgical and percutaneous mv repair .',\n",
              " 'a statewide society for thoracic surgeons ( sts ) database was queried for patients undergoing isolated mitral valve surgery over a @-year study period from @ different hospitals .',\n",
              " 'patients were stratified into high-risk ( hr ) versus non-high-risk ( non-hr ) cohorts based upon clinical criteria similar to those utilized in the realism trial .',\n",
              " 'mixed effects multivariable regression modeling was used to evaluate study endpoints including mortality , morbidity , and resource utilization .',\n",
              " 'of @,@ isolated mitral operations , @ % ( n = @ ) were hr per realism criteria .',\n",
              " 'median sts predicted risk of mortality ( prom ) for hr patients was @ % compared with @ % for non-hr patients ( p < @ ) .',\n",
              " 'the hr patients more commonly underwent mv replacement as well as urgent ( @ % vs @ % , p < @ ) operations .',\n",
              " 'high-risk patients incurred higher morbidity and mortality ( @ % vs @ % ) with longer intensive care unit ( @ vs @ hours ) and hospital stays ( @ vs @ days , all p < @ ) .',\n",
              " 'among realism criteria , sts prom @ % or greater and high-risk sts criteria were the only criteria associated with mortality .',\n",
              " 'select realism criteria , including reoperation with patent grafts and functional mr with ejection fraction less than @ , may not identify patients truly at high risk of death with surgery .',\n",
              " 'in addition to conventional sts criteria , risk assessment by surgeons is essential to direct appropriate treatment allocation for high-risk mitral disease .',\n",
              " 'identification of pretreatment patient characteristics predictive of psychotherapy outcome could help to guide treatment choices .',\n",
              " \"this study evaluates patients ' initial level of immature defense style as a predictor of the outcome of short-term versus long-term psychotherapy .\",\n",
              " 'in the helsinki psychotherapy study , @ adult outpatients with mood or anxiety disorder were randomized to individual short-term ( psychodynamic or solution-focused ) or long-term ( psychodynamic ) psychotherapy .',\n",
              " 'their defense style was assessed at baseline using the @-item defense style questionnaire and classified as low or high around the median value of the respective score .',\n",
              " 'both specific ( beck depression inventory -lsb- bdi -rsb- , hamilton depression rating scale -lsb- hdrs -rsb- , symptom check list anxiety scale -lsb- scl-@-anx -rsb- , hamilton anxiety rating scale -lsb- hars -rsb- ) and global ( symptom check list global severity index -lsb- scl-@-gsi -rsb- , global assessment of functioning scale -lsb- gaf -rsb- ) psychiatric symptoms were measured at baseline and @-@ times during a @-year follow-up .',\n",
              " 'patients with high use of immature defense style experienced greater symptom reduction in long-term than in short-term psychotherapy by the end of the @-year follow-up ( @ % vs. @ % ) .',\n",
              " 'patients with low use of immature defense style experienced faster symptom reduction in short-term than in long-term psychotherapy during the first year of follow-up ( @ % vs. @ % ) .',\n",
              " \"knowledge of patients ' initial level of immature defense style may potentially be utilized in tailoring treatments .\",\n",
              " 'further research on defense styles as outcome predictors in psychotherapies of different types is needed .',\n",
              " 'the purpose of this study was to compare once-daily tacrolimus with twice-daily tacrolimus in terms of safety , efficacy , and patient satisfaction .',\n",
              " 'this prospective , randomized , open-label , multicenter study was conducted at three institutes .',\n",
              " 'patients in the investigational group were converted from tacrolimus twice daily to the same dose of extended-release tacrolimus once daily at @ month post-transplantation , while patients in the control group were maintained on tacrolimus twice daily .',\n",
              " 'the efficacies , safeties , and patient satisfaction for the two drugs at @ months post-transplantation were compared .',\n",
              " 'sixty patients were enrolled and randomized to the investigational group ( @ of @ patients completed the study ) or the control group ( @ of @ patients completed the study ) .',\n",
              " 'at @ months post-transplantation , composite efficacy failure rates including the incidences of biopsy-confirmed acute rejection in the investigational and control groups were @ % and @ % , respectively ; patient survival was @ % in each group .',\n",
              " 'no difference in estimated glomerular filtration rate values were observed at @ months post-transplantation ( p = @ ) .',\n",
              " 'the safety and satisfaction profile ( immunosuppressant therapy barrier scale ) of once-daily tacrolimus was comparable with that of twice-daily tacrolimus ( p = @ ) .',\n",
              " 'conversion from twice-daily tacrolimus to once-daily tacrolimus one month after transplantation is safe and effective .',\n",
              " 'serelaxin is a promising therapy for acute heart failure .',\n",
              " 'the renal hemodynamic effects of serelaxin in patients with chronic heart failure are unknown .',\n",
              " 'in this double-blind , randomized , placebo-controlled , multicenter study , patients with new york heart association class ii to iii chronic heart failure , left ventricular ejection fraction @ % , and estimated glomerular filtration rate ( gfr ) @ to @ ml/min per @ m ( @ ) received intravenous serelaxin @ g/kg per day or placebo for @ hours .',\n",
              " 'primarily , we assessed the difference between serelaxin and placebo on renal plasma flow ( para-aminohippuric acid clearance ) and gfr ( iothalamate clearance ) over @ to @ hours .',\n",
              " 'all @ patients from @ clinical site were excluded from primary analyses before unblinding because of implausible measurements .',\n",
              " 'the primary analysis comprised @ patients , mean age was @ ( @ ) years , @ % were male , mean estimated gfr was @ ( @ ) ml/min per @ m ( @ ) , and @ % had new york heart association class iii symptoms .',\n",
              " 'renal plasma flow increased by @ % with serelaxin and @ % with placebo ( @ % relative increase with serelaxin ; p = @ ) , whereas gfr changes did not differ significantly during @ to @ hours .',\n",
              " 'filtration fraction increased by @ % with serelaxin and @ % with placebo ( @ % relative decrease with serelaxin ; p = @ ) during @ to @ hours .',\n",
              " 'changes in systolic blood pressure were largely similar , and creatinine clearance did not differ between groups .',\n",
              " 'adverse event rates were similar with serelaxin ( @ % ) and placebo ( @ % ) .',\n",
              " 'in patients with chronic heart failure , serelaxin increased renal plasma flow and reduced the increase in filtration fraction compared with placebo , but did not affect gfr .',\n",
              " 'these results suggest beneficial renal hemodynamic effects in patients with chronic heart failure .',\n",
              " 'http://www.clinicaltrials.gov .',\n",
              " 'unique identifier : nct@ .',\n",
              " 'low-income and racial/ethnic minority populations experience disproportionate colorectal cancer ( crc ) burden and poorer survival .',\n",
              " 'novel behavioral strategies are needed to improve screening rates in these groups .',\n",
              " \"the study aimed to test a theoretically based `` implementation intentions '' intervention for improving crc screening among unscreened adults in urban safety-net clinics .\",\n",
              " 'randomized controlled trial .',\n",
              " 'adults ( n = @ ) aged @ years , due for crc screening , from urban safety-net clinics were recruited .',\n",
              " 'the intervention ( conducted in @-@ ) was delivered via touchscreen computers that tailored informational messages to decisional stage and screening barriers .',\n",
              " \"the computer then randomized participants to generic health information on diet and exercise ( comparison group ) or `` implementation intentions '' questions and planning ( experimental group ) specific to the crc screening test chosen ( fecal immunochemical test or colonoscopy ) .\",\n",
              " 'the primary study outcome was completion of crc screening at @ weeks based on test reports ( analysis conducted in @-@ ) .',\n",
              " 'the study population had a mean age of @ years and was @ % non-hispanic african american , @ % non-hispanic white , and @ % hispanic .',\n",
              " 'those receiving the implementation intentions-based intervention had higher odds ( aor = @ , @ % ci = @ , @ ) of completing crc screening than the comparison group .',\n",
              " \"those with higher self-efficacy for screening ( aor = @ , @ % ci = @ , @ ) , history of asthma ( aor = @ , @ % ci = @ , @ ) , no history of diabetes ( aor = @ , @ % ci = @ , @ ) , and reporting they had never heard that `` cutting on cancer '' makes it spread ( aor = @ , @ % ci = @ , @ ) were more likely to complete crc screening .\",\n",
              " 'the results of this study suggest that programs incorporating an implementation intentions approach can contribute to successful completion of crc screening even among very low-income and diverse primary care populations .',\n",
              " 'future initiatives to reduce crc incidence and mortality disparities may be able to employ implementation intentions in large-scale efforts to encourage screening and prevention behaviors .',\n",
              " 'increased utilization of online medical information seeking demands investigation of potentially detrimental effects of these activities .',\n",
              " 'the present study investigated whether viewing medical websites may adversely affect anxiety sensitivity ( as ) , a well-established risk factor for the development of psychopathology .',\n",
              " 'participants ( n = @ ) were randomly assigned to view medical symptom related websites or general health and wellness control websites .',\n",
              " 'as was measured before and after the website viewing .',\n",
              " 'individuals in the medical website group reported higher as compared to the control group at post-manipulation after controlling for baseline health anxiety and baseline as .',\n",
              " 'additionally , intolerance of uncertainty ( iu ) , an individual difference variable assessing negative beliefs about uncertainty , significantly moderated this effect such that medical website viewing only affected as in participants with high iu but not in participants with low iu .',\n",
              " 'the limitations of the current study include the lack of individualization of the website viewing and the short duration of the website viewing .',\n",
              " 'the results of this study provide initial evidence that exposure to online medical information could increase risk for anxiety psychopathology in individuals with elevated iu .',\n",
              " 'additionally , these results provide support for a learning based model of the etiology of as .',\n",
              " 'miglitol is an - glucosidase inhibitor ( agi ) used as an antihyperglycemic agent in the treatment of type @ diabetes mellitus .',\n",
              " 'the mechanism is that miglitol binds to and inhibits the - glucosidase reversibly in the proximal intestine .',\n",
              " 'thus , carbohydrates not digested in the upper small intestine are transported to the lower intestine where they are eventually digested .',\n",
              " 'this study was performed for the subsequent marketing of the test miglitol formulation in korea .',\n",
              " 'we evaluated the comparative bioavailability and tolerability of the test and reference formulations in healthy male adult volunteers .',\n",
              " 'a total of @ healthy adult subjects were enrolled in this single-dose , randomized , open-label , @-period , @-sequence , crossover bioequivalence study .',\n",
              " 'during each period , subjects received @ mg of miglitol test or reference .',\n",
              " 'blood samples from the subjects were obtained before dosing at @ , @ , @ , @ , @ , @ , @ , @ , @ , @ , and @ hours after oral drug administration .',\n",
              " 'plasma concentrations were determined by using liquid chromatography/mass spectrometry/mass spectrometry ( lc-ms/ms ) .',\n",
              " 'the pk parameters including auct , auc , cmax , and tmax were measured and all treatment-emergent adverse events ( teaes ) and their relationships to study these medications were recorded throughout the entire study .',\n",
              " 'a total of @ healthy adult male korean subjects were enrolled in the study and randomized into two treatment groups .',\n",
              " 'ultimately , @ subjects completed the study .',\n",
              " 'during each treatment period , blood samples were collected at specific time intervals from @ to @ hours after administration of a single drug dose .',\n",
              " 'the pk parameters including auct , auc , cmax , and tmax were calculated and the @ % cis of the ratio ( test/reference ) of the parameters were obtained by analysis of variance ( anova ) on logarithmically transformed data .',\n",
              " 'the @ % cis of the geometric mean ratios for the test to reference formulations were as follows : @ ( @ - @ ) for auct and @ ( @ - @ ) for cmax .',\n",
              " 'statistical analysis confirmed that the @ % cis for these pk parameters were within the commonly accepted bioequivalence range of @ - @ .',\n",
              " 'there were no serious or unexpected teaes during the study .',\n",
              " 'in the healthy adult korean subjects , the test and reference formulations had similar pk parameters and similar plasma concentration-time profiles .',\n",
              " 'the test formulation of miglitol met the korean regulatory criteria ( auct and cmax ) for assuming bioequivalence and both formulations were generally well-tolerated .',\n",
              " 'the cris identifiers : kct@ .',\n",
              " \"to compare clerkship medical students ' confidence in performing a simulated normal vaginal delivery ( nvd ) after participating in a simulation training session using two different models .\",\n",
              " 'medical students were randomized to participate in a simulated nvd session using either an obstetrics mannequin or a birthing pelvis model .',\n",
              " 'questionnaires were used to assess confidence and evaluate the simulation before and immediately after the session and on the last day of the obstetrics clerkship rotation .',\n",
              " 'one hundred ten students were randomized .',\n",
              " 'at the start of the clerkship , both groups had similar obstetrics exposure and confidence levels .',\n",
              " 'only @ students ( @ % ) agreed they were ready to attempt a nvd with minimal supervision or independently .',\n",
              " 'this increased significantly to @ students ( @ % ) immediately after the session .',\n",
              " 'at the end of the clerkship , @ of @ responding students ( @ % ) were confident that they could attempt a nvd with minimal supervision or independently .',\n",
              " 'there were no significant differences noted between simulator groups at any point .',\n",
              " 'the sessions were rated as equally useful and realistic , and this remained unchanged at the end of the clerkship .',\n",
              " 'simulated nvd training using either an obstetrics mannequin or a birthing pelvis model provides clerkship students with a positive experience and increases confidence immediately .',\n",
              " \"it should be implemented early in the rotation , as it appears the clerkship experience also plays a large role in terms of students ' confidence .\",\n",
              " 'despite this , students maintain this type of learning is useful .',\n",
              " 'effective simulation training can easily be incorporated into clerkship training .',\n",
              " 'pulmonary rehabilitation ( pr ) provides benefit for patients with chronic obstructive pulmonary disease ( copd ) in terms of quality of life ( qol ) and exercise capacity ; however , the effects diminish over time .',\n",
              " 'our aim was to evaluate a maintenance programme for patients who had completed pr .',\n",
              " 'primary and secondary care pr programmes in norfolk .',\n",
              " '@ patients with copd who had completed at least @ % of a standard pr programme were randomised and data are available for @ patients .',\n",
              " 'patients had greater than @ pack year smoking history and less than @ % predicted forced expiratory volume in @s but no other significant disease or recent respiratory tract infection .',\n",
              " 'patients were randomised to receive a maintenance programme or standard care .',\n",
              " 'the maintenance programme consisted of @h ( @h individually tailored exercise training and @h education programme ) every @months for @year .',\n",
              " 'the chronic respiratory questionnaire ( crq ) ( primary outcome ) , endurance shuttle walk test ( eswt ) , euroqol ( eq@d ) , hospital anxiety and depression score ( hads ) , body mass index ( bmi ) , body fat , activity levels ( overall score and activity diary ) and exacerbations were assessed before and after @months .',\n",
              " 'there was no statistically significant difference between the groups for the change in crq dyspnoea score ( primary end point ) at @months which amounted to @ ( -@ to @ ) units or other domains of the crq .',\n",
              " 'there was no difference in the eswt duration ( -@ ( -@ to @ ) seconds ) , bmi , body fat , eq@d , met-minutes , activity rating , hads , exacerbations or admissions .',\n",
              " 'a maintenance programme of three monthly @h sessions does not improve outcomes in patients with copd after @months .',\n",
              " 'we do not recommend that our maintenance programme is adopted .',\n",
              " 'other methods of sustaining the benefits of pr are required .',\n",
              " 'nct@ .',\n",
              " 'only few randomized trials comparing sustained effects of short - and long-term psychotherapies in personality functioning are available .',\n",
              " \"in this study we compared the effects of two short-term therapies and long-term psychodynamic psychotherapy on patients ' personality functioning during a @-year follow-up .\",\n",
              " 'altogether @ patients of the helsinki psychotherapy study , with anxiety or mood disorder , were randomly assigned to either short-term psychotherapy of about six months ( solution-focused therapy ( sft , n = @ ) or short-term psychodynamic psychotherapy ( spp , n = @ ) ) , or to long-term psychodynamic psychotherapy ( lpp , n = @ ) , lasting on average three years .',\n",
              " 'outcomes in personality functioning ( i.e. , self-concept , defense style , interpersonal problems , and level of personality organization ) were assessed five to seven times using , respectively , questionnaires ( sasb , dsq , iip ) and interview ( lpo ) during the @-year follow-up from randomization .',\n",
              " 'personality functioning improved in all therapy groups .',\n",
              " 'both short-term therapies fared better than lpp during the first year of follow-up , by faster improvement in self-concept and decrease in immature defense style .',\n",
              " 'sft also showed more early reduction of interpersonal problems .',\n",
              " 'however , lpp thereafter showed larger and more sustained benefits than sft and spp , through greater changes in self-concept .',\n",
              " 'additionally , lpp outperformed sft at the end of the follow-up in iip and lpo , after adjustment for auxiliary treatment .',\n",
              " 'no differences were noted between the short-term therapies at any measurement point .',\n",
              " 'auxiliary treatment was used relatively widely which limits generalization to exclusive use of short - or long-term therapy .',\n",
              " 'lpp seems to be somewhat more effective than short-term therapies in facilitating longterm changes in personality functioning .',\n",
              " 'acute oral tyrosine administration has been associated with increased constant-load , submaximal exercise capacity in the heat .',\n",
              " 'this study sought to determine whether self-paced exercise performance in the heat is enhanced with the same tyrosine dosage .',\n",
              " 'after familiarization , seven male endurance-trained volunteers , unacclimated to exercise in the heat , performed two experimental trials in @c ( @ % relative humidity ) in a crossover fashion separated by at least @ d. subjects ingested @ mgkg ( -@ ) body mass tyrosine ( tyr ) or an isocaloric quantity of whey powder ( pla ) in @ ml of sugar-free flavored water in a randomized , double-blind fashion .',\n",
              " 'sixty minutes after drink ingestion , the subjects cycled for @ min at @ % @ % peak oxygen uptake ( vo@peak ) and then performed a simulated cycling time trial requiring completion of an individualized target work quantity ( @ @ kj ) .',\n",
              " 'the ratio of plasma tyrosine plus phenylalanine ( tyrosine precursor ) to amino acids competing for brain uptake ( free-tryptophan , leucine , isoleucine , valine , methionine , threonine , and lysine ) increased @-fold from rest in tyr and remained elevated throughout exercise ( p < @ ) , whereas it declined in pla from rest to preexercise ( p = @ ) .',\n",
              " 'time-trial power output ( p = @ ) and performance ( @ @ and @ @ min in tyr and pla , respectively ; p = @ ) were similar between trials .',\n",
              " 'thermal sensation ( p > @ ) , rpe ( p > @ ) , core temperature ( p = @ ) , skin temperature ( p = @ ) , and heart rate ( p = @ ) did not differ between trials .',\n",
              " 'these data indicate that acute tyrosine administration did not influence self-paced endurance exercise performance in the heat .',\n",
              " 'plasma tyrosine availability is apparently not a key determinant of fatigue processes under these conditions .',\n",
              " 'the aim of this study was to investigate the effects of gonadotropin releasing hormone analog ( gnrha ) therapy on normalized testicular atrophy index ( tain ) using gonadorelin before and after orchiopexy .',\n",
              " '@ infants with @ undescended testes ( udt ) were prospectively assigned to two homogeneous groups according to age , position of udt and tain .',\n",
              " 'the patients were randomized to receive either orchiopexy alone or orchiopexy combined with gnrha as nasal spray at @ mg daily for @ weeks before surgery and @ weeks after surgery .',\n",
              " 'surgical approaches were relative to the position of the udt : shoemakers technique in proximal-udt and bianchi technique in distal-udt .',\n",
              " 'all the patients were evaluated clinically and sonographically @ month before surgery , at the time of surgery , @ month , @ months and @ years after surgery .',\n",
              " 'ultrasound data in our study have shown a statistically significant decrease of tain in children given additional ht only after @ years of follow-up , in unilateral cases and in the entirety of treated patients ; in bilateral cases this difference was not statistically significant .',\n",
              " 'patients with a tain > @ % treated with preoperative and post-operative gnrha therapy have a significant increase in testicular volume after @ years of follow-up , as shown by the relative reduction of tain values .',\n",
              " 'to improve the translation of public health evidence into practice , there is a need to increase practitioner involvement in initiative development , to place greater emphasis on contextual knowledge , and to address intervention processes and outcomes .',\n",
              " 'evidence that demonstrates the need to reduce childhood fire-related injuries is compelling but its translation into practice is inconsistent and limited .',\n",
              " \"with this knowledge the keeping children safe programme developed an `` injury prevention briefing ( ipb ) '' using a @ step process to combine scientific evidence with practitioner contextual knowledge .\",\n",
              " \"the ipb was designed specifically for children 's centres ( ccs ) to support delivery of key fire safety messages to parents .\",\n",
              " 'this paper reports the findings of a nested qualitative study within a clustered randomised controlled trial of the ipb , in which staff described their experiences of ipb implementation to aid understanding of why or how the intervention worked .',\n",
              " 'interviews were conducted with key staff at @ ccs participating in the two intervention arms : @ ) ipb supplemented by initial training and regular facilitation ; @ ) ipb sent by post with no facilitation .',\n",
              " 'framework analysis was applied to these interview data to explore intervention adherence including ; exposure or dose ; quality of delivery ; participant responsiveness ; programme differentiation ; and staff experience of ipb implementation .',\n",
              " 'this included barriers , facilitators and suggested improvements .',\n",
              " '@ % of ccs regarded the ipb as a simple , accessible tool which raised awareness , and stimulated discussion and behaviour change .',\n",
              " '@ ccs suggested minor modifications to format and content .',\n",
              " 'four levels of implementation were identified according to content , frequency , duration and coverage .',\n",
              " \"most ccs ( @ % ) achieved ` extended ' or ` essential ' ipb implementation .\",\n",
              " 'three universal factors affected all ccs : organisational change and resourcing ; working with hard to engage groups ; additional demands of participating in a research study .',\n",
              " 'six specific factors were associated with the implementation level achieved : staff engagement and training ; staff continuity ; adaptability and flexibility ; other agency support ; conflicting priorities ; facilitation .',\n",
              " 'ccs achieving high implementation levels increased from @ % ( no facilitation ) to @ % with facilitation .',\n",
              " 'incorporating service provider perspectives and scientific evidence into health education initiatives enhances potential for successful implementation , particularly when supplemented by ongoing training and facilitation .',\n",
              " 'to determine whether the insulin resistance that exists in metabolic syndrome ( mets ) patients is modulated by dietary fat composition .',\n",
              " 'seventy-five patients were randomly assigned to one of four diets for @ wk : high-saturated fatty acids ( hsfas ) , high-mufa ( hmufa ) , and two low-fat , high-complex carbohydrate ( lfhcc ) diets supplemented with long-chain n-@ ( lfhcc n-@ ) pufa or placebo .',\n",
              " 'at the end of intervention , the lfhcc n-@ diet reduced plasma insulin , homeostasis model assessment of insulin resistance , and nonsterified fatty acid concentration ( p < @ ) as compared to baseline spanish habitual ( bsh ) diet .',\n",
              " 'subcutaneous white adipose tissue ( wat ) analysis revealed decreased eh-domain containing-@ mrna levels and increased cbl-associated protein gene expression with the lfhcc n-@ compared to hsfa and hmufa diets , respectively ( p < @ ) .',\n",
              " 'moreover , the lfhcc n-@ decreased gene expression of glyceraldehyde-@-phosphate dehydrogenase with respect to hmufa and bsh diets ( p < @ ) .',\n",
              " 'finally , proteomic characterization of subcutaneous wat identified three proteins of glucose metabolism downregulated by the lfhcc n-@ diet , including annexin a@ .',\n",
              " 'rt-pcr analysis confirmed the decrease of annexin a@ ( p = @ ) after this diet .',\n",
              " 'our data suggest that the lfhcc n-@ diet reduces systemic insulin resistance and improves insulin signaling in subcutaneous wat of mets patients compared to hsfa and bsh diets consumption .',\n",
              " 'the outcomes of acute cardiovascular symptom presentations are potentially modifiable with the use of biomarkers to accelerate accurate diagnosis .',\n",
              " 'this randomized trial tested troponin and b-type natriuretic peptide before hospital guidance in patients with acute cardiovascular symptoms .',\n",
              " 'patients with either chest pain or shortness of breath were randomized to usual care or biomarkers analyzed using a point-of-care device in the ambulance .',\n",
              " 'the primary end point was time to final disposition ( discharge from the emergency department or admission to hospital ) .',\n",
              " 'the trial was stopped prematurely because of less than expected enrollment of patients of interest and no difference in the primary end point .',\n",
              " 'we randomized @ patients ; @ formed the final cohort .',\n",
              " 'patients were @ % male ; median age @ years ; @ % had previous acute coronary syndrome ; and @ % diabetes .',\n",
              " 'the b-type natriuretic peptide level before hospital arrival was @ pg/ml in @ % .',\n",
              " 'troponin was > @ ng/ml in @ % ; @ % had troponin > @ ng/ml .',\n",
              " 'after adjudication , @ % had acute coronary syndrome , @ % acute heart failure , @ % angina , and @ % another diagnosis .',\n",
              " 'the primary end point was @ ( interquartile range , @-@ @ ) hours in the biomarker group and @ ( interquartile range , @-@ @ ) hours in the usual care group ( p = @ ) .',\n",
              " 'none died in the ambulance or in the emergency department : all-cause @-day mortality was @ % ( usual care ) and @ % ( biomarker ) .',\n",
              " 'to our knowledge , this is the first randomized trial of biomarkers before hospital arrival to guide emergency management of suspected acute cardiovascular disease which showed no benefit and was terminated early because of futility .',\n",
              " 'the results have important implications for the use of biomarkers in emergency management of heart disease and for the design of future randomized trials on this important topic .',\n",
              " 'medication-overuse headache ( moh ) is a common problem in primary care .',\n",
              " 'brief intervention ( bi ) has successfully been used for detoxification from overuse of alcohol and drugs .',\n",
              " 'the aim of this pilot study was to develop and test methodology , acceptability and logistics for a bi for moh in primary care .',\n",
              " 'observational feasibility study of an intervention in a norwegian general practice population.six general practitioners ( gps ) were recruited .',\n",
              " 'a screening questionnaire for moh was sent to all @-@ year old patients on these gps ` list .',\n",
              " 'gps were taught bi , which was applied to moh patients as follows : severity of dependence scale ( sds ) scores were collected and individual feedback was given of the relationship between the sds , medication overuse and headache .',\n",
              " 'finally , advice to reduce medication was given .',\n",
              " 'patients were invited to a headache interview three months after the bi .',\n",
              " 'main outcomes were feedback from gps/patients about the feasibility and logistics of the study design , screening/recruitment process , bi and headache interviews .',\n",
              " 'efficacy and patient-related outcomes were not focused .',\n",
              " 'the patients reported a high degree of acceptability of the methodology .',\n",
              " 'the gps reported the bi to be feasible to implement within a busy practice and to represent a new and improved instrument for communication with moh patients .',\n",
              " 'the bi requires further testing in a randomised controlled trial ( rct ) in order to provide evidence of efficacy .',\n",
              " 'this feasibility study will be used to improve the bi for moh and the design of a cluster-rct .',\n",
              " 'clinicaltrials.gov : nct@ ( initially registered as controlled efficacy trial but changed to observational study ) .',\n",
              " 'to observe the effects of intra-operative combined dosing of dezoxine and dexmedetomidine on sedation , analgesia and the incidence of untoward events during and after surgery in teenagers undergoing horizontal concomitant strabismus surgery .',\n",
              " 'for this prospective and randomized trial , approval was obtained from the ethical committee and informed consent from their parents .',\n",
              " 'a total of @ patients aged @-@ years undergoing strabismus surgery at second affiliated hospital from september to december @ were collected .',\n",
              " 'the treatment group received an intravenous dose of dezoxine @ mgkg ( -@ ) at @ minutes before surgery .',\n",
              " 'and another intravenous injection of dexmedetomidine was administered at @ gkg ( -@ ) h ( -@ ) until the end of the first ocular muscle correcting .',\n",
              " 'the control group received the same volume of normal saline .',\n",
              " 'observational parameters including visual analogue scale ( vas ) , ramsay scores , self-rating anxiety scale ( sas ) , heart rate ( hr ) , blood pressure and the incidence of untoward events such as nausea and vomiting or arrhythmia were recorded .',\n",
              " 'the vas pain scores in the treatment group at t@-t@ decreased significantly versus the control group ( p < @ ) .',\n",
              " 'the ramsay scores in the treatment group at t@-t@ increased and significantly differences existed with the control group ( p < @ ) .',\n",
              " 'sas scores showed significant differences between pre-operative and post-operative periods in the treatment group ( p < @ ) .',\n",
              " 'the treatment group has shorter operative duration with @ cases of dragging pain in the treatment group versus @ in the control group ( p < @ ) .',\n",
              " 'during dragging reflex , hr was lower in the control group at t@ and t@ .',\n",
              " 'there were significant differences with the control group ( p < @ ) .',\n",
              " 'a combination of dezoxine and dexmedetomidine provide multiple benefits for patients undergoing strabismus surgery .',\n",
              " 'compared with simple local anesthesia , it effectively attenuates pain and anxiety and provides mild sedation and better cooperation during strabismus surgery .',\n",
              " 'eicosapentaenoic acid ( epa ) , which may reduce the risk for coronary heart disease ( chd ) , can be synthesized at low rates from - linolenic acid ( ala ) .',\n",
              " 'the rate-limiting step for this conversion is the @-desaturation of ala into stearidonic acid ( sda ) .',\n",
              " 'thus providing oils rich in sda may increase endogenous synthesis of epa , which may subsequently lower serum triacylglycerol concentrations , an effect frequently observed after epa supplementation .',\n",
              " 'we therefore studied the effects of echium oil on serum triacylglycerol concentrations and the omega-@ index , which correlate negatively with the risk for chd .',\n",
              " 'a randomized , double-blind , placebo-controlled crossover trial was conducted , in which @ healthy overweight and slightly obese subjects daily received @ g of echium oil ( providing @ g of sda ) or a high oleic acid sunflower oil ( hoso ) as control for @ weeks , with a washout period of at least @ days .',\n",
              " 'four subjects dropped out .',\n",
              " 'differences between periods were tested for statistical significance ( p < @ ) using a paired t-test .',\n",
              " 'serum triacylglycerol and other lipid concentrations were not significantly affected by consumption of echium oil compared with hoso .',\n",
              " 'echium oil significantly increased percentage of epa in red blood cell ( rbc ) membranes with @ @ % ( mean s.d. ) compared with hoso ( p = @ ) .',\n",
              " 'no significant effects on docosahexaenoic acid in rbc membranes or on the omega-@ index were found .',\n",
              " 'in healthy overweight and slightly obese subjects , an increased intake of sda from echium oil does not lower serum triacylglycerol concentrations .',\n",
              " 'despite an increase in the percentage of epa in rbc membranes , the omega-@ index was not changed .',\n",
              " 'huai qi huang ( hqh ) is a compound chinese herbal medicine that contains trametes robiniophila murr , wolfberry fruit , and polygonatum .',\n",
              " 'in the present study , we investigated the effects of hqh on patients with mild immunoglobulin a nephropathy ( igan ) through a prospective randomized controlled study .',\n",
              " 'forty-five adults diagnosed with igan according to renal pathology , who had hematuria or/and proteinuria ( @ g/day ) , were randomly assigned to receive hqh or no treatment for @ weeks .',\n",
              " 'twenty-four hour urinary protein excretion and hematuria were measured at weeks @ , @ , @ , and @ .',\n",
              " 'the rate of complete remission of proteinuria and hematuria was evaluated .',\n",
              " 'any adverse events induced by hqh were also observed during the treatment period .',\n",
              " 'twenty-four hour urinary protein excretion was significantly reduced by hqh treatment compared with that in the control group at weeks @ and @ .',\n",
              " 'a much higher rate of complete remission of proteinuria was observed in the hqh group than in control group at week @ .',\n",
              " 'hqh administration also obviously reduced the extent of hematuria compared with that in the control group at week @ .',\n",
              " 'hqh treatment dramatically increased the rate of complete remission of hematuria compared with that in control group at weeks @ and @ .',\n",
              " 'no obvious adverse events caused by hqh were observed .',\n",
              " 'hqh could be a new conservative therapy for igan patients who can not tolerate steroids and immunosuppressive agents .',\n",
              " 'the relapse rate after discontinuing treatment still needs further investigation .',\n",
              " 'extracranial carotid and vertebral artery dissection is an important cause of stroke , especially in young people .',\n",
              " 'in some observational studies it has been associated with a high risk of recurrent stroke .',\n",
              " 'both antiplatelet drugs and anticoagulant drugs are used to reduce risk of stroke but whether one treatment strategy is more effective than the other is unknown .',\n",
              " 'we compared their efficacy in the cervical artery dissection in stroke study ( cadiss ) , with the additional aim of establishing the true risk of recurrent stroke .',\n",
              " 'we did this randomised trial at hospitals with specialised stroke or neurology services ( @ in the uk and seven in australia ) .',\n",
              " 'we included patients with extracranial carotid and vertebral dissection with onset of symptoms within the past @ days .',\n",
              " 'patients were randomly assigned ( @:@ ) by an automated telephone randomisation service to receive antiplatelet drugs or anticoagulant drugs ( specific treatment decided by the local clinician ) for @ months .',\n",
              " 'patients and clinicians were not masked to allocation , but investigators assessing endpoints were .',\n",
              " 'the primary endpoint was ipsilateral stroke or death in the intention-to-treat population .',\n",
              " 'the trial was registered with eudract ( @-@-@ ) and isrn ( ctn@ ) .',\n",
              " 'we enrolled @ participants ( @ carotid , @ vertebral ) .',\n",
              " 'mean time to randomisation was @ days ( sd @ ) .',\n",
              " \"the major presenting symptoms were stroke or transient ischaemic attack ( n = @ ) and local symptoms ( headache , neck pain , or horner 's syndrome ; n = @ ) .\",\n",
              " '@ participants were assigned to antiplatelet treatment versus @ to anticoagulant treatment .',\n",
              " 'overall , four ( @ % ) of @ patients had stroke recurrence ( all ipsilateral ) .',\n",
              " 'stroke or death occurred in three ( @ % ) of @ patients versus one ( @ % ) of @ ( odds ratio -lsb- or -rsb- @ , @ % ci @-@ ; p = @ ) .',\n",
              " 'there were no deaths , but one major bleeding ( subarachnoid haemorrhage ) in the anticoagulant group .',\n",
              " 'central review of imaging failed to confirm dissection in @ patients .',\n",
              " 'preplanned per-protocol analysis excluding these patients showed stroke or death in three ( @ % ) of @ patients in the antiplatelet group versus one ( @ % ) of @ patients in the anticoagulant group ( or @ , @ % ci @-@ ; p = @ ) .',\n",
              " 'we found no difference in efficacy of antiplatelet and anticoagulant drugs at preventing stroke and death in patients with symptomatic carotid and vertebral artery dissection but stroke was rare in both groups , and much rarer than reported in some observational studies .',\n",
              " 'diagnosis of dissection was not confirmed after review in many cases , suggesting that radiographic criteria are not always correctly applied in routine clinical practice .',\n",
              " 'stroke association .',\n",
              " 'the purpose of this study was to investigate the efficacy of eyelid cooling to reduce postoperative pain , edema , erythema , and hematoma after upper blepharoplasty .',\n",
              " 'after bilateral upper blepharoplasty in @ consecutive patients , one eyelid per patient was randomized for cooling with an ice pack , and the other eyelid was left uncooled .',\n",
              " 'pain was scored by the patients using a visual analogue scale ( @ to @ ) @ hour and @ day after surgery .',\n",
              " 'degree of edema , erythema , and hematoma were scored by the patients on a four-point rating scale ( no , minimal , moderate , or severe ) @ hour , @ day , @ week , and @ months after surgery .',\n",
              " 'light photography was obtained @ week after surgery for scoring the degree of bruising on a four-point rating scale by a blinded observer .',\n",
              " 'pain did not differ between cooled and uncooled eyelids on the day of surgery .',\n",
              " 'however , pain in cooled eyelids was significantly lower @ day after surgery ( p = @ ) , yet absolute pain scores were low ( median , @ and @ , on a scale of @ ) .',\n",
              " 'edema , erythema , or hematoma did not differ between cooled and uncooled eyelids on any of the time points studied .',\n",
              " 'cooling of eyelids after upper blepharoplasty does not reduce edema , erythema , or hematoma of the eyelids , but reduces pain @ day after surgery .',\n",
              " 'however , because the degree of pain seems clinically irrelevant and because the majority of patients indicate that they have no preference for cooling over noncooling , eyelid cooling after upper blepharoplasty as a rule of thumb can be abandoned .',\n",
              " 'therapeutic , ii .',\n",
              " 'there is limited evidence to support the use of facemasks in preventing infection for primary care professionals .',\n",
              " 'negative effects on communication has been suggested when the physician wears a facemask .',\n",
              " \"as communication skills and doctor patient relationship are essential to primary care consultations , the effects of doctor 's facemask wearing were explored .\",\n",
              " \"a randomised controlled study was conducted in primary care to explore the effects of doctors wearing facemasks on patients ' perception of doctors ' empathy , patient enablement and patient satisfaction .\",\n",
              " 'primary care doctors were randomized to mask wearing and non mask wearing clinical consultations in public primary care clinics in hong kong .',\n",
              " \"patients ' views were gathered using the consultation and relational empathy ( care ) measure , patient enablement instrument ( pei ) and an overall satisfaction rating scale .\",\n",
              " 'the effects of face mask wearing were investigated using multilevel ( hierarchical ) modelling .',\n",
              " '@,@ patients were randomised to doctor-mask wearing consultations ( n = @ ) and non mask wearing consultations ( n = @ ) .',\n",
              " \"a significant and negative effect was found in the patients ' perception of the doctors ' empathy ( care score reduction -@ , p-value = @ ) .\",\n",
              " \"in the more established doctor-patient relationship , the effect of doctors ' mask wearing was more pronounced ( care score reduction -@ , p-value = @ ) .\",\n",
              " \"this study demonstrates that when doctors wearing a facemask during consultations , this has a significant negative impact on the patient 's perceived empathy and diminish the positive effects of relational continuity .\",\n",
              " 'consideration should be taken in planning appropriate use of facemasks in infectious disease policy for primary care and other healthcare professionals at a national , local or practice level .',\n",
              " 'this trial was registered on chinese clinical trial register ( chictr ) .',\n",
              " 'registration no. : chictr-ttrcc-@ .',\n",
              " 'url : http://www.chictr.org/en/proj/show.aspx?proj=@ .',\n",
              " 'due to administrative error , registration of trial did not take place until after the trial started on @st august @ and registration number was released on @st september @ .',\n",
              " 'limited ankle joint dorsiflexion passive range of motion ( prom ) has been associated with common chronic lower extremity conditions , and clinicians often instruct patients in stretching exercises to increase dorsiflexion .',\n",
              " 'however , little is known about how subtalar joint ( stj ) position affects dorsiflexion at the midfoot/forefoot versus ankle/rearfoot during gastrocnemius stretching .',\n",
              " 'the purpose of this study was to determine if more dorsiflexion occurs at the ankle/rearfoot and less at the midfoot/forefoot during gastrocnemius stretching with the stj positioned in supination versus pronation .',\n",
              " 'in this repeated measures design , @ participants ( @ females , @ males ; mean age = @ years , sd = @ ) with current or recent history of lower extremity chronic conditions and less than @ degrees ankle dorsiflexion measured with the knee in extension on the involved side ( s ) performed five @-second gastrocnemius stretching trials in pronation and supination on each side in a randomly determined sequence .',\n",
              " 'a @-camera vicon motion analysis system and an amti force plate were used to measure midfoot/forefoot dorsiflexion , ankle/rearfoot dorsiflexion , knee extension , and normalized vertical ground reaction force .',\n",
              " 'two-way repeated measures anova revealed a significant increase in midfoot/forefoot dorsiflexion when stretching in pronation compared to supination ( p < @ ) .',\n",
              " 'anovas also demonstrated significantly more extension of the knee when stretching in supination compared to pronation ( p < @ ) , and increased normalized vertical ground reaction force when stretching in supination compared to pronation ( p = @ ) .',\n",
              " 'with the numbers available , no significant difference in ankle/rearfoot dorsiflexion when stretching in supination compared to pronation could be detected ( p > @ ) .',\n",
              " 'gastrocnemius stretching in pronation resulted in more dorsiflexion at the midfoot/forefoot than stretching in supination .',\n",
              " 'clinicians may want to consider stj position during gastrocnemius stretching to either facilitate or limit recruitment of dorsiflexion motion at the midfoot/forefoot .',\n",
              " 'cryptococcal meningitis is the most common cause of adult meningitis in sub-saharan africa .',\n",
              " 'raised intracranial pressure ( icp ) is common in cryptococcosis .',\n",
              " 'prior studies suggest elevated icp is associated with mortality , and guidelines recommend frequent lumbar punctures ( lps ) to control icp .',\n",
              " 'however , the magnitude of the impact of lps on cryptococcal-related mortality is unknown .',\n",
              " 'in sum , @ individuals with human immunodeficiency virus ( hiv ) - associated cryptococcal meningitis , screened for the cryptococcal optimal art timing ( coat ) trial in uganda and south africa , were observed .',\n",
              " 'individuals received an lp to diagnose meningitis , and subsequent therapeutic lps were recommended for elevated icp ( > @ mmh@o ) or new symptoms .',\n",
              " 'we compared survival , through @ days , between individuals receiving at least @ therapeutic lp with individuals not receiving therapeutic lps .',\n",
              " 'the coat trial randomized subjects at @-@ days ; thus , follow-up stopped at time of death , randomization , or @ days .',\n",
              " 'seventy-five ( @ % ) individuals had at least @ therapeutic lp .',\n",
              " 'individuals receiving therapeutic lps had higher cerebrospinal fluid ( csf ) opening pressures , higher csf fungal burdens , and were more likely to have altered mental status at baseline than those with no therapeutic lps .',\n",
              " 'thirty-one deaths ( @ % ) occurred among @ individuals without a therapeutic lp and @ deaths ( @ % ) among @ with at least @ therapeutic lp .',\n",
              " 'the adjusted relative risk of mortality was @ ( @ % confidence interval : @ -@ ) .',\n",
              " 'the association was observed regardless of opening pressure at baseline .',\n",
              " 'therapeutic lps were associated with a @ % relative improvement in survival , regardless of initial intracranial pressure .',\n",
              " 'the role of therapeutic lps should be reevaluated .',\n",
              " 'angiotensin-converting enzyme inhibitors ( aceis ) are currently used to control proteinuria in dogs with chronic kidney disease .',\n",
              " 'renal diets ( rds ) have beneficial effects in the management of azotemic dogs , but its role in proteinuric non-azotemic ( pnaz ) dogs has been poorly documented .',\n",
              " 'administration of a rd to pnaz dogs treated with benazepril ( be ) improves proteinuria control compared with the administration of a maintenance diet ( md ) .',\n",
              " 'twenty-two pnaz ( urine protein/creatinine ratio -lsb- upc -rsb- > @ ) dogs .',\n",
              " 'randomized open label clinical trial design .',\n",
              " 'dogs were assigned to group-md ( @ g protein/@ kcal me ) / be or to group-rd ( @ g protein/@ kcal me ) / be group during @ days .',\n",
              " 'dogs with serum albumin ( alb ) < @ g/dl received aspirin ( @ mg/kg/@ hours ) .',\n",
              " 'a physical examination , systolic blood pressure ( sbp ) measurement , complete blood count ( cbc ) , biochemistry panel , urinalysis , and upc were performed at day @ ( d@ ) and day @ ( d@ ) .',\n",
              " 'at d@ , there were no significant differences between groups in the evaluated variables .',\n",
              " 'during the study , logupc ( geometric mean ( @ % ci ) and sbp ( meansd mmhg ) significantly decreased ( paired t-test , p = @ ) in group-rd ( logupc ( d@ ) = @ -lsb- @-@ @ -rsb- ; upc ( d@ ) = @ -lsb- @-@ @ -rsb- ; sbp ( d@ ) = @ @ ; sbp ( d@ ) = @ @ ) , but not in group-md ( upc ( d@ ) = @ -lsb- @-@ @ -rsb- ; upc ( d@ ) = @ -lsb- @-@ @ -rsb- ; sbp ( d@ ) = @ @ ; sbp ( d@ ) = @ @ ) .',\n",
              " 'however , rm-anova test did not confirm that changes were consequence of dietary modification .',\n",
              " 'weight and alb concentration did not change significantly in any group .',\n",
              " 'the administration of a rd to pnaz dogs treated with be might help to control proteinuria and sbp compared with the administration of a md , without inducing clinically detectable malnutrition , but more studies are warranted .',\n",
              " 'to assess the temporal patterns of late gastrointestinal ( gi ) and genitourinary ( gu ) radiotherapy toxicity and resolution rates in a randomised controlled trial ( all-ireland cooperative oncology research group @-@ ) assessing duration of neo-adjuvant ( na ) hormone therapy for localised prostate cancer .',\n",
              " 'node negative patients with > @ of : psa > @ ng/ml , gleason score @ , and stage t@ or more , were included .',\n",
              " 'follow-up , including toxicity assessment , was three-monthly in the early stages and yearly thereafter .',\n",
              " 'median follow-up from the end of rt was @ years .',\n",
              " 'in the interval between @ days following the end of rt and the last toxicity assessment , gi and gu toxicity ( any grade ) was found in @ % and @ % of @ and @ patients , respectively .',\n",
              " 'for those who did develop toxicity , the median time from end of rt until the first development of any grade gi or gu toxicity was @ years and @ years , respectively , whilst median time to final resolution was @ years and @ years , respectively .',\n",
              " 'grade @ ( g@ ) or greater gi and gu toxicity occurred in @ ( @ % ) and @ ( @ % ) patients , respectively .',\n",
              " 'the proportion with unresolved g@ + gi and gu toxicity was @ % and @ % , respectively , in year @ , @ % and @ % in year @ , @ % and @ % in year @ and @ % and @ % in year @ .',\n",
              " 'long-term toxicities continue to occur many years after na hormone therapy and rt. .',\n",
              " 'the rate of occurrence does not appear to reduce within the time frame during which our patients were followed .',\n",
              " 'the percentage of patients suffering from g@ + toxicity at any time is however low .',\n",
              " 'resolution of these toxicities continues for the duration of the follow-up .',\n",
              " 'a novel therapeutic management of osteoarthritis ( oa ) of the knee was assessed .',\n",
              " 'the study aimed to evaluate the effect of monthly sodium bicarbonate with a single ( sbcg@ ) or double dose ( sbcg@ ) of calcium gluconate injections on oa of the knee ; as well as the efficacy and safety of both sbcg interventions in the long term .',\n",
              " 'a double-blind parallel-group clinical trial with @ knee oa patients was performed during @months , both sbcg interventions were followed-up for another @mo after intervention .',\n",
              " \"the outcome variables were the western ontario-mcmaster university osteoarthritis index ( womac ) , the lequesne 's functional index and joint-space width changes from serial radiographs .\",\n",
              " 'after @months , group sbcg@ decreased -@ ( @ % ci : -@ , -@ ) and group sbcg@ decreased -@ ( -@ , -@ ) in the global womac score , the mean changes represent @ % and @ % lessened pain , respectively .',\n",
              " 'in the lequesne functional index scale , sbcg@ decreased -@ ( -@ , -@ ) and sbcg@ decreased -@ ( -@ , -@ ) , representing @ and @ % of improvement .',\n",
              " 'both mean scores were maintained after intervention discontinued .',\n",
              " \"sbcg@ improved the knees ' joint space width more than sbcg@ at @ and @months .\",\n",
              " 'both sbcg interventions were well tolerated after @months of treatment',\n",
              " 'a solution of sodium bicarbonate and calcium gluconate is effective on reducing the symptoms associated with oa .',\n",
              " 'its beneficial effect is maintained for one year of continuous monthly administration and at least for @months after the administration is discontinued .',\n",
              " 'when the dose of calcium gluconate is increased , it prevents further narrowing of joint-space .',\n",
              " 'clinicaltrials.gov nct@ september @ , @ .',\n",
              " 'deprivation of parents might decrease self-esteem ( se ) and result in affective and social incompatibility .',\n",
              " 'in this randomized control trial , we examined the effect of aerobics exercise on se among female adolescents living with no natural family .',\n",
              " 'the sample consisted of all female adolescents aged @ to @ years ( n : @ ) who were covered by isfahan welfare organization .',\n",
              " 'participants were assigned into intervention and control groups by matched random sampling .',\n",
              " 'intervention included @ weeks of aerobics exercise .',\n",
              " 'coppersmith se inventory was administered before and after intervention as well as after one month follow-up .',\n",
              " 'no significant difference was seen between pre-se scores of intervention ( @ @ ) and control ( @ @ ) groups ( t = @ , p = @ ) .',\n",
              " 'a significant difference was obtained in post-se scores ( @ @ versus @ @ , t = @ , p = @ ) and in one month follow-up scores ( @ @ versus @ @ , t = @ , p = @ ) .',\n",
              " 'the results demonstrated a low level of pre-se in both groups .',\n",
              " 'however , a significant improvement was seen in posttest of intervention group which persisted even one month after intervention .',\n",
              " 'it supports the use of aerobics for female adolescents deprived from family life .',\n",
              " 'to evaluate the effect of oral supplementation with omega-@ ( -@ ) fatty acids ( fas ) in improving contrast sensitivity ( cs ) of patients with moderate meibomian gland dysfunction ( mgd ) .',\n",
              " 'in this prospective study , @ patients with moderate mgd were allocated alternately to treatment and control groups .',\n",
              " 'both groups received warm compresses , lid massage , and artificial tear substitutes .',\n",
              " 'the treatment group also received oral supplements of @ g -@ fas per day .',\n",
              " 'all parameters were recorded at baseline and at @ weeks and included ocular surface disease index scores , cs testing at @ , @ , @ , and @ cycles per degree ( cpd ) , tear break-up time , schirmer test i without anesthesia , corneal and conjunctival staining scores , and meibum quality and expressibility .',\n",
              " 'at the end of @ weeks , significant improvement in cs was seen in the treatment group in @ of the @ testing conditions ( @ , @ , @ , and @ cpd photopic and @ , @ , and @ cpd mesopic ) , whereas in the placebo group , significant improvement was seen only in @ of the @ testing conditions ( @ cpd photopic , @ and @ cpd mesopic ) .',\n",
              " 'ocular surface disease index , tear break-up time , ocular surface staining , and meibum quality and expressibility improved significantly in both groups , but more so in the treatment group .',\n",
              " 'schirmer scores showed no significant improvement in either group .',\n",
              " 'oral supplementation with -@ fas significantly improved cs under both photopic and mesopic testing conditions in patients with moderate mgd .',\n",
              " 'tear film stability also improved significantly , whereas no effect was seen on aqueous tear production .',\n",
              " 'concern about pain during placement of an intrauterine device ( iud ) represents a barrier to use , especially among nulliparous women .',\n",
              " 'we hypothesized that nitroglycerin gel applied vaginally @ min prior to iud placement would reduce insertion-related pain .',\n",
              " 'we designed a randomized , double-blinded , placebo-controlled pilot study to evaluate the efficacy and tolerability of @-mg nitroglycerin gel ( @ ml ) or identical placebo gel applied vaginally in nulliparous women @ min prior to iud placement .',\n",
              " 'the study was limited to women who opted for the levonorgestrel-releasing intrauterine system .',\n",
              " 'subjects completed a series of @-mm visual analogue scales at several time points .',\n",
              " 'the primary outcome was subject-reported pain with passage of the iud through the cervix .',\n",
              " 'secondary outcomes included subject-reported pain at other time points , provider-reported ease of insertion , side effects , adverse events and need for additional dilation .',\n",
              " 'a total of @ women were randomized .',\n",
              " 'baseline characteristics were similar between groups .',\n",
              " 'the mean pain score with iud deployment was @ mm -lsb- standard deviation ( sd ) = @ mm -rsb- in the placebo group and @ mm ( sd @ mm ) in the nitroglycerin group ( p = @ ) .',\n",
              " 'there was no difference in ease of insertion reported by providers .',\n",
              " 'two subjects required dilation , one in each group .',\n",
              " 'vaginal administration of @-mg nitroglycerin gel @ min prior to iud placement does not appear to decrease patient-reported procedural pain among nulliparous women or ease of insertion for providers .',\n",
              " 'long-term clinical outcomes of everolimus-eluting stent ( ees ) compared with sirolimus-eluting stent ( ses ) have not been evaluated fully yet , especially whether ees implantation could positively affect late adverse events reported after ses implantation occurring > @ year .',\n",
              " 'in this all-comer prospective multicenter randomized open-label trial , @ patients were assigned randomly to implant either ees ( n = @ ) or ses ( n = @ ) .',\n",
              " 'at @ years , ees was noninferior to ses on the primary safety end point ( all-cause death or myocardial infarction ; @ % versus @ % ; noninferiority p < @ ; and superiority p = @ ) .',\n",
              " 'cumulative incidence of definite stent thrombosis was low and was not significantly different between the @ groups ( @ % versus @ % ; p = @ ) .',\n",
              " 'there was no significant difference in the efficacy end point of target-lesion revascularization between the ees and ses groups ( @ % versus @ % ; p = @ ) .',\n",
              " 'however , the cumulative incidence of target-lesion failure ( cardiac death/target-vessel myocardial infarction/ischemia-driven target-lesion revascularization ) was significantly lower in the ees group than in the ses group ( @ % versus @ % ; p = @ ) .',\n",
              " 'by a landmark analysis at @ year , the cumulative incidence of very late stent thrombosis and late target-lesion revascularization was not significantly different between the @ groups ( @ % versus @ % ; p = @ and @ % versus @ % ; p = @ , respectively ) .',\n",
              " 'the efficacy and safety outcomes for this trial after ees implantation remained comparable with those after ses implantation through @-year follow-up .',\n",
              " 'however , improvement of clinical outcome after ees implantation compared with ses implantation was suggested by the significantly lower cumulative incidences of target-lesion failure , which has been the most widely used primary end point in the stent-versus-stent trials .',\n",
              " 'http://www.clinicaltrials.gov .',\n",
              " 'unique identifier : nct@ .',\n",
              " 'metamizole use has been limited because of its risk of agranulocytosis .',\n",
              " 'however , more recent literature seems to support its safety .',\n",
              " 'this prospective , randomised , double-blind study was conducted to compare the analgesic effects of intravenous metamizole or intravenous paracetamol in combination with morphine pca during the first @h following total hip arthroplasty .',\n",
              " 'one hundred ten consecutive patients were selected for study .',\n",
              " 'the two study groups were ( a ) metamizole , ( b ) paracetamol .',\n",
              " 'postoperative pain therapy was provided by morphine pca pump .',\n",
              " 'in the first treatment group ( a group ) , all patients received intravenous metamizole @ g every @h during the first @ postoperative hours .',\n",
              " 'in the second treatment group ( b group ) , all patients received intravenous paracetamol @g every @h during the first @ postoperative hours .',\n",
              " 'postoperative pain intensity was measured @ , @ , @ , @ , @ , @ , @ , @ , @ , @h after the end of surgery by a vas .',\n",
              " 'statistically significant differences in vas pain values favoring metamizole were reported at @-h ( p = @ ) , @-h ( p = @ ) , @-h ( p = @ ) , @-h ( p < @ ) and @-h ( p = @ ) post-baseline .',\n",
              " 'mean cumulative pain values were @ for metamizole and @ for paracetamol .',\n",
              " 'in this study , we have also shown excellent efficacy of paracetamol and metamizole combined with opioids , but metamizole proved to be a better analgesic than paracetamol .',\n",
              " 'it is also necessary to mention the financial aspect considering that intravenous paracetamol is about ten times more expensive than an equivalent analgesic doses of intravenous metamizole .',\n",
              " 'a malaria vaccine could be an important addition to current control strategies .',\n",
              " 'we report the safety and vaccine efficacy ( ve ) of the rts , s/as@ vaccine during @ mo following vaccination at @ african sites with varying malaria transmission .',\n",
              " '@,@ infants aged @-@ wk and @,@ children aged @-@ mo were randomized to receive three doses of rts , s/as@ or comparator vaccine .',\n",
              " 've against clinical malaria in children during the @ mo after vaccine dose @ ( per protocol ) was @ % ( @ % ci @ % to @ % ) ( range @ % to @ % ; ve , p < @ across all sites ) .',\n",
              " 've during the @ mo after vaccine dose @ ( intention to treat -lsb- itt -rsb- ) was @ % ( @ % ci @ % to @ % ) .',\n",
              " 've against severe malaria , malaria hospitalization , and all-cause hospitalization was @ % ( @ % ci @ % to @ % ) , @ % ( @ % ci @ % to @ % ) , and @ % ( @ % ci @ % to @ % ) , respectively ( itt ) .',\n",
              " 've against clinical malaria in infants was @ % ( @ % ci @ % to @ % , per protocol ; @ % -lsb- @ % ci @ % to @ % -rsb- , itt ) , with no significant protection against severe malaria , malaria hospitalization , or all-cause hospitalization .',\n",
              " 'post-vaccination anti-circumsporozoite antibody geometric mean titer varied from @ to @ eu/ml across sites in children and from @ to @ eu/ml in infants ( per protocol ) .',\n",
              " 've waned over time in both age categories ( schoenfeld residuals p < @ ) .',\n",
              " 'the number of clinical and severe malaria cases averted per @,@ children vaccinated ranged across sites from @ to @,@ and from -@ to @ , respectively ; corresponding ranges among infants were -@ to @,@ and -@ to @ , respectively ( itt ) .',\n",
              " 'meningitis was reported as a serious adverse event in @/@ ,@ and @/@ ,@ children and in @/@ ,@ and @/@ ,@ infants in the rts , s/as@ and control groups , respectively .',\n",
              " 'rts , s/as@ prevented many cases of clinical and severe malaria over the @ mo after vaccine dose @ , with the highest impact in areas with the greatest malaria incidence .',\n",
              " 've was higher in children than in infants , but even at modest levels of ve , the number of malaria cases averted was substantial .',\n",
              " 'rts , s/as@ could be an important addition to current malaria control in africa .',\n",
              " \"www.clinicaltrials.gov nct@ please see later in the article for the editors ' summary .\",\n",
              " 'the purpose of this study was to examine the osteotomy gap filling rate with new bone after open wedge high tibial osteotomy ( hto ) without bone graft and the effects of smoking , lateral hinge fracture , and early full weight bearing .',\n",
              " 'a prospective series ( n = @ ) of open wedge htos with the tomofix plate ( depuy synthes , umkirch , germany ) was performed .',\n",
              " 'radiologic follow-up examinations took place postoperatively , after @ and @ weeks , and after @ , @ , and @ months to measure osteotomy gap filling at each follow-up .',\n",
              " 'bone healing was compared in smokers versus nonsmokers who underwent open wedge htos with intact lateral hinges .',\n",
              " 'fractured lateral hinges were classified according to the takeuchi classification and separately analyzed regarding bone healing .',\n",
              " 'patients were randomly assigned to undergo early ( @ days ) or standard ( @ weeks ) full-weight-bearing rehabilitation .',\n",
              " 'a delay in the osteotomy gap filling rate between smokers and nonsmokers could be observed at all follow-up periods , but differences were not significant .',\n",
              " 'a fracture of the lateral hinge was found in @ % of the patients .',\n",
              " 'a type i fracture was observed in @ % of patients , a type ii fracture was observed in @ % , and a type iii fracture was found in @ % .',\n",
              " 'the highest increase in the osteotomy gap filling rate was observed between @ weeks and @ months after surgery in patients with intact lateral hinges .',\n",
              " 'for patients with unstable type ii fractures , the highest increase in the gap filling rate was delayed until @ to @ months .',\n",
              " 'early full weight bearing had no effect on the gap filling rate in any of the patient groups evaluated .',\n",
              " 'this study shows that osteotomy gap filling after open wedge hto is delayed in smokers and in patients in whom opening of the gap resulted in unstable lateral hinge fractures .',\n",
              " 'early full weight bearing did not have a significant effect on the gap filling rate .',\n",
              " 'level iii , prognostic study .',\n",
              " 'to compare @-day mortality rates and clinical outcomes in icu patients with ventilator-associated pneumonia according to the diagnostic strategy used .',\n",
              " 'this was a prospective randomized clinical trial .',\n",
              " 'of the @ patients included in the study , @ and @ were randomized to undergo bal or endotracheal aspiration ( ea ) , respectively .',\n",
              " 'antibiotic therapy was based on guidelines and was adjusted according to the results of quantitative cultures .',\n",
              " 'the @-day mortality rate was similar in the bal and ea groups ( @ % and @ % , respectively ; p = @ ) .',\n",
              " 'there were no differences between the groups regarding the duration of mechanical ventilation , antibiotic therapy , secondary complications , vap recurrence , or length of icu and hospital stay .',\n",
              " 'initial antibiotic therapy was deemed appropriate in @ ( @ % ) and @ ( @ % ) of the patients in the bal and ea groups , respectively ( p = @ ) .',\n",
              " 'the @-day mortality rate was not associated with the appropriateness of initial therapy in the bal and ea groups ( appropriate therapy : @ % vs. @ % ; p = @ ; and inappropriate therapy : @ % vs. @ % ; p = @ ) .',\n",
              " 'previous use of antibiotics did not affect the culture yield in the ea or bal group ( p = @ and p = @ , respectively ) .',\n",
              " 'in the context of this study , the management of vap patients , based on the results of quantitative endotracheal aspirate cultures , led to similar clinical outcomes to those obtained with the results of quantitative bal fluid cultures .',\n",
              " '( brazilian registry of clinical trials -- rebec ; identification number rbr-@dcdx -lsb- http://www.ensaiosclinicos.gov.br] ) .',\n",
              " 'primary sjgren syndrome is a systemic autoimmune disease characterized by mouth and eye dryness , pain , and fatigue .',\n",
              " 'hydroxychloroquine is the most frequently prescribed immunosuppressant for the syndrome .',\n",
              " 'however , evidence regarding its efficacy is limited .',\n",
              " 'to evaluate the efficacy of hydroxychloroquine for the main symptoms of primary sjgren syndrome : dryness , pain , and fatigue .',\n",
              " 'from april @ to may @ , @ patients with primary sjgren syndrome according to american-european consensus group criteria from @ university hospitals in france were randomized in a double-blind , parallel-group , placebo-controlled trial .',\n",
              " 'participants were assessed at baseline , week @ , week @ ( primary outcome ) , and week @ .',\n",
              " 'the last follow-up date for the last patient was may @ , @ .',\n",
              " 'patients were randomized ( @:@ ) to receive hydroxychloroquine ( @ mg/d ) or placebo until week @ .',\n",
              " 'all patients were prescribed hydroxychloroquine between weeks @ and @ .',\n",
              " 'the primary end point was the proportion of patients with a @ % or greater reduction between weeks @ and @ in scores on @ of @ numeric analog scales ( from @ -lsb- best -rsb- to @ -lsb- worst -rsb- ) evaluating dryness , pain , and fatigue .',\n",
              " 'at @ weeks , the proportion of patients meeting the primary end point was @ % ( @/@ ) in the hydroxychloroquine group and @ % ( @/@ ) in the placebo group ( odds ratio , @ ; @ % ci , @-@ @ ; p = @ ) .',\n",
              " 'between weeks @ and @ , the mean ( sd ) numeric analog scale score for dryness changed from @ ( @ ) to @ ( @ ) in the placebo group and @ ( @ ) to @ ( @ ) in the hydroxychloroquine group .',\n",
              " 'the mean ( sd ) numeric analog scale score for pain changed from @ ( @ ) to @ ( @ ) in the placebo group and @ ( @ ) to @ ( @ ) in the hydroxychloroquine group .',\n",
              " 'the mean ( sd ) numeric analog scale for fatigue changed from @ ( @ ) to @ ( @ ) in the placebo group and @ ( @ ) to @ ( @ ) in the hydroxychloroquine group .',\n",
              " 'all but @ patient in the hydroxychloroquine group had detectable blood levels of the drug .',\n",
              " 'hydroxychloroquine had no efficacy in patients with anti-ssa autoantibodies , high igg levels , or systemic involvement .',\n",
              " 'during the first @ weeks , there were @ serious adverse events in the hydroxychloroquine group and @ in the placebo group ; in the last @ weeks , there were @ serious adverse events in the hydroxychloroquine group and @ in the placebo group .',\n",
              " 'among patients with primary sjgren syndrome , the use of hydroxychloroquine compared with placebo did not improve symptoms during @ weeks of treatment .',\n",
              " 'further studies are needed to evaluate longer-term outcomes .',\n",
              " 'clinicaltrials.gov identifier : nct@ .',\n",
              " 'to determine whether plasma sclerostin levels are affected by applying whole-body vibration treatments .',\n",
              " 'following a pilot study , the pretsent prospective , randomized , controlled single-blind study was performed on @ healthy volunteer women ( ages @ to @ years ) .',\n",
              " 'subjects were randomly divided into @ groups , and whole-body vibration was applied to the treatment group but not to the controls .',\n",
              " 'the plasma sclerostin levels were measured before the treatment and at the @th minute after whole-body vibration on the @st , @nd , and @th days of application .',\n",
              " 'the plasma sclerostin level measured at @ min after the whole-body vibration treatment increased @ % ( p = @ ) on the @st day and decreased @ % ( p = @ ) on the @th day in the whole-body vibration group .',\n",
              " 'in the control group , there was no change in the plasma sclerostin level at any time .',\n",
              " 'a progressive increase in baseline plasma sclerostin levels during the @ days of vibration sessions was also found .',\n",
              " 'our study demonstrated that whole-body vibration can change plasma sclerostin levels , and that this change is detectable @ min after whole-body vibration treatments .',\n",
              " 'knowing family history is important for understanding cancer risk , yet communication within families is suboptimal .',\n",
              " 'providing strategies to enhance communication may be useful .',\n",
              " \"four hundred ninety women were recruited from urban , safety-net , hospital-based primary care women 's health clinics .\",\n",
              " 'participants were randomized to receive the kinfact intervention or the control handout on lowering risks for breast/colon cancer and screening recommendations .',\n",
              " 'cancer family history was reviewed with all participants .',\n",
              " 'the @-minute kinfact intervention , based in communication and behavior theory , included reviewing individualized breast/colon cancer risks and an interactive presentation about cancer and communication .',\n",
              " 'study outcomes included whether participants reported collecting family history , shared cancer risk information with relatives , and the frequency of communication with relatives .',\n",
              " 'data were collected at baseline , @ , @ , and @ months .',\n",
              " 'overall , intervention participants were significantly more likely to gather family cancer information at follow-up ( odds ratio -lsb- or -rsb- : @ ; @ % confidence interval -lsb- ci -rsb- : @ , @ ) and to share familial cancer information with relatives ( or : @ ; @ % ci : @ , @ ) .',\n",
              " 'communication frequency ( @ = not at all ; @ = a lot ) was significantly increased at follow-up ( @ vs. @ ) .',\n",
              " 'differences were not modified by age , race , education , or family history .',\n",
              " 'however , effects were modified by pregnancy status and genetic literacy .',\n",
              " 'intervention effects for information gathering and frequency were observed for nonpregnant women but not for pregnant women .',\n",
              " ...]"
            ]
          },
          "metadata": {},
          "execution_count": 10
        }
      ]
    },
    {
      "cell_type": "code",
      "metadata": {
        "colab": {
          "base_uri": "https://localhost:8080/"
        },
        "id": "oB5UWNgCKb7Y",
        "outputId": "4f17a97d-8b4e-4c80-d7e8-be772c0a66cd"
      },
      "source": [
        "def split_chars(text):\n",
        "  return \" \".join(list(text))\n",
        "\n",
        "test_chars = [split_chars(sentence) for sentence in test_sentences]\n",
        "test_chars[:2]"
      ],
      "execution_count": null,
      "outputs": [
        {
          "output_type": "execute_result",
          "data": {
            "text/plain": [
              "['t h i s   s t u d y   a n a l y z e d   l i v e r   f u n c t i o n   a b n o r m a l i t i e s   i n   h e a r t   f a i l u r e   p a t i e n t s   a d m i t t e d   w i t h   s e v e r e   a c u t e   d e c o m p e n s a t e d   h e a r t   f a i l u r e   (   a d h f   )   .',\n",
              " 'a   p o s t   h o c   a n a l y s i s   w a s   c o n d u c t e d   w i t h   t h e   u s e   o f   d a t a   f r o m   t h e   e v a l u a t i o n   s t u d y   o f   c o n g e s t i v e   h e a r t   f a i l u r e   a n d   p u l m o n a r y   a r t e r y   c a t h e t e r i z a t i o n   e f f e c t i v e n e s s   (   e s c a p e   )   .']"
            ]
          },
          "metadata": {},
          "execution_count": 11
        }
      ]
    },
    {
      "cell_type": "markdown",
      "metadata": {
        "id": "9cWxPErkNPSp"
      },
      "source": [
        "### Labels in numeric form "
      ]
    },
    {
      "cell_type": "code",
      "metadata": {
        "colab": {
          "base_uri": "https://localhost:8080/"
        },
        "id": "jISCMRKU9yDr",
        "outputId": "ff5a47f4-5784-4905-877d-0adf335bd3c1"
      },
      "source": [
        "# one hot encode labels \n",
        "from sklearn.preprocessing import OneHotEncoder\n",
        "one_hot_encoder = OneHotEncoder(sparse=False)\n",
        "test_labels_one_hot = one_hot_encoder.fit_transform(test_df[\"target\"].to_numpy().reshape(-1, 1))\n",
        "test_labels_one_hot"
      ],
      "execution_count": null,
      "outputs": [
        {
          "output_type": "execute_result",
          "data": {
            "text/plain": [
              "array([[1., 0., 0., 0., 0.],\n",
              "       [0., 0., 0., 0., 1.],\n",
              "       [0., 0., 0., 0., 1.],\n",
              "       ...,\n",
              "       [0., 0., 0., 0., 1.],\n",
              "       [0., 0., 0., 0., 1.],\n",
              "       [0., 1., 0., 0., 0.]])"
            ]
          },
          "metadata": {},
          "execution_count": 12
        }
      ]
    },
    {
      "cell_type": "code",
      "metadata": {
        "colab": {
          "base_uri": "https://localhost:8080/"
        },
        "id": "9d4uWhAn-Uai",
        "outputId": "d1b8fb0e-23ef-43cc-d157-707d00119ecb"
      },
      "source": [
        "# Get encoded label\n",
        "from sklearn.preprocessing import LabelEncoder\n",
        "label_encoder = LabelEncoder()\n",
        "test_labels_encoded = label_encoder.fit_transform(test_df[\"target\"].to_numpy())\n",
        "test_labels_encoded"
      ],
      "execution_count": null,
      "outputs": [
        {
          "output_type": "execute_result",
          "data": {
            "text/plain": [
              "array([0, 4, 4, ..., 4, 4, 1])"
            ]
          },
          "metadata": {},
          "execution_count": 13
        }
      ]
    },
    {
      "cell_type": "markdown",
      "metadata": {
        "id": "DJu6rTZNNJTo"
      },
      "source": [
        "### One hot line number and total Lines "
      ]
    },
    {
      "cell_type": "code",
      "metadata": {
        "id": "oIRxK1Ci5TrP"
      },
      "source": [
        "import tensorflow as tf"
      ],
      "execution_count": null,
      "outputs": []
    },
    {
      "cell_type": "code",
      "metadata": {
        "colab": {
          "base_uri": "https://localhost:8080/"
        },
        "id": "UFY8I-6IIVko",
        "outputId": "16a2b9de-af74-4e5b-bc80-5703804962bd"
      },
      "source": [
        "test_line_number_one_hot = tf.one_hot(test_df[\"line_number\"].to_numpy(), depth=15)\n",
        "test_total_lines_one_hot = tf.one_hot(test_df[\"total_lines\"].to_numpy(), depth=20)\n",
        "test_total_lines_one_hot[:10]"
      ],
      "execution_count": null,
      "outputs": [
        {
          "output_type": "execute_result",
          "data": {
            "text/plain": [
              "<tf.Tensor: shape=(10, 20), dtype=float32, numpy=\n",
              "array([[0., 0., 0., 0., 0., 0., 0., 0., 1., 0., 0., 0., 0., 0., 0., 0.,\n",
              "        0., 0., 0., 0.],\n",
              "       [0., 0., 0., 0., 0., 0., 0., 0., 1., 0., 0., 0., 0., 0., 0., 0.,\n",
              "        0., 0., 0., 0.],\n",
              "       [0., 0., 0., 0., 0., 0., 0., 0., 1., 0., 0., 0., 0., 0., 0., 0.,\n",
              "        0., 0., 0., 0.],\n",
              "       [0., 0., 0., 0., 0., 0., 0., 0., 1., 0., 0., 0., 0., 0., 0., 0.,\n",
              "        0., 0., 0., 0.],\n",
              "       [0., 0., 0., 0., 0., 0., 0., 0., 1., 0., 0., 0., 0., 0., 0., 0.,\n",
              "        0., 0., 0., 0.],\n",
              "       [0., 0., 0., 0., 0., 0., 0., 0., 1., 0., 0., 0., 0., 0., 0., 0.,\n",
              "        0., 0., 0., 0.],\n",
              "       [0., 0., 0., 0., 0., 0., 0., 0., 1., 0., 0., 0., 0., 0., 0., 0.,\n",
              "        0., 0., 0., 0.],\n",
              "       [0., 0., 0., 0., 0., 0., 0., 0., 1., 0., 0., 0., 0., 0., 0., 0.,\n",
              "        0., 0., 0., 0.],\n",
              "       [0., 0., 0., 0., 0., 0., 0., 0., 1., 0., 0., 0., 0., 0., 0., 0.,\n",
              "        0., 0., 0., 0.],\n",
              "       [0., 0., 0., 0., 0., 0., 0., 0., 0., 0., 0., 0., 1., 0., 0., 0.,\n",
              "        0., 0., 0., 0.]], dtype=float32)>"
            ]
          },
          "metadata": {},
          "execution_count": 15
        }
      ]
    },
    {
      "cell_type": "markdown",
      "metadata": {
        "id": "jNXwT53mNEMD"
      },
      "source": [
        "### Download the model"
      ]
    },
    {
      "cell_type": "code",
      "metadata": {
        "colab": {
          "base_uri": "https://localhost:8080/"
        },
        "id": "Ex0DG8P__ndJ",
        "outputId": "1c733aea-4dba-49a2-d95e-fac6fd604766"
      },
      "source": [
        "!wget \"https://storage.googleapis.com/ztm_tf_course/skimlit/skimlit_tribrid_model.zip\"\n",
        "!mkdir skimlit_gs_model \n",
        "!unzip skimlit_tribrid_model.zip -d skimlit_gs_model\n"
      ],
      "execution_count": null,
      "outputs": [
        {
          "output_type": "stream",
          "name": "stdout",
          "text": [
            "--2021-09-30 03:42:41--  https://storage.googleapis.com/ztm_tf_course/skimlit/skimlit_tribrid_model.zip\n",
            "Resolving storage.googleapis.com (storage.googleapis.com)... 108.177.120.128, 108.177.121.128, 142.250.128.128, ...\n",
            "Connecting to storage.googleapis.com (storage.googleapis.com)|108.177.120.128|:443... connected.\n",
            "HTTP request sent, awaiting response... 200 OK\n",
            "Length: 962561955 (918M) [application/zip]\n",
            "Saving to: ‘skimlit_tribrid_model.zip’\n",
            "\n",
            "skimlit_tribrid_mod 100%[===================>] 917.97M   120MB/s    in 7.8s    \n",
            "\n",
            "2021-09-30 03:42:49 (118 MB/s) - ‘skimlit_tribrid_model.zip’ saved [962561955/962561955]\n",
            "\n",
            "Archive:  skimlit_tribrid_model.zip\n",
            "   creating: skimlit_gs_model/skimlit_tribrid_model/\n",
            "   creating: skimlit_gs_model/skimlit_tribrid_model/variables/\n",
            "  inflating: skimlit_gs_model/skimlit_tribrid_model/variables/variables.index  \n",
            "  inflating: skimlit_gs_model/skimlit_tribrid_model/variables/variables.data-00000-of-00001  \n",
            "  inflating: skimlit_gs_model/skimlit_tribrid_model/keras_metadata.pb  \n",
            "  inflating: skimlit_gs_model/skimlit_tribrid_model/saved_model.pb  \n",
            "   creating: skimlit_gs_model/skimlit_tribrid_model/assets/\n"
          ]
        }
      ]
    },
    {
      "cell_type": "markdown",
      "metadata": {
        "id": "idGAy5ZbM_-9"
      },
      "source": [
        "### Load the Model "
      ]
    },
    {
      "cell_type": "code",
      "metadata": {
        "id": "S5gHkToJCFZE"
      },
      "source": [
        "import tensorflow as tf "
      ],
      "execution_count": null,
      "outputs": []
    },
    {
      "cell_type": "code",
      "metadata": {
        "id": "Uwpcs9DQA_Vy"
      },
      "source": [
        "laoded_model =  tf.keras.models.load_model(\"/content/skimlit_gs_model/skimlit_tribrid_model\")"
      ],
      "execution_count": null,
      "outputs": []
    },
    {
      "cell_type": "markdown",
      "metadata": {
        "id": "ep4q4wcgM7Yf"
      },
      "source": [
        "### Ready the test dataset "
      ]
    },
    {
      "cell_type": "code",
      "metadata": {
        "colab": {
          "base_uri": "https://localhost:8080/"
        },
        "id": "HLs1qOePCPVc",
        "outputId": "5aaa8de7-63c6-4a0b-d27e-884a64185986"
      },
      "source": [
        "test_dataset_data = tf.data.Dataset.from_tensor_slices((test_line_number_one_hot,\n",
        "                                                   test_total_lines_one_hot,\n",
        "                                                   test_sentences,\n",
        "                                                   test_chars)) \n",
        "test_dataset_labels = tf.data.Dataset.from_tensor_slices(test_labels_one_hot)\n",
        "test_dataset = tf.data.Dataset.zip((test_dataset_data,\n",
        "                                   test_dataset_labels)).batch(32).prefetch(tf.data.AUTOTUNE)\n",
        "test_dataset"
      ],
      "execution_count": null,
      "outputs": [
        {
          "output_type": "execute_result",
          "data": {
            "text/plain": [
              "<PrefetchDataset shapes: (((None, 15), (None, 20), (None,), (None,)), (None, 5)), types: ((tf.float32, tf.float32, tf.string, tf.string), tf.float64)>"
            ]
          },
          "metadata": {},
          "execution_count": 19
        }
      ]
    },
    {
      "cell_type": "markdown",
      "metadata": {
        "id": "xBbpjLFANU-W"
      },
      "source": [
        "### Prediction on test dataset "
      ]
    },
    {
      "cell_type": "code",
      "metadata": {
        "colab": {
          "base_uri": "https://localhost:8080/"
        },
        "id": "YAWNYQtBCEPm",
        "outputId": "e711eb77-0324-4f46-955a-9996fd1df67b"
      },
      "source": [
        "loaded_model_pred_probs =  laoded_model.predict(test_dataset , verbose=1)\n",
        "loaded_model_preds = tf.argmax(loaded_model_pred_probs ,axis=1)\n",
        "loaded_model_preds[:10]"
      ],
      "execution_count": null,
      "outputs": [
        {
          "output_type": "stream",
          "name": "stdout",
          "text": [
            "942/942 [==============================] - 218s 228ms/step\n"
          ]
        },
        {
          "output_type": "execute_result",
          "data": {
            "text/plain": [
              "<tf.Tensor: shape=(10,), dtype=int64, numpy=array([3, 3, 2, 2, 4, 4, 4, 1, 4, 0])>"
            ]
          },
          "metadata": {},
          "execution_count": 20
        }
      ]
    },
    {
      "cell_type": "markdown",
      "metadata": {
        "id": "kq3miN9AOE36"
      },
      "source": [
        "### Getting the helper function"
      ]
    },
    {
      "cell_type": "code",
      "metadata": {
        "colab": {
          "base_uri": "https://localhost:8080/"
        },
        "id": "G_ezDyTsOEF-",
        "outputId": "494d2129-f64c-48d8-8219-38cc8706e3f6"
      },
      "source": [
        "!wget https://raw.githubusercontent.com/mrdbourke/tensorflow-deep-learning/main/extras/helper_functions.py"
      ],
      "execution_count": null,
      "outputs": [
        {
          "output_type": "stream",
          "name": "stdout",
          "text": [
            "--2021-09-30 03:47:00--  https://raw.githubusercontent.com/mrdbourke/tensorflow-deep-learning/main/extras/helper_functions.py\n",
            "Resolving raw.githubusercontent.com (raw.githubusercontent.com)... 185.199.108.133, 185.199.109.133, 185.199.110.133, ...\n",
            "Connecting to raw.githubusercontent.com (raw.githubusercontent.com)|185.199.108.133|:443... connected.\n",
            "HTTP request sent, awaiting response... 200 OK\n",
            "Length: 10246 (10K) [text/plain]\n",
            "Saving to: ‘helper_functions.py’\n",
            "\n",
            "helper_functions.py 100%[===================>]  10.01K  --.-KB/s    in 0s      \n",
            "\n",
            "2021-09-30 03:47:00 (57.5 MB/s) - ‘helper_functions.py’ saved [10246/10246]\n",
            "\n"
          ]
        }
      ]
    },
    {
      "cell_type": "code",
      "metadata": {
        "id": "3QO-nx7NOWDl"
      },
      "source": [
        "from helper_functions import calculate_results"
      ],
      "execution_count": null,
      "outputs": []
    },
    {
      "cell_type": "code",
      "metadata": {
        "colab": {
          "base_uri": "https://localhost:8080/"
        },
        "id": "s-LJQtQrNy6m",
        "outputId": "6d38745c-f56e-421c-9e83-659de833de35"
      },
      "source": [
        "loaded_model_results = calculate_results(test_labels_encoded,\n",
        "                                         loaded_model_preds)\n",
        "loaded_model_results"
      ],
      "execution_count": null,
      "outputs": [
        {
          "output_type": "execute_result",
          "data": {
            "text/plain": [
              "{'accuracy': 82.39588518334163,\n",
              " 'f1': 0.8229369808171064,\n",
              " 'precision': 0.8225726116113812,\n",
              " 'recall': 0.8239588518334163}"
            ]
          },
          "metadata": {},
          "execution_count": 23
        }
      ]
    },
    {
      "cell_type": "markdown",
      "metadata": {
        "id": "oqQRqaInP-nV"
      },
      "source": [
        "## Most Wrong predictions"
      ]
    },
    {
      "cell_type": "code",
      "metadata": {
        "colab": {
          "base_uri": "https://localhost:8080/"
        },
        "id": "_OoQ6VrMOyNg",
        "outputId": "99c11909-077f-44e9-8275-4efdf9346695"
      },
      "source": [
        "test_pred_classes = [label_encoder.classes_[pred] for pred in loaded_model_preds]\n",
        "test_pred_classes"
      ],
      "execution_count": null,
      "outputs": [
        {
          "output_type": "execute_result",
          "data": {
            "text/plain": [
              "['OBJECTIVE',\n",
              " 'OBJECTIVE',\n",
              " 'METHODS',\n",
              " 'METHODS',\n",
              " 'RESULTS',\n",
              " 'RESULTS',\n",
              " 'RESULTS',\n",
              " 'CONCLUSIONS',\n",
              " 'RESULTS',\n",
              " 'BACKGROUND',\n",
              " 'OBJECTIVE',\n",
              " 'METHODS',\n",
              " 'METHODS',\n",
              " 'METHODS',\n",
              " 'RESULTS',\n",
              " 'RESULTS',\n",
              " 'RESULTS',\n",
              " 'RESULTS',\n",
              " 'RESULTS',\n",
              " 'RESULTS',\n",
              " 'CONCLUSIONS',\n",
              " 'CONCLUSIONS',\n",
              " 'OBJECTIVE',\n",
              " 'OBJECTIVE',\n",
              " 'METHODS',\n",
              " 'METHODS',\n",
              " 'RESULTS',\n",
              " 'RESULTS',\n",
              " 'RESULTS',\n",
              " 'CONCLUSIONS',\n",
              " 'CONCLUSIONS',\n",
              " 'BACKGROUND',\n",
              " 'METHODS',\n",
              " 'BACKGROUND',\n",
              " 'METHODS',\n",
              " 'METHODS',\n",
              " 'METHODS',\n",
              " 'METHODS',\n",
              " 'RESULTS',\n",
              " 'RESULTS',\n",
              " 'RESULTS',\n",
              " 'RESULTS',\n",
              " 'CONCLUSIONS',\n",
              " 'CONCLUSIONS',\n",
              " 'BACKGROUND',\n",
              " 'BACKGROUND',\n",
              " 'BACKGROUND',\n",
              " 'OBJECTIVE',\n",
              " 'METHODS',\n",
              " 'METHODS',\n",
              " 'METHODS',\n",
              " 'METHODS',\n",
              " 'METHODS',\n",
              " 'METHODS',\n",
              " 'RESULTS',\n",
              " 'RESULTS',\n",
              " 'CONCLUSIONS',\n",
              " 'CONCLUSIONS',\n",
              " 'OBJECTIVE',\n",
              " 'METHODS',\n",
              " 'METHODS',\n",
              " 'METHODS',\n",
              " 'METHODS',\n",
              " 'METHODS',\n",
              " 'RESULTS',\n",
              " 'RESULTS',\n",
              " 'RESULTS',\n",
              " 'CONCLUSIONS',\n",
              " 'RESULTS',\n",
              " 'OBJECTIVE',\n",
              " 'METHODS',\n",
              " 'METHODS',\n",
              " 'METHODS',\n",
              " 'RESULTS',\n",
              " 'METHODS',\n",
              " 'RESULTS',\n",
              " 'RESULTS',\n",
              " 'RESULTS',\n",
              " 'RESULTS',\n",
              " 'CONCLUSIONS',\n",
              " 'CONCLUSIONS',\n",
              " 'BACKGROUND',\n",
              " 'OBJECTIVE',\n",
              " 'METHODS',\n",
              " 'METHODS',\n",
              " 'METHODS',\n",
              " 'METHODS',\n",
              " 'METHODS',\n",
              " 'METHODS',\n",
              " 'METHODS',\n",
              " 'RESULTS',\n",
              " 'RESULTS',\n",
              " 'RESULTS',\n",
              " 'CONCLUSIONS',\n",
              " 'BACKGROUND',\n",
              " 'OBJECTIVE',\n",
              " 'METHODS',\n",
              " 'RESULTS',\n",
              " 'RESULTS',\n",
              " 'RESULTS',\n",
              " 'CONCLUSIONS',\n",
              " 'OBJECTIVE',\n",
              " 'METHODS',\n",
              " 'METHODS',\n",
              " 'METHODS',\n",
              " 'METHODS',\n",
              " 'METHODS',\n",
              " 'METHODS',\n",
              " 'METHODS',\n",
              " 'RESULTS',\n",
              " 'RESULTS',\n",
              " 'RESULTS',\n",
              " 'CONCLUSIONS',\n",
              " 'BACKGROUND',\n",
              " 'BACKGROUND',\n",
              " 'METHODS',\n",
              " 'METHODS',\n",
              " 'METHODS',\n",
              " 'METHODS',\n",
              " 'METHODS',\n",
              " 'METHODS',\n",
              " 'BACKGROUND',\n",
              " 'RESULTS',\n",
              " 'RESULTS',\n",
              " 'RESULTS',\n",
              " 'RESULTS',\n",
              " 'RESULTS',\n",
              " 'CONCLUSIONS',\n",
              " 'BACKGROUND',\n",
              " 'OBJECTIVE',\n",
              " 'METHODS',\n",
              " 'METHODS',\n",
              " 'RESULTS',\n",
              " 'METHODS',\n",
              " 'RESULTS',\n",
              " 'RESULTS',\n",
              " 'RESULTS',\n",
              " 'RESULTS',\n",
              " 'OBJECTIVE',\n",
              " 'METHODS',\n",
              " 'METHODS',\n",
              " 'METHODS',\n",
              " 'RESULTS',\n",
              " 'RESULTS',\n",
              " 'RESULTS',\n",
              " 'RESULTS',\n",
              " 'RESULTS',\n",
              " 'RESULTS',\n",
              " 'CONCLUSIONS',\n",
              " 'CONCLUSIONS',\n",
              " 'BACKGROUND',\n",
              " 'BACKGROUND',\n",
              " 'METHODS',\n",
              " 'BACKGROUND',\n",
              " 'METHODS',\n",
              " 'METHODS',\n",
              " 'METHODS',\n",
              " 'METHODS',\n",
              " 'METHODS',\n",
              " 'METHODS',\n",
              " 'CONCLUSIONS',\n",
              " 'CONCLUSIONS',\n",
              " 'RESULTS',\n",
              " 'BACKGROUND',\n",
              " 'CONCLUSIONS',\n",
              " 'BACKGROUND',\n",
              " 'OBJECTIVE',\n",
              " 'OBJECTIVE',\n",
              " 'METHODS',\n",
              " 'METHODS',\n",
              " 'RESULTS',\n",
              " 'RESULTS',\n",
              " 'RESULTS',\n",
              " 'RESULTS',\n",
              " 'RESULTS',\n",
              " 'CONCLUSIONS',\n",
              " 'OBJECTIVE',\n",
              " 'OBJECTIVE',\n",
              " 'METHODS',\n",
              " 'METHODS',\n",
              " 'METHODS',\n",
              " 'RESULTS',\n",
              " 'RESULTS',\n",
              " 'RESULTS',\n",
              " 'RESULTS',\n",
              " 'RESULTS',\n",
              " 'RESULTS',\n",
              " 'RESULTS',\n",
              " 'CONCLUSIONS',\n",
              " 'OBJECTIVE',\n",
              " 'BACKGROUND',\n",
              " 'METHODS',\n",
              " 'METHODS',\n",
              " 'METHODS',\n",
              " 'METHODS',\n",
              " 'BACKGROUND',\n",
              " 'RESULTS',\n",
              " 'RESULTS',\n",
              " 'BACKGROUND',\n",
              " 'RESULTS',\n",
              " 'RESULTS',\n",
              " 'CONCLUSIONS',\n",
              " 'CONCLUSIONS',\n",
              " 'CONCLUSIONS',\n",
              " 'OBJECTIVE',\n",
              " 'METHODS',\n",
              " 'METHODS',\n",
              " 'METHODS',\n",
              " 'METHODS',\n",
              " 'RESULTS',\n",
              " 'RESULTS',\n",
              " 'RESULTS',\n",
              " 'RESULTS',\n",
              " 'CONCLUSIONS',\n",
              " 'BACKGROUND',\n",
              " 'METHODS',\n",
              " 'METHODS',\n",
              " 'METHODS',\n",
              " 'METHODS',\n",
              " 'METHODS',\n",
              " 'RESULTS',\n",
              " 'RESULTS',\n",
              " 'RESULTS',\n",
              " 'RESULTS',\n",
              " 'CONCLUSIONS',\n",
              " 'RESULTS',\n",
              " 'RESULTS',\n",
              " 'BACKGROUND',\n",
              " 'OBJECTIVE',\n",
              " 'BACKGROUND',\n",
              " 'METHODS',\n",
              " 'METHODS',\n",
              " 'RESULTS',\n",
              " 'METHODS',\n",
              " 'METHODS',\n",
              " 'RESULTS',\n",
              " 'RESULTS',\n",
              " 'CONCLUSIONS',\n",
              " 'OBJECTIVE',\n",
              " 'OBJECTIVE',\n",
              " 'OBJECTIVE',\n",
              " 'METHODS',\n",
              " 'METHODS',\n",
              " 'METHODS',\n",
              " 'RESULTS',\n",
              " 'RESULTS',\n",
              " 'RESULTS',\n",
              " 'CONCLUSIONS',\n",
              " 'CONCLUSIONS',\n",
              " 'BACKGROUND',\n",
              " 'METHODS',\n",
              " 'METHODS',\n",
              " 'METHODS',\n",
              " 'RESULTS',\n",
              " 'RESULTS',\n",
              " 'RESULTS',\n",
              " 'RESULTS',\n",
              " 'RESULTS',\n",
              " 'CONCLUSIONS',\n",
              " 'CONCLUSIONS',\n",
              " 'BACKGROUND',\n",
              " 'OBJECTIVE',\n",
              " 'METHODS',\n",
              " 'METHODS',\n",
              " 'METHODS',\n",
              " 'METHODS',\n",
              " 'METHODS',\n",
              " 'METHODS',\n",
              " 'RESULTS',\n",
              " 'METHODS',\n",
              " 'RESULTS',\n",
              " 'RESULTS',\n",
              " 'RESULTS',\n",
              " 'CONCLUSIONS',\n",
              " 'RESULTS',\n",
              " 'CONCLUSIONS',\n",
              " 'METHODS',\n",
              " 'CONCLUSIONS',\n",
              " 'BACKGROUND',\n",
              " 'OBJECTIVE',\n",
              " 'METHODS',\n",
              " 'METHODS',\n",
              " 'METHODS',\n",
              " 'METHODS',\n",
              " 'METHODS',\n",
              " 'RESULTS',\n",
              " 'METHODS',\n",
              " 'CONCLUSIONS',\n",
              " 'BACKGROUND',\n",
              " 'OBJECTIVE',\n",
              " 'METHODS',\n",
              " 'METHODS',\n",
              " 'METHODS',\n",
              " 'METHODS',\n",
              " 'RESULTS',\n",
              " 'RESULTS',\n",
              " 'RESULTS',\n",
              " 'RESULTS',\n",
              " 'CONCLUSIONS',\n",
              " 'CONCLUSIONS',\n",
              " 'BACKGROUND',\n",
              " 'OBJECTIVE',\n",
              " 'METHODS',\n",
              " 'METHODS',\n",
              " 'METHODS',\n",
              " 'RESULTS',\n",
              " 'RESULTS',\n",
              " 'RESULTS',\n",
              " 'CONCLUSIONS',\n",
              " 'CONCLUSIONS',\n",
              " 'CONCLUSIONS',\n",
              " 'OBJECTIVE',\n",
              " 'METHODS',\n",
              " 'METHODS',\n",
              " 'METHODS',\n",
              " 'RESULTS',\n",
              " 'RESULTS',\n",
              " 'RESULTS',\n",
              " 'RESULTS',\n",
              " 'RESULTS',\n",
              " 'CONCLUSIONS',\n",
              " 'BACKGROUND',\n",
              " 'BACKGROUND',\n",
              " 'METHODS',\n",
              " 'RESULTS',\n",
              " 'RESULTS',\n",
              " 'RESULTS',\n",
              " 'RESULTS',\n",
              " 'CONCLUSIONS',\n",
              " 'BACKGROUND',\n",
              " 'BACKGROUND',\n",
              " 'METHODS',\n",
              " 'METHODS',\n",
              " 'RESULTS',\n",
              " 'RESULTS',\n",
              " 'RESULTS',\n",
              " 'RESULTS',\n",
              " 'RESULTS',\n",
              " 'RESULTS',\n",
              " 'CONCLUSIONS',\n",
              " 'CONCLUSIONS',\n",
              " 'OBJECTIVE',\n",
              " 'METHODS',\n",
              " 'METHODS',\n",
              " 'METHODS',\n",
              " 'METHODS',\n",
              " 'RESULTS',\n",
              " 'RESULTS',\n",
              " 'RESULTS',\n",
              " 'RESULTS',\n",
              " 'RESULTS',\n",
              " 'CONCLUSIONS',\n",
              " 'CONCLUSIONS',\n",
              " 'BACKGROUND',\n",
              " 'BACKGROUND',\n",
              " 'BACKGROUND',\n",
              " 'METHODS',\n",
              " 'METHODS',\n",
              " 'METHODS',\n",
              " 'METHODS',\n",
              " 'RESULTS',\n",
              " 'RESULTS',\n",
              " 'RESULTS',\n",
              " 'RESULTS',\n",
              " 'RESULTS',\n",
              " 'RESULTS',\n",
              " 'RESULTS',\n",
              " 'RESULTS',\n",
              " 'CONCLUSIONS',\n",
              " 'CONCLUSIONS',\n",
              " 'CONCLUSIONS',\n",
              " 'BACKGROUND',\n",
              " 'BACKGROUND',\n",
              " 'BACKGROUND',\n",
              " 'BACKGROUND',\n",
              " 'METHODS',\n",
              " 'RESULTS',\n",
              " 'METHODS',\n",
              " 'RESULTS',\n",
              " 'RESULTS',\n",
              " 'RESULTS',\n",
              " 'RESULTS',\n",
              " 'RESULTS',\n",
              " 'RESULTS',\n",
              " 'CONCLUSIONS',\n",
              " 'CONCLUSIONS',\n",
              " 'OBJECTIVE',\n",
              " 'OBJECTIVE',\n",
              " 'METHODS',\n",
              " 'RESULTS',\n",
              " 'METHODS',\n",
              " 'RESULTS',\n",
              " 'RESULTS',\n",
              " 'RESULTS',\n",
              " 'RESULTS',\n",
              " 'RESULTS',\n",
              " 'CONCLUSIONS',\n",
              " 'RESULTS',\n",
              " 'BACKGROUND',\n",
              " 'OBJECTIVE',\n",
              " 'METHODS',\n",
              " 'METHODS',\n",
              " 'METHODS',\n",
              " 'METHODS',\n",
              " 'RESULTS',\n",
              " 'RESULTS',\n",
              " 'RESULTS',\n",
              " 'CONCLUSIONS',\n",
              " 'OBJECTIVE',\n",
              " 'METHODS',\n",
              " 'METHODS',\n",
              " 'METHODS',\n",
              " 'RESULTS',\n",
              " 'RESULTS',\n",
              " 'RESULTS',\n",
              " 'RESULTS',\n",
              " 'RESULTS',\n",
              " 'CONCLUSIONS',\n",
              " 'CONCLUSIONS',\n",
              " 'OBJECTIVE',\n",
              " 'METHODS',\n",
              " 'METHODS',\n",
              " 'METHODS',\n",
              " 'RESULTS',\n",
              " 'RESULTS',\n",
              " 'RESULTS',\n",
              " 'RESULTS',\n",
              " 'RESULTS',\n",
              " 'RESULTS',\n",
              " 'RESULTS',\n",
              " 'CONCLUSIONS',\n",
              " 'OBJECTIVE',\n",
              " 'OBJECTIVE',\n",
              " 'RESULTS',\n",
              " 'RESULTS',\n",
              " 'RESULTS',\n",
              " 'RESULTS',\n",
              " 'METHODS',\n",
              " 'RESULTS',\n",
              " 'RESULTS',\n",
              " 'BACKGROUND',\n",
              " 'OBJECTIVE',\n",
              " 'METHODS',\n",
              " 'METHODS',\n",
              " 'RESULTS',\n",
              " 'RESULTS',\n",
              " 'RESULTS',\n",
              " 'RESULTS',\n",
              " 'CONCLUSIONS',\n",
              " 'CONCLUSIONS',\n",
              " 'CONCLUSIONS',\n",
              " 'BACKGROUND',\n",
              " 'BACKGROUND',\n",
              " 'BACKGROUND',\n",
              " 'OBJECTIVE',\n",
              " 'METHODS',\n",
              " 'METHODS',\n",
              " 'METHODS',\n",
              " 'RESULTS',\n",
              " 'CONCLUSIONS',\n",
              " 'CONCLUSIONS',\n",
              " 'CONCLUSIONS',\n",
              " 'BACKGROUND',\n",
              " 'BACKGROUND',\n",
              " 'BACKGROUND',\n",
              " 'METHODS',\n",
              " 'METHODS',\n",
              " 'METHODS',\n",
              " 'METHODS',\n",
              " 'RESULTS',\n",
              " 'RESULTS',\n",
              " 'RESULTS',\n",
              " 'RESULTS',\n",
              " 'CONCLUSIONS',\n",
              " 'CONCLUSIONS',\n",
              " 'CONCLUSIONS',\n",
              " 'CONCLUSIONS',\n",
              " 'BACKGROUND',\n",
              " 'BACKGROUND',\n",
              " 'BACKGROUND',\n",
              " 'METHODS',\n",
              " 'METHODS',\n",
              " 'METHODS',\n",
              " 'METHODS',\n",
              " 'RESULTS',\n",
              " 'RESULTS',\n",
              " 'RESULTS',\n",
              " 'RESULTS',\n",
              " 'CONCLUSIONS',\n",
              " 'CONCLUSIONS',\n",
              " 'CONCLUSIONS',\n",
              " 'BACKGROUND',\n",
              " 'BACKGROUND',\n",
              " 'BACKGROUND',\n",
              " 'OBJECTIVE',\n",
              " 'METHODS',\n",
              " 'METHODS',\n",
              " 'RESULTS',\n",
              " 'RESULTS',\n",
              " 'RESULTS',\n",
              " 'CONCLUSIONS',\n",
              " 'CONCLUSIONS',\n",
              " 'BACKGROUND',\n",
              " 'BACKGROUND',\n",
              " 'METHODS',\n",
              " 'METHODS',\n",
              " 'RESULTS',\n",
              " 'RESULTS',\n",
              " 'RESULTS',\n",
              " 'RESULTS',\n",
              " 'RESULTS',\n",
              " 'CONCLUSIONS',\n",
              " 'CONCLUSIONS',\n",
              " 'BACKGROUND',\n",
              " 'OBJECTIVE',\n",
              " 'METHODS',\n",
              " 'METHODS',\n",
              " 'METHODS',\n",
              " 'RESULTS',\n",
              " 'RESULTS',\n",
              " 'RESULTS',\n",
              " 'RESULTS',\n",
              " 'RESULTS',\n",
              " 'CONCLUSIONS',\n",
              " 'CONCLUSIONS',\n",
              " 'OBJECTIVE',\n",
              " 'OBJECTIVE',\n",
              " 'METHODS',\n",
              " 'METHODS',\n",
              " 'METHODS',\n",
              " 'RESULTS',\n",
              " 'RESULTS',\n",
              " 'CONCLUSIONS',\n",
              " 'CONCLUSIONS',\n",
              " 'OBJECTIVE',\n",
              " 'METHODS',\n",
              " 'METHODS',\n",
              " 'RESULTS',\n",
              " 'RESULTS',\n",
              " 'RESULTS',\n",
              " 'RESULTS',\n",
              " 'RESULTS',\n",
              " 'CONCLUSIONS',\n",
              " 'BACKGROUND',\n",
              " 'BACKGROUND',\n",
              " 'METHODS',\n",
              " 'METHODS',\n",
              " 'METHODS',\n",
              " 'METHODS',\n",
              " 'RESULTS',\n",
              " 'RESULTS',\n",
              " 'RESULTS',\n",
              " 'RESULTS',\n",
              " 'RESULTS',\n",
              " 'CONCLUSIONS',\n",
              " 'BACKGROUND',\n",
              " 'BACKGROUND',\n",
              " 'BACKGROUND',\n",
              " 'BACKGROUND',\n",
              " 'OBJECTIVE',\n",
              " 'METHODS',\n",
              " 'METHODS',\n",
              " 'METHODS',\n",
              " 'METHODS',\n",
              " 'METHODS',\n",
              " 'RESULTS',\n",
              " 'RESULTS',\n",
              " 'RESULTS',\n",
              " 'CONCLUSIONS',\n",
              " 'CONCLUSIONS',\n",
              " 'OBJECTIVE',\n",
              " 'OBJECTIVE',\n",
              " 'METHODS',\n",
              " 'METHODS',\n",
              " 'METHODS',\n",
              " 'RESULTS',\n",
              " 'RESULTS',\n",
              " 'CONCLUSIONS',\n",
              " 'CONCLUSIONS',\n",
              " 'BACKGROUND',\n",
              " 'BACKGROUND',\n",
              " 'BACKGROUND',\n",
              " 'METHODS',\n",
              " 'METHODS',\n",
              " 'METHODS',\n",
              " 'METHODS',\n",
              " 'METHODS',\n",
              " 'METHODS',\n",
              " 'RESULTS',\n",
              " 'RESULTS',\n",
              " 'RESULTS',\n",
              " 'CONCLUSIONS',\n",
              " 'RESULTS',\n",
              " 'RESULTS',\n",
              " 'RESULTS',\n",
              " 'RESULTS',\n",
              " 'RESULTS',\n",
              " 'RESULTS',\n",
              " 'BACKGROUND',\n",
              " 'OBJECTIVE',\n",
              " 'METHODS',\n",
              " 'METHODS',\n",
              " 'METHODS',\n",
              " 'RESULTS',\n",
              " 'METHODS',\n",
              " 'RESULTS',\n",
              " 'RESULTS',\n",
              " 'RESULTS',\n",
              " 'RESULTS',\n",
              " 'CONCLUSIONS',\n",
              " 'CONCLUSIONS',\n",
              " 'CONCLUSIONS',\n",
              " 'CONCLUSIONS',\n",
              " 'BACKGROUND',\n",
              " 'OBJECTIVE',\n",
              " 'METHODS',\n",
              " 'METHODS',\n",
              " 'RESULTS',\n",
              " 'METHODS',\n",
              " 'METHODS',\n",
              " 'METHODS',\n",
              " 'RESULTS',\n",
              " 'RESULTS',\n",
              " 'CONCLUSIONS',\n",
              " 'CONCLUSIONS',\n",
              " 'CONCLUSIONS',\n",
              " 'BACKGROUND',\n",
              " 'OBJECTIVE',\n",
              " 'OBJECTIVE',\n",
              " 'METHODS',\n",
              " 'METHODS',\n",
              " 'METHODS',\n",
              " 'RESULTS',\n",
              " 'RESULTS',\n",
              " 'RESULTS',\n",
              " 'RESULTS',\n",
              " 'RESULTS',\n",
              " 'CONCLUSIONS',\n",
              " 'CONCLUSIONS',\n",
              " 'OBJECTIVE',\n",
              " 'OBJECTIVE',\n",
              " 'METHODS',\n",
              " 'METHODS',\n",
              " 'RESULTS',\n",
              " 'RESULTS',\n",
              " 'RESULTS',\n",
              " 'CONCLUSIONS',\n",
              " 'CONCLUSIONS',\n",
              " 'OBJECTIVE',\n",
              " 'METHODS',\n",
              " 'METHODS',\n",
              " 'METHODS',\n",
              " 'METHODS',\n",
              " 'RESULTS',\n",
              " 'RESULTS',\n",
              " 'OBJECTIVE',\n",
              " 'BACKGROUND',\n",
              " 'BACKGROUND',\n",
              " 'METHODS',\n",
              " 'METHODS',\n",
              " 'METHODS',\n",
              " 'METHODS',\n",
              " 'RESULTS',\n",
              " 'RESULTS',\n",
              " 'METHODS',\n",
              " 'RESULTS',\n",
              " 'RESULTS',\n",
              " 'RESULTS',\n",
              " 'CONCLUSIONS',\n",
              " 'CONCLUSIONS',\n",
              " 'CONCLUSIONS',\n",
              " 'OBJECTIVE',\n",
              " 'METHODS',\n",
              " 'METHODS',\n",
              " 'RESULTS',\n",
              " 'RESULTS',\n",
              " 'METHODS',\n",
              " 'RESULTS',\n",
              " 'CONCLUSIONS',\n",
              " 'OBJECTIVE',\n",
              " 'METHODS',\n",
              " 'METHODS',\n",
              " 'METHODS',\n",
              " 'METHODS',\n",
              " 'METHODS',\n",
              " 'RESULTS',\n",
              " 'RESULTS',\n",
              " 'RESULTS',\n",
              " 'RESULTS',\n",
              " 'RESULTS',\n",
              " 'RESULTS',\n",
              " 'CONCLUSIONS',\n",
              " 'CONCLUSIONS',\n",
              " 'BACKGROUND',\n",
              " 'BACKGROUND',\n",
              " 'BACKGROUND',\n",
              " 'METHODS',\n",
              " 'METHODS',\n",
              " 'METHODS',\n",
              " 'RESULTS',\n",
              " 'RESULTS',\n",
              " 'METHODS',\n",
              " 'RESULTS',\n",
              " 'RESULTS',\n",
              " 'CONCLUSIONS',\n",
              " 'CONCLUSIONS',\n",
              " 'CONCLUSIONS',\n",
              " 'CONCLUSIONS',\n",
              " 'OBJECTIVE',\n",
              " 'METHODS',\n",
              " 'METHODS',\n",
              " 'METHODS',\n",
              " 'METHODS',\n",
              " 'METHODS',\n",
              " 'METHODS',\n",
              " 'RESULTS',\n",
              " 'RESULTS',\n",
              " 'RESULTS',\n",
              " 'RESULTS',\n",
              " 'RESULTS',\n",
              " 'RESULTS',\n",
              " 'CONCLUSIONS',\n",
              " 'CONCLUSIONS',\n",
              " 'BACKGROUND',\n",
              " 'METHODS',\n",
              " 'BACKGROUND',\n",
              " 'OBJECTIVE',\n",
              " 'METHODS',\n",
              " 'RESULTS',\n",
              " 'RESULTS',\n",
              " 'RESULTS',\n",
              " 'RESULTS',\n",
              " 'RESULTS',\n",
              " 'CONCLUSIONS',\n",
              " 'RESULTS',\n",
              " 'BACKGROUND',\n",
              " 'BACKGROUND',\n",
              " 'METHODS',\n",
              " 'METHODS',\n",
              " 'METHODS',\n",
              " 'RESULTS',\n",
              " 'RESULTS',\n",
              " 'RESULTS',\n",
              " 'RESULTS',\n",
              " 'RESULTS',\n",
              " 'RESULTS',\n",
              " 'CONCLUSIONS',\n",
              " 'CONCLUSIONS',\n",
              " 'BACKGROUND',\n",
              " 'BACKGROUND',\n",
              " 'BACKGROUND',\n",
              " 'OBJECTIVE',\n",
              " 'METHODS',\n",
              " 'METHODS',\n",
              " 'METHODS',\n",
              " 'RESULTS',\n",
              " 'RESULTS',\n",
              " 'METHODS',\n",
              " 'RESULTS',\n",
              " 'RESULTS',\n",
              " 'RESULTS',\n",
              " 'RESULTS',\n",
              " 'RESULTS',\n",
              " 'RESULTS',\n",
              " 'RESULTS',\n",
              " 'CONCLUSIONS',\n",
              " 'RESULTS',\n",
              " 'CONCLUSIONS',\n",
              " 'CONCLUSIONS',\n",
              " 'BACKGROUND',\n",
              " 'OBJECTIVE',\n",
              " 'METHODS',\n",
              " 'METHODS',\n",
              " 'METHODS',\n",
              " 'METHODS',\n",
              " 'RESULTS',\n",
              " 'RESULTS',\n",
              " 'RESULTS',\n",
              " 'CONCLUSIONS',\n",
              " 'CONCLUSIONS',\n",
              " 'CONCLUSIONS',\n",
              " 'BACKGROUND',\n",
              " 'BACKGROUND',\n",
              " 'METHODS',\n",
              " 'METHODS',\n",
              " 'METHODS',\n",
              " 'METHODS',\n",
              " 'METHODS',\n",
              " 'METHODS',\n",
              " 'RESULTS',\n",
              " 'RESULTS',\n",
              " 'CONCLUSIONS',\n",
              " 'CONCLUSIONS',\n",
              " 'CONCLUSIONS',\n",
              " 'BACKGROUND',\n",
              " 'BACKGROUND',\n",
              " 'BACKGROUND',\n",
              " 'BACKGROUND',\n",
              " 'BACKGROUND',\n",
              " 'OBJECTIVE',\n",
              " 'METHODS',\n",
              " 'METHODS',\n",
              " 'RESULTS',\n",
              " 'RESULTS',\n",
              " 'RESULTS',\n",
              " 'CONCLUSIONS',\n",
              " 'CONCLUSIONS',\n",
              " 'BACKGROUND',\n",
              " 'BACKGROUND',\n",
              " 'BACKGROUND',\n",
              " 'BACKGROUND',\n",
              " 'METHODS',\n",
              " 'METHODS',\n",
              " 'RESULTS',\n",
              " 'METHODS',\n",
              " 'RESULTS',\n",
              " 'RESULTS',\n",
              " 'RESULTS',\n",
              " 'RESULTS',\n",
              " 'RESULTS',\n",
              " 'RESULTS',\n",
              " 'CONCLUSIONS',\n",
              " 'BACKGROUND',\n",
              " 'BACKGROUND',\n",
              " 'BACKGROUND',\n",
              " 'METHODS',\n",
              " 'METHODS',\n",
              " 'METHODS',\n",
              " 'RESULTS',\n",
              " 'METHODS',\n",
              " 'RESULTS',\n",
              " 'RESULTS',\n",
              " 'CONCLUSIONS',\n",
              " 'RESULTS',\n",
              " 'CONCLUSIONS',\n",
              " 'OBJECTIVE',\n",
              " 'RESULTS',\n",
              " 'METHODS',\n",
              " 'RESULTS',\n",
              " 'METHODS',\n",
              " 'RESULTS',\n",
              " 'RESULTS',\n",
              " 'RESULTS',\n",
              " 'CONCLUSIONS',\n",
              " 'RESULTS',\n",
              " 'RESULTS',\n",
              " 'CONCLUSIONS',\n",
              " 'BACKGROUND',\n",
              " 'OBJECTIVE',\n",
              " 'METHODS',\n",
              " 'METHODS',\n",
              " 'RESULTS',\n",
              " 'RESULTS',\n",
              " 'RESULTS',\n",
              " 'RESULTS',\n",
              " 'RESULTS',\n",
              " 'CONCLUSIONS',\n",
              " 'CONCLUSIONS',\n",
              " 'CONCLUSIONS',\n",
              " 'BACKGROUND',\n",
              " 'BACKGROUND',\n",
              " 'METHODS',\n",
              " 'METHODS',\n",
              " 'METHODS',\n",
              " 'METHODS',\n",
              " 'METHODS',\n",
              " 'RESULTS',\n",
              " 'RESULTS',\n",
              " 'RESULTS',\n",
              " 'RESULTS',\n",
              " 'CONCLUSIONS',\n",
              " 'OBJECTIVE',\n",
              " 'METHODS',\n",
              " 'METHODS',\n",
              " 'METHODS',\n",
              " 'METHODS',\n",
              " 'RESULTS',\n",
              " 'RESULTS',\n",
              " 'RESULTS',\n",
              " 'CONCLUSIONS',\n",
              " 'RESULTS',\n",
              " 'BACKGROUND',\n",
              " 'BACKGROUND',\n",
              " 'METHODS',\n",
              " 'METHODS',\n",
              " 'METHODS',\n",
              " 'METHODS',\n",
              " 'METHODS',\n",
              " 'RESULTS',\n",
              " 'RESULTS',\n",
              " 'RESULTS',\n",
              " 'RESULTS',\n",
              " 'RESULTS',\n",
              " 'CONCLUSIONS',\n",
              " 'BACKGROUND',\n",
              " 'METHODS',\n",
              " 'RESULTS',\n",
              " 'RESULTS',\n",
              " 'RESULTS',\n",
              " 'RESULTS',\n",
              " 'RESULTS',\n",
              " 'CONCLUSIONS',\n",
              " 'CONCLUSIONS',\n",
              " 'BACKGROUND',\n",
              " 'BACKGROUND',\n",
              " 'BACKGROUND',\n",
              " 'BACKGROUND',\n",
              " 'METHODS',\n",
              " 'METHODS',\n",
              " 'METHODS',\n",
              " 'METHODS',\n",
              " 'RESULTS',\n",
              " 'RESULTS',\n",
              " 'METHODS',\n",
              " 'RESULTS',\n",
              " 'RESULTS',\n",
              " 'CONCLUSIONS',\n",
              " 'CONCLUSIONS',\n",
              " 'BACKGROUND',\n",
              " 'BACKGROUND',\n",
              " 'METHODS',\n",
              " 'METHODS',\n",
              " 'METHODS',\n",
              " 'RESULTS',\n",
              " 'RESULTS',\n",
              " 'METHODS',\n",
              " 'RESULTS',\n",
              " 'RESULTS',\n",
              " 'RESULTS',\n",
              " 'CONCLUSIONS',\n",
              " 'CONCLUSIONS',\n",
              " 'CONCLUSIONS',\n",
              " 'CONCLUSIONS',\n",
              " 'OBJECTIVE',\n",
              " 'METHODS',\n",
              " 'METHODS',\n",
              " 'METHODS',\n",
              " 'METHODS',\n",
              " 'METHODS',\n",
              " 'RESULTS',\n",
              " 'RESULTS',\n",
              " 'RESULTS',\n",
              " 'RESULTS',\n",
              " 'RESULTS',\n",
              " 'RESULTS',\n",
              " 'CONCLUSIONS',\n",
              " 'RESULTS',\n",
              " 'METHODS',\n",
              " 'OBJECTIVE',\n",
              " 'METHODS',\n",
              " 'METHODS',\n",
              " 'METHODS',\n",
              " 'RESULTS',\n",
              " 'RESULTS',\n",
              " 'RESULTS',\n",
              " 'RESULTS',\n",
              " 'RESULTS',\n",
              " 'CONCLUSIONS',\n",
              " 'CONCLUSIONS',\n",
              " 'BACKGROUND',\n",
              " 'BACKGROUND',\n",
              " 'BACKGROUND',\n",
              " 'OBJECTIVE',\n",
              " 'METHODS',\n",
              " 'METHODS',\n",
              " 'METHODS',\n",
              " 'METHODS',\n",
              " 'RESULTS',\n",
              " 'RESULTS',\n",
              " 'RESULTS',\n",
              " 'RESULTS',\n",
              " 'RESULTS',\n",
              " 'RESULTS',\n",
              " 'RESULTS',\n",
              " 'CONCLUSIONS',\n",
              " 'RESULTS',\n",
              " 'CONCLUSIONS',\n",
              " 'CONCLUSIONS',\n",
              " 'BACKGROUND',\n",
              " 'OBJECTIVE',\n",
              " 'METHODS',\n",
              " 'METHODS',\n",
              " 'METHODS',\n",
              " 'RESULTS',\n",
              " 'RESULTS',\n",
              " 'RESULTS',\n",
              " 'CONCLUSIONS',\n",
              " 'BACKGROUND',\n",
              " 'BACKGROUND',\n",
              " 'METHODS',\n",
              " 'METHODS',\n",
              " 'METHODS',\n",
              " 'METHODS',\n",
              " 'METHODS',\n",
              " 'METHODS',\n",
              " 'RESULTS',\n",
              " 'RESULTS',\n",
              " 'RESULTS',\n",
              " 'CONCLUSIONS',\n",
              " 'CONCLUSIONS',\n",
              " ...]"
            ]
          },
          "metadata": {},
          "execution_count": 24
        }
      ]
    },
    {
      "cell_type": "code",
      "metadata": {
        "colab": {
          "base_uri": "https://localhost:8080/",
          "height": 204
        },
        "id": "iiGG3I_6Qij7",
        "outputId": "cdd16fd9-3035-4e8a-c10c-23624e5346bc"
      },
      "source": [
        "test_df[\"predictions\"] = test_pred_classes\n",
        "test_df[\"pred_probs\"] = tf.reduce_max(loaded_model_pred_probs , axis=1).numpy()\n",
        "test_df[\"correct\"] = test_df[\"predictions\"] == test_df[\"target\"]\n",
        "test_df.head()"
      ],
      "execution_count": null,
      "outputs": [
        {
          "output_type": "execute_result",
          "data": {
            "text/html": [
              "<div>\n",
              "<style scoped>\n",
              "    .dataframe tbody tr th:only-of-type {\n",
              "        vertical-align: middle;\n",
              "    }\n",
              "\n",
              "    .dataframe tbody tr th {\n",
              "        vertical-align: top;\n",
              "    }\n",
              "\n",
              "    .dataframe thead th {\n",
              "        text-align: right;\n",
              "    }\n",
              "</style>\n",
              "<table border=\"1\" class=\"dataframe\">\n",
              "  <thead>\n",
              "    <tr style=\"text-align: right;\">\n",
              "      <th></th>\n",
              "      <th>target</th>\n",
              "      <th>text</th>\n",
              "      <th>line_number</th>\n",
              "      <th>total_lines</th>\n",
              "      <th>predictions</th>\n",
              "      <th>pred_probs</th>\n",
              "      <th>correct</th>\n",
              "    </tr>\n",
              "  </thead>\n",
              "  <tbody>\n",
              "    <tr>\n",
              "      <th>0</th>\n",
              "      <td>BACKGROUND</td>\n",
              "      <td>this study analyzed liver function abnormaliti...</td>\n",
              "      <td>0</td>\n",
              "      <td>8</td>\n",
              "      <td>OBJECTIVE</td>\n",
              "      <td>0.513077</td>\n",
              "      <td>False</td>\n",
              "    </tr>\n",
              "    <tr>\n",
              "      <th>1</th>\n",
              "      <td>RESULTS</td>\n",
              "      <td>a post hoc analysis was conducted with the use...</td>\n",
              "      <td>1</td>\n",
              "      <td>8</td>\n",
              "      <td>OBJECTIVE</td>\n",
              "      <td>0.310540</td>\n",
              "      <td>False</td>\n",
              "    </tr>\n",
              "    <tr>\n",
              "      <th>2</th>\n",
              "      <td>RESULTS</td>\n",
              "      <td>liver function tests ( lfts ) were measured at...</td>\n",
              "      <td>2</td>\n",
              "      <td>8</td>\n",
              "      <td>METHODS</td>\n",
              "      <td>0.801705</td>\n",
              "      <td>False</td>\n",
              "    </tr>\n",
              "    <tr>\n",
              "      <th>3</th>\n",
              "      <td>RESULTS</td>\n",
              "      <td>survival analyses were used to assess the asso...</td>\n",
              "      <td>3</td>\n",
              "      <td>8</td>\n",
              "      <td>METHODS</td>\n",
              "      <td>0.627319</td>\n",
              "      <td>False</td>\n",
              "    </tr>\n",
              "    <tr>\n",
              "      <th>4</th>\n",
              "      <td>RESULTS</td>\n",
              "      <td>the percentage of patients with abnormal lfts ...</td>\n",
              "      <td>4</td>\n",
              "      <td>8</td>\n",
              "      <td>RESULTS</td>\n",
              "      <td>0.718288</td>\n",
              "      <td>True</td>\n",
              "    </tr>\n",
              "  </tbody>\n",
              "</table>\n",
              "</div>"
            ],
            "text/plain": [
              "       target  ... correct\n",
              "0  BACKGROUND  ...   False\n",
              "1     RESULTS  ...   False\n",
              "2     RESULTS  ...   False\n",
              "3     RESULTS  ...   False\n",
              "4     RESULTS  ...    True\n",
              "\n",
              "[5 rows x 7 columns]"
            ]
          },
          "metadata": {},
          "execution_count": 25
        }
      ]
    },
    {
      "cell_type": "code",
      "metadata": {
        "colab": {
          "base_uri": "https://localhost:8080/",
          "height": 419
        },
        "id": "G5-Ljey0RC0C",
        "outputId": "196e6676-1ca3-46cd-fa06-b4a2402c7e77"
      },
      "source": [
        "# find the most wrong predictions \n",
        "test_df_most_wrong = test_df[test_df[\"correct\"] == False].sort_values(\"pred_probs\" , ascending=False)[:100]\n",
        "test_df_most_wrong"
      ],
      "execution_count": null,
      "outputs": [
        {
          "output_type": "execute_result",
          "data": {
            "text/html": [
              "<div>\n",
              "<style scoped>\n",
              "    .dataframe tbody tr th:only-of-type {\n",
              "        vertical-align: middle;\n",
              "    }\n",
              "\n",
              "    .dataframe tbody tr th {\n",
              "        vertical-align: top;\n",
              "    }\n",
              "\n",
              "    .dataframe thead th {\n",
              "        text-align: right;\n",
              "    }\n",
              "</style>\n",
              "<table border=\"1\" class=\"dataframe\">\n",
              "  <thead>\n",
              "    <tr style=\"text-align: right;\">\n",
              "      <th></th>\n",
              "      <th>target</th>\n",
              "      <th>text</th>\n",
              "      <th>line_number</th>\n",
              "      <th>total_lines</th>\n",
              "      <th>predictions</th>\n",
              "      <th>pred_probs</th>\n",
              "      <th>correct</th>\n",
              "    </tr>\n",
              "  </thead>\n",
              "  <tbody>\n",
              "    <tr>\n",
              "      <th>16347</th>\n",
              "      <td>BACKGROUND</td>\n",
              "      <td>to evaluate the effects of the lactic acid bac...</td>\n",
              "      <td>0</td>\n",
              "      <td>12</td>\n",
              "      <td>OBJECTIVE</td>\n",
              "      <td>0.944838</td>\n",
              "      <td>False</td>\n",
              "    </tr>\n",
              "    <tr>\n",
              "      <th>13874</th>\n",
              "      <td>CONCLUSIONS</td>\n",
              "      <td>symptom outcomes will be assessed and estimate...</td>\n",
              "      <td>4</td>\n",
              "      <td>6</td>\n",
              "      <td>METHODS</td>\n",
              "      <td>0.941099</td>\n",
              "      <td>False</td>\n",
              "    </tr>\n",
              "    <tr>\n",
              "      <th>1221</th>\n",
              "      <td>RESULTS</td>\n",
              "      <td>data were collected prospectively for @ months...</td>\n",
              "      <td>3</td>\n",
              "      <td>13</td>\n",
              "      <td>METHODS</td>\n",
              "      <td>0.928523</td>\n",
              "      <td>False</td>\n",
              "    </tr>\n",
              "    <tr>\n",
              "      <th>13598</th>\n",
              "      <td>METHODS</td>\n",
              "      <td>-@ % vs. fish : -@ % vs. fish + s : -@ % ; p &lt;...</td>\n",
              "      <td>6</td>\n",
              "      <td>9</td>\n",
              "      <td>RESULTS</td>\n",
              "      <td>0.918107</td>\n",
              "      <td>False</td>\n",
              "    </tr>\n",
              "    <tr>\n",
              "      <th>21382</th>\n",
              "      <td>OBJECTIVE</td>\n",
              "      <td>design , settings , participants , and interve...</td>\n",
              "      <td>3</td>\n",
              "      <td>13</td>\n",
              "      <td>METHODS</td>\n",
              "      <td>0.918088</td>\n",
              "      <td>False</td>\n",
              "    </tr>\n",
              "    <tr>\n",
              "      <th>...</th>\n",
              "      <td>...</td>\n",
              "      <td>...</td>\n",
              "      <td>...</td>\n",
              "      <td>...</td>\n",
              "      <td>...</td>\n",
              "      <td>...</td>\n",
              "      <td>...</td>\n",
              "    </tr>\n",
              "    <tr>\n",
              "      <th>12269</th>\n",
              "      <td>RESULTS</td>\n",
              "      <td>patients received oral se tablets ( @ mcg ) or...</td>\n",
              "      <td>4</td>\n",
              "      <td>10</td>\n",
              "      <td>METHODS</td>\n",
              "      <td>0.821220</td>\n",
              "      <td>False</td>\n",
              "    </tr>\n",
              "    <tr>\n",
              "      <th>9881</th>\n",
              "      <td>RESULTS</td>\n",
              "      <td>the primary outcome was bp control , and secon...</td>\n",
              "      <td>4</td>\n",
              "      <td>11</td>\n",
              "      <td>METHODS</td>\n",
              "      <td>0.821166</td>\n",
              "      <td>False</td>\n",
              "    </tr>\n",
              "    <tr>\n",
              "      <th>1220</th>\n",
              "      <td>RESULTS</td>\n",
              "      <td>the group intervention consisted of @ weekly c...</td>\n",
              "      <td>2</td>\n",
              "      <td>13</td>\n",
              "      <td>METHODS</td>\n",
              "      <td>0.821033</td>\n",
              "      <td>False</td>\n",
              "    </tr>\n",
              "    <tr>\n",
              "      <th>22105</th>\n",
              "      <td>RESULTS</td>\n",
              "      <td>we randomised @ statin treated cvd patients an...</td>\n",
              "      <td>3</td>\n",
              "      <td>12</td>\n",
              "      <td>METHODS</td>\n",
              "      <td>0.820954</td>\n",
              "      <td>False</td>\n",
              "    </tr>\n",
              "    <tr>\n",
              "      <th>16840</th>\n",
              "      <td>RESULTS</td>\n",
              "      <td>the primary endpoint was a composite of cardio...</td>\n",
              "      <td>3</td>\n",
              "      <td>12</td>\n",
              "      <td>METHODS</td>\n",
              "      <td>0.820538</td>\n",
              "      <td>False</td>\n",
              "    </tr>\n",
              "  </tbody>\n",
              "</table>\n",
              "<p>100 rows × 7 columns</p>\n",
              "</div>"
            ],
            "text/plain": [
              "            target  ... correct\n",
              "16347   BACKGROUND  ...   False\n",
              "13874  CONCLUSIONS  ...   False\n",
              "1221       RESULTS  ...   False\n",
              "13598      METHODS  ...   False\n",
              "21382    OBJECTIVE  ...   False\n",
              "...            ...  ...     ...\n",
              "12269      RESULTS  ...   False\n",
              "9881       RESULTS  ...   False\n",
              "1220       RESULTS  ...   False\n",
              "22105      RESULTS  ...   False\n",
              "16840      RESULTS  ...   False\n",
              "\n",
              "[100 rows x 7 columns]"
            ]
          },
          "metadata": {},
          "execution_count": 26
        }
      ]
    },
    {
      "cell_type": "code",
      "metadata": {
        "colab": {
          "base_uri": "https://localhost:8080/"
        },
        "id": "yIK6ba52SFxz",
        "outputId": "3217ae3b-4fe1-47d4-c349-7ca43f8c90a4"
      },
      "source": [
        "for row in test_df_most_wrong[0:10].itertuples():\n",
        "  _,target , text , _ , _ , predictions , _ , correct = row \n",
        "  print(f\"Target: {target} , Pred:{predictions}, correct:{correct}\")\n",
        "  print(f\"Text:\\n{text}\")\n",
        "  print(\"\\n\")\n"
      ],
      "execution_count": null,
      "outputs": [
        {
          "output_type": "stream",
          "name": "stdout",
          "text": [
            "Target: BACKGROUND , Pred:OBJECTIVE, correct:False\n",
            "Text:\n",
            "to evaluate the effects of the lactic acid bacterium lactobacillus salivarius on caries risk factors .\n",
            "\n",
            "\n",
            "Target: CONCLUSIONS , Pred:METHODS, correct:False\n",
            "Text:\n",
            "symptom outcomes will be assessed and estimates of cost-effectiveness made .\n",
            "\n",
            "\n",
            "Target: RESULTS , Pred:METHODS, correct:False\n",
            "Text:\n",
            "data were collected prospectively for @ months beginning after completion of the first @ group clinic appointments ( @ months post randomization ) .\n",
            "\n",
            "\n",
            "Target: METHODS , Pred:RESULTS, correct:False\n",
            "Text:\n",
            "-@ % vs. fish : -@ % vs. fish + s : -@ % ; p < @ ) but there were no significant differences between groups .\n",
            "\n",
            "\n",
            "Target: OBJECTIVE , Pred:METHODS, correct:False\n",
            "Text:\n",
            "design , settings , participants , and intervention : ten healthy , normal-weight men were studied in randomized , double-blind fashion , each receiving a @-minute intraduodenal infusion of l-trp at @ ( total @ kcal ) or @ ( total @ kcal ) kcal/min or saline ( control ) .\n",
            "\n",
            "\n",
            "Target: METHODS , Pred:RESULTS, correct:False\n",
            "Text:\n",
            "at this time , an as@ response was achieved by @ ( @ % ) and @ ( @ % ) patients in groups @ and @ , respectively ( p < @ for all ) .\n",
            "\n",
            "\n",
            "Target: RESULTS , Pred:METHODS, correct:False\n",
            "Text:\n",
            "a cluster randomised trial was implemented with @,@ children in @ government primary schools on the south coast of kenya in @-@ .\n",
            "\n",
            "\n",
            "Target: BACKGROUND , Pred:OBJECTIVE, correct:False\n",
            "Text:\n",
            "to compare the efficacy of the newcastle infant dialysis and ultrafiltration system ( nidus ) with peritoneal dialysis ( pd ) and conventional haemodialysis ( hd ) in infants weighing < @ kg .\n",
            "\n",
            "\n",
            "Target: RESULTS , Pred:METHODS, correct:False\n",
            "Text:\n",
            "baseline measures included sociodemographics , standardized anthropometrics , asthma control test ( act ) , gerd symptom assessment scale , pittsburgh sleep quality index , and berlin questionnaire for sleep apnea .\n",
            "\n",
            "\n",
            "Target: BACKGROUND , Pred:OBJECTIVE, correct:False\n",
            "Text:\n",
            "to assess the temporal patterns of late gastrointestinal ( gi ) and genitourinary ( gu ) radiotherapy toxicity and resolution rates in a randomised controlled trial ( all-ireland cooperative oncology research group @-@ ) assessing duration of neo-adjuvant ( na ) hormone therapy for localised prostate cancer .\n",
            "\n",
            "\n"
          ]
        }
      ]
    },
    {
      "cell_type": "markdown",
      "metadata": {
        "id": "5-SSkKgk5rF9"
      },
      "source": [
        "### Predcition on sbstracts from pubmed"
      ]
    },
    {
      "cell_type": "code",
      "metadata": {
        "colab": {
          "base_uri": "https://localhost:8080/"
        },
        "id": "VmNg4u8eT1UI",
        "outputId": "20d8fd0f-55bf-4c3c-aae1-33f2883b81b4"
      },
      "source": [
        "!wget https://raw.githubusercontent.com/mrdbourke/tensorflow-deep-learning/main/extras/skimlit_example_abstracts.json"
      ],
      "execution_count": null,
      "outputs": [
        {
          "output_type": "stream",
          "name": "stdout",
          "text": [
            "--2021-09-30 03:47:16--  https://raw.githubusercontent.com/mrdbourke/tensorflow-deep-learning/main/extras/skimlit_example_abstracts.json\n",
            "Resolving raw.githubusercontent.com (raw.githubusercontent.com)... 185.199.108.133, 185.199.111.133, 185.199.109.133, ...\n",
            "Connecting to raw.githubusercontent.com (raw.githubusercontent.com)|185.199.108.133|:443... connected.\n",
            "HTTP request sent, awaiting response... 200 OK\n",
            "Length: 6737 (6.6K) [text/plain]\n",
            "Saving to: ‘skimlit_example_abstracts.json’\n",
            "\n",
            "skimlit_example_abs 100%[===================>]   6.58K  --.-KB/s    in 0s      \n",
            "\n",
            "2021-09-30 03:47:16 (57.3 MB/s) - ‘skimlit_example_abstracts.json’ saved [6737/6737]\n",
            "\n"
          ]
        }
      ]
    },
    {
      "cell_type": "code",
      "metadata": {
        "id": "bvjXfzvH7zkn"
      },
      "source": [
        "import json"
      ],
      "execution_count": null,
      "outputs": []
    },
    {
      "cell_type": "code",
      "metadata": {
        "colab": {
          "base_uri": "https://localhost:8080/"
        },
        "id": "OnvvKOBu50TA",
        "outputId": "bf3c9511-31e7-42e1-f335-d4aa7c0bac60"
      },
      "source": [
        "with open(\"skimlit_example_abstracts.json\", \"r\") as f:\n",
        "  example_abstracts = json.load(f)\n",
        "\n",
        "example_abstracts"
      ],
      "execution_count": null,
      "outputs": [
        {
          "output_type": "execute_result",
          "data": {
            "text/plain": [
              "[{'abstract': 'This RCT examined the efficacy of a manualized social intervention for children with HFASDs. Participants were randomly assigned to treatment or wait-list conditions. Treatment included instruction and therapeutic activities targeting social skills, face-emotion recognition, interest expansion, and interpretation of non-literal language. A response-cost program was applied to reduce problem behaviors and foster skills acquisition. Significant treatment effects were found for five of seven primary outcome measures (parent ratings and direct child measures). Secondary measures based on staff ratings (treatment group only) corroborated gains reported by parents. High levels of parent, child and staff satisfaction were reported, along with high levels of treatment fidelity. Standardized effect size estimates were primarily in the medium and large ranges and favored the treatment group.',\n",
              "  'details': 'RCT of a manualized social treatment for high-functioning autism spectrum disorders',\n",
              "  'source': 'https://pubmed.ncbi.nlm.nih.gov/20232240/'},\n",
              " {'abstract': \"Postpartum depression (PPD) is the most prevalent mood disorder associated with childbirth. No single cause of PPD has been identified, however the increased risk of nutritional deficiencies incurred through the high nutritional requirements of pregnancy may play a role in the pathology of depressive symptoms. Three nutritional interventions have drawn particular interest as possible non-invasive and cost-effective prevention and/or treatment strategies for PPD; omega-3 (n-3) long chain polyunsaturated fatty acids (LCPUFA), vitamin D and overall diet. We searched for meta-analyses of randomised controlled trials (RCT's) of nutritional interventions during the perinatal period with PPD as an outcome, and checked for any trials published subsequently to the meta-analyses. Fish oil: Eleven RCT's of prenatal fish oil supplementation RCT's show null and positive effects on PPD symptoms. Vitamin D: no relevant RCT's were identified, however seven observational studies of maternal vitamin D levels with PPD outcomes showed inconsistent associations. Diet: Two Australian RCT's with dietary advice interventions in pregnancy had a positive and null result on PPD. With the exception of fish oil, few RCT's with nutritional interventions during pregnancy assess PPD. Further research is needed to determine whether nutritional intervention strategies during pregnancy can protect against symptoms of PPD. Given the prevalence of PPD and ease of administering PPD measures, we recommend future prenatal nutritional RCT's include PPD as an outcome.\",\n",
              "  'details': 'Formatting removed (can be used to compare model to actual example)',\n",
              "  'source': 'https://pubmed.ncbi.nlm.nih.gov/28012571/'},\n",
              " {'abstract': 'Mental illness, including depression, anxiety and bipolar disorder, accounts for a significant proportion of global disability and poses a substantial social, economic and heath burden. Treatment is presently dominated by pharmacotherapy, such as antidepressants, and psychotherapy, such as cognitive behavioural therapy; however, such treatments avert less than half of the disease burden, suggesting that additional strategies are needed to prevent and treat mental disorders. There are now consistent mechanistic, observational and interventional data to suggest diet quality may be a modifiable risk factor for mental illness. This review provides an overview of the nutritional psychiatry field. It includes a discussion of the neurobiological mechanisms likely modulated by diet, the use of dietary and nutraceutical interventions in mental disorders, and recommendations for further research. Potential biological pathways related to mental disorders include inflammation, oxidative stress, the gut microbiome, epigenetic modifications and neuroplasticity. Consistent epidemiological evidence, particularly for depression, suggests an association between measures of diet quality and mental health, across multiple populations and age groups; these do not appear to be explained by other demographic, lifestyle factors or reverse causality. Our recently published intervention trial provides preliminary clinical evidence that dietary interventions in clinically diagnosed populations are feasible and can provide significant clinical benefit. Furthermore, nutraceuticals including n-3 fatty acids, folate, S-adenosylmethionine, N-acetyl cysteine and probiotics, among others, are promising avenues for future research. Continued research is now required to investigate the efficacy of intervention studies in large cohorts and within clinically relevant populations, particularly in patients with schizophrenia, bipolar and anxiety disorders.',\n",
              "  'details': 'Effect of nutrition on mental health',\n",
              "  'source': 'https://pubmed.ncbi.nlm.nih.gov/28942748/'},\n",
              " {'abstract': \"Hepatitis C virus (HCV) and alcoholic liver disease (ALD), either alone or in combination, count for more than two thirds of all liver diseases in the Western world. There is no safe level of drinking in HCV-infected patients and the most effective goal for these patients is total abstinence. Baclofen, a GABA(B) receptor agonist, represents a promising pharmacotherapy for alcohol dependence (AD). Previously, we performed a randomized clinical trial (RCT), which demonstrated the safety and efficacy of baclofen in patients affected by AD and cirrhosis. The goal of this post-hoc analysis was to explore baclofen's effect in a subgroup of alcohol-dependent HCV-infected cirrhotic patients. Any patient with HCV infection was selected for this analysis. Among the 84 subjects randomized in the main trial, 24 alcohol-dependent cirrhotic patients had a HCV infection; 12 received baclofen 10mg t.i.d. and 12 received placebo for 12-weeks. With respect to the placebo group (3/12, 25.0%), a significantly higher number of patients who achieved and maintained total alcohol abstinence was found in the baclofen group (10/12, 83.3%; p=0.0123). Furthermore, in the baclofen group, compared to placebo, there was a significantly higher increase in albumin values from baseline (p=0.0132) and a trend toward a significant reduction in INR levels from baseline (p=0.0716). In conclusion, baclofen was safe and significantly more effective than placebo in promoting alcohol abstinence, and improving some Liver Function Tests (LFTs) (i.e. albumin, INR) in alcohol-dependent HCV-infected cirrhotic patients. Baclofen may represent a clinically relevant alcohol pharmacotherapy for these patients.\",\n",
              "  'details': 'Baclofen promotes alcohol abstinence in alcohol dependent cirrhotic patients with hepatitis C virus (HCV) infection',\n",
              "  'source': 'https://pubmed.ncbi.nlm.nih.gov/22244707/'}]"
            ]
          },
          "metadata": {},
          "execution_count": 30
        }
      ]
    },
    {
      "cell_type": "code",
      "metadata": {
        "id": "3Wcg3lXa76T5"
      },
      "source": [
        "import pandas as pd "
      ],
      "execution_count": null,
      "outputs": []
    },
    {
      "cell_type": "code",
      "metadata": {
        "colab": {
          "base_uri": "https://localhost:8080/",
          "height": 173
        },
        "id": "jvpZFtdd6QLw",
        "outputId": "3704f008-b0dc-47f1-8ffa-60dce9e311ce"
      },
      "source": [
        "abstracts = pd.DataFrame(example_abstracts)\n",
        "abstracts"
      ],
      "execution_count": null,
      "outputs": [
        {
          "output_type": "execute_result",
          "data": {
            "text/html": [
              "<div>\n",
              "<style scoped>\n",
              "    .dataframe tbody tr th:only-of-type {\n",
              "        vertical-align: middle;\n",
              "    }\n",
              "\n",
              "    .dataframe tbody tr th {\n",
              "        vertical-align: top;\n",
              "    }\n",
              "\n",
              "    .dataframe thead th {\n",
              "        text-align: right;\n",
              "    }\n",
              "</style>\n",
              "<table border=\"1\" class=\"dataframe\">\n",
              "  <thead>\n",
              "    <tr style=\"text-align: right;\">\n",
              "      <th></th>\n",
              "      <th>abstract</th>\n",
              "      <th>source</th>\n",
              "      <th>details</th>\n",
              "    </tr>\n",
              "  </thead>\n",
              "  <tbody>\n",
              "    <tr>\n",
              "      <th>0</th>\n",
              "      <td>This RCT examined the efficacy of a manualized...</td>\n",
              "      <td>https://pubmed.ncbi.nlm.nih.gov/20232240/</td>\n",
              "      <td>RCT of a manualized social treatment for high-...</td>\n",
              "    </tr>\n",
              "    <tr>\n",
              "      <th>1</th>\n",
              "      <td>Postpartum depression (PPD) is the most preval...</td>\n",
              "      <td>https://pubmed.ncbi.nlm.nih.gov/28012571/</td>\n",
              "      <td>Formatting removed (can be used to compare mod...</td>\n",
              "    </tr>\n",
              "    <tr>\n",
              "      <th>2</th>\n",
              "      <td>Mental illness, including depression, anxiety ...</td>\n",
              "      <td>https://pubmed.ncbi.nlm.nih.gov/28942748/</td>\n",
              "      <td>Effect of nutrition on mental health</td>\n",
              "    </tr>\n",
              "    <tr>\n",
              "      <th>3</th>\n",
              "      <td>Hepatitis C virus (HCV) and alcoholic liver di...</td>\n",
              "      <td>https://pubmed.ncbi.nlm.nih.gov/22244707/</td>\n",
              "      <td>Baclofen promotes alcohol abstinence in alcoho...</td>\n",
              "    </tr>\n",
              "  </tbody>\n",
              "</table>\n",
              "</div>"
            ],
            "text/plain": [
              "                                            abstract  ...                                            details\n",
              "0  This RCT examined the efficacy of a manualized...  ...  RCT of a manualized social treatment for high-...\n",
              "1  Postpartum depression (PPD) is the most preval...  ...  Formatting removed (can be used to compare mod...\n",
              "2  Mental illness, including depression, anxiety ...  ...               Effect of nutrition on mental health\n",
              "3  Hepatitis C virus (HCV) and alcoholic liver di...  ...  Baclofen promotes alcohol abstinence in alcoho...\n",
              "\n",
              "[4 rows x 3 columns]"
            ]
          },
          "metadata": {},
          "execution_count": 32
        }
      ]
    },
    {
      "cell_type": "code",
      "metadata": {
        "colab": {
          "base_uri": "https://localhost:8080/"
        },
        "id": "oH8Hf3Is8A1V",
        "outputId": "420206e0-afb1-4b17-8724-4e9b5dd102db"
      },
      "source": [
        "from spacy.lang.en import English\n",
        "nlp = English()\n",
        "sentencizer = nlp.create_pipe(\"sentencizer\")\n",
        "nlp.add_pipe(sentencizer)\n",
        "doc = nlp(example_abstracts[0][\"abstract\"])\n",
        "abstract_lines = [str(sent) for sent in list(doc.sents)]\n",
        "abstract_lines"
      ],
      "execution_count": null,
      "outputs": [
        {
          "output_type": "execute_result",
          "data": {
            "text/plain": [
              "['This RCT examined the efficacy of a manualized social intervention for children with HFASDs.',\n",
              " 'Participants were randomly assigned to treatment or wait-list conditions.',\n",
              " 'Treatment included instruction and therapeutic activities targeting social skills, face-emotion recognition, interest expansion, and interpretation of non-literal language.',\n",
              " 'A response-cost program was applied to reduce problem behaviors and foster skills acquisition.',\n",
              " 'Significant treatment effects were found for five of seven primary outcome measures (parent ratings and direct child measures).',\n",
              " 'Secondary measures based on staff ratings (treatment group only) corroborated gains reported by parents.',\n",
              " 'High levels of parent, child and staff satisfaction were reported, along with high levels of treatment fidelity.',\n",
              " 'Standardized effect size estimates were primarily in the medium and large ranges and favored the treatment group.']"
            ]
          },
          "metadata": {},
          "execution_count": 33
        }
      ]
    },
    {
      "cell_type": "code",
      "metadata": {
        "colab": {
          "base_uri": "https://localhost:8080/"
        },
        "id": "a_9aYoOo9P0L",
        "outputId": "5551cb90-4fc4-4801-c319-9b4c56e6a944"
      },
      "source": [
        "# Get total number of lines \n",
        "total_lines_in_sample =  len(abstract_lines)\n",
        "\n",
        "sample_lines = []\n",
        "for i , line in enumerate(abstract_lines):\n",
        "  sample_dict = {}\n",
        "  sample_dict[\"text\"] = str(line)\n",
        "  sample_dict[\"line_number\"] =  i \n",
        "  sample_dict[\"total_lines\"] = total_lines_in_sample -1 \n",
        "  sample_lines.append(sample_dict)\n",
        "sample_lines"
      ],
      "execution_count": null,
      "outputs": [
        {
          "output_type": "execute_result",
          "data": {
            "text/plain": [
              "[{'line_number': 0,\n",
              "  'text': 'This RCT examined the efficacy of a manualized social intervention for children with HFASDs.',\n",
              "  'total_lines': 7},\n",
              " {'line_number': 1,\n",
              "  'text': 'Participants were randomly assigned to treatment or wait-list conditions.',\n",
              "  'total_lines': 7},\n",
              " {'line_number': 2,\n",
              "  'text': 'Treatment included instruction and therapeutic activities targeting social skills, face-emotion recognition, interest expansion, and interpretation of non-literal language.',\n",
              "  'total_lines': 7},\n",
              " {'line_number': 3,\n",
              "  'text': 'A response-cost program was applied to reduce problem behaviors and foster skills acquisition.',\n",
              "  'total_lines': 7},\n",
              " {'line_number': 4,\n",
              "  'text': 'Significant treatment effects were found for five of seven primary outcome measures (parent ratings and direct child measures).',\n",
              "  'total_lines': 7},\n",
              " {'line_number': 5,\n",
              "  'text': 'Secondary measures based on staff ratings (treatment group only) corroborated gains reported by parents.',\n",
              "  'total_lines': 7},\n",
              " {'line_number': 6,\n",
              "  'text': 'High levels of parent, child and staff satisfaction were reported, along with high levels of treatment fidelity.',\n",
              "  'total_lines': 7},\n",
              " {'line_number': 7,\n",
              "  'text': 'Standardized effect size estimates were primarily in the medium and large ranges and favored the treatment group.',\n",
              "  'total_lines': 7}]"
            ]
          },
          "metadata": {},
          "execution_count": 34
        }
      ]
    },
    {
      "cell_type": "code",
      "metadata": {
        "colab": {
          "base_uri": "https://localhost:8080/"
        },
        "id": "4R9RehSo_cPB",
        "outputId": "4b19b7cb-bd47-4fd9-af04-617aa370999f"
      },
      "source": [
        "test_abstract_line_numbers = [line[\"line_number\"] for line in sample_lines]\n",
        "\n",
        "test_abstract_line_numbers_one_hot = tf.one_hot(test_abstract_line_numbers , depth=15)\n",
        "test_abstract_line_numbers_one_hot"
      ],
      "execution_count": null,
      "outputs": [
        {
          "output_type": "execute_result",
          "data": {
            "text/plain": [
              "<tf.Tensor: shape=(8, 15), dtype=float32, numpy=\n",
              "array([[1., 0., 0., 0., 0., 0., 0., 0., 0., 0., 0., 0., 0., 0., 0.],\n",
              "       [0., 1., 0., 0., 0., 0., 0., 0., 0., 0., 0., 0., 0., 0., 0.],\n",
              "       [0., 0., 1., 0., 0., 0., 0., 0., 0., 0., 0., 0., 0., 0., 0.],\n",
              "       [0., 0., 0., 1., 0., 0., 0., 0., 0., 0., 0., 0., 0., 0., 0.],\n",
              "       [0., 0., 0., 0., 1., 0., 0., 0., 0., 0., 0., 0., 0., 0., 0.],\n",
              "       [0., 0., 0., 0., 0., 1., 0., 0., 0., 0., 0., 0., 0., 0., 0.],\n",
              "       [0., 0., 0., 0., 0., 0., 1., 0., 0., 0., 0., 0., 0., 0., 0.],\n",
              "       [0., 0., 0., 0., 0., 0., 0., 1., 0., 0., 0., 0., 0., 0., 0.]],\n",
              "      dtype=float32)>"
            ]
          },
          "metadata": {},
          "execution_count": 35
        }
      ]
    },
    {
      "cell_type": "code",
      "metadata": {
        "colab": {
          "base_uri": "https://localhost:8080/"
        },
        "id": "kPqg01t8Act0",
        "outputId": "6b5b4826-f2cb-4015-b8ce-52906f3af4c4"
      },
      "source": [
        "test_abstract_total_lines = [line[\"total_lines\"] for line in sample_lines]\n",
        "\n",
        "test_abstract_total_lines_one_hot = tf.one_hot(test_abstract_total_lines , depth=20)\n",
        "test_abstract_total_lines_one_hot"
      ],
      "execution_count": null,
      "outputs": [
        {
          "output_type": "execute_result",
          "data": {
            "text/plain": [
              "<tf.Tensor: shape=(8, 20), dtype=float32, numpy=\n",
              "array([[0., 0., 0., 0., 0., 0., 0., 1., 0., 0., 0., 0., 0., 0., 0., 0.,\n",
              "        0., 0., 0., 0.],\n",
              "       [0., 0., 0., 0., 0., 0., 0., 1., 0., 0., 0., 0., 0., 0., 0., 0.,\n",
              "        0., 0., 0., 0.],\n",
              "       [0., 0., 0., 0., 0., 0., 0., 1., 0., 0., 0., 0., 0., 0., 0., 0.,\n",
              "        0., 0., 0., 0.],\n",
              "       [0., 0., 0., 0., 0., 0., 0., 1., 0., 0., 0., 0., 0., 0., 0., 0.,\n",
              "        0., 0., 0., 0.],\n",
              "       [0., 0., 0., 0., 0., 0., 0., 1., 0., 0., 0., 0., 0., 0., 0., 0.,\n",
              "        0., 0., 0., 0.],\n",
              "       [0., 0., 0., 0., 0., 0., 0., 1., 0., 0., 0., 0., 0., 0., 0., 0.,\n",
              "        0., 0., 0., 0.],\n",
              "       [0., 0., 0., 0., 0., 0., 0., 1., 0., 0., 0., 0., 0., 0., 0., 0.,\n",
              "        0., 0., 0., 0.],\n",
              "       [0., 0., 0., 0., 0., 0., 0., 1., 0., 0., 0., 0., 0., 0., 0., 0.,\n",
              "        0., 0., 0., 0.]], dtype=float32)>"
            ]
          },
          "metadata": {},
          "execution_count": 36
        }
      ]
    },
    {
      "cell_type": "code",
      "metadata": {
        "colab": {
          "base_uri": "https://localhost:8080/"
        },
        "id": "hXNiGY0HBa0t",
        "outputId": "91c19bd3-8b68-4e40-ed82-fe39e005a257"
      },
      "source": [
        "abstract_chars = [split_chars(sentence) for sentence in abstract_lines]\n",
        "abstract_chars"
      ],
      "execution_count": null,
      "outputs": [
        {
          "output_type": "execute_result",
          "data": {
            "text/plain": [
              "['T h i s   R C T   e x a m i n e d   t h e   e f f i c a c y   o f   a   m a n u a l i z e d   s o c i a l   i n t e r v e n t i o n   f o r   c h i l d r e n   w i t h   H F A S D s .',\n",
              " 'P a r t i c i p a n t s   w e r e   r a n d o m l y   a s s i g n e d   t o   t r e a t m e n t   o r   w a i t - l i s t   c o n d i t i o n s .',\n",
              " 'T r e a t m e n t   i n c l u d e d   i n s t r u c t i o n   a n d   t h e r a p e u t i c   a c t i v i t i e s   t a r g e t i n g   s o c i a l   s k i l l s ,   f a c e - e m o t i o n   r e c o g n i t i o n ,   i n t e r e s t   e x p a n s i o n ,   a n d   i n t e r p r e t a t i o n   o f   n o n - l i t e r a l   l a n g u a g e .',\n",
              " 'A   r e s p o n s e - c o s t   p r o g r a m   w a s   a p p l i e d   t o   r e d u c e   p r o b l e m   b e h a v i o r s   a n d   f o s t e r   s k i l l s   a c q u i s i t i o n .',\n",
              " 'S i g n i f i c a n t   t r e a t m e n t   e f f e c t s   w e r e   f o u n d   f o r   f i v e   o f   s e v e n   p r i m a r y   o u t c o m e   m e a s u r e s   ( p a r e n t   r a t i n g s   a n d   d i r e c t   c h i l d   m e a s u r e s ) .',\n",
              " 'S e c o n d a r y   m e a s u r e s   b a s e d   o n   s t a f f   r a t i n g s   ( t r e a t m e n t   g r o u p   o n l y )   c o r r o b o r a t e d   g a i n s   r e p o r t e d   b y   p a r e n t s .',\n",
              " 'H i g h   l e v e l s   o f   p a r e n t ,   c h i l d   a n d   s t a f f   s a t i s f a c t i o n   w e r e   r e p o r t e d ,   a l o n g   w i t h   h i g h   l e v e l s   o f   t r e a t m e n t   f i d e l i t y .',\n",
              " 'S t a n d a r d i z e d   e f f e c t   s i z e   e s t i m a t e s   w e r e   p r i m a r i l y   i n   t h e   m e d i u m   a n d   l a r g e   r a n g e s   a n d   f a v o r e d   t h e   t r e a t m e n t   g r o u p .']"
            ]
          },
          "metadata": {},
          "execution_count": 37
        }
      ]
    },
    {
      "cell_type": "code",
      "metadata": {
        "colab": {
          "base_uri": "https://localhost:8080/"
        },
        "id": "ihfLaRCUCApF",
        "outputId": "9356bb40-57b2-49b3-af46-ea1136a9adad"
      },
      "source": [
        "test_abstract_pred_probs = laoded_model.predict(x=(test_abstract_line_numbers_one_hot,\n",
        "                                                   test_abstract_total_lines_one_hot,\n",
        "                                                   tf.constant(abstract_lines),\n",
        "                                                   tf.constant(abstract_chars)))\n",
        "test_abstract_pred_probs"
      ],
      "execution_count": null,
      "outputs": [
        {
          "output_type": "execute_result",
          "data": {
            "text/plain": [
              "array([[0.24005976, 0.12260363, 0.02247092, 0.5798752 , 0.03499051],\n",
              "       [0.0561749 , 0.02073206, 0.7538853 , 0.07419971, 0.09500794],\n",
              "       [0.12344754, 0.06010273, 0.45917472, 0.25462553, 0.10264943],\n",
              "       [0.0825512 , 0.1425763 , 0.55142474, 0.07865826, 0.1447895 ],\n",
              "       [0.06460241, 0.12367388, 0.36028856, 0.05729884, 0.39413628],\n",
              "       [0.03061721, 0.12271819, 0.5668775 , 0.04398259, 0.23580454],\n",
              "       [0.02591554, 0.1757308 , 0.06679527, 0.02152464, 0.7100338 ],\n",
              "       [0.02250944, 0.14622352, 0.1988433 , 0.0315266 , 0.60089713]],\n",
              "      dtype=float32)"
            ]
          },
          "metadata": {},
          "execution_count": 38
        }
      ]
    },
    {
      "cell_type": "code",
      "metadata": {
        "colab": {
          "base_uri": "https://localhost:8080/"
        },
        "id": "kz5kNemeCw-1",
        "outputId": "d7052dd7-10cc-4ab6-ede2-95e9bc293d90"
      },
      "source": [
        "test_abstract_preds = tf.argmax(test_abstract_pred_probs, axis=1)\n",
        "test_abstract_preds"
      ],
      "execution_count": null,
      "outputs": [
        {
          "output_type": "execute_result",
          "data": {
            "text/plain": [
              "<tf.Tensor: shape=(8,), dtype=int64, numpy=array([3, 2, 2, 2, 4, 2, 4, 4])>"
            ]
          },
          "metadata": {},
          "execution_count": 39
        }
      ]
    },
    {
      "cell_type": "code",
      "metadata": {
        "colab": {
          "base_uri": "https://localhost:8080/"
        },
        "id": "J4DCsDisDdz1",
        "outputId": "6f10ce88-f332-4d3c-9b10-68b084b1fe8d"
      },
      "source": [
        "test_abstract_pred_classes = [label_encoder.classes_[i] for i in test_abstract_preds]\n",
        "test_abstract_pred_classes"
      ],
      "execution_count": null,
      "outputs": [
        {
          "output_type": "execute_result",
          "data": {
            "text/plain": [
              "['OBJECTIVE',\n",
              " 'METHODS',\n",
              " 'METHODS',\n",
              " 'METHODS',\n",
              " 'RESULTS',\n",
              " 'METHODS',\n",
              " 'RESULTS',\n",
              " 'RESULTS']"
            ]
          },
          "metadata": {},
          "execution_count": 40
        }
      ]
    },
    {
      "cell_type": "code",
      "metadata": {
        "colab": {
          "base_uri": "https://localhost:8080/"
        },
        "id": "skGX0Gh_DvPW",
        "outputId": "1e65e0f5-4dbb-487f-a7cf-a9831b1b0790"
      },
      "source": [
        "for i, line in enumerate(abstract_lines):\n",
        "  print(f\"{test_abstract_pred_classes[i]}: {line}\")"
      ],
      "execution_count": null,
      "outputs": [
        {
          "output_type": "stream",
          "name": "stdout",
          "text": [
            "OBJECTIVE: This RCT examined the efficacy of a manualized social intervention for children with HFASDs.\n",
            "METHODS: Participants were randomly assigned to treatment or wait-list conditions.\n",
            "METHODS: Treatment included instruction and therapeutic activities targeting social skills, face-emotion recognition, interest expansion, and interpretation of non-literal language.\n",
            "METHODS: A response-cost program was applied to reduce problem behaviors and foster skills acquisition.\n",
            "RESULTS: Significant treatment effects were found for five of seven primary outcome measures (parent ratings and direct child measures).\n",
            "METHODS: Secondary measures based on staff ratings (treatment group only) corroborated gains reported by parents.\n",
            "RESULTS: High levels of parent, child and staff satisfaction were reported, along with high levels of treatment fidelity.\n",
            "RESULTS: Standardized effect size estimates were primarily in the medium and large ranges and favored the treatment group.\n"
          ]
        }
      ]
    },
    {
      "cell_type": "markdown",
      "metadata": {
        "id": "VXLE76fFD6oZ"
      },
      "source": [
        "## Lets create the function for skimlit to give label to abstract "
      ]
    },
    {
      "cell_type": "markdown",
      "metadata": {
        "id": "Sanf8iMpEFdY"
      },
      "source": [
        "1. We need to abstract into array form that is abstract lines \n",
        "2. we need to create the dictionary of absrtact lines \n",
        "3. we need to one hot the line number \n",
        "4. we need to one hot total lines\n",
        "5. Convert abstract lins to abstract chars \n",
        "6. create inputs in the same order in which model is trained\n",
        "7. Predict on the model return redicted classes \n",
        "8. Finally, output the skimed abstract"
      ]
    },
    {
      "cell_type": "markdown",
      "metadata": {
        "id": "j3m-x2ggFvOK"
      },
      "source": [
        "### get_abstract_lines Function"
      ]
    },
    {
      "cell_type": "code",
      "metadata": {
        "id": "x7URMKdXD13u"
      },
      "source": [
        "def get_abstract_lines(abstract):\n",
        "  from spacy.lang.en import English\n",
        "  nlp = English()\n",
        "  sentencizer = nlp.create_pipe(\"sentencizer\")\n",
        "  nlp.add_pipe(sentencizer)\n",
        "  doc = nlp(abstract)\n",
        "  abstract_lines = [str(sent) for sent in list(doc.sents)]\n",
        "  return abstract_lines"
      ],
      "execution_count": null,
      "outputs": []
    },
    {
      "cell_type": "markdown",
      "metadata": {
        "id": "YAfZlTRPF3hG"
      },
      "source": [
        "### create_dict function "
      ]
    },
    {
      "cell_type": "code",
      "metadata": {
        "colab": {
          "base_uri": "https://localhost:8080/"
        },
        "id": "HdkPAx1HHX09",
        "outputId": "bb5f0cfc-6d1a-46e3-b308-8f3aa5258fda"
      },
      "source": [
        "ab = example_abstracts[0][\"abstract\"]\n",
        "abstract_lines = get_abstract_lines(ab)\n",
        "abstract_lines"
      ],
      "execution_count": null,
      "outputs": [
        {
          "output_type": "execute_result",
          "data": {
            "text/plain": [
              "['This RCT examined the efficacy of a manualized social intervention for children with HFASDs.',\n",
              " 'Participants were randomly assigned to treatment or wait-list conditions.',\n",
              " 'Treatment included instruction and therapeutic activities targeting social skills, face-emotion recognition, interest expansion, and interpretation of non-literal language.',\n",
              " 'A response-cost program was applied to reduce problem behaviors and foster skills acquisition.',\n",
              " 'Significant treatment effects were found for five of seven primary outcome measures (parent ratings and direct child measures).',\n",
              " 'Secondary measures based on staff ratings (treatment group only) corroborated gains reported by parents.',\n",
              " 'High levels of parent, child and staff satisfaction were reported, along with high levels of treatment fidelity.',\n",
              " 'Standardized effect size estimates were primarily in the medium and large ranges and favored the treatment group.']"
            ]
          },
          "metadata": {},
          "execution_count": 43
        }
      ]
    },
    {
      "cell_type": "code",
      "metadata": {
        "id": "eaG-Eh8mFoZo"
      },
      "source": [
        "def create_dict(abstract_lines):\n",
        "  total_lines_in_sample =  len(abstract_lines)\n",
        "\n",
        "  sample_lines = []\n",
        "  for i , line in enumerate(abstract_lines):\n",
        "    sample_dict = {}\n",
        "    sample_dict[\"text\"] = str(line)\n",
        "    sample_dict[\"line_number\"] =  i \n",
        "    sample_dict[\"total_lines\"] = total_lines_in_sample -1 \n",
        "    sample_lines.append(sample_dict)\n",
        "  return sample_lines"
      ],
      "execution_count": null,
      "outputs": []
    },
    {
      "cell_type": "code",
      "metadata": {
        "colab": {
          "base_uri": "https://localhost:8080/"
        },
        "id": "SmJWDejbGbk8",
        "outputId": "7aa85e28-c3ab-42b0-a2da-00088e84bf9f"
      },
      "source": [
        "sample_lines = create_dict(abstract_lines)\n",
        "sample_lines"
      ],
      "execution_count": null,
      "outputs": [
        {
          "output_type": "execute_result",
          "data": {
            "text/plain": [
              "[{'line_number': 0,\n",
              "  'text': 'This RCT examined the efficacy of a manualized social intervention for children with HFASDs.',\n",
              "  'total_lines': 7},\n",
              " {'line_number': 1,\n",
              "  'text': 'Participants were randomly assigned to treatment or wait-list conditions.',\n",
              "  'total_lines': 7},\n",
              " {'line_number': 2,\n",
              "  'text': 'Treatment included instruction and therapeutic activities targeting social skills, face-emotion recognition, interest expansion, and interpretation of non-literal language.',\n",
              "  'total_lines': 7},\n",
              " {'line_number': 3,\n",
              "  'text': 'A response-cost program was applied to reduce problem behaviors and foster skills acquisition.',\n",
              "  'total_lines': 7},\n",
              " {'line_number': 4,\n",
              "  'text': 'Significant treatment effects were found for five of seven primary outcome measures (parent ratings and direct child measures).',\n",
              "  'total_lines': 7},\n",
              " {'line_number': 5,\n",
              "  'text': 'Secondary measures based on staff ratings (treatment group only) corroborated gains reported by parents.',\n",
              "  'total_lines': 7},\n",
              " {'line_number': 6,\n",
              "  'text': 'High levels of parent, child and staff satisfaction were reported, along with high levels of treatment fidelity.',\n",
              "  'total_lines': 7},\n",
              " {'line_number': 7,\n",
              "  'text': 'Standardized effect size estimates were primarily in the medium and large ranges and favored the treatment group.',\n",
              "  'total_lines': 7}]"
            ]
          },
          "metadata": {},
          "execution_count": 45
        }
      ]
    },
    {
      "cell_type": "markdown",
      "metadata": {
        "id": "2qU6sDJIICkr"
      },
      "source": [
        "### create_line_number_one_hot Function"
      ]
    },
    {
      "cell_type": "code",
      "metadata": {
        "id": "eTZNnw7MH-3l"
      },
      "source": [
        "def create_line_number_one_hot(sample_lines):\n",
        "  test_abstract_line_numbers = [line[\"line_number\"] for line in sample_lines]\n",
        "\n",
        "  test_abstract_line_numbers_one_hot = tf.one_hot(test_abstract_line_numbers , depth=15)\n",
        "  return test_abstract_line_numbers_one_hot"
      ],
      "execution_count": null,
      "outputs": []
    },
    {
      "cell_type": "code",
      "metadata": {
        "colab": {
          "base_uri": "https://localhost:8080/"
        },
        "id": "6TH93jBqIZtl",
        "outputId": "c295b830-8d0e-462b-e4b1-55f63412454e"
      },
      "source": [
        "line_number_one_hot = create_line_number_one_hot(sample_lines)\n",
        "line_number_one_hot"
      ],
      "execution_count": null,
      "outputs": [
        {
          "output_type": "execute_result",
          "data": {
            "text/plain": [
              "<tf.Tensor: shape=(8, 15), dtype=float32, numpy=\n",
              "array([[1., 0., 0., 0., 0., 0., 0., 0., 0., 0., 0., 0., 0., 0., 0.],\n",
              "       [0., 1., 0., 0., 0., 0., 0., 0., 0., 0., 0., 0., 0., 0., 0.],\n",
              "       [0., 0., 1., 0., 0., 0., 0., 0., 0., 0., 0., 0., 0., 0., 0.],\n",
              "       [0., 0., 0., 1., 0., 0., 0., 0., 0., 0., 0., 0., 0., 0., 0.],\n",
              "       [0., 0., 0., 0., 1., 0., 0., 0., 0., 0., 0., 0., 0., 0., 0.],\n",
              "       [0., 0., 0., 0., 0., 1., 0., 0., 0., 0., 0., 0., 0., 0., 0.],\n",
              "       [0., 0., 0., 0., 0., 0., 1., 0., 0., 0., 0., 0., 0., 0., 0.],\n",
              "       [0., 0., 0., 0., 0., 0., 0., 1., 0., 0., 0., 0., 0., 0., 0.]],\n",
              "      dtype=float32)>"
            ]
          },
          "metadata": {},
          "execution_count": 47
        }
      ]
    },
    {
      "cell_type": "markdown",
      "metadata": {
        "id": "QbboMjEqI0L0"
      },
      "source": [
        "### create_total_lines_one_hot function"
      ]
    },
    {
      "cell_type": "code",
      "metadata": {
        "id": "_9vIEXGbIpFL"
      },
      "source": [
        "def create_total_lines_one_hot(sample_lines):\n",
        "  test_abstract_total_lines = [line[\"total_lines\"] for line in sample_lines]\n",
        "\n",
        "  test_abstract_total_lines_one_hot = tf.one_hot(test_abstract_total_lines , depth=20)\n",
        "  return test_abstract_total_lines_one_hot"
      ],
      "execution_count": null,
      "outputs": []
    },
    {
      "cell_type": "code",
      "metadata": {
        "colab": {
          "base_uri": "https://localhost:8080/"
        },
        "id": "hoVJG-GjJH0e",
        "outputId": "acc3222f-fd9b-49a1-b74b-6af80f661e47"
      },
      "source": [
        "total_lines_one_hot = create_total_lines_one_hot(sample_lines)\n",
        "total_lines_one_hot"
      ],
      "execution_count": null,
      "outputs": [
        {
          "output_type": "execute_result",
          "data": {
            "text/plain": [
              "<tf.Tensor: shape=(8, 20), dtype=float32, numpy=\n",
              "array([[0., 0., 0., 0., 0., 0., 0., 1., 0., 0., 0., 0., 0., 0., 0., 0.,\n",
              "        0., 0., 0., 0.],\n",
              "       [0., 0., 0., 0., 0., 0., 0., 1., 0., 0., 0., 0., 0., 0., 0., 0.,\n",
              "        0., 0., 0., 0.],\n",
              "       [0., 0., 0., 0., 0., 0., 0., 1., 0., 0., 0., 0., 0., 0., 0., 0.,\n",
              "        0., 0., 0., 0.],\n",
              "       [0., 0., 0., 0., 0., 0., 0., 1., 0., 0., 0., 0., 0., 0., 0., 0.,\n",
              "        0., 0., 0., 0.],\n",
              "       [0., 0., 0., 0., 0., 0., 0., 1., 0., 0., 0., 0., 0., 0., 0., 0.,\n",
              "        0., 0., 0., 0.],\n",
              "       [0., 0., 0., 0., 0., 0., 0., 1., 0., 0., 0., 0., 0., 0., 0., 0.,\n",
              "        0., 0., 0., 0.],\n",
              "       [0., 0., 0., 0., 0., 0., 0., 1., 0., 0., 0., 0., 0., 0., 0., 0.,\n",
              "        0., 0., 0., 0.],\n",
              "       [0., 0., 0., 0., 0., 0., 0., 1., 0., 0., 0., 0., 0., 0., 0., 0.,\n",
              "        0., 0., 0., 0.]], dtype=float32)>"
            ]
          },
          "metadata": {},
          "execution_count": 49
        }
      ]
    },
    {
      "cell_type": "markdown",
      "metadata": {
        "id": "lxda3i1UJmpX"
      },
      "source": [
        "### create_abstract_char fucntion"
      ]
    },
    {
      "cell_type": "code",
      "metadata": {
        "id": "ancMgh80Ja4l"
      },
      "source": [
        "def create_abstract_char(abstract_lines):\n",
        "  abstract_chars = [split_chars(sentence) for sentence in abstract_lines]\n",
        "  return abstract_chars"
      ],
      "execution_count": null,
      "outputs": []
    },
    {
      "cell_type": "code",
      "metadata": {
        "colab": {
          "base_uri": "https://localhost:8080/"
        },
        "id": "Fn0CG3f3Jx2x",
        "outputId": "3d32f4d8-9f5b-4860-dcd5-eb2e058a3611"
      },
      "source": [
        "abstract_chars = create_abstract_char(abstract_lines)\n",
        "abstract_chars"
      ],
      "execution_count": null,
      "outputs": [
        {
          "output_type": "execute_result",
          "data": {
            "text/plain": [
              "['T h i s   R C T   e x a m i n e d   t h e   e f f i c a c y   o f   a   m a n u a l i z e d   s o c i a l   i n t e r v e n t i o n   f o r   c h i l d r e n   w i t h   H F A S D s .',\n",
              " 'P a r t i c i p a n t s   w e r e   r a n d o m l y   a s s i g n e d   t o   t r e a t m e n t   o r   w a i t - l i s t   c o n d i t i o n s .',\n",
              " 'T r e a t m e n t   i n c l u d e d   i n s t r u c t i o n   a n d   t h e r a p e u t i c   a c t i v i t i e s   t a r g e t i n g   s o c i a l   s k i l l s ,   f a c e - e m o t i o n   r e c o g n i t i o n ,   i n t e r e s t   e x p a n s i o n ,   a n d   i n t e r p r e t a t i o n   o f   n o n - l i t e r a l   l a n g u a g e .',\n",
              " 'A   r e s p o n s e - c o s t   p r o g r a m   w a s   a p p l i e d   t o   r e d u c e   p r o b l e m   b e h a v i o r s   a n d   f o s t e r   s k i l l s   a c q u i s i t i o n .',\n",
              " 'S i g n i f i c a n t   t r e a t m e n t   e f f e c t s   w e r e   f o u n d   f o r   f i v e   o f   s e v e n   p r i m a r y   o u t c o m e   m e a s u r e s   ( p a r e n t   r a t i n g s   a n d   d i r e c t   c h i l d   m e a s u r e s ) .',\n",
              " 'S e c o n d a r y   m e a s u r e s   b a s e d   o n   s t a f f   r a t i n g s   ( t r e a t m e n t   g r o u p   o n l y )   c o r r o b o r a t e d   g a i n s   r e p o r t e d   b y   p a r e n t s .',\n",
              " 'H i g h   l e v e l s   o f   p a r e n t ,   c h i l d   a n d   s t a f f   s a t i s f a c t i o n   w e r e   r e p o r t e d ,   a l o n g   w i t h   h i g h   l e v e l s   o f   t r e a t m e n t   f i d e l i t y .',\n",
              " 'S t a n d a r d i z e d   e f f e c t   s i z e   e s t i m a t e s   w e r e   p r i m a r i l y   i n   t h e   m e d i u m   a n d   l a r g e   r a n g e s   a n d   f a v o r e d   t h e   t r e a t m e n t   g r o u p .']"
            ]
          },
          "metadata": {},
          "execution_count": 51
        }
      ]
    },
    {
      "cell_type": "markdown",
      "metadata": {
        "id": "deEybUfrK7hF"
      },
      "source": [
        "### input_for_model function"
      ]
    },
    {
      "cell_type": "code",
      "metadata": {
        "id": "otiPnV45LBJY"
      },
      "source": [
        "def input_for_model(line_number_one_hot , total_lines_one_hot, abstract_lines ,abstract_chars):\n",
        "  input=(line_number_one_hot,\n",
        "     total_lines_one_hot,\n",
        "     tf.constant(abstract_lines),\n",
        "     tf.constant(abstract_chars))\n",
        "  return input"
      ],
      "execution_count": null,
      "outputs": []
    },
    {
      "cell_type": "code",
      "metadata": {
        "colab": {
          "base_uri": "https://localhost:8080/"
        },
        "id": "GGDlsovpLcgy",
        "outputId": "867f037e-91f3-4b4f-8ede-d79d41e63c04"
      },
      "source": [
        "input=input_for_model(line_number_one_hot , total_lines_one_hot, abstract_lines ,abstract_chars)\n",
        "input"
      ],
      "execution_count": null,
      "outputs": [
        {
          "output_type": "execute_result",
          "data": {
            "text/plain": [
              "(<tf.Tensor: shape=(8, 15), dtype=float32, numpy=\n",
              " array([[1., 0., 0., 0., 0., 0., 0., 0., 0., 0., 0., 0., 0., 0., 0.],\n",
              "        [0., 1., 0., 0., 0., 0., 0., 0., 0., 0., 0., 0., 0., 0., 0.],\n",
              "        [0., 0., 1., 0., 0., 0., 0., 0., 0., 0., 0., 0., 0., 0., 0.],\n",
              "        [0., 0., 0., 1., 0., 0., 0., 0., 0., 0., 0., 0., 0., 0., 0.],\n",
              "        [0., 0., 0., 0., 1., 0., 0., 0., 0., 0., 0., 0., 0., 0., 0.],\n",
              "        [0., 0., 0., 0., 0., 1., 0., 0., 0., 0., 0., 0., 0., 0., 0.],\n",
              "        [0., 0., 0., 0., 0., 0., 1., 0., 0., 0., 0., 0., 0., 0., 0.],\n",
              "        [0., 0., 0., 0., 0., 0., 0., 1., 0., 0., 0., 0., 0., 0., 0.]],\n",
              "       dtype=float32)>, <tf.Tensor: shape=(8, 20), dtype=float32, numpy=\n",
              " array([[0., 0., 0., 0., 0., 0., 0., 1., 0., 0., 0., 0., 0., 0., 0., 0.,\n",
              "         0., 0., 0., 0.],\n",
              "        [0., 0., 0., 0., 0., 0., 0., 1., 0., 0., 0., 0., 0., 0., 0., 0.,\n",
              "         0., 0., 0., 0.],\n",
              "        [0., 0., 0., 0., 0., 0., 0., 1., 0., 0., 0., 0., 0., 0., 0., 0.,\n",
              "         0., 0., 0., 0.],\n",
              "        [0., 0., 0., 0., 0., 0., 0., 1., 0., 0., 0., 0., 0., 0., 0., 0.,\n",
              "         0., 0., 0., 0.],\n",
              "        [0., 0., 0., 0., 0., 0., 0., 1., 0., 0., 0., 0., 0., 0., 0., 0.,\n",
              "         0., 0., 0., 0.],\n",
              "        [0., 0., 0., 0., 0., 0., 0., 1., 0., 0., 0., 0., 0., 0., 0., 0.,\n",
              "         0., 0., 0., 0.],\n",
              "        [0., 0., 0., 0., 0., 0., 0., 1., 0., 0., 0., 0., 0., 0., 0., 0.,\n",
              "         0., 0., 0., 0.],\n",
              "        [0., 0., 0., 0., 0., 0., 0., 1., 0., 0., 0., 0., 0., 0., 0., 0.,\n",
              "         0., 0., 0., 0.]], dtype=float32)>, <tf.Tensor: shape=(8,), dtype=string, numpy=\n",
              " array([b'This RCT examined the efficacy of a manualized social intervention for children with HFASDs.',\n",
              "        b'Participants were randomly assigned to treatment or wait-list conditions.',\n",
              "        b'Treatment included instruction and therapeutic activities targeting social skills, face-emotion recognition, interest expansion, and interpretation of non-literal language.',\n",
              "        b'A response-cost program was applied to reduce problem behaviors and foster skills acquisition.',\n",
              "        b'Significant treatment effects were found for five of seven primary outcome measures (parent ratings and direct child measures).',\n",
              "        b'Secondary measures based on staff ratings (treatment group only) corroborated gains reported by parents.',\n",
              "        b'High levels of parent, child and staff satisfaction were reported, along with high levels of treatment fidelity.',\n",
              "        b'Standardized effect size estimates were primarily in the medium and large ranges and favored the treatment group.'],\n",
              "       dtype=object)>, <tf.Tensor: shape=(8,), dtype=string, numpy=\n",
              " array([b'T h i s   R C T   e x a m i n e d   t h e   e f f i c a c y   o f   a   m a n u a l i z e d   s o c i a l   i n t e r v e n t i o n   f o r   c h i l d r e n   w i t h   H F A S D s .',\n",
              "        b'P a r t i c i p a n t s   w e r e   r a n d o m l y   a s s i g n e d   t o   t r e a t m e n t   o r   w a i t - l i s t   c o n d i t i o n s .',\n",
              "        b'T r e a t m e n t   i n c l u d e d   i n s t r u c t i o n   a n d   t h e r a p e u t i c   a c t i v i t i e s   t a r g e t i n g   s o c i a l   s k i l l s ,   f a c e - e m o t i o n   r e c o g n i t i o n ,   i n t e r e s t   e x p a n s i o n ,   a n d   i n t e r p r e t a t i o n   o f   n o n - l i t e r a l   l a n g u a g e .',\n",
              "        b'A   r e s p o n s e - c o s t   p r o g r a m   w a s   a p p l i e d   t o   r e d u c e   p r o b l e m   b e h a v i o r s   a n d   f o s t e r   s k i l l s   a c q u i s i t i o n .',\n",
              "        b'S i g n i f i c a n t   t r e a t m e n t   e f f e c t s   w e r e   f o u n d   f o r   f i v e   o f   s e v e n   p r i m a r y   o u t c o m e   m e a s u r e s   ( p a r e n t   r a t i n g s   a n d   d i r e c t   c h i l d   m e a s u r e s ) .',\n",
              "        b'S e c o n d a r y   m e a s u r e s   b a s e d   o n   s t a f f   r a t i n g s   ( t r e a t m e n t   g r o u p   o n l y )   c o r r o b o r a t e d   g a i n s   r e p o r t e d   b y   p a r e n t s .',\n",
              "        b'H i g h   l e v e l s   o f   p a r e n t ,   c h i l d   a n d   s t a f f   s a t i s f a c t i o n   w e r e   r e p o r t e d ,   a l o n g   w i t h   h i g h   l e v e l s   o f   t r e a t m e n t   f i d e l i t y .',\n",
              "        b'S t a n d a r d i z e d   e f f e c t   s i z e   e s t i m a t e s   w e r e   p r i m a r i l y   i n   t h e   m e d i u m   a n d   l a r g e   r a n g e s   a n d   f a v o r e d   t h e   t r e a t m e n t   g r o u p .'],\n",
              "       dtype=object)>)"
            ]
          },
          "metadata": {},
          "execution_count": 53
        }
      ]
    },
    {
      "cell_type": "markdown",
      "metadata": {
        "id": "67kQrRcIJ48H"
      },
      "source": [
        "### predict_classes function"
      ]
    },
    {
      "cell_type": "code",
      "metadata": {
        "id": "hilpi2unJ2ew"
      },
      "source": [
        "def predict_classes(model , input , label_encoder):\n",
        "  from sklearn.preprocessing import LabelEncoder\n",
        "  label_encoder = LabelEncoder()\n",
        "  test_abstract_pred_probs = model.predict(x=input)\n",
        "  test_abstract_preds = tf.argmax(test_abstract_pred_probs, axis=1)\n",
        "  test_abstract_pred_classes = [label_encoder.classes_[i] for i in test_abstract_preds]\n",
        "  return test_abstract_pred_classes "
      ],
      "execution_count": null,
      "outputs": []
    },
    {
      "cell_type": "code",
      "metadata": {
        "id": "57MbtRE1L18d"
      },
      "source": [
        "predict_classes = predict_classes(laoded_model , input , label_encoder)\n",
        "predict_classes"
      ],
      "execution_count": null,
      "outputs": []
    },
    {
      "cell_type": "markdown",
      "metadata": {
        "id": "SUfHdN0WMBR_"
      },
      "source": [
        "### output function"
      ]
    },
    {
      "cell_type": "code",
      "metadata": {
        "id": "y9aqo4o7L__U"
      },
      "source": [
        "def output(abstract_lines , predict_classes):\n",
        "  for i, line in enumerate(abstract_lines):\n",
        "    print(f\"{predict_classes[i]}: {line}\")"
      ],
      "execution_count": null,
      "outputs": []
    },
    {
      "cell_type": "code",
      "metadata": {
        "id": "rGV2IJHWNBKj"
      },
      "source": [
        "output(abstract_lines , predict_classes)"
      ],
      "execution_count": null,
      "outputs": []
    },
    {
      "cell_type": "markdown",
      "metadata": {
        "id": "s77F7Lt8NLp6"
      },
      "source": [
        "### SkimLit Function"
      ]
    },
    {
      "cell_type": "code",
      "metadata": {
        "id": "oS8Z2rwLNJ0x"
      },
      "source": [
        "def SkimLit(model , abstract):\n",
        "  abstract_lines = get_abstract_lines(abstract)\n",
        "  sample_lines = create_dict(abstract_lines)\n",
        "  line_number_one_hot = create_line_number_one_hot(sample_lines)\n",
        "  total_lines_one_hot = create_total_lines_one_hot(sample_lines)\n",
        "  abstract_chars = create_abstract_char(abstract_lines)\n",
        "  input=input_for_model(line_number_one_hot , total_lines_one_hot, abstract_lines ,abstract_chars)\n",
        "  predict_class = predict_classes(model , input)\n",
        "  output(abstract_lines , predict_classes)"
      ],
      "execution_count": null,
      "outputs": []
    },
    {
      "cell_type": "code",
      "metadata": {
        "id": "kq7xMUA-OQcb"
      },
      "source": [
        "abstract =example_abstracts[1][\"abstract\"]\n",
        "a = SkimLit(laoded_model , abstract)\n",
        "a"
      ],
      "execution_count": null,
      "outputs": []
    },
    {
      "cell_type": "code",
      "metadata": {
        "id": "vwzPaVcjOpV-"
      },
      "source": [
        "label_encoder.classes_"
      ],
      "execution_count": null,
      "outputs": []
    }
  ]
}